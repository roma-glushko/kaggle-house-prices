{
 "cells": [
  {
   "source": [
    "**Problem**\n",
    "\n",
    "We need to predict house sale price."
   ],
   "cell_type": "markdown",
   "metadata": {}
  },
  {
   "source": [
    "**Information**\n",
    "* House Properties\n",
    "    * Construction Date [YearBuilt]\n",
    "    * Remodeling Date [YearRemodAdd]\n",
    "    * Dwelling Class [BldgType] and Subclass [MSSubClass]\n",
    "    * House Style [HouseStyle]\n",
    "    * Area (sq. feets) [LotArea]\n",
    "    * Shape [LotShape]\n",
    "    * Flatness [LandContour] and slope [LandSlope]\n",
    "    * Utilities (Gas, water, septic) [Utilities]\n",
    "    * Overral Material and Finish Quality Rate [OverallQual]\n",
    "    * Overral Condition Rate [OverallCond]\n",
    "    * ? [LotConfig]\n",
    "* House Access\n",
    "    * Road Access [Street] [LotFrontage]\n",
    "    * Alley Access [Alley]\n",
    "* House Road Connection\n",
    "* House Location\n",
    "    * Neighborhood (Phisical Location) [Neighborhood]\n",
    "    * Zoning classification [MSZoning] (https://www.investopedia.com/terms/z/zoning.asp#:~:text=Zoning%20allows%20local%20governments%20to,among%20other%20more%20specific%20designations.)\n",
    "    * Location Conditions (1 or 2) [Condition1][Condition2]\n",
    "* Roof Properties\n",
    "    * Roof Style [RoofStyle]\n",
    "    * Roof Material [RoofMatl]\n",
    "* Exterior\n",
    "    * Exterior Covering (1 or 2 materials) [Exterior1st] [Exterior2nd]\n",
    "    * Exterior Material Quality [ExterQual]\n",
    "    * Exterior Material Condition [ExterCond]\n",
    "* Masonry veneer\n",
    "    * Masonry Veneer Type [MasVnrType]\n",
    "    * Masonry Veneer Area [MasVnrArea]\n",
    "* Basement\n",
    "    * Foundation Type (stone, wood, etc) [Foundation]\n",
    "    * Basement Quality [BsmtQual]\n",
    "    * Basement Condition [BsmtCond]\n",
    "    * Basement Exposure [BsmtExposure] https://adampillmore.wordpress.com/2010/02/15/basements/#:~:text=A%20walkout%20lot%20has%20at,the%20rear%20of%20the%20home.&text=A%20garden%2Dlevel%20lot%20is,necessary%20for%20a%20walkout%20condition.\n",
    "    * Basement finished area rating (1 or 2) [BsmtFinType1][BsmtFinType2]\n",
    "    * Basement Finished area (1 or 2) [BsmtFinSF1] [BsmtFinSF2]\n",
    "    * Basement Unfinished Area [BsmtUnfSF]\n",
    "    * Total Basement Area [TotalBsmtSF]\n",
    "* Heating\n",
    "    * Heating Type [Heating]\n",
    "    * Heating Quality and Condition Rate [HeatingQC]\n",
    "* Air Condition\n",
    "    * Is Central Air Condition? [CentralAir]\n",
    "* Electrical System Type [Electrical]\n",
    "* Floors\n",
    "    *  First Floor Area [1stFlrSF]\n",
    "    * Second Floor Area [2ndFlrSF]\n",
    "* ? [LowQualFinSF]\n",
    "* Above Ground Living Area [GrLivArea]\n",
    "* Bathroom\n",
    "    * Basement Full Bathroom [BsmtFullBath]\n",
    "    * Basement Half Bathroom [BsmtHalfBath]\n",
    "    * Full bathroom above grade [FullBath]\n",
    "    * Half bathroom above grade [HalfBath]\n",
    "* Bedroom above grade (w/o basement bedrooms) [Bedroom]\n",
    "* Kitchen\n",
    "    * Kitchen Above Grade [Kitchen]\n",
    "    * Kitchen Quality [KitchenQual]\n",
    "* Total Rooms above grade (w/o bathrooms) [TotRmsAbvGrd]\n",
    "* Home Functionality [Functional]\n",
    "* Fireplaces\n",
    "    * Number of fireplaces [Fireplaces]\n",
    "    * Fireplace Quality [FireplaceQu]\n",
    "* Garage\n",
    "    * Garage Type [GarageType]\n",
    "    * Year Garage was built [GarageYrBlt]\n",
    "    * Interior Finish of the garage [GarageFinish]\n",
    "    * Garage Size (in cars) [GarageCars]\n",
    "    * Garage Area [GarageArea]\n",
    "    * Garage Quality [GarageQual]\n",
    "    * Garage Condition [GarageCond]\n",
    "* Paved driveway (paved, dirt, etc) [PavedDrive]\n",
    "* Porch\n",
    "    * Wood Deck Area [WoodDeckSF]\n",
    "    * Open Porch Area (in sq ft) [OpenPorchSF]\n",
    "    * Enclosed Porch Area [EnclosedPorch]\n",
    "    * 3 seasons porch area [3SsnPorch]\n",
    "    * Screen Porch area [ScreenPorch]\n",
    "* Pool\n",
    "    * Pool area [PoolArea]\n",
    "    * Pool Quality [PoolQC]\n",
    "* Miscellaneous Features (elevator, 2nd garage, etc) [MiscFeature]\n",
    "    * Miscellaneous Features Value in $ [MiscVal]\n",
    "* Fence [Fence]\n",
    "* Sale Information\n",
    "    * Month Sold [MM]\n",
    "    * Year Sold [YYYY]\n",
    "    * Sale Type (Warranty Deed, new, etc) [SaleType]"
   ],
   "cell_type": "markdown",
   "metadata": {}
  },
  {
   "cell_type": "code",
   "execution_count": 2,
   "metadata": {
    "collapsed": true
   },
   "outputs": [],
   "source": [
    "import pandas as pd"
   ]
  },
  {
   "cell_type": "code",
   "execution_count": 3,
   "outputs": [],
   "source": [
    "trainDf = pd.read_csv(\"data/train.csv\")"
   ],
   "metadata": {
    "collapsed": false,
    "pycharm": {
     "name": "#%%\n"
    }
   }
  },
  {
   "cell_type": "code",
   "execution_count": 6,
   "metadata": {},
   "outputs": [
    {
     "output_type": "stream",
     "name": "stdout",
     "text": [
      "<class 'pandas.core.frame.DataFrame'>\nRangeIndex: 1460 entries, 0 to 1459\nData columns (total 81 columns):\n #   Column         Non-Null Count  Dtype  \n---  ------         --------------  -----  \n 0   Id             1460 non-null   int64  \n 1   MSSubClass     1460 non-null   int64  \n 2   MSZoning       1460 non-null   object \n 3   LotFrontage    1201 non-null   float64\n 4   LotArea        1460 non-null   int64  \n 5   Street         1460 non-null   object \n 6   Alley          91 non-null     object \n 7   LotShape       1460 non-null   object \n 8   LandContour    1460 non-null   object \n 9   Utilities      1460 non-null   object \n 10  LotConfig      1460 non-null   object \n 11  LandSlope      1460 non-null   object \n 12  Neighborhood   1460 non-null   object \n 13  Condition1     1460 non-null   object \n 14  Condition2     1460 non-null   object \n 15  BldgType       1460 non-null   object \n 16  HouseStyle     1460 non-null   object \n 17  OverallQual    1460 non-null   int64  \n 18  OverallCond    1460 non-null   int64  \n 19  YearBuilt      1460 non-null   int64  \n 20  YearRemodAdd   1460 non-null   int64  \n 21  RoofStyle      1460 non-null   object \n 22  RoofMatl       1460 non-null   object \n 23  Exterior1st    1460 non-null   object \n 24  Exterior2nd    1460 non-null   object \n 25  MasVnrType     1452 non-null   object \n 26  MasVnrArea     1452 non-null   float64\n 27  ExterQual      1460 non-null   object \n 28  ExterCond      1460 non-null   object \n 29  Foundation     1460 non-null   object \n 30  BsmtQual       1423 non-null   object \n 31  BsmtCond       1423 non-null   object \n 32  BsmtExposure   1422 non-null   object \n 33  BsmtFinType1   1423 non-null   object \n 34  BsmtFinSF1     1460 non-null   int64  \n 35  BsmtFinType2   1422 non-null   object \n 36  BsmtFinSF2     1460 non-null   int64  \n 37  BsmtUnfSF      1460 non-null   int64  \n 38  TotalBsmtSF    1460 non-null   int64  \n 39  Heating        1460 non-null   object \n 40  HeatingQC      1460 non-null   object \n 41  CentralAir     1460 non-null   object \n 42  Electrical     1459 non-null   object \n 43  1stFlrSF       1460 non-null   int64  \n 44  2ndFlrSF       1460 non-null   int64  \n 45  LowQualFinSF   1460 non-null   int64  \n 46  GrLivArea      1460 non-null   int64  \n 47  BsmtFullBath   1460 non-null   int64  \n 48  BsmtHalfBath   1460 non-null   int64  \n 49  FullBath       1460 non-null   int64  \n 50  HalfBath       1460 non-null   int64  \n 51  BedroomAbvGr   1460 non-null   int64  \n 52  KitchenAbvGr   1460 non-null   int64  \n 53  KitchenQual    1460 non-null   object \n 54  TotRmsAbvGrd   1460 non-null   int64  \n 55  Functional     1460 non-null   object \n 56  Fireplaces     1460 non-null   int64  \n 57  FireplaceQu    770 non-null    object \n 58  GarageType     1379 non-null   object \n 59  GarageYrBlt    1379 non-null   float64\n 60  GarageFinish   1379 non-null   object \n 61  GarageCars     1460 non-null   int64  \n 62  GarageArea     1460 non-null   int64  \n 63  GarageQual     1379 non-null   object \n 64  GarageCond     1379 non-null   object \n 65  PavedDrive     1460 non-null   object \n 66  WoodDeckSF     1460 non-null   int64  \n 67  OpenPorchSF    1460 non-null   int64  \n 68  EnclosedPorch  1460 non-null   int64  \n 69  3SsnPorch      1460 non-null   int64  \n 70  ScreenPorch    1460 non-null   int64  \n 71  PoolArea       1460 non-null   int64  \n 72  PoolQC         7 non-null      object \n 73  Fence          281 non-null    object \n 74  MiscFeature    54 non-null     object \n 75  MiscVal        1460 non-null   int64  \n 76  MoSold         1460 non-null   int64  \n 77  YrSold         1460 non-null   int64  \n 78  SaleType       1460 non-null   object \n 79  SaleCondition  1460 non-null   object \n 80  SalePrice      1460 non-null   int64  \ndtypes: float64(3), int64(35), object(43)\nmemory usage: 924.0+ KB\n"
     ]
    }
   ],
   "source": [
    "trainDf.info()"
   ]
  },
  {
   "cell_type": "code",
   "execution_count": null,
   "metadata": {},
   "outputs": [],
   "source": []
  }
 ],
 "metadata": {
  "kernelspec": {
   "name": "python3",
   "display_name": "Python 3.8.5 64-bit ('.venv')",
   "metadata": {
    "interpreter": {
     "hash": "4c0f16138802e5e7c2e720760c8c5c8899f0e1a55c32b382ac0ccc93841979ed"
    }
   }
  },
  "language_info": {
   "codemirror_mode": {
    "name": "ipython",
    "version": 2
   },
   "file_extension": ".py",
   "mimetype": "text/x-python",
   "name": "python",
   "nbconvert_exporter": "python",
   "pygments_lexer": "ipython2",
   "version": "3.8.5-final"
  }
 },
 "nbformat": 4,
 "nbformat_minor": 0
}