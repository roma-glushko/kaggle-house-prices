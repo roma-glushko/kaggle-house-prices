{
 "metadata": {
  "language_info": {
   "codemirror_mode": {
    "name": "ipython",
    "version": 3
   },
   "file_extension": ".py",
   "mimetype": "text/x-python",
   "name": "python",
   "nbconvert_exporter": "python",
   "pygments_lexer": "ipython3",
   "version": "3.8.5-final"
  },
  "orig_nbformat": 2,
  "kernelspec": {
   "name": "python3",
   "display_name": "Python 3.8.5 64-bit ('.venv': venv)",
   "metadata": {
    "interpreter": {
     "hash": "4c0f16138802e5e7c2e720760c8c5c8899f0e1a55c32b382ac0ccc93841979ed"
    }
   }
  }
 },
 "nbformat": 4,
 "nbformat_minor": 2,
 "cells": [
  {
   "cell_type": "code",
   "execution_count": 42,
   "metadata": {},
   "outputs": [],
   "source": [
    "import pandas as pd\n",
    "import matplotlib.pyplot as plt\n",
    "import seaborn as sns\n",
    "import numpy as np\n",
    "\n",
    "from sklearn.linear_model import LinearRegression\n",
    "from sklearn.metrics import mean_squared_error, r2_score\n",
    "from sklearn.model_selection import train_test_split"
   ]
  },
  {
   "cell_type": "code",
   "execution_count": 43,
   "metadata": {},
   "outputs": [],
   "source": [
    "np.random.seed(42)"
   ]
  },
  {
   "cell_type": "code",
   "execution_count": 44,
   "metadata": {},
   "outputs": [],
   "source": [
    "# additional setup of the tools\n",
    "plt.rcParams['figure.figsize'] = (12, 8)\n",
    "sns.set_theme(style=\"whitegrid\")"
   ]
  },
  {
   "cell_type": "code",
   "execution_count": 45,
   "metadata": {},
   "outputs": [],
   "source": [
    "trainDf = pd.read_csv(\"data/train.csv\")\n",
    "testDf = pd.read_csv(\"data/test.csv\")"
   ]
  },
  {
   "cell_type": "code",
   "execution_count": 46,
   "metadata": {},
   "outputs": [],
   "source": [
    "baselineFeatures = ['GrLivArea', 'OverallQual', 'GarageCars']\n",
    "\n",
    "X = trainDf[baselineFeatures]\n",
    "Y = trainDf['SalePrice']"
   ]
  },
  {
   "cell_type": "code",
   "execution_count": 47,
   "metadata": {},
   "outputs": [],
   "source": [
    "X_train, X_test, y_train, y_test = train_test_split(X, Y, test_size=0.3, random_state=42)"
   ]
  },
  {
   "cell_type": "code",
   "execution_count": 48,
   "metadata": {},
   "outputs": [
    {
     "output_type": "stream",
     "name": "stdout",
     "text": [
      "Model Coefficients: \n [   45.49631151 26846.77504928 23096.99177154]\n"
     ]
    }
   ],
   "source": [
    "baselineModel = LinearRegression().fit(X_train, y_train)\n",
    "print('Model Coefficients: \\n', baselineModel.coef_)"
   ]
  },
  {
   "cell_type": "code",
   "execution_count": 49,
   "metadata": {},
   "outputs": [],
   "source": [
    "y_train_predicted = baselineModel.predict(X_train)\n",
    "y_test_predicted = baselineModel.predict(X_test)"
   ]
  },
  {
   "cell_type": "code",
   "execution_count": 50,
   "metadata": {},
   "outputs": [
    {
     "output_type": "stream",
     "name": "stdout",
     "text": [
      "[Train] Mean Squared Error: 1646098493.67\n[Train] Coefficient of Determination: 0.73\n"
     ]
    }
   ],
   "source": [
    "## Metrics from Test Data\n",
    "print('[Train] Mean Squared Error: %.2f' % mean_squared_error(y_train, y_train_predicted))\n",
    "# The coefficient of determination: 1 is perfect prediction\n",
    "print('[Train] Coefficient of Determination: %.2f' % r2_score(y_train, y_train_predicted))"
   ]
  },
  {
   "cell_type": "code",
   "execution_count": 51,
   "metadata": {},
   "outputs": [
    {
     "output_type": "stream",
     "name": "stdout",
     "text": [
      "[Test] Mean Squared Error: 1672668246.90\n[Test] Coefficient of Determination: 0.76\n"
     ]
    }
   ],
   "source": [
    "## Metrics from Test Data\n",
    "print('[Test] Mean Squared Error: %.2f' % mean_squared_error(y_test, y_test_predicted))\n",
    "# The coefficient of determination: 1 is perfect prediction\n",
    "print('[Test] Coefficient of Determination: %.2f' % r2_score(y_test, y_test_predicted))"
   ]
  },
  {
   "cell_type": "code",
   "execution_count": null,
   "metadata": {},
   "outputs": [],
   "source": []
  }
 ]
}