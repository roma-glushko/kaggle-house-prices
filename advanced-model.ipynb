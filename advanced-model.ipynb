{
 "metadata": {
  "language_info": {
   "codemirror_mode": {
    "name": "ipython",
    "version": 3
   },
   "file_extension": ".py",
   "mimetype": "text/x-python",
   "name": "python",
   "nbconvert_exporter": "python",
   "pygments_lexer": "ipython3",
   "version": "3.8.6-final"
  },
  "orig_nbformat": 2,
  "kernelspec": {
   "name": "pycharm-b6383702",
   "language": "python",
   "display_name": "PyCharm (house-prices-advanced-regression-techniques)"
  }
 },
 "nbformat": 4,
 "nbformat_minor": 2,
 "cells": [
  {
   "cell_type": "code",
   "execution_count": 1,
   "metadata": {},
   "outputs": [],
   "source": [
    "import pandas as pd\n",
    "import matplotlib.pyplot as plt\n",
    "import seaborn as sns\n",
    "import numpy as np\n",
    "from scipy.stats import norm, skew\n",
    "\n",
    "from sklearn.base import BaseEstimator, TransformerMixin\n",
    "from sklearn.compose import ColumnTransformer, TransformedTargetRegressor\n",
    "from sklearn.impute import SimpleImputer\n",
    "from sklearn.preprocessing import OrdinalEncoder, LabelEncoder, OneHotEncoder, StandardScaler, MinMaxScaler, \\\n",
    "    RobustScaler, FunctionTransformer, PowerTransformer\n",
    "from sklearn.experimental import enable_hist_gradient_boosting\n",
    "from sklearn.linear_model import LassoCV, RidgeCV\n",
    "from sklearn.ensemble import RandomForestRegressor, StackingRegressor, VotingRegressor, GradientBoostingRegressor, HistGradientBoostingRegressor\n",
    "from sklearn.metrics import mean_squared_error, r2_score, mean_absolute_error, mean_squared_log_error, make_scorer\n",
    "from sklearn.model_selection import GridSearchCV, RandomizedSearchCV, train_test_split, cross_validate, cross_val_score, learning_curve\n",
    "from sklearn.pipeline import Pipeline\n",
    "from sklearn import set_config"
   ]
  },
  {
   "cell_type": "code",
   "execution_count": 2,
   "metadata": {},
   "outputs": [],
   "source": [
    "np.random.seed(42)\n",
    "set_config(display='diagram')\n",
    "\n",
    "plt.rcParams['figure.figsize'] = (12, 8)\n",
    "sns.set_theme(style='whitegrid')"
   ]
  },
  {
   "cell_type": "code",
   "execution_count": 3,
   "metadata": {},
   "outputs": [],
   "source": [
    "train_df = pd.read_csv('data/train.csv')\n",
    "test_df = pd.read_csv('data/test.csv')\n",
    "\n",
    "full_df = pd.concat([train_df, test_df], sort=True).reset_index(drop=True)"
   ]
  },
  {
   "source": [
    "all_df = pd.read_csv('data/test_labels.csv')\n",
    "test_y = all_df['SalePrice']\n",
    "test_y"
   ],
   "cell_type": "code",
   "metadata": {},
   "execution_count": 4,
   "outputs": [
    {
     "output_type": "execute_result",
     "data": {
      "text/plain": [
       "0       105000.0\n",
       "1       172000.0\n",
       "2       189900.0\n",
       "3       195500.0\n",
       "4       191500.0\n",
       "          ...   \n",
       "1454     90500.0\n",
       "1455     71000.0\n",
       "1456    131000.0\n",
       "1457    132000.0\n",
       "1458    188000.0\n",
       "Name: SalePrice, Length: 1459, dtype: float64"
      ]
     },
     "metadata": {},
     "execution_count": 4
    }
   ]
  },
  {
   "source": [
    "## Misc Functions"
   ],
   "cell_type": "markdown",
   "metadata": {}
  },
  {
   "cell_type": "code",
   "execution_count": 5,
   "metadata": {},
   "outputs": [],
   "source": [
    "def plot_learning_curve(estimator, X_train, y_train, cv, train_sizes=np.linspace(0.1, 1, 10)):\n",
    "    plt.style.use('seaborn-darkgrid')\n",
    "    \n",
    "    train_sizes, train_scores, test_scores = learning_curve(\n",
    "        estimator, X_train, y_train, \n",
    "        scoring='neg_mean_squared_error',\n",
    "        cv=cv, \n",
    "        n_jobs=-1, \n",
    "        train_sizes=train_sizes,\n",
    "        shuffle=True,\n",
    "        random_state=42\n",
    "        )\n",
    "    train_mean_scores = np.mean(train_scores, axis=1)\n",
    "    test_mean_scores = np.mean(test_scores, axis=1)\n",
    "\n",
    "    plt.title('Learning curve')\n",
    "    plt.plot(train_sizes, train_mean_scores, 'y', label='Train Learning curve')\n",
    "    plt.plot(train_sizes, test_mean_scores, 'b', label='Test Learning curve')\n",
    "    plt.legend()"
   ]
  },
  {
   "cell_type": "code",
   "execution_count": 6,
   "metadata": {},
   "outputs": [],
   "source": [
    "def neg_rmsle(y_true, y_pred):\n",
    "    y_pred = np.abs(y_pred)\n",
    "    \n",
    "    return -1 * np.sqrt(mean_squared_log_error(y_true, y_pred))"
   ]
  },
  {
   "cell_type": "code",
   "execution_count": 7,
   "metadata": {},
   "outputs": [],
   "source": [
    "def score_model(model, X, Y):\n",
    "    \n",
    "    scores = cross_validate(\n",
    "        model, X, Y, \n",
    "        scoring=['r2', 'neg_mean_absolute_error', 'neg_mean_squared_error'], cv=2,\n",
    "        n_jobs=-1, verbose=0)\n",
    "\n",
    "    rmsle_score = cross_val_score(model, X, Y, cv=2, scoring=make_scorer(neg_rmsle))\n",
    "\n",
    "    mse_score = -1 * scores['test_neg_mean_squared_error'].mean()\n",
    "    mse_std = scores['test_neg_mean_squared_error'].std()\n",
    "\n",
    "    mae_score = -1 * scores['test_neg_mean_absolute_error'].mean()\n",
    "    mae_std = scores['test_neg_mean_absolute_error'].std()\n",
    "\n",
    "    r2_score_mean = scores['test_r2'].mean()\n",
    "    r2_std = scores['test_r2'].std()\n",
    "\n",
    "    print('[CV] MSE: %.4f (%.4f)' % (mse_score, mse_std))\n",
    "    print('[CV] MAE: %.4f (%.4f)' % (mae_score, mae_std))\n",
    "    print('[CV] R^2: %.4f (%.4f)' % (r2_score_mean, r2_std))\n",
    "    print('[CV] RMSLE: %.6f (%.4f)' % (-1 * rmsle_score.mean(), rmsle_score.std()))"
   ]
  },
  {
   "cell_type": "code",
   "execution_count": 8,
   "metadata": {},
   "outputs": [],
   "source": [
    "def score_predictions(y_true, y_predicted):\n",
    "    rmsle_score = neg_rmsle(y_true, y_predicted)\n",
    "    print('RMSLE: %.8f' % (-1 * rmsle_score))"
   ]
  },
  {
   "cell_type": "code",
   "execution_count": 9,
   "metadata": {},
   "outputs": [],
   "source": [
    "def get_columns_from_transformer(column_transformer, input_colums):    \n",
    "    col_name = []\n",
    "\n",
    "    for transformer_in_columns in column_transformer.transformers_[:-1]: #the last transformer is ColumnTransformer's 'remainder'\n",
    "        raw_col_name = transformer_in_columns[2]\n",
    "        if isinstance(transformer_in_columns[1],Pipeline): \n",
    "            transformer = transformer_in_columns[1].steps[-1][1]\n",
    "        else:\n",
    "            transformer = transformer_in_columns[1]\n",
    "        try:\n",
    "            names = transformer.get_feature_names(raw_col_name)\n",
    "        except AttributeError: # if no 'get_feature_names' function, use raw column name\n",
    "            names = raw_col_name\n",
    "        if isinstance(names,np.ndarray): # eg.\n",
    "            col_name += names.tolist()\n",
    "        elif isinstance(names,list):\n",
    "            col_name += names    \n",
    "        elif isinstance(names,str):\n",
    "            col_name.append(names)\n",
    "\n",
    "    [_, _, reminder_columns] = column_transformer.transformers_[-1]\n",
    "\n",
    "    for col_idx in reminder_columns:\n",
    "        col_name.append(input_colums[col_idx])\n",
    "\n",
    "    return col_name"
   ]
  },
  {
   "source": [
    "## Data Cleaning and Preparation"
   ],
   "cell_type": "markdown",
   "metadata": {}
  },
  {
   "cell_type": "code",
   "execution_count": 10,
   "metadata": {},
   "outputs": [],
   "source": [
    "for dataframe in [train_df, test_df]:\n",
    "    dataframe['YrSold'] = dataframe['YrSold'].astype(str)\n",
    "    dataframe['MoSold'] = dataframe['MoSold'].astype(str)"
   ]
  },
  {
   "cell_type": "code",
   "execution_count": 11,
   "metadata": {},
   "outputs": [],
   "source": [
    "num_features = [f for f in train_df.columns if train_df.dtypes[f] != 'object']\n",
    "num_features.remove('Id')\n",
    "num_features.remove('SalePrice')\n",
    "\n",
    "cat_features = [f for f in train_df.columns if train_df.dtypes[f] == 'object']"
   ]
  },
  {
   "cell_type": "code",
   "execution_count": 12,
   "metadata": {},
   "outputs": [],
   "source": [
    "for feature in (\n",
    "    'PoolQC', \n",
    "    'FireplaceQu', \n",
    "    'Alley', \n",
    "    'Fence', \n",
    "    'MiscFeature', \n",
    "    'BsmtQual', \n",
    "    'BsmtCond', \n",
    "    'BsmtExposure', \n",
    "    'BsmtFinType1', \n",
    "    'BsmtFinType2',\n",
    "    'GarageType', \n",
    "    'GarageFinish', \n",
    "    'GarageQual', \n",
    "    'GarageCond',\n",
    "    'BsmtQual', \n",
    "    'BsmtCond', \n",
    "    'BsmtExposure', \n",
    "    'BsmtFinType1', \n",
    "    'BsmtFinType2',\n",
    "    'MasVnrType',\n",
    "    'MSSubClass',\n",
    "):\n",
    "    train_df[feature] = train_df[feature].fillna('None')\n",
    "    test_df[feature] = test_df[feature].fillna('None')\n",
    "    full_df[feature] = full_df[feature].fillna('None')\n",
    "\n",
    "for feature in (\n",
    "    'BsmtFinSF1', \n",
    "    'BsmtFinSF2', \n",
    "    'BsmtUnfSF',\n",
    "    'TotalBsmtSF', \n",
    "    'BsmtFullBath', \n",
    "    'BsmtHalfBath',\n",
    "    'MasVnrArea',\n",
    "    'GarageCars',\n",
    "    'GarageArea',\n",
    "    'GarageYrBlt',\n",
    "):\n",
    "    train_df[feature] = train_df[feature].fillna(0)\n",
    "    test_df[feature] = test_df[feature].fillna(0)\n",
    "    full_df[feature] = full_df[feature].fillna(0)\n",
    "\n",
    "for feature in (\n",
    "    'Electrical', \n",
    "    'KitchenQual', \n",
    "    'Exterior1st',\n",
    "    'Exterior2nd', \n",
    "    'SaleType',\n",
    "    'MSZoning',\n",
    "    'Utilities',\n",
    "):\n",
    "    train_df[feature] = train_df[feature].fillna(train_df[feature].mode()[0])\n",
    "    test_df[feature] = test_df[feature].fillna(test_df[feature].mode()[0])\n",
    "    full_df[feature] = full_df[feature].fillna(test_df[feature].mode()[0])\n",
    "\n",
    "train_df['Functional'] = train_df['Functional'].fillna('Typ')\n",
    "test_df['Functional'] = test_df['Functional'].fillna('Typ')\n",
    "full_df['Functional'] = full_df['Functional'].fillna('Typ')"
   ]
  },
  {
   "cell_type": "code",
   "execution_count": 13,
   "metadata": {},
   "outputs": [],
   "source": [
    "train_df['LotFrontage'] = train_df.groupby(['Neighborhood', 'MSSubClass'])['LotFrontage'].transform(lambda x: x.fillna(x.median()))\n",
    "test_df['LotFrontage'] = test_df.groupby(['Neighborhood', 'MSSubClass'])['LotFrontage'].transform(lambda x: x.fillna(x.median()))"
   ]
  },
  {
   "cell_type": "code",
   "execution_count": 14,
   "metadata": {},
   "outputs": [],
   "source": [
    "for dataframe in [train_df, test_df]:\n",
    "    dataframe['Exterior1st'].replace(['Brk Cmn', 'CmentBd', 'Wd Shng'], ['BrkComm', 'CemntBd', 'Wd Sdng'], inplace=True)\n",
    "    dataframe['Exterior2nd'].replace(['Brk Cmn', 'CmentBd', 'Wd Shng'], ['BrkComm', 'CemntBd', 'Wd Sdng'], inplace=True)"
   ]
  },
  {
   "cell_type": "code",
   "execution_count": 15,
   "metadata": {},
   "outputs": [],
   "source": [
    "ordinal_feature_mapping = {\n",
    "    'ExterQual': {'Po': 0, 'Fa': 1, 'TA': 2, 'Gd': 3, 'Ex': 4}, \n",
    "    'ExterCond': {'Po': 0, 'Fa': 1, 'TA': 2, 'Gd': 3, 'Ex': 4},\n",
    "    'BsmtQual': {'None': 0, 'Po': 1, 'Fa': 2, 'TA': 3, 'Gd': 4, 'Ex': 5},\n",
    "    'BsmtCond': {'None': 0, 'Po': 1, 'Fa': 2, 'TA': 3, 'Gd': 4, 'Ex': 5},\n",
    "    'BsmtFinType1': {'None': 0, 'Unf': 1, 'LwQ': 2, 'Rec': 3, 'BLQ': 4, 'ALQ': 5, 'GLQ': 6},\n",
    "    'BsmtFinType2': {'None': 0, 'Unf': 1, 'LwQ': 2, 'Rec': 3, 'BLQ': 4, 'ALQ': 5, 'GLQ': 6},\n",
    "    'HeatingQC': {'Po': 0, 'Fa': 1, 'TA': 2, 'Gd': 3, 'Ex': 4},\n",
    "    'KitchenQual': {'Po': 0, 'Fa': 1, 'TA': 2, 'Gd': 3, 'Ex': 4},\n",
    "    'FireplaceQu': {'None': 0, 'Po': 1, 'Fa': 2, 'TA': 3, 'Gd': 4, 'Ex': 5},\n",
    "    'GarageFinish': {'None': 0, 'Unf': 1, 'RFn': 2, 'Fin': 3},\n",
    "    'GarageQual': {'None': 0, 'Po': 1, 'Fa': 2, 'TA': 3, 'Gd': 4, 'Ex': 5},\n",
    "    'GarageCond': {'None': 0, 'Po': 1, 'Fa': 2, 'TA': 3, 'Gd': 4, 'Ex': 5},\n",
    "    'PoolQC': {'None': 0, 'Po': 1, 'Fa': 2, 'TA': 3, 'Gd': 4, 'Ex': 5},\n",
    "    'Fence': {'None': 0, 'MnWw': 1, 'GdWo': 2, 'MnPrv': 3, 'GdPrv': 4},\n",
    "    'PavedDrive': {'N': 0, 'P': 1, 'Y': 2},\n",
    "    'CentralAir': {'N': 0, 'Y': 1},\n",
    "    'Alley': {'None': 0, 'Pave': 1, 'Grvl': 2},\n",
    "    'Street': {'Pave': 0, 'Grvl': 1},\n",
    "    'BsmtExposure': {'None': 0, 'No': 1, 'Mn': 2, 'Av': 3, 'Gd': 4},\n",
    "    'Functional': {'Sal': 0, 'Sev': 1, 'Maj2': 2, 'Maj1': 3, 'Mod': 4, 'Min2': 5, 'Min1': 6, 'Typ': 7}\n",
    "}\n",
    "\n",
    "non_ordinal_cat_features = list(set(cat_features) - set(ordinal_feature_mapping.keys()))\n",
    "\n",
    "for cat_feature in non_ordinal_cat_features:\n",
    "    train_df[cat_feature + 'Enc'] = LabelEncoder().fit_transform(train_df[cat_feature])\n",
    "    test_df[cat_feature + 'Enc'] = LabelEncoder().fit_transform(test_df[cat_feature])\n",
    "\n",
    "for ordinal_feature, feature_mapping in ordinal_feature_mapping.items():\n",
    "    train_df[ordinal_feature + 'Enc'] = train_df[ordinal_feature].map(feature_mapping)\n",
    "    test_df[ordinal_feature + 'Enc'] = test_df[ordinal_feature].map(feature_mapping)"
   ]
  },
  {
   "source": [
    "### Num Feature Scaling"
   ],
   "cell_type": "markdown",
   "metadata": {}
  },
  {
   "cell_type": "code",
   "execution_count": 16,
   "metadata": {},
   "outputs": [],
   "source": [
    "# https://www.kaggle.com/serigne/stacked-regressions-top-4-on-leaderboard"
   ]
  },
  {
   "source": [
    "## Feature Engineering"
   ],
   "cell_type": "markdown",
   "metadata": {}
  },
  {
   "cell_type": "code",
   "execution_count": 17,
   "metadata": {},
   "outputs": [],
   "source": [
    "for dataframe in [train_df, test_df]:\n",
    "    dataframe['Has2ndFloor'] = dataframe['2ndFlrSF'].apply(lambda x: int(x > 0))\n",
    "    dataframe['HasBsmnt'] = dataframe['TotalBsmtSF'].apply(lambda x: int(x > 0))\n",
    "    dataframe['HasGarage'] = dataframe['GarageArea'].apply(lambda x: int(x > 0))\n",
    "    dataframe['HasPool'] = dataframe['PoolArea'].apply(lambda x: int(x > 0))\n",
    "    dataframe['HasFence'] = dataframe['Fence'].apply(lambda x: int(x != 'None'))\n",
    "    dataframe['HasFireplace'] = dataframe['Fireplaces'].apply(lambda x: int(x > 0))\n",
    "    dataframe['HasMasVnr'] = dataframe['MasVnrType'].apply(lambda x: int(x != 'None'))\n",
    "    dataframe['HasShed'] = (dataframe['MiscFeature'] == 'Shed') * 1\n",
    "\n",
    "    dataframe['HouseAge'] = dataframe['YrSold'].astype('int') - dataframe['YearBuilt'].astype('int')\n",
    "    dataframe['HouseAgeSinRemod'] = dataframe['YrSold'].astype('int') - dataframe['YearRemodAdd'].astype('int')"
   ]
  },
  {
   "cell_type": "code",
   "execution_count": 18,
   "metadata": {},
   "outputs": [],
   "source": [
    "# Remove outliers\n",
    "train_df.drop(\n",
    "    train_df[(train_df['GrLivArea'] > 4000) & (train_df['SalePrice'] < 700000)].index\n",
    ");"
   ]
  },
  {
   "cell_type": "code",
   "execution_count": 19,
   "metadata": {},
   "outputs": [],
   "source": [
    "subclassCategories = [20, 30, 40, 45, 50, 60, 70, 75, 80, 85, 90, 120, 160, 180, 190] #removed 150 class as useless during predictions\n",
    "\n",
    "exteriorCategories = ['AsbShng', 'AsphShn', 'BrkComm', 'BrkFace', 'CBlock', 'CemntBd', 'HdBoard', 'ImStucc', 'MetalSd', 'Other', 'Plywood', 'PreCast', 'Stone', 'Stucco', 'VinylSd', 'Wd Sdng', 'WdShing']\n",
    "\n",
    "neighborhoodCategories = full_df['Neighborhood'].unique()\n",
    "saleCondCategories = full_df['SaleCondition'].unique()\n",
    "garageTypeCategories = full_df['GarageType'].unique()\n",
    "lotConfigCategories = full_df['LotConfig'].unique() # feature was removed from the model\n",
    "lotShapeCategories = full_df['LotShape'].unique()\n",
    "landSlopeCategories = full_df['LandSlope'].unique()"
   ]
  },
  {
   "cell_type": "code",
   "execution_count": 20,
   "metadata": {},
   "outputs": [],
   "source": [
    "year_built_bins = np.linspace(1871, 2010, 10) # 10 bins"
   ]
  },
  {
   "cell_type": "code",
   "execution_count": 21,
   "metadata": {},
   "outputs": [],
   "source": [
    "# Reference: https://www.kaggle.com/cerberus4229/voting-regressor-with-pipelines\n",
    "\n",
    "for dataframe in [train_df, test_df]:\n",
    "    dataframe['TotalBathrooms'] = (dataframe['FullBath'] + (0.5 * dataframe['HalfBath']) +\n",
    "                                dataframe['BsmtFullBath'] + (0.5 * dataframe['BsmtHalfBath']))\n",
    "\n",
    "    dataframe['OverallHouseQCBin'] = pd.qcut(dataframe['OverallQual'] + dataframe['OverallCond'], q=3, labels=[0, 1, 2])\n",
    "    \n",
    "    dataframe['IsStreetGraved'] = (dataframe['Street'] == 'Grvl') * 1\n",
    "    dataframe['IsPavedDrive'] = (dataframe['PavedDrive'] == 'Y') * 1\n",
    "\n",
    "    dataframe['IsNeighborhoodElite'] = (dataframe['Neighborhood'].isin(['NridgHt', 'CollgeCr', 'Crawfor', 'StoreBr', 'Timber'])) * 1 \n",
    "\n",
    "    dataframe['YearBuiltBin'] = pd.cut(dataframe['YearBuilt'], bins=year_built_bins, labels=range(1, 10)) \n",
    "    dataframe['YearBuiltBin2'] = pd.cut(dataframe['YearBuilt'], bins=[1871, 1910, 1955, 1980, 2000, 2011], labels=range(0, 5)) \n",
    "    dataframe['IsNewHouseSold'] = (full_df['YearBuilt'] == full_df['YrSold'].astype(int)) * 1\n",
    "\n",
    "    dataframe['KitchenQCBin'] = pd.cut(dataframe['KitchenQualEnc'] * dataframe['KitchenAbvGr'], [-1, 2, 7], labels=[0, 1])\n",
    "\n",
    "    dataframe['IsFunctional'] = (dataframe['Functional'] == 'Typ') * 1\n",
    "    dataframe['FunctionalGroup'] = dataframe['Functional'].map({\n",
    "        'Typ': 2,\n",
    "        'Min1': 1,\n",
    "        'Min2': 1,\n",
    "        'Mod': 1,\n",
    "        'Maj1': 0,\n",
    "        'Maj2': 0,\n",
    "        'Sev': 0,\n",
    "        'Sav': 0,\n",
    "    })\n",
    "\n",
    "    dataframe['IsModernHouseType'] = dataframe['MSSubClass'].map(\n",
    "        {20: 1, 30: 0, 40: 0, 45: 0, 50: 0, 60: 1, 70: 0, 75: 0, 80: 0, 85: 0, 90: 0, 120: 1, 150: 0, 160: 0, 180: 0, 190: 0}\n",
    "    )\n",
    "    dataframe['IsLandFlat'] = (dataframe['LandContour'] == 'Lvl') * 1\n",
    "\n",
    "    dataframe['IsExterCondGood'] = dataframe['ExterCond'].map({'Po': 0, 'Fa': 0, 'TA': 1, 'Gd': 1, 'Ex': 1})\n",
    "\n",
    "    dataframe['IsGasHeating'] = dataframe['Heating'].map({'GasA': 1, 'GasW': 1, 'Grav': 0, 'Wall': 0, 'OthW': 0, 'Floor': 0})\n",
    "    dataframe['IsHeatingGood'] = dataframe['HeatingQC'].map({'Po': 0, 'Fa': 0, 'TA': 0, 'Gd': 1, 'Ex': 1})\n",
    "\n",
    "    dataframe['IsNewElectrBreakers'] = dataframe['Electrical'].map({'SBrkr': 1, 'FuseF': 0, 'FuseA': 0, 'FuseP': 0, 'Mix': 0})\n",
    "\n",
    "    dataframe['IsGarageCondGood'] = dataframe['GarageCond'].map({'None': 0, 'Po': 0, 'Fa': 0, 'TA': 1, 'Gd': 1, 'Ex': 1})\n",
    "    dataframe['IsGarageQualGood'] = dataframe['GarageQual'].map({'None': 0, 'Po': 0, 'Fa': 0, 'TA': 1, 'Gd': 1, 'Ex': 1})\n",
    "\n",
    "    dataframe['RoofMatlCost'] = dataframe['RoofMatl'].map({\n",
    "        'CompShg': 0,\n",
    "        'WdShake': 1,\n",
    "        'ClyTile': 1,\n",
    "        'WdShngl': 1,\n",
    "        'Roll': 0,\n",
    "        'Metal': 1,\n",
    "        'Membran': 0,\n",
    "        'Tar&Grv': 0,\n",
    "    })\n",
    "    \n",
    "    dataframe['IsWoodenRoof'] = dataframe['RoofMatl'].map({\n",
    "        'CompShg': 0,\n",
    "        'WdShake': 1,\n",
    "        'ClyTile': 0,\n",
    "        'WdShngl': 1,\n",
    "        'Roll': 0,\n",
    "        'Metal': 0,\n",
    "        'Membran': 0,\n",
    "        'Tar&Grv': 0,\n",
    "    })\n",
    "\n",
    "    dataframe['IsCompShngl'] = dataframe['RoofMatl'].map({\n",
    "        'CompShg': 1,\n",
    "        'WdShake': 0,\n",
    "        'ClyTile': 0,\n",
    "        'WdShngl': 0,\n",
    "        'Roll': 0,\n",
    "        'Metal': 0,\n",
    "        'Membran': 0,\n",
    "        'Tar&Grv': 0,\n",
    "    })\n",
    "\n",
    "    dataframe['IsAdjArterialStreat'] = ((dataframe['Condition1'] == 'Artery') | (dataframe['Condition2'] == 'Artery')) * 1\n",
    "    dataframe['IsAdjFeederStreat'] = ((dataframe['Condition1'] == 'Feedr') | (dataframe['Condition2'] == 'Feedr')) * 1\n",
    "    dataframe['IsNormalCondition'] = ((dataframe['Condition1'] == 'Norm') | (dataframe['Condition2'] == 'Norm')) * 1\n",
    "    dataframe['IsAjdOffSiteFeature'] = ((dataframe['Condition1'] == 'PosA') | (dataframe['Condition2'] == 'PosA')) * 1\n",
    "    dataframe['IsNearOffSiteFeature'] = ((dataframe['Condition1'] == 'PosN') | (dataframe['Condition2'] == 'PosN')) * 1\n",
    "    dataframe['IsNearRailroad'] = ((dataframe['Condition1'].isin(['RRNn', 'RRNe'])) | (dataframe['Condition2'].isin(['RRNn', 'RRNe']))) * 1\n",
    "    dataframe['IsAdjRailroad'] = ((dataframe['Condition1'].isin(['RRAn', 'RRAe'])) | (dataframe['Condition2'].isin(['RRAn', 'RRAe']))) * 1\n",
    "\n",
    "    dataframe['TotalPorchArea'] = dataframe['OpenPorchSF'] + dataframe['EnclosedPorch'] + dataframe['3SsnPorch'] + dataframe['ScreenPorch']\n",
    "    dataframe['HasPorch'] = (dataframe['TotalPorchArea'] > 0) * 1\n",
    "    dataframe['HasWoodDeck'] = (dataframe['WoodDeckSF'] > 0) * 1\n",
    "\n",
    "    dataframe['WoodDeckGroups'] = pd.cut(dataframe['WoodDeckSF'], bins=[-1, 1, 200, 500, 2000], labels=[0, 1, 2, 3])\n",
    "    dataframe['OpenPorchGroups'] = pd.cut(dataframe['OpenPorchSF'], bins=[-1, 1, 40, 70, 1000], labels=[0, 1, 2, 3])\n",
    "    dataframe['HasEnclosedPorch'] = (dataframe['EnclosedPorch'] > 0) * 1\n",
    "    dataframe['HasScreenPorch'] = (dataframe['ScreenPorch'] > 0) * 1\n",
    "    dataframe['HasEnclosedPorch'] = (dataframe['EnclosedPorch'] > 0) * 1\n",
    "\n",
    "    dataframe['AvgRoomSF'] = dataframe['GrLivArea'] / dataframe['TotRmsAbvGrd']\n",
    "\n",
    "    dataframe['Shed'] = (dataframe['MiscFeature'] == 'Shed') * 1 * full_df['MiscVal']\n",
    "    dataframe['OtherFeature'] = (dataframe['MiscFeature'].isin(['TenC', 'Othr'])) * 1 * full_df['MiscVal']\n",
    "\n",
    "    dataframe['Season'] = dataframe['MoSold'].map({\n",
    "        '12': 0, '1': 0, '2': 0,\n",
    "        '3': 1, '4': 1, '5': 1, \n",
    "        '6': 2, '7': 2, '8': 2, \n",
    "        '9': 3, '10': 3, '11': 3,\n",
    "    })\n"
   ]
  },
  {
   "cell_type": "code",
   "execution_count": 22,
   "metadata": {},
   "outputs": [],
   "source": [
    "# https://www.kaggle.com/humananalog/xgboost-lasso"
   ]
  },
  {
   "cell_type": "code",
   "execution_count": 23,
   "metadata": {},
   "outputs": [],
   "source": [
    "features = [\n",
    "    'GrLivArea',\n",
    "    '1stFlrSF',\n",
    "    '2ndFlrSF',\n",
    "    'LotArea',\n",
    "    'BsmtFinSF1', \n",
    "    'BsmtFinSF2',\n",
    "    'BsmtUnfSF', \n",
    "    'BsmtFinType1Enc',\n",
    "    'BsmtFinType2Enc',\n",
    "    'OverallQual',\n",
    "    'GarageCars',\n",
    "    'OverallCond', \n",
    "    'Neighborhood',\n",
    "    #'MSSubClass', \n",
    "    'LotShape',\n",
    "    'LandSlope',\n",
    "    'BsmtCondEnc',\n",
    "    'BsmtQualEnc', \n",
    "    'SaleCondition',\n",
    "    'CentralAirEnc',\n",
    "    'IsAdjArterialStreat',\n",
    "    'IsAdjFeederStreat',\n",
    "    'IsNormalCondition',\n",
    "    'IsNearOffSiteFeature',\n",
    "    'IsAjdOffSiteFeature',\n",
    "    'IsNearRailroad',\n",
    "    'IsAdjRailroad',\n",
    "    'TotalBathrooms',\n",
    "    'GarageFinishEnc',\n",
    "    'KitchenQualEnc',\n",
    "    'BedroomAbvGr',\n",
    "    'MSZoning',\n",
    "    'ExterQualEnc',\n",
    "    'IsNewHouseSold',\n",
    "    'LandContour',\n",
    "    'HasFireplace',\n",
    "    'FunctionalGroup',\n",
    "    'HouseAge',\n",
    "    'FenceEnc',\n",
    "    #'IsModernHouseType',\n",
    "    'IsGasHeating',\n",
    "    'IsHeatingGood',\n",
    "    'IsNewElectrBreakers',\n",
    "    'IsGarageCondGood',\n",
    "    'IsWoodenRoof',\n",
    "    'RoofMatlCost',\n",
    "    'BldgType',\n",
    "    'HouseStyle',\n",
    "    'HasPool',\n",
    "    'MasVnrType',\n",
    "    'TotRmsAbvGrd',\n",
    "    'WoodDeckGroups',\n",
    "    'HasEnclosedPorch',\n",
    "    'YearBuiltBin',\n",
    "    'HasScreenPorch',\n",
    "    'AvgRoomSF',\n",
    "    'BsmtExposureEnc',\n",
    "    'Shed',\n",
    "    'Season'\n",
    "    #'Exterior1st'\n",
    "]\n",
    "\n",
    "X = train_df[features]\n",
    "Y = train_df['SalePrice']\n",
    "\n",
    "x_test = test_df[features]"
   ]
  },
  {
   "source": [
    "## Modeling"
   ],
   "cell_type": "markdown",
   "metadata": {}
  },
  {
   "source": [
    "# Build feature transformer\n",
    "\n",
    "logTransformer = FunctionTransformer(func=np.log1p, inverse_func=np.expm1)\n",
    "\n",
    "featureTransformer = ColumnTransformer([\n",
    "        ('basement_area_log', logTransformer, ['GrLivArea', 'BsmtFinSF1', 'BsmtFinSF2', 'BsmtUnfSF', 'LotArea', 'AvgRoomSF', 'Shed', 'TotRmsAbvGrd']),\n",
    "        ('neighborhood_onehot', OneHotEncoder(categories=[neighborhoodCategories]), ['Neighborhood']),\n",
    "        #('subclass_onehot', OneHotEncoder(categories=[subclassCategories], handle_unknown='ignore'), ['MSSubClass']),\n",
    "        ('lot_shape_onehot', OneHotEncoder(categories=[lotShapeCategories]), ['LotShape']),\n",
    "        ('land_slope_onehot', OneHotEncoder(categories=[landSlopeCategories]), ['LandSlope']),\n",
    "        ('sale_condtion_onehot', OneHotEncoder(categories=[saleCondCategories]), ['SaleCondition']),\n",
    "        ('land_contour_onehot', OneHotEncoder(), ['LandContour']),\n",
    "        ('zoning_onehot', OneHotEncoder(), ['MSZoning']),\n",
    "        ('bldg_type_onehot', OneHotEncoder(), ['BldgType']),\n",
    "        ('masvrn_type_onehot', OneHotEncoder(), ['MasVnrType']),\n",
    "        ('house_style_onehot', OneHotEncoder(), ['HouseStyle']),\n",
    "        ('season_onehot', OneHotEncoder(), ['Season']),\n",
    "        #('ext_onehot', OneHotEncoder(categories=[exteriorCategories]), ['Exterior1st']),\n",
    "    ],\n",
    "    remainder='passthrough'\n",
    ")"
   ],
   "cell_type": "code",
   "metadata": {},
   "execution_count": 24,
   "outputs": []
  },
  {
   "source": [
    "### GradientBoostingRegressor"
   ],
   "cell_type": "markdown",
   "metadata": {}
  },
  {
   "cell_type": "code",
   "execution_count": 25,
   "metadata": {},
   "outputs": [
    {
     "output_type": "stream",
     "name": "stdout",
     "text": [
      "GradientBoosting Regressor:\n",
      "[CV] MSE: 753338961.9998 (10320415.2553)\n",
      "[CV] MAE: 16186.1894 (101.8192)\n",
      "[CV] R^2: 0.8799 (0.0091)\n",
      "[CV] RMSLE: 0.125813 (0.0042)\n"
     ]
    }
   ],
   "source": [
    "gb_model = GradientBoostingRegressor(\n",
    "    loss='lad',\n",
    "    max_depth=3,\n",
    "    max_features=None,\n",
    "    n_estimators=1500,\n",
    "    subsample=0.65,\n",
    "    min_samples_split=2,\n",
    "    min_samples_leaf=2,\n",
    "    random_state=42,\n",
    ")\n",
    "\n",
    "gb_pipeline = Pipeline([\n",
    "    ('preprocessing', featureTransformer),\n",
    "    ('gb_regressor', gb_model),\n",
    "])\n",
    "\n",
    "print('GradientBoosting Regressor:')\n",
    "score_model(gb_pipeline, X, Y)"
   ]
  },
  {
   "cell_type": "code",
   "execution_count": 26,
   "metadata": {},
   "outputs": [],
   "source": [
    "parameters = {\n",
    "    'gb_regressor__loss': ['ls', 'lad', 'huber', 'quantile'],\n",
    "    'gb_regressor__n_estimators': [900, 1000, 1500, 2000],\n",
    "    'gb_regressor__max_depth': [3, 4, 5, 6],\n",
    "}\n",
    "\n",
    "paramSearch = GridSearchCV(\n",
    "  estimator=gb_pipeline,\n",
    "  scoring=make_scorer(neg_rmsle),\n",
    "  param_grid=parameters, \n",
    "  cv=2,\n",
    "  n_jobs=-1, \n",
    "  verbose=3\n",
    ")\n",
    "\n",
    "\n",
    "#paramSearch.fit(X, Y)\n",
    "#paramSearch.best_params_, paramSearch.best_score_"
   ]
  },
  {
   "source": [
    "### HistGradientBoostingRegressor"
   ],
   "cell_type": "markdown",
   "metadata": {}
  },
  {
   "cell_type": "code",
   "execution_count": 27,
   "metadata": {},
   "outputs": [
    {
     "output_type": "stream",
     "name": "stdout",
     "text": [
      "HistGradientBoosting Regressor:\n",
      "[CV] MSE: 726548734.2341 (35983985.7462)\n",
      "[CV] MAE: 16615.7606 (734.4582)\n",
      "[CV] R^2: 0.8846 (0.0015)\n",
      "[CV] RMSLE: 0.130161 (0.0067)\n"
     ]
    }
   ],
   "source": [
    "hgb_model = HistGradientBoostingRegressor(\n",
    "    loss='poisson',\n",
    "    max_depth=4,\n",
    "    max_iter=400,\n",
    "    learning_rate=0.1,\n",
    "    l2_regularization=0.325,\n",
    "    random_state=42,\n",
    ")\n",
    "\n",
    "hgb_pipeline = Pipeline([\n",
    "    ('preprocessing', featureTransformer),\n",
    "    ('hgb_regressor', hgb_model),\n",
    "])\n",
    "\n",
    "print('HistGradientBoosting Regressor:')\n",
    "score_model(hgb_pipeline, X, Y)"
   ]
  },
  {
   "cell_type": "code",
   "execution_count": 28,
   "metadata": {},
   "outputs": [],
   "source": [
    "parameters = {\n",
    "    'hgb_regressor__max_iter': [500, 600, 800, 1000, 2000], # 100\n",
    "    'hgb_regressor__max_depth': [2, 3, 4, 5, 10], # None\n",
    "    'hgb_regressor__loss': ['poisson', 'least_squares'], # 'least_squares',\n",
    "    'hgb_regressor__learning_rate': [0.1, 0.001, 0.2, 0.25],\n",
    "    'hgb_regressor__l2_regularization': [0.26, 0.3, 0.35, 0.4], # 0\n",
    "    'hgb_regressor__min_samples_leaf': [20, 22, 25, 15],\n",
    "    'hgb_regressor__max_leaf_nodes': [31, 20, 40], \n",
    "}\n",
    "\n",
    "paramSearch = RandomizedSearchCV(\n",
    "  estimator=hgb_pipeline,\n",
    "  scoring=make_scorer(neg_rmsle),\n",
    "  param_distributions=parameters, \n",
    "  n_iter=100,\n",
    "  cv=2,\n",
    "  n_jobs=-1, \n",
    "  verbose=3\n",
    ")\n",
    "\n",
    "\n",
    "#paramSearch.fit(X, Y)\n",
    "#paramSearch.best_params_, paramSearch.best_score_"
   ]
  },
  {
   "source": [
    "### Random Forest"
   ],
   "cell_type": "markdown",
   "metadata": {}
  },
  {
   "cell_type": "code",
   "execution_count": 29,
   "metadata": {},
   "outputs": [
    {
     "output_type": "stream",
     "name": "stdout",
     "text": [
      "RandomForest Regressor:\n",
      "[CV] MSE: 956333644.7460 (24433391.1496)\n",
      "[CV] MAE: 18390.3192 (371.2980)\n",
      "[CV] R^2: 0.8474 (0.0134)\n",
      "[CV] RMSLE: 0.150478 (0.0050)\n",
      "CPU times: user 28.8 s, sys: 396 ms, total: 29.2 s\n",
      "Wall time: 42 s\n"
     ]
    }
   ],
   "source": [
    "%%time\n",
    "\n",
    "random_forest_model = RandomForestRegressor(\n",
    "        bootstrap=True,\n",
    "        max_depth=20,\n",
    "        max_features='auto',\n",
    "        max_leaf_nodes=None,\n",
    "        max_samples=None,\n",
    "        min_samples_leaf=5,\n",
    "        min_samples_split=6,\n",
    "        n_estimators=3000,\n",
    "        random_state=42,\n",
    "    )\n",
    "\n",
    "random_forest_pipeline = Pipeline([\n",
    "    ('preprocessing', featureTransformer),\n",
    "    ('random_forest', random_forest_model),\n",
    "])\n",
    "\n",
    "# Measure performance\n",
    "\n",
    "print('RandomForest Regressor:')\n",
    "score_model(random_forest_pipeline, X, Y)\n",
    "\n",
    "## RF(max_depth=25, max_features='sqrt', min_samples_leaf=1, min_samples_split=2, n_estimators=1000)\n",
    "## CV=2, 0.15007\n",
    "#[CV] MSE: 889831012.8445 (46061331.0130)\n",
    "#[CV] MAE: 17721.0043 (817.3113)\n",
    "#[CV] R^2: 0.8587 (0.0015)"
   ]
  },
  {
   "cell_type": "code",
   "execution_count": 30,
   "metadata": {},
   "outputs": [],
   "source": [
    "#random_forest_pipeline.fit(X, Y)\n",
    "\n",
    "#X_columns = get_columns_from_transformer(random_forest_pipeline.named_steps['preprocessing'], list(X.columns))\n",
    "\n",
    "#features_list = sorted(zip(random_forest_pipeline.named_steps['random_forest'].feature_importances_, X_columns), reverse=True)\n",
    "#random_forest_pipeline.named_steps['preprocessing'].transformers_\n",
    "\n",
    "#features_list"
   ]
  },
  {
   "cell_type": "code",
   "execution_count": 31,
   "metadata": {},
   "outputs": [],
   "source": [
    "from skopt import BayesSearchCV\n",
    "from skopt.space import Real, Categorical, Integer\n",
    "from skopt.plots import plot_objective, plot_histogram\n",
    "\n",
    "parameters = {\n",
    "    'random_forest__max_depth': [None, 15,  20, 25],\n",
    "    'random_forest__max_features': ['sqrt'],\n",
    "    'random_forest__max_leaf_nodes': [None, 5, 15, 17, 20],\n",
    "    'random_forest__min_samples_leaf': [1, 2, 3],\n",
    "    'random_forest__min_samples_split': [2, 1, 3],\n",
    "    'random_forest__max_samples': [None, 2, 5],\n",
    "    'random_forest__n_estimators': [1500, 2000, 2500]\n",
    "}\n",
    "\n",
    "paramSearch = GridSearchCV(\n",
    "  estimator=random_forest_pipeline,\n",
    "  scoring=make_scorer(neg_rmsle),\n",
    "  param_grid=parameters, \n",
    "  cv=2,\n",
    "  n_jobs=-1, \n",
    "  verbose=3\n",
    ")\n",
    "\n",
    "#paramSearch.fit(X, Y)\n",
    "#paramSearch.best_params_, paramSearch.best_score_"
   ]
  },
  {
   "cell_type": "code",
   "execution_count": 32,
   "metadata": {},
   "outputs": [],
   "source": [
    "#plot_learning_curve(random_forest_pipeline, X, Y, cv=3)"
   ]
  },
  {
   "source": [
    "### XGBoostRegressor"
   ],
   "cell_type": "markdown",
   "metadata": {}
  },
  {
   "cell_type": "code",
   "execution_count": 33,
   "metadata": {},
   "outputs": [
    {
     "output_type": "stream",
     "name": "stdout",
     "text": [
      "XGB Regressor:\n",
      "[CV] MSE: 760155640.7229 (32703302.8413)\n",
      "[CV] MAE: 15452.5650 (167.7466)\n",
      "[CV] R^2: 0.8786 (0.0128)\n",
      "[CV] RMSLE: 0.124407 (0.0032)\n",
      "CPU times: user 3min 27s, sys: 11.2 s, total: 3min 38s\n",
      "Wall time: 31.9 s\n"
     ]
    }
   ],
   "source": [
    "%%time\n",
    "\n",
    "from xgboost import XGBRegressor\n",
    "\n",
    "xgb_model = XGBRegressor(\n",
    "        max_depth=6,\n",
    "        n_estimators=8000,\n",
    "        learning_rate=0.01,\n",
    "        min_child_weight=1.5,\n",
    "        subsample=0.2,\n",
    "        gamma=0.01,\n",
    "        reg_alpha=1,\n",
    "        reg_lambda=0.325,\n",
    "        objective='reg:gamma',\n",
    "        booster='gbtree'\n",
    "    )\n",
    "\n",
    "xgb_pipeline = Pipeline([\n",
    "    ('preprocessing', featureTransformer),\n",
    "    ('xgb_regressor', xgb_model),\n",
    "])\n",
    "\n",
    "# Measure Performance\n",
    "\n",
    "print('XGB Regressor:')\n",
    "score_model(xgb_pipeline, X, Y)"
   ]
  },
  {
   "cell_type": "code",
   "execution_count": 34,
   "metadata": {},
   "outputs": [
    {
     "output_type": "stream",
     "name": "stdout",
     "text": [
      "RMSLE: 0.11978800\n"
     ]
    }
   ],
   "source": [
    "xgb_pipeline.fit(X, Y)\n",
    "\n",
    "y_test_predicted = xgb_pipeline.predict(x_test)\n",
    "y_test_predicted = np.rint(y_test_predicted).astype(int)\n",
    "\n",
    "# RMSLE: 0.12007407 (ShedLog)\n",
    "# RMSLE: 0.12003497 (TotalRoomLog)\n",
    "# RMSLE: 0.11978800 (Season & ?)\n",
    "# RMSLE: 0.11999545 (no Season & no MSSubClass & no IsModernHouseType)\n",
    "# RMSLE: 0.11978800 (Season & no MSSubClass & no IsModernHouseType)\n",
    "# RMSLE: 0.11988965 (Season & no MSSubClass & IsModernHouseType)\n",
    "\n",
    "# RMSLE: 0.12138565 (IsStreetGraved)\n",
    "# RMSLE: 0.12146436 (AlleyEnc)\n",
    "# RMSLE: 0.12129823 (OpenPorchGroups)\n",
    "\n",
    "score_predictions(test_y, y_test_predicted)"
   ]
  },
  {
   "cell_type": "code",
   "execution_count": 35,
   "metadata": {},
   "outputs": [
    {
     "output_type": "execute_result",
     "data": {
      "text/plain": [
       "[(0.08710987, 'OverallQual'),\n",
       " (0.06561573, 'ExterQualEnc'),\n",
       " (0.052686792, 'GarageCars'),\n",
       " (0.04581558, 'GrLivArea'),\n",
       " (0.04082287, 'KitchenQualEnc'),\n",
       " (0.03253535, 'CentralAirEnc'),\n",
       " (0.03250852, 'TotalBathrooms'),\n",
       " (0.025706265, 'IsGarageCondGood'),\n",
       " (0.023370061, 'BsmtQualEnc'),\n",
       " (0.01908602, 'MSZoning_C (all)'),\n",
       " (0.01830629, 'RoofMatlCost'),\n",
       " (0.01655926, 'IsGasHeating'),\n",
       " (0.01584205, 'SaleCondition_AdjLand'),\n",
       " (0.01583943, 'GarageFinishEnc'),\n",
       " (0.015127808, 'LotShape_IR3'),\n",
       " (0.0136772925, 'HasFireplace'),\n",
       " (0.012414295, '1stFlrSF'),\n",
       " (0.012386328, 'SaleCondition_Family'),\n",
       " (0.01130566, 'HouseStyle_2.5Fin'),\n",
       " (0.010633394, 'MSZoning_RM'),\n",
       " (0.010397398, 'Neighborhood_MeadowV'),\n",
       " (0.010184376, 'Neighborhood_IDOTRR'),\n",
       " (0.0095345825, 'HouseStyle_2.5Unf'),\n",
       " (0.0093012145, 'BldgType_Duplex'),\n",
       " (0.009163137, 'IsNormalCondition'),\n",
       " (0.0085189175, 'SaleCondition_Abnorml'),\n",
       " (0.0077706235, 'MasVnrType_BrkCmn'),\n",
       " (0.007627485, 'Neighborhood_OldTown'),\n",
       " (0.007409643, 'OverallCond'),\n",
       " (0.007401575, 'FunctionalGroup'),\n",
       " (0.007171638, 'SaleCondition_Alloca'),\n",
       " (0.0071117403, 'Neighborhood_Blmngtn'),\n",
       " (0.007105951, 'IsAjdOffSiteFeature'),\n",
       " (0.007013109, 'BldgType_2fmCon'),\n",
       " (0.006908133, 'LandContour_Bnk'),\n",
       " (0.00686948, 'MSZoning_RL'),\n",
       " (0.0064713876, 'IsAdjArterialStreat'),\n",
       " (0.006335594, 'YearBuiltBin'),\n",
       " (0.006250222, 'HasPool'),\n",
       " (0.0062498674, 'BsmtFinSF1'),\n",
       " (0.0061800294, 'HouseAge'),\n",
       " (0.006078119, 'LandContour_Low'),\n",
       " (0.0059966804, 'Neighborhood_BrDale'),\n",
       " (0.0059773754, 'IsNearRailroad'),\n",
       " (0.0059648138, 'SaleCondition_Partial'),\n",
       " (0.0057588234, 'BsmtCondEnc'),\n",
       " (0.0056379894, 'IsAdjFeederStreat'),\n",
       " (0.005548752, 'IsNearOffSiteFeature'),\n",
       " (0.0055111386, 'BsmtFinType1Enc'),\n",
       " (0.0054521514, 'IsHeatingGood'),\n",
       " (0.005346519, 'Neighborhood_SWISU'),\n",
       " (0.0052142157, 'Neighborhood_Edwards'),\n",
       " (0.005204561, 'Neighborhood_NPkVill'),\n",
       " (0.0051938593, 'LotArea'),\n",
       " (0.0051271967, 'BsmtExposureEnc'),\n",
       " (0.0048244107, 'BldgType_Twnhs'),\n",
       " (0.004528411, 'AvgRoomSF'),\n",
       " (0.004466832, 'BldgType_1Fam'),\n",
       " (0.004402847, 'TotRmsAbvGrd'),\n",
       " (0.004368434, 'MSZoning_RH'),\n",
       " (0.0043469076, 'HouseStyle_1.5Unf'),\n",
       " (0.0042897244, 'IsNewElectrBreakers'),\n",
       " (0.0040590623, 'IsAdjRailroad'),\n",
       " (0.0039315075, 'Shed'),\n",
       " (0.003907904, 'IsNewHouseSold'),\n",
       " (0.0038966855, 'Neighborhood_Sawyer'),\n",
       " (0.0038352907, 'HouseStyle_1.5Fin'),\n",
       " (0.0038187276, 'Neighborhood_Mitchel'),\n",
       " (0.0038163303, 'Neighborhood_NAmes'),\n",
       " (0.0038031687, 'Neighborhood_NWAmes'),\n",
       " (0.0038015516, 'SaleCondition_Normal'),\n",
       " (0.0037285406, 'Season_0'),\n",
       " (0.003626945, 'HouseStyle_SFoyer'),\n",
       " (0.00337498, 'HouseStyle_SLvl'),\n",
       " (0.0033704143, 'Neighborhood_NoRidge'),\n",
       " (0.0033582763, 'Neighborhood_SawyerW'),\n",
       " (0.0033364194, 'Neighborhood_Timber'),\n",
       " (0.003329846, 'Neighborhood_CollgCr'),\n",
       " (0.0033042536, 'Season_3'),\n",
       " (0.0032835572, 'HouseStyle_1Story'),\n",
       " (0.0032606074, '2ndFlrSF'),\n",
       " (0.0031947459, 'BsmtFinType2Enc'),\n",
       " (0.0031770568, 'BedroomAbvGr'),\n",
       " (0.0031617444, 'LandSlope_Gtl'),\n",
       " (0.0031462288, 'BsmtUnfSF'),\n",
       " (0.003121668, 'MasVnrType_BrkFace'),\n",
       " (0.0031009405, 'Neighborhood_Gilbert'),\n",
       " (0.003075838, 'Neighborhood_NridgHt'),\n",
       " (0.003045937, 'FenceEnc'),\n",
       " (0.0030420837, 'HasEnclosedPorch'),\n",
       " (0.0030248929, 'Neighborhood_StoneBr'),\n",
       " (0.0029899026, 'WoodDeckGroups'),\n",
       " (0.0029750578, 'BsmtFinSF2'),\n",
       " (0.002970672, 'Neighborhood_BrkSide'),\n",
       " (0.0029703672, 'HouseStyle_2Story'),\n",
       " (0.002917794, 'LandContour_HLS'),\n",
       " (0.0029133854, 'Neighborhood_Crawfor'),\n",
       " (0.0028826992, 'LandContour_Lvl'),\n",
       " (0.0028763805, 'LotShape_Reg'),\n",
       " (0.0028589752, 'HasScreenPorch'),\n",
       " (0.0028389154, 'MasVnrType_Stone'),\n",
       " (0.0027695638, 'LotShape_IR2'),\n",
       " (0.0027682714, 'Season_2'),\n",
       " (0.002759536, 'Neighborhood_Somerst'),\n",
       " (0.0027485834, 'Season_1'),\n",
       " (0.0027240762, 'IsWoodenRoof'),\n",
       " (0.0026434637, 'MSZoning_FV'),\n",
       " (0.0026405226, 'BldgType_TwnhsE'),\n",
       " (0.002583905, 'Neighborhood_ClearCr'),\n",
       " (0.0025701327, 'LotShape_IR1'),\n",
       " (0.002455817, 'MasVnrType_None'),\n",
       " (0.0024495337, 'LandSlope_Mod'),\n",
       " (0.0021832348, 'Neighborhood_Veenker'),\n",
       " (0.0020092598, 'LandSlope_Sev'),\n",
       " (0.0, 'Neighborhood_Blueste')]"
      ]
     },
     "metadata": {},
     "execution_count": 35
    }
   ],
   "source": [
    "xgb_pipeline.fit(X, Y)\n",
    "X_columns = get_columns_from_transformer(xgb_pipeline.named_steps['preprocessing'], list(X.columns))\n",
    "\n",
    "features_list = sorted(zip(xgb_pipeline.named_steps['xgb_regressor'].feature_importances_, X_columns), reverse=True)\n",
    "features_list"
   ]
  },
  {
   "cell_type": "code",
   "execution_count": 36,
   "metadata": {},
   "outputs": [
    {
     "output_type": "stream",
     "name": "stdout",
     "text": [
      "CPU times: user 71 µs, sys: 1e+03 ns, total: 72 µs\nWall time: 77 µs\n"
     ]
    }
   ],
   "source": [
    "%%time\n",
    "\n",
    "parameters = {\n",
    "    'xgb_regressor__objective': ['reg:gamma'], # 'reg:squarederror', 'reg:squaredlogerror'\n",
    "    'xgb_regressor__learning_rate': [0.01],\n",
    "    'xgb_regressor__n_estimators': [7900, 8000, 8100],\n",
    "    'xgb_regressor__max_depth': [11, 12, 13],\n",
    "    'xgb_regressor__booster': ['gbtree'],\n",
    "    'xgb_regressor__min_child_weight': [1.5],\n",
    "    'xgb_regressor__gamma': [0],\n",
    "    'xgb_regressor__subsample': [0.2],\n",
    "    'xgb_regressor__reg_alpha': [0, 0.9, 1],\n",
    "    'xgb_regressor__reg_lambda': [1, 0.3],\n",
    "}\n",
    "\n",
    "paramSearch = GridSearchCV(\n",
    "   estimator=xgb_pipeline,\n",
    "   scoring=make_scorer(neg_rmsle),\n",
    "   param_grid=parameters,\n",
    "   cv=2,\n",
    "   n_jobs=-1, \n",
    "   verbose=3\n",
    ")\n",
    "\n",
    "#paramSearch.fit(X, Y)\n",
    "#paramSearch.best_params_, paramSearch.best_score_"
   ]
  },
  {
   "source": [
    "### StackingRegressor"
   ],
   "cell_type": "markdown",
   "metadata": {}
  },
  {
   "cell_type": "code",
   "execution_count": 37,
   "metadata": {},
   "outputs": [],
   "source": [
    "# https://www.kaggle.com/lavanyashukla01/how-i-made-top-0-3-on-a-kaggle-competition"
   ]
  },
  {
   "cell_type": "code",
   "execution_count": 38,
   "metadata": {},
   "outputs": [
    {
     "output_type": "stream",
     "name": "stdout",
     "text": [
      "Stacking Regressor:\nCPU times: user 356 µs, sys: 101 µs, total: 457 µs\nWall time: 424 µs\n"
     ]
    }
   ],
   "source": [
    "%%time\n",
    "\n",
    "stacking_model = StackingRegressor(\n",
    "    estimators=[\n",
    "        ('xgb', xgb_model),\n",
    "        ('random_forest', random_forest_model),\n",
    "        ('GB', gb_model),\n",
    "        ('HGB', hgb_model),\n",
    "    ], \n",
    "    #final_estimator=LassoCV(),\n",
    "    cv=2,\n",
    "    n_jobs=-1,\n",
    ")\n",
    "\n",
    "stacking_regressor_pipeline = Pipeline([\n",
    "    ('preprocessing', featureTransformer),\n",
    "    ('stacking_regressor', stacking_model)\n",
    "])\n",
    "\n",
    "print('Stacking Regressor:')\n",
    "#score_model(stacking_regressor_pipeline, X, Y)"
   ]
  },
  {
   "source": [
    "### VotingRegressor"
   ],
   "cell_type": "markdown",
   "metadata": {}
  },
  {
   "cell_type": "code",
   "execution_count": 39,
   "metadata": {},
   "outputs": [
    {
     "output_type": "stream",
     "name": "stdout",
     "text": [
      "Voting Regressor:\nCPU times: user 407 µs, sys: 83 µs, total: 490 µs\nWall time: 447 µs\n"
     ]
    }
   ],
   "source": [
    "%%time\n",
    "\n",
    "# https://www.kaggle.com/marktsvirko/votingregressor-xgb-svm-top-10\n",
    "\n",
    "voting_model = VotingRegressor(\n",
    "    estimators=[\n",
    "        ('xgb', xgb_model), \n",
    "        ('random_forest', random_forest_model),\n",
    "        ('GB', gb_model),\n",
    "        ('HGB', hgb_model),\n",
    "    ],\n",
    "    weights=[0.8, 0.1, 0.05, 0.05],\n",
    "    n_jobs=-1,\n",
    ")\n",
    "\n",
    "voting_pipeline = Pipeline([\n",
    "    ('preprocessing', featureTransformer),\n",
    "    ('voting_regressor', voting_model)\n",
    "])\n",
    "\n",
    "print('Voting Regressor:')\n",
    "#score_model(voting_pipeline, X, Y)\n",
    "\n",
    "# RMSLE: 0.12062175"
   ]
  },
  {
   "cell_type": "code",
   "execution_count": 40,
   "metadata": {},
   "outputs": [],
   "source": [
    "parameters = {\n",
    "    'voting_regressor__weights': [None, [0.6, 0.3, 0.1]],\n",
    "}\n",
    "\n",
    "paramSearch = GridSearchCV(\n",
    "   estimator=voting_pipeline,\n",
    "   scoring=make_scorer(neg_rmsle),\n",
    "   param_grid=parameters,\n",
    "   cv=2,\n",
    "   n_jobs=-1, \n",
    "   verbose=3\n",
    ")\n",
    "\n",
    "#paramSearch.fit(X, Y)\n",
    "#paramSearch.best_params_, paramSearch.best_score_"
   ]
  },
  {
   "source": [
    "## Predict Submissions"
   ],
   "cell_type": "markdown",
   "metadata": {}
  },
  {
   "cell_type": "code",
   "execution_count": 41,
   "metadata": {},
   "outputs": [],
   "source": [
    "xgb_pipeline.fit(X, Y)\n",
    "\n",
    "y_test_predicted = xgb_pipeline.predict(x_test)\n",
    "y_test_predicted = np.rint(y_test_predicted).astype(int)\n",
    "\n",
    "submission_df = pd.DataFrame({\n",
    "    'Id': test_df['Id'],\n",
    "    'SalePrice': y_test_predicted,\n",
    "})\n",
    "\n",
    "submission_df.to_csv('./data/submission_xgb.csv', index=False)"
   ]
  },
  {
   "cell_type": "code",
   "execution_count": 42,
   "metadata": {},
   "outputs": [],
   "source": [
    "#stacking_regressor_pipeline.fit(X, Y)\n",
    "\n",
    "#y_test_predicted = stacking_regressor_pipeline.predict(x_test)\n",
    "#y_test_predicted = np.rint(y_test_predicted).astype(int)\n",
    "\n",
    "#submission_df = pd.DataFrame({\n",
    "#    'Id': test_df['Id'],\n",
    "#    'SalePrice': y_test_predicted,\n",
    "#})\n",
    "\n",
    "#submission_df.to_csv('./data/submission_stacking.csv', index=False)"
   ]
  },
  {
   "cell_type": "code",
   "execution_count": 43,
   "metadata": {
    "tags": [],
    "pycharm": {
     "name": "#%%\n"
    }
   },
   "outputs": [],
   "source": [
    "#voting_pipeline.fit(X, Y)\n",
    "\n",
    "#y_test_predicted = voting_pipeline.predict(x_test)\n",
    "#y_test_predicted = np.rint(y_test_predicted).astype(int)\n",
    "\n",
    "#submission_df = pd.DataFrame({\n",
    "#    'Id': test_df['Id'],\n",
    "#    'SalePrice': y_test_predicted,\n",
    "#})\n",
    "\n",
    "#submission_df.to_csv('./data/submission_voting.csv', index=False)"
   ]
  }
 ]
}