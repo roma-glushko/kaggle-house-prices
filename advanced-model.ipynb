{
 "metadata": {
  "language_info": {
   "codemirror_mode": {
    "name": "ipython",
    "version": 3
   },
   "file_extension": ".py",
   "mimetype": "text/x-python",
   "name": "python",
   "nbconvert_exporter": "python",
   "pygments_lexer": "ipython3",
   "version": "3.8.6-final"
  },
  "orig_nbformat": 2,
  "kernelspec": {
   "name": "pycharm-b6383702",
   "language": "python",
   "display_name": "PyCharm (house-prices-advanced-regression-techniques)"
  }
 },
 "nbformat": 4,
 "nbformat_minor": 2,
 "cells": [
  {
   "cell_type": "code",
   "execution_count": 1,
   "metadata": {},
   "outputs": [],
   "source": [
    "import pandas as pd\n",
    "import matplotlib.pyplot as plt\n",
    "import seaborn as sns\n",
    "import numpy as np\n",
    "from scipy.stats import norm, skew\n",
    "\n",
    "from sklearn.base import BaseEstimator, TransformerMixin\n",
    "from sklearn.compose import ColumnTransformer, TransformedTargetRegressor\n",
    "from sklearn.impute import SimpleImputer\n",
    "from sklearn.preprocessing import OrdinalEncoder, LabelEncoder, OneHotEncoder, StandardScaler, MinMaxScaler, \\\n",
    "    RobustScaler, FunctionTransformer\n",
    "from sklearn.linear_model import LinearRegression, LassoCV, Ridge, ElasticNetCV, ElasticNet\n",
    "from sklearn.svm import SVR\n",
    "from sklearn.experimental import enable_hist_gradient_boosting\n",
    "from sklearn.ensemble import RandomForestRegressor, StackingRegressor, VotingRegressor\n",
    "from sklearn.metrics import mean_squared_error, r2_score, mean_absolute_error, mean_squared_log_error, make_scorer\n",
    "from sklearn.model_selection import GridSearchCV, train_test_split, cross_validate, cross_val_score, learning_curve\n",
    "from sklearn.pipeline import Pipeline\n",
    "from sklearn import set_config"
   ]
  },
  {
   "cell_type": "code",
   "execution_count": 2,
   "metadata": {},
   "outputs": [],
   "source": [
    "np.random.seed(42)\n",
    "set_config(display='diagram')\n",
    "\n",
    "plt.rcParams['figure.figsize'] = (12, 8)\n",
    "sns.set_theme(style='whitegrid')"
   ]
  },
  {
   "cell_type": "code",
   "execution_count": 3,
   "metadata": {},
   "outputs": [],
   "source": [
    "train_df = trainDf = pd.read_csv('data/train.csv')\n",
    "test_df = testDf = pd.read_csv('data/test.csv')\n",
    "\n",
    "full_df = fullDf = pd.concat([trainDf, testDf], sort=True).reset_index(drop=True)"
   ]
  },
  {
   "source": [
    "## Misc Functions"
   ],
   "cell_type": "markdown",
   "metadata": {}
  },
  {
   "cell_type": "code",
   "execution_count": 4,
   "metadata": {},
   "outputs": [],
   "source": [
    "def plot_learning_curve(estimator, X_train, y_train, cv, train_sizes=np.linspace(0.1, 1, 10)):\n",
    "    plt.style.use('seaborn-darkgrid')\n",
    "    \n",
    "    train_sizes, train_scores, test_scores = learning_curve(\n",
    "        estimator, X_train, y_train, \n",
    "        scoring='neg_mean_squared_error',\n",
    "        cv=cv, \n",
    "        n_jobs=-1, \n",
    "        train_sizes=train_sizes,\n",
    "        shuffle=True,\n",
    "        random_state=42\n",
    "        )\n",
    "    train_mean_scores = np.mean(train_scores, axis=1)\n",
    "    test_mean_scores = np.mean(test_scores, axis=1)\n",
    "\n",
    "    plt.title('Learning curve')\n",
    "    plt.plot(train_sizes, train_mean_scores, 'y', label='Train Learning curve')\n",
    "    plt.plot(train_sizes, test_mean_scores, 'b', label='Test Learning curve')\n",
    "    plt.legend()"
   ]
  },
  {
   "cell_type": "code",
   "execution_count": 5,
   "metadata": {},
   "outputs": [],
   "source": [
    "def neg_rmsle(y_true, y_pred):\n",
    "    y_pred = np.abs(y_pred)\n",
    "    \n",
    "    return -1 * np.sqrt(mean_squared_log_error(y_true, y_pred))"
   ]
  },
  {
   "cell_type": "code",
   "execution_count": 6,
   "metadata": {},
   "outputs": [],
   "source": [
    "def score_model(model, X, Y):\n",
    "    \n",
    "    scores = cross_validate(\n",
    "        model, X, Y, \n",
    "        scoring=['r2', 'neg_mean_absolute_error', 'neg_mean_squared_error'], cv=2,\n",
    "        n_jobs=-1, verbose=0)\n",
    "\n",
    "    rmsle_score = cross_val_score(model, X, Y, cv=2, scoring=make_scorer(neg_rmsle))\n",
    "\n",
    "    mse_score = -1 * scores['test_neg_mean_squared_error'].mean()\n",
    "    mse_std = scores['test_neg_mean_squared_error'].std()\n",
    "\n",
    "    mae_score = -1 * scores['test_neg_mean_absolute_error'].mean()\n",
    "    mae_std = scores['test_neg_mean_absolute_error'].std()\n",
    "\n",
    "    r2_score_mean = scores['test_r2'].mean()\n",
    "    r2_std = scores['test_r2'].std()\n",
    "\n",
    "    print('[CV] MSE: %.4f (%.4f)' % (mse_score, mse_std))\n",
    "    print('[CV] MAE: %.4f (%.4f)' % (mae_score, mae_std))\n",
    "    print('[CV] R^2: %.4f (%.4f)' % (r2_score_mean, r2_std))\n",
    "    print('[CV] RMSLE: %.6f (%.4f)' % (-1 * rmsle_score.mean(), rmsle_score.std()))"
   ]
  },
  {
   "cell_type": "code",
   "execution_count": 7,
   "metadata": {},
   "outputs": [],
   "source": [
    "def get_columns_from_transformer(column_transformer, input_colums):    \n",
    "    col_name = []\n",
    "\n",
    "    for transformer_in_columns in column_transformer.transformers_[:-1]: #the last transformer is ColumnTransformer's 'remainder'\n",
    "        raw_col_name = transformer_in_columns[2]\n",
    "        if isinstance(transformer_in_columns[1],Pipeline): \n",
    "            transformer = transformer_in_columns[1].steps[-1][1]\n",
    "        else:\n",
    "            transformer = transformer_in_columns[1]\n",
    "        try:\n",
    "            names = transformer.get_feature_names(raw_col_name)\n",
    "        except AttributeError: # if no 'get_feature_names' function, use raw column name\n",
    "            names = raw_col_name\n",
    "        if isinstance(names,np.ndarray): # eg.\n",
    "            col_name += names.tolist()\n",
    "        elif isinstance(names,list):\n",
    "            col_name += names    \n",
    "        elif isinstance(names,str):\n",
    "            col_name.append(names)\n",
    "\n",
    "    [_, _, reminder_columns] = column_transformer.transformers_[-1]\n",
    "\n",
    "    for col_idx in reminder_columns:\n",
    "        col_name.append(input_colums[col_idx])\n",
    "\n",
    "    return col_name"
   ]
  },
  {
   "source": [
    "## Data Cleaning and Preparation"
   ],
   "cell_type": "markdown",
   "metadata": {}
  },
  {
   "cell_type": "code",
   "execution_count": 8,
   "metadata": {},
   "outputs": [],
   "source": [
    "num_features = [f for f in full_df.columns if full_df.dtypes[f] != 'object']\n",
    "num_features.remove('Id')\n",
    "num_features.remove('SalePrice')\n",
    "\n",
    "cat_features = [f for f in full_df.columns if full_df.dtypes[f] == 'object']"
   ]
  },
  {
   "cell_type": "code",
   "execution_count": 9,
   "metadata": {},
   "outputs": [],
   "source": [
    "for feature in (\n",
    "    'PoolQC', \n",
    "    'FireplaceQu', \n",
    "    'Alley', \n",
    "    'Fence', \n",
    "    'MiscFeature', \n",
    "    'BsmtQual', \n",
    "    'BsmtCond', \n",
    "    'BsmtExposure', \n",
    "    'BsmtFinType1', \n",
    "    'BsmtFinType2',\n",
    "    'GarageType', \n",
    "    'GarageFinish', \n",
    "    'GarageQual', \n",
    "    'GarageCond',\n",
    "    'BsmtQual', \n",
    "    'BsmtCond', \n",
    "    'BsmtExposure', \n",
    "    'BsmtFinType1', \n",
    "    'BsmtFinType2',\n",
    "    'MasVnrType',\n",
    "    'MSSubClass',\n",
    "):\n",
    "    train_df[feature] = train_df[feature].fillna('None')\n",
    "    test_df[feature] = test_df[feature].fillna('None')\n",
    "    full_df[feature] = full_df[feature].fillna('None')\n",
    "\n",
    "for feature in (\n",
    "    'BsmtFinSF1', \n",
    "    'BsmtFinSF2', \n",
    "    'BsmtUnfSF',\n",
    "    'TotalBsmtSF', \n",
    "    'BsmtFullBath', \n",
    "    'BsmtHalfBath',\n",
    "    'MasVnrArea',\n",
    "    'GarageCars',\n",
    "    'GarageArea',\n",
    "    'GarageYrBlt',\n",
    "):\n",
    "    train_df[feature] = train_df[feature].fillna(0)\n",
    "    test_df[feature] = test_df[feature].fillna(0)\n",
    "    full_df[feature] = full_df[feature].fillna(0)\n",
    "\n",
    "for feature in (\n",
    "    'Electrical', \n",
    "    'KitchenQual', \n",
    "    'Exterior1st',\n",
    "    'Exterior2nd', \n",
    "    'SaleType',\n",
    "    'MSZoning',\n",
    "    'Utilities',\n",
    "):\n",
    "    train_df[feature] = train_df[feature].fillna(train_df[feature].mode()[0])\n",
    "    test_df[feature] = test_df[feature].fillna(test_df[feature].mode()[0])\n",
    "    full_df[feature] = full_df[feature].fillna(test_df[feature].mode()[0])\n",
    "\n",
    "train_df['Functional'] = train_df['Functional'].fillna('Typ')\n",
    "test_df['Functional'] = test_df['Functional'].fillna('Typ')\n",
    "full_df['Functional'] = full_df['Functional'].fillna('Typ')"
   ]
  },
  {
   "cell_type": "code",
   "execution_count": 10,
   "metadata": {},
   "outputs": [],
   "source": [
    "for dataframe in [train_df, test_df]:\n",
    "    dataframe['Exterior1st'].replace(['Brk Cmn', 'CmentBd', 'Wd Shng'], ['BrkComm', 'CemntBd', 'Wd Sdng'], inplace=True)\n",
    "    dataframe['Exterior2nd'].replace(['Brk Cmn', 'CmentBd', 'Wd Shng'], ['BrkComm', 'CemntBd', 'Wd Sdng'], inplace=True)"
   ]
  },
  {
   "cell_type": "code",
   "execution_count": 11,
   "metadata": {},
   "outputs": [],
   "source": [
    "ordinal_feature_mapping = {\n",
    "    'ExterQual': {'Po': 0, 'Fa': 1, 'TA': 2, 'Gd': 3, 'Ex': 4}, \n",
    "    'ExterCond': {'Po': 0, 'Fa': 1, 'TA': 2, 'Gd': 3, 'Ex': 4},\n",
    "    'BsmtQual': {'None': 0, 'Po': 1, 'Fa': 2, 'TA': 3, 'Gd': 4, 'Ex': 5},\n",
    "    'BsmtCond': {'None': 0, 'Po': 1, 'Fa': 2, 'TA': 3, 'Gd': 4, 'Ex': 5},\n",
    "    'BsmtFinType1': {'None': 0, 'Unf': 1, 'LwQ': 2, 'Rec': 3, 'BLQ': 4, 'ALQ': 5, 'GLQ': 6},\n",
    "    'BsmtFinType2': {'None': 0, 'Unf': 1, 'LwQ': 2, 'Rec': 3, 'BLQ': 4, 'ALQ': 5, 'GLQ': 6},\n",
    "    'HeatingQC': {'Po': 0, 'Fa': 1, 'TA': 2, 'Gd': 3, 'Ex': 4},\n",
    "    'KitchenQual': {'Po': 0, 'Fa': 1, 'TA': 2, 'Gd': 3, 'Ex': 4},\n",
    "    'FireplaceQu': {'None': 0, 'Po': 1, 'Fa': 2, 'TA': 3, 'Gd': 4, 'Ex': 5},\n",
    "    'GarageFinish': {'None': 0, 'Unf': 1, 'RFn': 2, 'Fin': 3},\n",
    "    'GarageQual': {'None': 0, 'Po': 1, 'Fa': 2, 'TA': 3, 'Gd': 4, 'Ex': 5},\n",
    "    'GarageCond': {'None': 0, 'Po': 1, 'Fa': 2, 'TA': 3, 'Gd': 4, 'Ex': 5},\n",
    "    'PoolQC': {'None': 0, 'Po': 1, 'Fa': 2, 'TA': 3, 'Gd': 4, 'Ex': 5},\n",
    "    'Fence': {'None': 0, 'MnWw': 1, 'GdWo': 2, 'MnPrv': 3, 'GdPrv': 4},\n",
    "    'PavedDrive': {'N': 0, 'P': 1, 'Y': 2},\n",
    "    'CentralAir': {'N': 0, 'Y': 1},\n",
    "    'Alley': {'None': 0, 'Pave': 1, 'Grvl': 2},\n",
    "    'Street': {'Pave': 0, 'Grvl': 1},\n",
    "    'Functional': {'Sal': 0, 'Sev': 1, 'Maj2': 2, 'Maj1': 3, 'Mod': 4, 'Min2': 5, 'Min1': 6, 'Typ': 7}\n",
    "}\n",
    "\n",
    "non_ordinal_cat_features = list(set(cat_features) - set(ordinal_feature_mapping.keys()))\n",
    "\n",
    "for cat_feature in non_ordinal_cat_features:\n",
    "    train_df[cat_feature + 'Enc'] = LabelEncoder().fit_transform(train_df[cat_feature])\n",
    "    test_df[cat_feature + 'Enc'] = LabelEncoder().fit_transform(test_df[cat_feature])\n",
    "\n",
    "for ordinal_feature, feature_mapping in ordinal_feature_mapping.items():\n",
    "    train_df[ordinal_feature + 'Enc'] = train_df[ordinal_feature].map(feature_mapping)\n",
    "    test_df[ordinal_feature + 'Enc'] = test_df[ordinal_feature].map(feature_mapping)"
   ]
  },
  {
   "source": [
    "### Num Feature Scaling"
   ],
   "cell_type": "markdown",
   "metadata": {}
  },
  {
   "cell_type": "code",
   "execution_count": 12,
   "metadata": {},
   "outputs": [],
   "source": [
    "# https://www.kaggle.com/serigne/stacked-regressions-top-4-on-leaderboard"
   ]
  },
  {
   "source": [
    "## Feature Engineering"
   ],
   "cell_type": "markdown",
   "metadata": {}
  },
  {
   "cell_type": "code",
   "execution_count": 13,
   "metadata": {},
   "outputs": [],
   "source": [
    "for dataframe in [train_df, test_df]:\n",
    "    dataframe['Has2ndFloor'] = dataframe['2ndFlrSF'].apply(lambda x: int(x > 0))\n",
    "    dataframe['HasBsmnt'] = dataframe['TotalBsmtSF'].apply(lambda x: int(x > 0))\n",
    "    dataframe['HasGarage'] = dataframe['GarageArea'].apply(lambda x: int(x > 0))\n",
    "    dataframe['HasPool'] = dataframe['PoolArea'].apply(lambda x: int(x > 0))\n",
    "    dataframe['HasFence'] = dataframe['Fence'].apply(lambda x: int(x != 'None'))\n",
    "    dataframe['HasFireplace'] = dataframe['Fireplaces'].apply(lambda x: int(x > 0))\n",
    "    dataframe['HasMasVnr'] = dataframe['MasVnrType'].apply(lambda x: int(x != 'None'))\n",
    "    dataframe['HasShed'] = (dataframe['MiscFeature'] == 'Shed') * 1\n",
    "\n",
    "    dataframe['HouseAge'] = dataframe['YrSold'].astype('int') - dataframe['YearBuilt'].astype('int')\n",
    "    dataframe['HouseAgeSinRemod'] = dataframe['YrSold'].astype('int') - dataframe['YearRemodAdd'].astype('int')"
   ]
  },
  {
   "cell_type": "code",
   "execution_count": 14,
   "metadata": {},
   "outputs": [],
   "source": [
    "# Remove outliers\n",
    "train_df.drop(\n",
    "    train_df[(train_df['GrLivArea'] > 4000) & (train_df['SalePrice'] < 700000)].index\n",
    ");"
   ]
  },
  {
   "cell_type": "code",
   "execution_count": 15,
   "metadata": {},
   "outputs": [],
   "source": [
    "subclassCategories = [20, 30, 40, 45, 50, 60, 70, 75, 80, 85, 90, 120, 160, 180, 190] #removed 150 class as useless during predictions\n",
    "basementFinishCategories = ['None', 'Unf', 'LwQ', 'Rec', 'BLQ', 'ALQ', 'GLQ']\n",
    "electricalCategories = ['Mix', 'FuseP', 'FuseF', 'FuseA', 'SBrkr']\n",
    "\n",
    "exteriorCategories = ['AsbShng', 'AsphShn', 'BrkComm', 'BrkFace', 'CBlock', 'CemntBd', 'HdBoard', 'ImStucc', 'MetalSd', 'Other', 'Plywood', 'PreCast', 'Stone', 'Stucco', 'VinylSd', 'Wd Sdng', 'WdShing']\n",
    "\n",
    "conditionCategories = train_df['Condition1'].unique()\n",
    "neighborhoodCategories = full_df['Neighborhood'].unique()\n",
    "saleCondCategories = full_df['SaleCondition'].unique()\n",
    "garageTypeCategories = full_df['GarageType'].unique()\n",
    "lotConfigCategories = full_df['LotConfig'].unique() # feature was removed from the model\n",
    "lotShapeCategories = full_df['LotShape'].unique()\n",
    "landSlopeCategories = full_df['LandSlope'].unique()"
   ]
  },
  {
   "cell_type": "code",
   "execution_count": 16,
   "metadata": {},
   "outputs": [],
   "source": [
    "year_built_bins = np.linspace(1871, 2010, 10) # 10 bins"
   ]
  },
  {
   "cell_type": "code",
   "execution_count": 17,
   "metadata": {},
   "outputs": [],
   "source": [
    "# Reference: https://www.kaggle.com/cerberus4229/voting-regressor-with-pipelines\n",
    "\n",
    "for dataframe in [train_df, test_df]:\n",
    "    dataframe['TotalBathrooms'] = (dataframe['FullBath'] + (0.5 * dataframe['HalfBath']) +\n",
    "                                dataframe['BsmtFullBath'] + (0.5 * dataframe['BsmtHalfBath']))\n",
    "\n",
    "    dataframe['OverallHouseQCBin'] = pd.qcut(dataframe['OverallQual'] + dataframe['OverallCond'], q=3, labels=[0, 1, 2])\n",
    "    dataframe['IsPavedDrive'] = (dataframe['PavedDrive'] == 'Y') * 1\n",
    "    dataframe['IsNeighborhoodElite'] = (dataframe['Neighborhood'].isin(['NridgHt', 'CollgeCr', 'Crawfor', 'StoreBr', 'Timber'])) * 1 \n",
    "    dataframe['YearBuiltBin'] = pd.cut(dataframe['YearBuilt'], bins=year_built_bins, labels=range(1, 10)) \n",
    "    dataframe['KitchenQCBin'] = pd.cut(dataframe['KitchenQualEnc'] * dataframe['KitchenAbvGr'], [-1, 2, 7], labels=[0, 1])\n",
    "\n",
    "    dataframe['IsFunctional'] = (dataframe['Functional'] == 'Typ') * 1\n",
    "    dataframe['FunctionalGroup'] = dataframe['Functional'].map({\n",
    "        'Typ': 2,\n",
    "        'Min1': 1,\n",
    "        'Min2': 1,\n",
    "        'Mod': 1,\n",
    "        'Maj1': 0,\n",
    "        'Maj2': 0,\n",
    "        'Sev': 0,\n",
    "        'Sav': 0,\n",
    "    })\n",
    "\n",
    "    dataframe['IsModernHouseType'] = dataframe['MSSubClass'].map(\n",
    "        {20: 1, 30: 0, 40: 0, 45: 0,50: 0, 60: 1, 70: 0, 75: 0, 80: 0, 85: 0, 90: 0, 120: 1, 150: 0, 160: 0, 180: 0, 190: 0}\n",
    "    )\n",
    "    dataframe['IsLandFlat'] = (dataframe['LandContour'] == 'Lvl') * 1\n",
    "    dataframe['IsNewHouseSold'] = (full_df['YearBuilt'] == full_df['YrSold'].astype(int)) * 1\n",
    "\n",
    "    dataframe['IsExterCondGood'] = dataframe['ExterCond'].map({'Po': 0, 'Fa': 0, 'TA': 1, 'Gd': 1, 'Ex': 1})\n",
    "\n",
    "    dataframe['IsGasHeating'] = dataframe['Heating'].map({'GasA': 1, 'GasW': 1, 'Grav': 0, 'Wall': 0, 'OthW': 0, 'Floor': 0})\n",
    "    dataframe['IsHeatingGood'] = dataframe['HeatingQC'].map({'Po': 0, 'Fa': 0, 'TA': 0, 'Gd': 1, 'Ex': 1})\n",
    "\n",
    "    dataframe['IsNewElectrBreakers'] = dataframe['Electrical'].map({'SBrkr': 1, 'FuseF': 0, 'FuseA': 0, 'FuseP': 0, 'Mix': 0})\n",
    "\n",
    "    dataframe['IsGarageCondGood'] = dataframe['GarageCond'].map({'None': 0, 'Po': 0, 'Fa': 0, 'TA': 1, 'Gd': 1, 'Ex': 1})\n",
    "    dataframe['IsGarageQualGood'] = dataframe['GarageQual'].map({'None': 0, 'Po': 0, 'Fa': 0, 'TA': 1, 'Gd': 1, 'Ex': 1})"
   ]
  },
  {
   "cell_type": "code",
   "execution_count": 18,
   "metadata": {},
   "outputs": [],
   "source": [
    "# https://www.kaggle.com/humananalog/xgboost-lasso"
   ]
  },
  {
   "cell_type": "code",
   "execution_count": 19,
   "metadata": {},
   "outputs": [],
   "source": [
    "baseline_features = [\n",
    "    '1stFlrSF',\n",
    "    '2ndFlrSF',\n",
    "    'BsmtFinSF1', \n",
    "    'BsmtFinSF2',\n",
    "    'BsmtUnfSF', \n",
    "    'BsmtFinType1Enc',\n",
    "    'BsmtFinType2Enc',\n",
    "    'OverallQual',\n",
    "    'GarageCars',\n",
    "    'OverallCond', \n",
    "    'Neighborhood',\n",
    "    'MSSubClass', \n",
    "    'LotShape',\n",
    "    'LandSlope',\n",
    "    'BsmtCondEnc',\n",
    "    'BsmtQualEnc', \n",
    "    'SaleCondition',\n",
    "    'CentralAirEnc',\n",
    "    'Condition1',\n",
    "    'Condition2',\n",
    "    'TotalBathrooms',\n",
    "    'GarageFinishEnc',\n",
    "    'KitchenQualEnc',\n",
    "    'BedroomAbvGr',\n",
    "    'MSZoning',\n",
    "    'ExterQualEnc',\n",
    "    'IsNewHouseSold',\n",
    "    'LandContour',\n",
    "    'HasFireplace',\n",
    "    'FunctionalGroup',\n",
    "    'HouseAge',\n",
    "    'FenceEnc',\n",
    "    'IsModernHouseType',\n",
    "    'IsGasHeating',\n",
    "    'IsHeatingGood',\n",
    "    'IsNewElectrBreakers',\n",
    "    'IsGarageCondGood',\n",
    "]\n",
    "\n",
    "X = train_df[baseline_features]\n",
    "Y = train_df['SalePrice']"
   ]
  },
  {
   "source": [
    "## Modeling"
   ],
   "cell_type": "markdown",
   "metadata": {}
  },
  {
   "cell_type": "code",
   "execution_count": 20,
   "metadata": {},
   "outputs": [],
   "source": [
    "# Build feature transformer\n",
    "\n",
    "logTransformer = FunctionTransformer(func=np.log1p, inverse_func=np.expm1)\n",
    "\n",
    "featureTransformer = ColumnTransformer([\n",
    "        ('basement_area_log', logTransformer, ['BsmtFinSF1', 'BsmtFinSF2']),\n",
    "        ('neighborhood_onehot', OneHotEncoder(categories=[neighborhoodCategories]), ['Neighborhood']),\n",
    "        ('subclass_onehot', OneHotEncoder(categories=[subclassCategories], handle_unknown='ignore'), ['MSSubClass']),\n",
    "        ('lot_shape_onehot', OneHotEncoder(categories=[lotShapeCategories]), ['LotShape']),\n",
    "        ('land_slope_onehot', OneHotEncoder(categories=[landSlopeCategories]), ['LandSlope']),\n",
    "        ('sale_condtion_onehot', OneHotEncoder(categories=[saleCondCategories]), ['SaleCondition']),\n",
    "        ('land_contour_onehot', OneHotEncoder(), ['LandContour']),\n",
    "        ('zoning_onehot', OneHotEncoder(), ['MSZoning']),\n",
    "        ('condition_onehot', OneHotEncoder(categories=[conditionCategories, conditionCategories]), ['Condition1', 'Condition2']), #\n",
    "    ],\n",
    "    remainder='passthrough'\n",
    ")"
   ]
  },
  {
   "source": [
    "### ElasticNet"
   ],
   "cell_type": "markdown",
   "metadata": {}
  },
  {
   "cell_type": "code",
   "execution_count": 21,
   "metadata": {},
   "outputs": [
    {
     "output_type": "stream",
     "name": "stdout",
     "text": [
      "ElasticNet:\n",
      "[CV] MSE: 1150923354.3766 (87801540.7922)\n",
      "[CV] MAE: 20095.1045 (572.0815)\n",
      "[CV] R^2: 0.8158 (0.0254)\n",
      "[CV] RMSLE: 0.190375 (0.0260)\n",
      "CPU times: user 776 ms, sys: 572 ms, total: 1.35 s\n",
      "Wall time: 1.23 s\n"
     ]
    }
   ],
   "source": [
    "%%time\n",
    "\n",
    "elasticnet_model = ElasticNet(\n",
    "    alpha=0.5,\n",
    "    l1_ratio=0.8,\n",
    "    random_state=42,\n",
    ")\n",
    "\n",
    "elasticnet_pipeline = Pipeline([\n",
    "    ('preprocessing', featureTransformer),\n",
    "    ('elasticnet', elasticnet_model)\n",
    "])\n",
    "\n",
    "print('ElasticNet:')\n",
    "score_model(elasticnet_pipeline, X, Y)"
   ]
  },
  {
   "cell_type": "code",
   "execution_count": 22,
   "metadata": {},
   "outputs": [],
   "source": [
    "parameters = {\n",
    "    'elasticnet__alpha': [9e-4, 7e-4, 5e-4, 3e-4, 1e-4, 1e-3, 5e-2, 1e-2, 0.1, 0.5, 1, 2, 5],\n",
    "    'elasticnet__l1_ratio': [0.01, 0.1, 0.2, 0.3, 0.5, 0.6, 0.7, 0.8, 1],\n",
    "}\n",
    "\n",
    "paramSearch = GridSearchCV(\n",
    "  estimator=elasticnet_pipeline,\n",
    "  scoring='neg_mean_squared_error',\n",
    "  param_grid=parameters, \n",
    "  cv=2,\n",
    "  n_jobs=-1, \n",
    "  verbose=3\n",
    ")\n",
    "\n",
    "#paramSearch.fit(X, Y)\n",
    "#paramSearch.best_params_, paramSearch.best_score_"
   ]
  },
  {
   "source": [
    "### Ridge"
   ],
   "cell_type": "markdown",
   "metadata": {}
  },
  {
   "cell_type": "code",
   "execution_count": 23,
   "metadata": {},
   "outputs": [],
   "source": [
    "# https://www.kaggle.com/marktsvirko/votingregressor-xgb-svm-top-10"
   ]
  },
  {
   "cell_type": "code",
   "execution_count": 24,
   "metadata": {},
   "outputs": [
    {
     "output_type": "stream",
     "name": "stdout",
     "text": [
      "Ridge:\n",
      "[CV] MSE: 1364979311.6467 (87529941.0642)\n",
      "[CV] MAE: 22097.8745 (441.4053)\n",
      "[CV] R^2: 0.7817 (0.0275)\n",
      "[CV] RMSLE: 0.177030 (0.0002)\n",
      "CPU times: user 1.18 s, sys: 819 ms, total: 1.99 s\n",
      "Wall time: 796 ms\n"
     ]
    }
   ],
   "source": [
    "%%time\n",
    "\n",
    "ridge_model = Ridge(\n",
    "        solver='auto',\n",
    "        alpha=522,\n",
    "        random_state=42,\n",
    "    )\n",
    "\n",
    "ridge_pipeline = Pipeline([\n",
    "    ('preprocessing', featureTransformer),\n",
    "    ('ridge', ridge_model),\n",
    "])\n",
    "\n",
    "print('Ridge:')\n",
    "score_model(ridge_pipeline, X, Y)"
   ]
  },
  {
   "cell_type": "code",
   "execution_count": 25,
   "metadata": {},
   "outputs": [],
   "source": [
    "parameters = {\n",
    "    'ridge__solver': ['auto', 'saga', 'sag', 'cholesky'],\n",
    "    'ridge__alpha': [510, 519, 520, 522, 530],\n",
    "}\n",
    "\n",
    "paramSearch = GridSearchCV(\n",
    "  estimator=ridge_pipeline,\n",
    "  scoring=make_scorer(neg_rmsle),\n",
    "  param_grid=parameters, \n",
    "  cv=2,\n",
    "  n_jobs=-1, \n",
    "  verbose=3\n",
    ")\n",
    "\n",
    "#paramSearch.fit(X, Y)\n",
    "#paramSearch.best_params_, paramSearch.best_score_"
   ]
  },
  {
   "source": [
    "### SVR"
   ],
   "cell_type": "markdown",
   "metadata": {}
  },
  {
   "cell_type": "code",
   "execution_count": 26,
   "metadata": {},
   "outputs": [
    {
     "output_type": "stream",
     "name": "stdout",
     "text": [
      "SVR:\n",
      "[CV] MSE: 1327083528.8408 (22890003.6371)\n",
      "[CV] MAE: 20512.9251 (883.1015)\n",
      "[CV] R^2: 0.7884 (0.0168)\n",
      "[CV] RMSLE: 0.161791 (0.0082)\n",
      "CPU times: user 18.4 s, sys: 791 ms, total: 19.2 s\n",
      "Wall time: 29.3 s\n"
     ]
    }
   ],
   "source": [
    "%%time\n",
    "\n",
    "svr_model = SVR(\n",
    "    kernel='linear',\n",
    "    C=200\n",
    ")\n",
    "\n",
    "svr_pipeline = Pipeline([\n",
    "    ('preprocessing', featureTransformer),\n",
    "    ('svr', svr_model),\n",
    "])\n",
    "\n",
    "print('SVR:')\n",
    "score_model(svr_pipeline, X, Y)"
   ]
  },
  {
   "cell_type": "code",
   "execution_count": 27,
   "metadata": {},
   "outputs": [],
   "source": [
    "parameters = {\n",
    "    'svr__C': [1, 20, 50, 100, 120, 150, 200],\n",
    "    'svr__kernel': ['linear'],\n",
    "    #'svr__tol': [1e-3, 1e-5, 1e-4, 1e-2, 0.1]\n",
    "}\n",
    "\n",
    "paramSearch = GridSearchCV(\n",
    "   estimator=svr_pipeline,\n",
    "   scoring=make_scorer(neg_rmsle),\n",
    "   param_grid=parameters,\n",
    "   cv=2,\n",
    "   n_jobs=-1, \n",
    "   verbose=3\n",
    ")\n",
    "\n",
    "#paramSearch.fit(X, Y)\n",
    "#paramSearch.best_params_, paramSearch.best_score_"
   ]
  },
  {
   "source": [
    "### Random Forest"
   ],
   "cell_type": "markdown",
   "metadata": {}
  },
  {
   "cell_type": "code",
   "execution_count": 28,
   "metadata": {},
   "outputs": [
    {
     "output_type": "stream",
     "name": "stdout",
     "text": [
      "RandomForest Regressor:\n",
      "[CV] MSE: 1228388356.1029 (9688506.9967)\n",
      "[CV] MAE: 20692.3891 (680.9268)\n",
      "[CV] R^2: 0.8042 (0.0138)\n",
      "[CV] RMSLE: 0.168665 (0.0064)\n",
      "CPU times: user 6.4 s, sys: 35.6 ms, total: 6.44 s\n",
      "Wall time: 10.3 s\n"
     ]
    }
   ],
   "source": [
    "%%time\n",
    "\n",
    "random_forest_model = RandomForestRegressor(\n",
    "        bootstrap=True,\n",
    "        max_depth=15,\n",
    "        max_features='sqrt',\n",
    "        max_leaf_nodes=None,\n",
    "        max_samples=None,\n",
    "        min_samples_leaf=5,\n",
    "        min_samples_split=5,\n",
    "        n_estimators=2500,\n",
    "        random_state=42,\n",
    "    )\n",
    "\n",
    "random_forest_pipeline = Pipeline([\n",
    "    ('preprocessing', featureTransformer),\n",
    "    ('random_forest', random_forest_model),\n",
    "])\n",
    "\n",
    "# Measure performance\n",
    "\n",
    "print('RandomForest Regressor:')\n",
    "score_model(random_forest_pipeline, X, Y)\n",
    "\n",
    "## RF(max_depth=25, max_features='sqrt', min_samples_leaf=1, min_samples_split=2, n_estimators=1000)\n",
    "## CV=2, 0.15007\n",
    "#[CV] MSE: 889831012.8445 (46061331.0130)\n",
    "#[CV] MAE: 17721.0043 (817.3113)\n",
    "#[CV] R^2: 0.8587 (0.0015)"
   ]
  },
  {
   "cell_type": "code",
   "execution_count": 29,
   "metadata": {},
   "outputs": [
    {
     "output_type": "execute_result",
     "data": {
      "text/plain": [
       "[(0.15117490620300084, 'OverallQual'),\n",
       " (0.0948622794398425, 'GarageCars'),\n",
       " (0.0838433866770769, '1stFlrSF'),\n",
       " (0.08377290233491945, 'ExterQualEnc'),\n",
       " (0.06644820505676527, 'KitchenQualEnc'),\n",
       " (0.0654963868240465, 'TotalBathrooms'),\n",
       " (0.06056863435155865, 'BsmtQualEnc'),\n",
       " (0.06000557768299039, 'HouseAge'),\n",
       " (0.04537504786580666, 'BsmtFinSF1'),\n",
       " (0.0423112429424897, '2ndFlrSF'),\n",
       " (0.03211670348813611, 'GarageFinishEnc'),\n",
       " (0.03157562446000316, 'HasFireplace'),\n",
       " (0.019505635723511137, 'BsmtFinType1Enc'),\n",
       " (0.01495513852943982, 'MSSubClass_60'),\n",
       " (0.01468106514622963, 'Neighborhood_NridgHt'),\n",
       " (0.014396347984923018, 'BsmtUnfSF'),\n",
       " (0.010960696815487156, 'IsModernHouseType'),\n",
       " (0.010809062079738765, 'BedroomAbvGr'),\n",
       " (0.010790572810898366, 'Neighborhood_NoRidge'),\n",
       " (0.007898654278570854, 'SaleCondition_Partial'),\n",
       " (0.007666480207141752, 'IsHeatingGood'),\n",
       " (0.005875421697395013, 'OverallCond'),\n",
       " (0.0057193608436249465, 'MSZoning_RM'),\n",
       " (0.004779292523094259, 'LotShape_Reg'),\n",
       " (0.004729017448231839, 'IsGarageCondGood'),\n",
       " (0.004108767558478434, 'MSZoning_RL'),\n",
       " (0.0039005621307783254, 'IsGarageQualGood'),\n",
       " (0.003127554339824142, 'CentralAirEnc'),\n",
       " (0.0028925342692725, 'MSSubClass_30'),\n",
       " (0.0026578427781652867, 'LotShape_IR1'),\n",
       " (0.002239816168429793, 'MSSubClass_20'),\n",
       " (0.002067212131007981, 'SaleCondition_Normal'),\n",
       " (0.0016717848282972816, 'Neighborhood_Crawfor'),\n",
       " (0.001600348855184193, 'IsNewElectrBreakers'),\n",
       " (0.0015655834491390905, 'Neighborhood_StoneBr'),\n",
       " (0.001516729319935319, 'BsmtCondEnc'),\n",
       " (0.0013213716067093846, 'IsNewHouseSold'),\n",
       " (0.0012317378817491933, 'LandContour_Lvl'),\n",
       " (0.00121599623015214, 'Neighborhood_NAmes'),\n",
       " (0.0011769468164013709, 'LandSlope_Gtl'),\n",
       " (0.0010855233252450413, 'MSSubClass_160'),\n",
       " (0.001029660978748258, 'Neighborhood_Somerst'),\n",
       " (0.0009709237564271559, 'MSSubClass_120'),\n",
       " (0.0009297724650428644, 'FenceEnc'),\n",
       " (0.0008598057332910347, 'Neighborhood_CollgCr'),\n",
       " (0.0007755470042027367, 'Neighborhood_Gilbert'),\n",
       " (0.0007507278392466497, 'Neighborhood_OldTown'),\n",
       " (0.0007313376149543095, 'BsmtFinType2Enc'),\n",
       " (0.0006869784533713227, 'BsmtFinSF2'),\n",
       " (0.0006261381126211874, 'MSSubClass_70'),\n",
       " (0.0006205805518656234, 'Neighborhood_NWAmes'),\n",
       " (0.0005944763683671727, 'Condition1_Norm'),\n",
       " (0.0005556285678905094, 'Neighborhood_Edwards'),\n",
       " (0.0005494255589023774, 'LandSlope_Mod'),\n",
       " (0.000465070966641497, 'MSZoning_FV'),\n",
       " (0.00042120285997945464, 'MSSubClass_90'),\n",
       " (0.00040955913798899424, 'Neighborhood_ClearCr'),\n",
       " (0.0003989793463030521, 'LotShape_IR2'),\n",
       " (0.00039265796171336485, 'SaleCondition_Abnorml'),\n",
       " (0.000380758171069014, 'LandContour_HLS'),\n",
       " (0.00037721652155821284, 'LandContour_Low'),\n",
       " (0.0003735296894289378, 'Neighborhood_IDOTRR'),\n",
       " (0.0003590540296513698, 'FunctionalGroup'),\n",
       " (0.0003113914453941663, 'MSSubClass_50'),\n",
       " (0.0002813343839347136, 'Neighborhood_Timber'),\n",
       " (0.00028098044806147633, 'Neighborhood_Sawyer'),\n",
       " (0.0002335979695453934, 'Neighborhood_MeadowV'),\n",
       " (0.00019592442762193172, 'Neighborhood_Blmngtn'),\n",
       " (0.00017888961227833174, 'Neighborhood_Mitchel'),\n",
       " (0.0001661056967916368, 'MSSubClass_80'),\n",
       " (0.00016545463960882008, 'Condition1_Feedr'),\n",
       " (0.00013741031509810465, 'MSZoning_C (all)'),\n",
       " (0.00013616440262507814, 'Neighborhood_SawyerW'),\n",
       " (0.00013503528055704763, 'MSSubClass_75'),\n",
       " (0.00012741278299824334, 'Neighborhood_BrDale'),\n",
       " (0.00011521842569629356, 'Condition1_Artery'),\n",
       " (8.610810336328082e-05, 'Neighborhood_BrkSide'),\n",
       " (8.277868449730613e-05, 'IsGasHeating'),\n",
       " (8.101051840391536e-05, 'MSSubClass_180'),\n",
       " (8.024969470168599e-05, 'LandContour_Bnk'),\n",
       " (6.665766484648496e-05, 'LandSlope_Sev'),\n",
       " (3.9048364301015206e-05, 'MSSubClass_190'),\n",
       " (2.619466647885626e-05, 'Neighborhood_SWISU'),\n",
       " (2.043008190707064e-05, 'Condition1_PosN'),\n",
       " (1.806739552551036e-05, 'Neighborhood_Veenker'),\n",
       " (1.6137536185481087e-05, 'Condition1_RRAn'),\n",
       " (1.594848446696676e-05, 'MSSubClass_85'),\n",
       " (1.2266389239151023e-05, 'Condition1_PosA'),\n",
       " (7.435712336590654e-06, 'MSZoning_RH'),\n",
       " (6.783270908787345e-06, 'Neighborhood_NPkVill'),\n",
       " (5.703607013401556e-06, 'LotShape_IR3'),\n",
       " (5.033568692529146e-06, 'Condition2_Norm'),\n",
       " (2.4682637521694963e-06, 'MSSubClass_45'),\n",
       " (2.043072262173656e-06, 'SaleCondition_Alloca'),\n",
       " (1.8737085702813747e-06, 'SaleCondition_Family'),\n",
       " (1.854589378930221e-06, 'Condition1_RRAe'),\n",
       " (0.0, 'SaleCondition_AdjLand'),\n",
       " (0.0, 'Neighborhood_Blueste'),\n",
       " (0.0, 'MSSubClass_40'),\n",
       " (0.0, 'Condition2_RRNn'),\n",
       " (0.0, 'Condition2_RRNe'),\n",
       " (0.0, 'Condition2_RRAn'),\n",
       " (0.0, 'Condition2_RRAe'),\n",
       " (0.0, 'Condition2_PosN'),\n",
       " (0.0, 'Condition2_PosA'),\n",
       " (0.0, 'Condition2_Feedr'),\n",
       " (0.0, 'Condition2_Artery'),\n",
       " (0.0, 'Condition1_RRNn'),\n",
       " (0.0, 'Condition1_RRNe')]"
      ]
     },
     "metadata": {},
     "execution_count": 29
    }
   ],
   "source": [
    "random_forest_pipeline.fit(X, Y)\n",
    "\n",
    "X_columns = get_columns_from_transformer(random_forest_pipeline.named_steps['preprocessing'], list(X.columns))\n",
    "\n",
    "features_list = sorted(zip(random_forest_pipeline.named_steps['random_forest'].feature_importances_, X_columns), reverse=True)\n",
    "random_forest_pipeline.named_steps['preprocessing'].transformers_\n",
    "\n",
    "features_list"
   ]
  },
  {
   "cell_type": "code",
   "execution_count": 30,
   "metadata": {},
   "outputs": [],
   "source": [
    "from skopt import BayesSearchCV\n",
    "from skopt.space import Real, Categorical, Integer\n",
    "from skopt.plots import plot_objective, plot_histogram\n",
    "\n",
    "parameters = {\n",
    "    'random_forest__max_depth': [None, 15,  20, 25],\n",
    "    'random_forest__max_features': ['sqrt'],\n",
    "    'random_forest__max_leaf_nodes': [None, 5, 15, 17, 20],\n",
    "    'random_forest__min_samples_leaf': [1, 2, 3],\n",
    "    'random_forest__min_samples_split': [2, 1, 3],\n",
    "    'random_forest__max_samples': [None, 2, 5],\n",
    "    'random_forest__n_estimators': [1500, 2000, 2500]\n",
    "}\n",
    "\n",
    "paramSearch = GridSearchCV(\n",
    "  estimator=random_forest_pipeline,\n",
    "  scoring=make_scorer(neg_rmsle),\n",
    "  param_grid=parameters, \n",
    "  cv=2,\n",
    "  n_jobs=-1, \n",
    "  verbose=3\n",
    ")\n",
    "\n",
    "#paramSearch.fit(X, Y)\n",
    "#paramSearch.best_params_, paramSearch.best_score_"
   ]
  },
  {
   "cell_type": "code",
   "execution_count": 31,
   "metadata": {},
   "outputs": [],
   "source": [
    "#plot_learning_curve(random_forest_pipeline, X, Y, cv=3)"
   ]
  },
  {
   "source": [
    "### XGBoostRegressor"
   ],
   "cell_type": "markdown",
   "metadata": {}
  },
  {
   "cell_type": "code",
   "execution_count": 32,
   "metadata": {},
   "outputs": [
    {
     "output_type": "stream",
     "name": "stdout",
     "text": [
      "XGB Regressor:\n",
      "[CV] MSE: 733667739.0915 (10905531.2072)\n",
      "[CV] MAE: 15626.7237 (277.9715)\n",
      "[CV] R^2: 0.8830 (0.0090)\n",
      "[CV] RMSLE: 0.124743 (0.0046)\n",
      "CPU times: user 1min 24s, sys: 1.32 s, total: 1min 26s\n",
      "Wall time: 15.7 s\n"
     ]
    }
   ],
   "source": [
    "%%time\n",
    "\n",
    "from xgboost import XGBRegressor\n",
    "\n",
    "xgb_model = XGBRegressor(\n",
    "        max_depth=5,\n",
    "        n_estimators=7050,\n",
    "        learning_rate=0.01,\n",
    "        min_child_weight=1.5,\n",
    "        subsample=0.2,\n",
    "        gamma=0,\n",
    "        reg_alpha=1,\n",
    "        reg_lambda=0.1,\n",
    "        objective='reg:gamma',\n",
    "        booster='gbtree'\n",
    "    )\n",
    "\n",
    "xgb_pipeline = Pipeline([\n",
    "    ('preprocessing', featureTransformer),\n",
    "    ('xgb_regressor', xgb_model),\n",
    "])\n",
    "\n",
    "# Measure Performance\n",
    "\n",
    "print('XGB Regressor:')\n",
    "score_model(xgb_pipeline, X, Y)"
   ]
  },
  {
   "cell_type": "code",
   "execution_count": 33,
   "metadata": {},
   "outputs": [
    {
     "output_type": "execute_result",
     "data": {
      "text/plain": [
       "[(0.096720375, 'OverallQual'),\n",
       " (0.059152983, 'ExterQualEnc'),\n",
       " (0.05659346, 'GarageCars'),\n",
       " (0.05208946, 'TotalBathrooms'),\n",
       " (0.03948738, 'KitchenQualEnc'),\n",
       " (0.036655698, 'HasFireplace'),\n",
       " (0.035285857, 'MSZoning_C (all)'),\n",
       " (0.024624351, 'CentralAirEnc'),\n",
       " (0.022501338, 'IsGasHeating'),\n",
       " (0.022205297, 'BsmtQualEnc'),\n",
       " (0.02130779, 'IsGarageCondGood'),\n",
       " (0.018981446, '1stFlrSF'),\n",
       " (0.018862706, 'MSSubClass_30'),\n",
       " (0.01606287, 'BsmtFinSF1'),\n",
       " (0.014789146, 'MSSubClass_180'),\n",
       " (0.013546919, 'SaleCondition_Family'),\n",
       " (0.013349009, 'IsGarageQualGood'),\n",
       " (0.012659141, 'GarageFinishEnc'),\n",
       " (0.012042981, '2ndFlrSF'),\n",
       " (0.011713344, 'LotShape_IR3'),\n",
       " (0.011368202, 'Neighborhood_IDOTRR'),\n",
       " (0.009729726, 'MSZoning_RM'),\n",
       " (0.009356637, 'SaleCondition_Abnorml'),\n",
       " (0.009229736, 'MSSubClass_60'),\n",
       " (0.009176261, 'SaleCondition_Alloca'),\n",
       " (0.008843296, 'MSSubClass_45'),\n",
       " (0.008817027, 'Condition2_Norm'),\n",
       " (0.008086206, 'Neighborhood_MeadowV'),\n",
       " (0.008039127, 'Condition1_PosN'),\n",
       " (0.007655591, 'OverallCond'),\n",
       " (0.0074995654, 'Neighborhood_OldTown'),\n",
       " (0.0074849576, 'Neighborhood_BrDale'),\n",
       " (0.0074538863, 'Neighborhood_Blmngtn'),\n",
       " (0.006900259, 'Condition2_Feedr'),\n",
       " (0.0068929447, 'Neighborhood_Edwards'),\n",
       " (0.006644748, 'Condition1_RRAe'),\n",
       " (0.006511297, 'IsHeatingGood'),\n",
       " (0.0064120204, 'Condition1_Feedr'),\n",
       " (0.0063282363, 'Condition1_Artery'),\n",
       " (0.0062759123, 'LotShape_Reg'),\n",
       " (0.0062518734, 'SaleCondition_Normal'),\n",
       " (0.006169366, 'MSSubClass_90'),\n",
       " (0.0060357805, 'FunctionalGroup'),\n",
       " (0.0058352523, 'MSSubClass_190'),\n",
       " (0.005793106, 'MSSubClass_160'),\n",
       " (0.0056679957, 'SaleCondition_Partial'),\n",
       " (0.005472315, 'LandContour_Bnk'),\n",
       " (0.005448804, 'Condition1_Norm'),\n",
       " (0.005391118, 'HouseAge'),\n",
       " (0.0052972445, 'MSZoning_RH'),\n",
       " (0.0050592143, 'MSZoning_RL'),\n",
       " (0.0049453136, 'BsmtFinType1Enc'),\n",
       " (0.004865276, 'BedroomAbvGr'),\n",
       " (0.0048302566, 'Neighborhood_NAmes'),\n",
       " (0.004681405, 'SaleCondition_AdjLand'),\n",
       " (0.004625526, 'MSSubClass_75'),\n",
       " (0.004618788, 'BsmtCondEnc'),\n",
       " (0.0044670366, 'IsNewElectrBreakers'),\n",
       " (0.004420864, 'MSSubClass_120'),\n",
       " (0.0044088652, 'LandContour_Low'),\n",
       " (0.0043262816, 'LandSlope_Gtl'),\n",
       " (0.0043034465, 'Neighborhood_Sawyer'),\n",
       " (0.004117322, 'LandContour_Lvl'),\n",
       " (0.0040575904, 'Condition1_PosA'),\n",
       " (0.0039463937, 'MSSubClass_20'),\n",
       " (0.0039407117, 'BsmtUnfSF'),\n",
       " (0.0038380462, 'Neighborhood_NWAmes'),\n",
       " (0.003820612, 'Neighborhood_CollgCr'),\n",
       " (0.0037528358, 'IsNewHouseSold'),\n",
       " (0.0037176912, 'MSSubClass_80'),\n",
       " (0.0037039714, 'Neighborhood_Crawfor'),\n",
       " (0.0036325569, 'Neighborhood_SWISU'),\n",
       " (0.0036017133, 'Neighborhood_NPkVill'),\n",
       " (0.003569128, 'Neighborhood_Somerst'),\n",
       " (0.0035445497, 'Neighborhood_SawyerW'),\n",
       " (0.003532541, 'Neighborhood_BrkSide'),\n",
       " (0.003525381, 'FenceEnc'),\n",
       " (0.003453372, 'Neighborhood_Timber'),\n",
       " (0.0034511639, 'Neighborhood_ClearCr'),\n",
       " (0.0034427966, 'LandSlope_Sev'),\n",
       " (0.0033712578, 'BsmtFinType2Enc'),\n",
       " (0.0033409032, 'Condition2_RRNn'),\n",
       " (0.0033406788, 'BsmtFinSF2'),\n",
       " (0.0032958696, 'IsModernHouseType'),\n",
       " (0.0032925657, 'MSSubClass_40'),\n",
       " (0.0032838145, 'MSSubClass_50'),\n",
       " (0.0032598465, 'MSSubClass_70'),\n",
       " (0.0032026647, 'LotShape_IR2'),\n",
       " (0.0031704258, 'Neighborhood_NridgHt'),\n",
       " (0.0031518743, 'Neighborhood_Gilbert'),\n",
       " (0.003121078, 'LotShape_IR1'),\n",
       " (0.0031179544, 'LandContour_HLS'),\n",
       " (0.003113062, 'Neighborhood_NoRidge'),\n",
       " (0.0030657602, 'Condition1_RRAn'),\n",
       " (0.0030568377, 'MSZoning_FV'),\n",
       " (0.0030294626, 'Neighborhood_StoneBr'),\n",
       " (0.0029168653, 'Neighborhood_Mitchel'),\n",
       " (0.002597232, 'LandSlope_Mod'),\n",
       " (0.0024235863, 'Neighborhood_Veenker'),\n",
       " (0.0018596393, 'MSSubClass_85'),\n",
       " (0.0009061402, 'Condition1_RRNn'),\n",
       " (0.0007681967, 'Condition1_RRNe'),\n",
       " (0.00041358886, 'Neighborhood_Blueste'),\n",
       " (0.0, 'Condition2_RRNe'),\n",
       " (0.0, 'Condition2_RRAn'),\n",
       " (0.0, 'Condition2_RRAe'),\n",
       " (0.0, 'Condition2_PosN'),\n",
       " (0.0, 'Condition2_PosA'),\n",
       " (0.0, 'Condition2_Artery')]"
      ]
     },
     "metadata": {},
     "execution_count": 33
    }
   ],
   "source": [
    "xgb_pipeline.fit(X, Y)\n",
    "X_columns = get_columns_from_transformer(xgb_pipeline.named_steps['preprocessing'], list(X.columns))\n",
    "\n",
    "features_list = sorted(zip(xgb_pipeline.named_steps['xgb_regressor'].feature_importances_, X_columns), reverse=True)\n",
    "features_list"
   ]
  },
  {
   "cell_type": "code",
   "execution_count": 34,
   "metadata": {},
   "outputs": [],
   "source": [
    "parameters = {\n",
    "    'xgb_regressor__objective': ['reg:gamma'], # 'reg:squarederror', 'reg:squaredlogerror'\n",
    "    'xgb_regressor__learning_rate': [0.01],\n",
    "    'xgb_regressor__n_estimators': [6900, 7000, 7100],\n",
    "    'xgb_regressor__max_depth': [5],\n",
    "    'xgb_regressor__booster': ['gbtree'],\n",
    "    'xgb_regressor__min_child_weight': [1.5],\n",
    "    'xgb_regressor__gamma': [0],\n",
    "    'xgb_regressor__subsample': [0.2],\n",
    "    'xgb_regressor__reg_alpha': [1],\n",
    "    'xgb_regressor__reg_lambda': [0.1],\n",
    "}\n",
    "\n",
    "paramSearch = GridSearchCV(\n",
    "   estimator=xgb_pipeline,\n",
    "   scoring=make_scorer(neg_rmsle),\n",
    "   param_grid=parameters,\n",
    "   cv=2,\n",
    "   n_jobs=-1, \n",
    "   verbose=3\n",
    ")\n",
    "\n",
    "#paramSearch.fit(X, Y)\n",
    "#paramSearch.best_params_, paramSearch.best_score_"
   ]
  },
  {
   "source": [
    "### StackingRegressor"
   ],
   "cell_type": "markdown",
   "metadata": {}
  },
  {
   "cell_type": "code",
   "execution_count": 35,
   "metadata": {},
   "outputs": [],
   "source": [
    "# https://www.kaggle.com/lavanyashukla01/how-i-made-top-0-3-on-a-kaggle-competition"
   ]
  },
  {
   "cell_type": "code",
   "execution_count": 36,
   "metadata": {},
   "outputs": [
    {
     "output_type": "stream",
     "name": "stdout",
     "text": [
      "Stacking Regressor:\n",
      "[CV] MSE: 783189547.9392 (49673330.6053)\n",
      "[CV] MAE: 16223.6705 (156.5259)\n",
      "[CV] R^2: 0.8747 (0.0157)\n",
      "[CV] RMSLE: 0.132519 (0.0020)\n",
      "CPU times: user 7.94 s, sys: 744 ms, total: 8.68 s\n",
      "Wall time: 1min 3s\n"
     ]
    }
   ],
   "source": [
    "%%time\n",
    "\n",
    "stacking_final_model = XGBRegressor()\n",
    "\n",
    "stacking_model = StackingRegressor(\n",
    "    estimators=[\n",
    "        ('xgb', xgb_model),\n",
    "        ('random_forest', random_forest_model),\n",
    "        ('elasticnet', elasticnet_model),\n",
    "        ('ridge', ridge_model),\n",
    "        ('svr', svr_model)\n",
    "    ], \n",
    "    #final_estimator=stacking_final_model,\n",
    "    cv=2,\n",
    "    n_jobs=-1,\n",
    ")\n",
    "\n",
    "stacking_regressor_pipeline = Pipeline([\n",
    "    ('preprocessing', featureTransformer),\n",
    "    ('stacking_regressor', stacking_model)\n",
    "])\n",
    "\n",
    "print('Stacking Regressor:')\n",
    "score_model(stacking_regressor_pipeline, X, Y)"
   ]
  },
  {
   "source": [
    "### VotingRegressor"
   ],
   "cell_type": "markdown",
   "metadata": {}
  },
  {
   "cell_type": "code",
   "execution_count": 37,
   "metadata": {},
   "outputs": [
    {
     "output_type": "stream",
     "name": "stdout",
     "text": [
      "Voting Regressor:\n",
      "[CV] MSE: 1001290716.5337 (31670266.5964)\n",
      "[CV] MAE: 17783.0534 (660.2470)\n",
      "[CV] R^2: 0.8402 (0.0150)\n",
      "[CV] RMSLE: 0.140369 (0.0051)\n",
      "CPU times: user 8.42 s, sys: 713 ms, total: 9.14 s\n",
      "Wall time: 36.9 s\n"
     ]
    }
   ],
   "source": [
    "%%time\n",
    "\n",
    "# https://www.kaggle.com/marktsvirko/votingregressor-xgb-svm-top-10\n",
    "\n",
    "voting_model = VotingRegressor(\n",
    "    estimators=[\n",
    "        ('xgb', xgb_model), \n",
    "        ('random_forest', random_forest_model),\n",
    "        ('elasticnet', elasticnet_model),\n",
    "        ('ridge', ridge_model),\n",
    "        ('svr', svr_model)\n",
    "    ],\n",
    "    n_jobs=-1,\n",
    ")\n",
    "\n",
    "voting_pipeline = Pipeline([\n",
    "    ('preprocessing', featureTransformer),\n",
    "    ('voting_regressor', voting_model)\n",
    "])\n",
    "\n",
    "print('Voting Regressor:')\n",
    "score_model(voting_pipeline, X, Y)"
   ]
  },
  {
   "cell_type": "code",
   "execution_count": 38,
   "metadata": {},
   "outputs": [],
   "source": [
    "parameters = {\n",
    "    'voting_regressor__weights': [None, [0.6, 0.3, 0.1]],\n",
    "}\n",
    "\n",
    "paramSearch = GridSearchCV(\n",
    "   estimator=voting_pipeline,\n",
    "   scoring=make_scorer(neg_rmsle),\n",
    "   param_grid=parameters,\n",
    "   cv=2,\n",
    "   n_jobs=-1, \n",
    "   verbose=3\n",
    ")\n",
    "\n",
    "#paramSearch.fit(X, Y)\n",
    "#paramSearch.best_params_, paramSearch.best_score_"
   ]
  },
  {
   "source": [
    "## Predict Submissions"
   ],
   "cell_type": "markdown",
   "metadata": {}
  },
  {
   "cell_type": "code",
   "execution_count": 39,
   "metadata": {
    "tags": [],
    "pycharm": {
     "name": "#%%\n"
    }
   },
   "outputs": [],
   "source": [
    "voting_pipeline.fit(X, Y)\n",
    "\n",
    "x_test = test_df[baseline_features]\n",
    "y_test_predicted = voting_pipeline.predict(x_test)\n",
    "\n",
    "y_test_predicted = np.rint(y_test_predicted).astype(int)\n",
    "\n",
    "submission_df = pd.DataFrame({\n",
    "    'Id': test_df['Id'],\n",
    "    'SalePrice': y_test_predicted,\n",
    "})\n",
    "\n",
    "submission_df.to_csv('./data/submission_voting.csv', index=False)"
   ]
  },
  {
   "cell_type": "code",
   "execution_count": 40,
   "metadata": {},
   "outputs": [],
   "source": [
    "xgb_pipeline.fit(X, Y)\n",
    "\n",
    "x_test = test_df[baseline_features]\n",
    "y_test_predicted = xgb_pipeline.predict(x_test)\n",
    "\n",
    "y_test_predicted = np.rint(y_test_predicted).astype(int)\n",
    "\n",
    "submission_df = pd.DataFrame({\n",
    "    'Id': test_df['Id'],\n",
    "    'SalePrice': y_test_predicted,\n",
    "})\n",
    "\n",
    "submission_df.to_csv('./data/submission_xgb.csv', index=False)"
   ]
  },
  {
   "cell_type": "code",
   "execution_count": 41,
   "metadata": {},
   "outputs": [],
   "source": [
    "stacking_regressor_pipeline.fit(X, Y)\n",
    "\n",
    "x_test = test_df[baseline_features]\n",
    "y_test_predicted = stacking_regressor_pipeline.predict(x_test)\n",
    "\n",
    "y_test_predicted = np.rint(y_test_predicted).astype(int)\n",
    "\n",
    "submission_df = pd.DataFrame({\n",
    "    'Id': test_df['Id'],\n",
    "    'SalePrice': y_test_predicted,\n",
    "})\n",
    "\n",
    "submission_df.to_csv('./data/submission_stacking.csv', index=False)"
   ]
  }
 ]
}