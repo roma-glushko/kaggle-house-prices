{
 "metadata": {
  "language_info": {
   "codemirror_mode": {
    "name": "ipython",
    "version": 3
   },
   "file_extension": ".py",
   "mimetype": "text/x-python",
   "name": "python",
   "nbconvert_exporter": "python",
   "pygments_lexer": "ipython3",
   "version": "3.8.6-final"
  },
  "orig_nbformat": 2,
  "kernelspec": {
   "name": "pycharm-b6383702",
   "language": "python",
   "display_name": "PyCharm (house-prices-advanced-regression-techniques)"
  }
 },
 "nbformat": 4,
 "nbformat_minor": 2,
 "cells": [
  {
   "cell_type": "code",
   "execution_count": 1,
   "metadata": {},
   "outputs": [],
   "source": [
    "import pandas as pd\n",
    "import matplotlib.pyplot as plt\n",
    "import seaborn as sns\n",
    "import numpy as np\n",
    "from scipy.stats import norm, skew\n",
    "\n",
    "from sklearn.base import BaseEstimator, TransformerMixin\n",
    "from sklearn.compose import ColumnTransformer, TransformedTargetRegressor\n",
    "from sklearn.impute import SimpleImputer\n",
    "from sklearn.preprocessing import OrdinalEncoder, LabelEncoder, OneHotEncoder, StandardScaler, MinMaxScaler, \\\n",
    "    RobustScaler, FunctionTransformer\n",
    "from sklearn.linear_model import LinearRegression, LassoCV, Ridge, ElasticNetCV, ElasticNet\n",
    "from sklearn.svm import SVR\n",
    "from sklearn.experimental import enable_hist_gradient_boosting\n",
    "from sklearn.ensemble import RandomForestRegressor, StackingRegressor, VotingRegressor\n",
    "from sklearn.metrics import mean_squared_error, r2_score, mean_absolute_error, mean_squared_log_error, make_scorer\n",
    "from sklearn.model_selection import GridSearchCV, train_test_split, cross_validate, cross_val_score, learning_curve\n",
    "from sklearn.pipeline import Pipeline\n",
    "from sklearn import set_config"
   ]
  },
  {
   "cell_type": "code",
   "execution_count": 2,
   "metadata": {},
   "outputs": [],
   "source": [
    "np.random.seed(42)\n",
    "set_config(display='diagram')\n",
    "\n",
    "plt.rcParams['figure.figsize'] = (12, 8)\n",
    "sns.set_theme(style='whitegrid')"
   ]
  },
  {
   "cell_type": "code",
   "execution_count": 3,
   "metadata": {},
   "outputs": [],
   "source": [
    "train_df = trainDf = pd.read_csv('data/train.csv')\n",
    "test_df = testDf = pd.read_csv('data/test.csv')\n",
    "\n",
    "full_df = fullDf = pd.concat([trainDf, testDf], sort=True).reset_index(drop=True)"
   ]
  },
  {
   "source": [
    "## Misc Functions"
   ],
   "cell_type": "markdown",
   "metadata": {}
  },
  {
   "cell_type": "code",
   "execution_count": 4,
   "metadata": {},
   "outputs": [],
   "source": [
    "def plot_learning_curve(estimator, X_train, y_train, cv, train_sizes=np.linspace(0.1, 1, 10)):\n",
    "    plt.style.use('seaborn-darkgrid')\n",
    "    \n",
    "    train_sizes, train_scores, test_scores = learning_curve(\n",
    "        estimator, X_train, y_train, \n",
    "        scoring='neg_mean_squared_error',\n",
    "        cv=cv, \n",
    "        n_jobs=-1, \n",
    "        train_sizes=train_sizes,\n",
    "        shuffle=True,\n",
    "        random_state=42\n",
    "        )\n",
    "    train_mean_scores = np.mean(train_scores, axis=1)\n",
    "    test_mean_scores = np.mean(test_scores, axis=1)\n",
    "\n",
    "    plt.title('Learning curve')\n",
    "    plt.plot(train_sizes, train_mean_scores, 'y', label='Train Learning curve')\n",
    "    plt.plot(train_sizes, test_mean_scores, 'b', label='Test Learning curve')\n",
    "    plt.legend()"
   ]
  },
  {
   "cell_type": "code",
   "execution_count": 5,
   "metadata": {},
   "outputs": [],
   "source": [
    "def neg_rmsle(y_true, y_pred):\n",
    "    y_pred = np.abs(y_pred)\n",
    "    \n",
    "    return -1 * np.sqrt(mean_squared_log_error(y_true, y_pred))"
   ]
  },
  {
   "cell_type": "code",
   "execution_count": 6,
   "metadata": {},
   "outputs": [],
   "source": [
    "def score_model(model, X, Y):\n",
    "    \n",
    "    scores = cross_validate(\n",
    "        model, X, Y, \n",
    "        scoring=['r2', 'neg_mean_absolute_error', 'neg_mean_squared_error'], cv=2,\n",
    "        n_jobs=-1, verbose=0)\n",
    "\n",
    "    rmsle_score = cross_val_score(model, X, Y, cv=2, scoring=make_scorer(neg_rmsle))\n",
    "\n",
    "    mse_score = -1 * scores['test_neg_mean_squared_error'].mean()\n",
    "    mse_std = scores['test_neg_mean_squared_error'].std()\n",
    "\n",
    "    mae_score = -1 * scores['test_neg_mean_absolute_error'].mean()\n",
    "    mae_std = scores['test_neg_mean_absolute_error'].std()\n",
    "\n",
    "    r2_score_mean = scores['test_r2'].mean()\n",
    "    r2_std = scores['test_r2'].std()\n",
    "\n",
    "    print('[CV] MSE: %.4f (%.4f)' % (mse_score, mse_std))\n",
    "    print('[CV] MAE: %.4f (%.4f)' % (mae_score, mae_std))\n",
    "    print('[CV] R^2: %.4f (%.4f)' % (r2_score_mean, r2_std))\n",
    "    print('[CV] RMSLE: %.6f (%.4f)' % (-1 * rmsle_score.mean(), rmsle_score.std()))"
   ]
  },
  {
   "cell_type": "code",
   "execution_count": 7,
   "metadata": {},
   "outputs": [],
   "source": [
    "def get_columns_from_transformer(column_transformer, input_colums):    \n",
    "    col_name = []\n",
    "\n",
    "    for transformer_in_columns in column_transformer.transformers_[:-1]: #the last transformer is ColumnTransformer's 'remainder'\n",
    "        raw_col_name = transformer_in_columns[2]\n",
    "        if isinstance(transformer_in_columns[1],Pipeline): \n",
    "            transformer = transformer_in_columns[1].steps[-1][1]\n",
    "        else:\n",
    "            transformer = transformer_in_columns[1]\n",
    "        try:\n",
    "            names = transformer.get_feature_names(raw_col_name)\n",
    "        except AttributeError: # if no 'get_feature_names' function, use raw column name\n",
    "            names = raw_col_name\n",
    "        if isinstance(names,np.ndarray): # eg.\n",
    "            col_name += names.tolist()\n",
    "        elif isinstance(names,list):\n",
    "            col_name += names    \n",
    "        elif isinstance(names,str):\n",
    "            col_name.append(names)\n",
    "\n",
    "    [_, _, reminder_columns] = column_transformer.transformers_[-1]\n",
    "\n",
    "    for col_idx in reminder_columns:\n",
    "        col_name.append(input_colums[col_idx])\n",
    "\n",
    "    return col_name"
   ]
  },
  {
   "source": [
    "## Data Cleaning and Preparation"
   ],
   "cell_type": "markdown",
   "metadata": {}
  },
  {
   "cell_type": "code",
   "execution_count": 8,
   "metadata": {},
   "outputs": [],
   "source": [
    "num_features = [f for f in full_df.columns if full_df.dtypes[f] != 'object']\n",
    "num_features.remove('Id')\n",
    "num_features.remove('SalePrice')\n",
    "\n",
    "cat_features = [f for f in full_df.columns if full_df.dtypes[f] == 'object']"
   ]
  },
  {
   "cell_type": "code",
   "execution_count": 9,
   "metadata": {},
   "outputs": [],
   "source": [
    "for feature in (\n",
    "    'PoolQC', \n",
    "    'FireplaceQu', \n",
    "    'Alley', \n",
    "    'Fence', \n",
    "    'MiscFeature', \n",
    "    'BsmtQual', \n",
    "    'BsmtCond', \n",
    "    'BsmtExposure', \n",
    "    'BsmtFinType1', \n",
    "    'BsmtFinType2',\n",
    "    'GarageType', \n",
    "    'GarageFinish', \n",
    "    'GarageQual', \n",
    "    'GarageCond',\n",
    "    'BsmtQual', \n",
    "    'BsmtCond', \n",
    "    'BsmtExposure', \n",
    "    'BsmtFinType1', \n",
    "    'BsmtFinType2',\n",
    "    'MasVnrType',\n",
    "    'MSSubClass',\n",
    "):\n",
    "    train_df[feature] = train_df[feature].fillna('None')\n",
    "    test_df[feature] = test_df[feature].fillna('None')\n",
    "    full_df[feature] = full_df[feature].fillna('None')\n",
    "\n",
    "for feature in (\n",
    "    'BsmtFinSF1', \n",
    "    'BsmtFinSF2', \n",
    "    'BsmtUnfSF',\n",
    "    'TotalBsmtSF', \n",
    "    'BsmtFullBath', \n",
    "    'BsmtHalfBath',\n",
    "    'MasVnrArea',\n",
    "    'GarageCars',\n",
    "    'GarageArea',\n",
    "    'GarageYrBlt',\n",
    "):\n",
    "    train_df[feature] = train_df[feature].fillna(0)\n",
    "    test_df[feature] = test_df[feature].fillna(0)\n",
    "    full_df[feature] = full_df[feature].fillna(0)\n",
    "\n",
    "for feature in (\n",
    "    'Electrical', \n",
    "    'KitchenQual', \n",
    "    'Exterior1st',\n",
    "    'Exterior2nd', \n",
    "    'SaleType',\n",
    "    'MSZoning',\n",
    "    'Utilities',\n",
    "):\n",
    "    train_df[feature] = train_df[feature].fillna(train_df[feature].mode()[0])\n",
    "    test_df[feature] = test_df[feature].fillna(test_df[feature].mode()[0])\n",
    "    full_df[feature] = full_df[feature].fillna(test_df[feature].mode()[0])\n",
    "\n",
    "train_df['Functional'] = train_df['Functional'].fillna('Typ')\n",
    "test_df['Functional'] = test_df['Functional'].fillna('Typ')\n",
    "full_df['Functional'] = full_df['Functional'].fillna('Typ')"
   ]
  },
  {
   "cell_type": "code",
   "execution_count": 10,
   "metadata": {},
   "outputs": [],
   "source": [
    "for dataframe in [train_df, test_df]:\n",
    "    dataframe['Exterior1st'].replace(['Brk Cmn', 'CmentBd', 'Wd Shng'], ['BrkComm', 'CemntBd', 'Wd Sdng'], inplace=True)\n",
    "    dataframe['Exterior2nd'].replace(['Brk Cmn', 'CmentBd', 'Wd Shng'], ['BrkComm', 'CemntBd', 'Wd Sdng'], inplace=True)"
   ]
  },
  {
   "cell_type": "code",
   "execution_count": 11,
   "metadata": {},
   "outputs": [],
   "source": [
    "ordinal_feature_mapping = {\n",
    "    'ExterQual': {'Po': 0, 'Fa': 1, 'TA': 2, 'Gd': 3, 'Ex': 4}, \n",
    "    'ExterCond': {'Po': 0, 'Fa': 1, 'TA': 2, 'Gd': 3, 'Ex': 4},\n",
    "    'BsmtQual': {'None': 0, 'Po': 1, 'Fa': 2, 'TA': 3, 'Gd': 4, 'Ex': 5},\n",
    "    'BsmtCond': {'None': 0, 'Po': 1, 'Fa': 2, 'TA': 3, 'Gd': 4, 'Ex': 5},\n",
    "    'BsmtFinType1': {'None': 0, 'Unf': 1, 'LwQ': 2, 'Rec': 3, 'BLQ': 4, 'ALQ': 5, 'GLQ': 6},\n",
    "    'BsmtFinType2': {'None': 0, 'Unf': 1, 'LwQ': 2, 'Rec': 3, 'BLQ': 4, 'ALQ': 5, 'GLQ': 6},\n",
    "    'HeatingQC': {'Po': 0, 'Fa': 1, 'TA': 2, 'Gd': 3, 'Ex': 4},\n",
    "    'KitchenQual': {'Po': 0, 'Fa': 1, 'TA': 2, 'Gd': 3, 'Ex': 4},\n",
    "    'FireplaceQu': {'None': 0, 'Po': 1, 'Fa': 2, 'TA': 3, 'Gd': 4, 'Ex': 5},\n",
    "    'GarageFinish': {'None': 0, 'Unf': 1, 'RFn': 2, 'Fin': 3},\n",
    "    'GarageQual': {'None': 0, 'Po': 1, 'Fa': 2, 'TA': 3, 'Gd': 4, 'Ex': 5},\n",
    "    'GarageCond': {'None': 0, 'Po': 1, 'Fa': 2, 'TA': 3, 'Gd': 4, 'Ex': 5},\n",
    "    'PoolQC': {'None': 0, 'Po': 1, 'Fa': 2, 'TA': 3, 'Gd': 4, 'Ex': 5},\n",
    "    'Fence': {'None': 0, 'MnWw': 1, 'GdWo': 2, 'MnPrv': 3, 'GdPrv': 4},\n",
    "    'PavedDrive': {'N': 0, 'P': 1, 'Y': 2},\n",
    "    'CentralAir': {'N': 0, 'Y': 1},\n",
    "    'Alley': {'None': 0, 'Pave': 1, 'Grvl': 2},\n",
    "    'Street': {'Pave': 0, 'Grvl': 1},\n",
    "    'Functional': {'Sal': 0, 'Sev': 1, 'Maj2': 2, 'Maj1': 3, 'Mod': 4, 'Min2': 5, 'Min1': 6, 'Typ': 7}\n",
    "}\n",
    "\n",
    "non_ordinal_cat_features = list(set(cat_features) - set(ordinal_feature_mapping.keys()))\n",
    "\n",
    "for cat_feature in non_ordinal_cat_features:\n",
    "    train_df[cat_feature + 'Enc'] = LabelEncoder().fit_transform(train_df[cat_feature])\n",
    "    test_df[cat_feature + 'Enc'] = LabelEncoder().fit_transform(test_df[cat_feature])\n",
    "\n",
    "for ordinal_feature, feature_mapping in ordinal_feature_mapping.items():\n",
    "    train_df[ordinal_feature + 'Enc'] = train_df[ordinal_feature].map(feature_mapping)\n",
    "    test_df[ordinal_feature + 'Enc'] = test_df[ordinal_feature].map(feature_mapping)"
   ]
  },
  {
   "source": [
    "### Num Feature Scaling"
   ],
   "cell_type": "markdown",
   "metadata": {}
  },
  {
   "cell_type": "code",
   "execution_count": 12,
   "metadata": {},
   "outputs": [],
   "source": [
    "# https://www.kaggle.com/serigne/stacked-regressions-top-4-on-leaderboard"
   ]
  },
  {
   "source": [
    "## Feature Engineering"
   ],
   "cell_type": "markdown",
   "metadata": {}
  },
  {
   "cell_type": "code",
   "execution_count": 13,
   "metadata": {},
   "outputs": [],
   "source": [
    "for dataframe in [train_df, test_df]:\n",
    "    dataframe['Has2ndFloor'] = dataframe['2ndFlrSF'].apply(lambda x: int(x > 0))\n",
    "    dataframe['HasBsmnt'] = dataframe['TotalBsmtSF'].apply(lambda x: int(x > 0))\n",
    "    dataframe['HasGarage'] = dataframe['GarageArea'].apply(lambda x: int(x > 0))\n",
    "    dataframe['HasPool'] = dataframe['PoolArea'].apply(lambda x: int(x > 0))\n",
    "    dataframe['HasFence'] = dataframe['Fence'].apply(lambda x: int(x != 'None'))\n",
    "    dataframe['HasFireplace'] = dataframe['Fireplaces'].apply(lambda x: int(x > 0))\n",
    "    dataframe['HasMasVnr'] = dataframe['MasVnrType'].apply(lambda x: int(x != 'None'))\n",
    "    dataframe['HasShed'] = (dataframe['MiscFeature'] == 'Shed') * 1\n",
    "\n",
    "    dataframe['HouseAge'] = dataframe['YrSold'].astype('int') - dataframe['YearBuilt'].astype('int')\n",
    "    dataframe['HouseAgeSinRemod'] = dataframe['YrSold'].astype('int') - dataframe['YearRemodAdd'].astype('int')"
   ]
  },
  {
   "cell_type": "code",
   "execution_count": 14,
   "metadata": {},
   "outputs": [],
   "source": [
    "# Remove outliers\n",
    "train_df.drop(\n",
    "    train_df[(train_df['GrLivArea'] > 4000) & (train_df['SalePrice'] < 700000)].index\n",
    ");"
   ]
  },
  {
   "cell_type": "code",
   "execution_count": 15,
   "metadata": {},
   "outputs": [],
   "source": [
    "subclassCategories = [20, 30, 40, 45, 50, 60, 70, 75, 80, 85, 90, 120, 160, 180, 190] #removed 150 class as useless during predictions\n",
    "basementFinishCategories = ['None', 'Unf', 'LwQ', 'Rec', 'BLQ', 'ALQ', 'GLQ']\n",
    "electricalCategories = ['Mix', 'FuseP', 'FuseF', 'FuseA', 'SBrkr']\n",
    "\n",
    "exteriorCategories = ['AsbShng', 'AsphShn', 'BrkComm', 'BrkFace', 'CBlock', 'CemntBd', 'HdBoard', 'ImStucc', 'MetalSd', 'Other', 'Plywood', 'PreCast', 'Stone', 'Stucco', 'VinylSd', 'Wd Sdng', 'WdShing']\n",
    "\n",
    "conditionCategories = train_df['Condition1'].unique()\n",
    "neighborhoodCategories = full_df['Neighborhood'].unique()\n",
    "saleCondCategories = full_df['SaleCondition'].unique()\n",
    "garageTypeCategories = full_df['GarageType'].unique()\n",
    "lotConfigCategories = full_df['LotConfig'].unique() # feature was removed from the model\n",
    "lotShapeCategories = full_df['LotShape'].unique()\n",
    "landSlopeCategories = full_df['LandSlope'].unique()"
   ]
  },
  {
   "cell_type": "code",
   "execution_count": 16,
   "metadata": {},
   "outputs": [],
   "source": [
    "year_built_bins = np.linspace(1871, 2010, 10) # 10 bins"
   ]
  },
  {
   "cell_type": "code",
   "execution_count": 17,
   "metadata": {},
   "outputs": [],
   "source": [
    "# Reference: https://www.kaggle.com/cerberus4229/voting-regressor-with-pipelines\n",
    "\n",
    "for dataframe in [train_df, test_df]:\n",
    "    dataframe['TotalBathrooms'] = (dataframe['FullBath'] + (0.5 * dataframe['HalfBath']) +\n",
    "                                dataframe['BsmtFullBath'] + (0.5 * dataframe['BsmtHalfBath']))\n",
    "\n",
    "    dataframe['OverallHouseQCBin'] = pd.qcut(dataframe['OverallQual'] + dataframe['OverallCond'], q=3, labels=[0, 1, 2]) # performs worse than OverallQual\n",
    "    dataframe['IsPavedDrive'] = (dataframe['PavedDrive'] == 'Y') * 1 # performs worse\n",
    "    dataframe['IsNeighborhoodElite'] = (dataframe['Neighborhood'].isin(['NridgHt', 'CollgeCr', 'Crawfor', 'StoreBr', 'Timber'])) * 1 # worse\n",
    "    dataframe['YearBuiltBin'] = pd.cut(dataframe['YearBuilt'], bins=year_built_bins, labels=range(1, 10)) \n",
    "    dataframe['KitchenQCBin'] = pd.cut(dataframe['KitchenQualEnc'] * dataframe['KitchenAbvGr'], [-1, 2, 7], labels=[0, 1])\n",
    "\n",
    "    dataframe['IsFunctional'] = (dataframe['Functional'] == 'Typ') * 1\n",
    "    dataframe['FunctionalGroup'] = dataframe['Functional'].map({\n",
    "        'Typ': 2,\n",
    "        'Min1': 1,\n",
    "        'Min2': 1,\n",
    "        'Mod': 1,\n",
    "        'Maj1': 0,\n",
    "        'Maj2': 0,\n",
    "        'Sev': 0,\n",
    "        'Sav': 0,\n",
    "    })\n",
    "\n",
    "    dataframe['IsHeatingGood'] = dataframe['HeatingQC'].map({'Po': 0, 'Fa': 0, 'TA': 1, 'Gd': 1, 'Ex': 1})\n",
    "    dataframe['IsModernHouseType'] = dataframe['MSSubClass'].map({20: 1, 30: 0, 40: 0, 45: 0,50: 0, 60: 1, 70: 0, 75: 0, 80: 0, 85: 0,\n",
    "         90: 0, 120: 1, 150: 0, 160: 0, 180: 0, 190: 0})\n",
    "    dataframe['IsLandFlat'] = (dataframe['LandContour'] == 'Lvl') * 1\n",
    "    dataframe['IsNewHouseSold'] = (full_df['YearBuilt'] == full_df['YrSold'].astype(int)) * 1\n",
    "    dataframe['External'] = (full_df['YearBuilt'] == full_df['YrSold'].astype(int)) * 1\n",
    "\n",
    "    dataframe['IsExterCondGood'] = dataframe['ExterCond'].map({'Po': 0, 'Fa': 0, 'TA': 1, 'Gd': 1, 'Ex': 1})"
   ]
  },
  {
   "cell_type": "code",
   "execution_count": 18,
   "metadata": {},
   "outputs": [],
   "source": [
    "# https://www.kaggle.com/humananalog/xgboost-lasso"
   ]
  },
  {
   "cell_type": "code",
   "execution_count": 19,
   "metadata": {},
   "outputs": [],
   "source": [
    "baseline_features = [\n",
    "    '1stFlrSF',\n",
    "    '2ndFlrSF',\n",
    "    'BsmtFinSF1', \n",
    "    'BsmtFinSF2',\n",
    "    'BsmtUnfSF', \n",
    "    'BsmtFinType1Enc',\n",
    "    'BsmtFinType2Enc',\n",
    "    'OverallQual',\n",
    "    'GarageCars',\n",
    "    'OverallCond', \n",
    "    'Neighborhood',\n",
    "    'MSSubClass', \n",
    "    'LotShape',\n",
    "    'LandSlope',\n",
    "    'BsmtCondEnc',\n",
    "    'BsmtQualEnc', \n",
    "    'SaleCondition',\n",
    "    'CentralAirEnc',\n",
    "    'Condition1',\n",
    "    'Condition2',\n",
    "    'TotalBathrooms',\n",
    "    'GarageFinishEnc',\n",
    "    'KitchenQualEnc',\n",
    "    'BedroomAbvGr',\n",
    "    'MSZoning',\n",
    "    'ExterQualEnc',\n",
    "    'IsNewHouseSold',\n",
    "    'LandContour',\n",
    "    'HasFireplace',\n",
    "    'FunctionalGroup',\n",
    "    'HouseAge',\n",
    "    'FenceEnc',\n",
    "    'IsModernHouseType',\n",
    "]\n",
    "\n",
    "X = train_df[baseline_features]\n",
    "Y = train_df['SalePrice']"
   ]
  },
  {
   "source": [
    "## Modeling"
   ],
   "cell_type": "markdown",
   "metadata": {}
  },
  {
   "cell_type": "code",
   "execution_count": 20,
   "metadata": {},
   "outputs": [],
   "source": [
    "# Build feature transformer\n",
    "\n",
    "logTransformer = FunctionTransformer(func=np.log1p, inverse_func=np.expm1)\n",
    "\n",
    "featureTransformer = ColumnTransformer([\n",
    "        ('basement_area_log', logTransformer, ['BsmtFinSF1', 'BsmtFinSF2']),\n",
    "        ('neighborhood_onehot', OneHotEncoder(categories=[neighborhoodCategories]), ['Neighborhood']),\n",
    "        ('subclass_onehot', OneHotEncoder(categories=[subclassCategories], handle_unknown='ignore'), ['MSSubClass']),\n",
    "        ('lot_shape_onehot', OneHotEncoder(categories=[lotShapeCategories]), ['LotShape']),\n",
    "        ('land_slope_onehot', OneHotEncoder(categories=[landSlopeCategories]), ['LandSlope']),\n",
    "        ('sale_condtion_onehot', OneHotEncoder(categories=[saleCondCategories]), ['SaleCondition']),\n",
    "        ('land_contour_onehot', OneHotEncoder(), ['LandContour']),\n",
    "        ('zoning_onehot', OneHotEncoder(), ['MSZoning']),\n",
    "        ('condition_onehot', OneHotEncoder(categories=[conditionCategories, conditionCategories]), ['Condition1', 'Condition2']), #\n",
    "    ],\n",
    "    remainder='passthrough'\n",
    ")"
   ]
  },
  {
   "source": [
    "### ElasticNet"
   ],
   "cell_type": "markdown",
   "metadata": {}
  },
  {
   "cell_type": "code",
   "execution_count": 21,
   "metadata": {},
   "outputs": [
    {
     "output_type": "stream",
     "name": "stdout",
     "text": [
      "[CV] MSE: 1157170137.3388 (87064118.3079)\n[CV] MAE: 20166.3290 (609.2098)\n[CV] R^2: 0.8148 (0.0254)\n[CV] RMSLE: 0.205980 (0.0426)\n"
     ]
    }
   ],
   "source": [
    "elasticnet_model = ElasticNet(\n",
    "    alpha=0.5,\n",
    "    l1_ratio=0.8,\n",
    "    random_state=42,\n",
    ")\n",
    "\n",
    "elasticnet_pipeline = Pipeline([\n",
    "    ('preprocessing', featureTransformer),\n",
    "    ('elasticnet', elasticnet_model)\n",
    "])\n",
    "\n",
    "score_model(elasticnet_pipeline, X, Y)"
   ]
  },
  {
   "cell_type": "code",
   "execution_count": 22,
   "metadata": {},
   "outputs": [],
   "source": [
    "parameters = {\n",
    "    'elasticnet__alpha': [9e-4, 7e-4, 5e-4, 3e-4, 1e-4, 1e-3, 5e-2, 1e-2, 0.1, 0.5, 1, 2, 5],\n",
    "    'elasticnet__l1_ratio': [0.01, 0.1, 0.2, 0.3, 0.5, 0.6, 0.7, 0.8, 1],\n",
    "}\n",
    "\n",
    "paramSearch = GridSearchCV(\n",
    "  estimator=elasticnet_pipeline,\n",
    "  scoring='neg_mean_squared_error',\n",
    "  param_grid=parameters, \n",
    "  cv=2,\n",
    "  n_jobs=-1, \n",
    "  verbose=3\n",
    ")\n",
    "\n",
    "#paramSearch.fit(X, Y)\n",
    "#paramSearch.best_params_, paramSearch.best_score_"
   ]
  },
  {
   "source": [
    "### Ridge"
   ],
   "cell_type": "markdown",
   "metadata": {}
  },
  {
   "cell_type": "code",
   "execution_count": 23,
   "metadata": {},
   "outputs": [],
   "source": [
    "# https://www.kaggle.com/marktsvirko/votingregressor-xgb-svm-top-10"
   ]
  },
  {
   "cell_type": "code",
   "execution_count": 24,
   "metadata": {},
   "outputs": [
    {
     "output_type": "stream",
     "name": "stdout",
     "text": [
      "[CV] MSE: 1367540151.6855 (87592301.5338)\n[CV] MAE: 22127.9798 (438.3611)\n[CV] R^2: 0.7813 (0.0275)\n[CV] RMSLE: 0.177489 (0.0007)\n"
     ]
    }
   ],
   "source": [
    "ridge_pipeline = Pipeline([\n",
    "    ('preprocessing', featureTransformer),\n",
    "    ('ridge', Ridge(\n",
    "        solver='auto',\n",
    "        alpha=522,\n",
    "        random_state=42,\n",
    "    )),\n",
    "])\n",
    "\n",
    "score_model(ridge_pipeline, X, Y)"
   ]
  },
  {
   "cell_type": "code",
   "execution_count": 25,
   "metadata": {},
   "outputs": [],
   "source": [
    "parameters = {\n",
    "    'ridge__solver': ['auto', 'saga', 'sag', 'cholesky'],\n",
    "    'ridge__alpha': [510, 519, 520, 522, 530],\n",
    "}\n",
    "\n",
    "paramSearch = GridSearchCV(\n",
    "  estimator=ridge_pipeline,\n",
    "  scoring=make_scorer(neg_rmsle),\n",
    "  param_grid=parameters, \n",
    "  cv=2,\n",
    "  n_jobs=-1, \n",
    "  verbose=3\n",
    ")\n",
    "\n",
    "#paramSearch.fit(X, Y)\n",
    "#paramSearch.best_params_, paramSearch.best_score_"
   ]
  },
  {
   "source": [
    "### SVR"
   ],
   "cell_type": "markdown",
   "metadata": {}
  },
  {
   "cell_type": "code",
   "execution_count": 65,
   "metadata": {},
   "outputs": [
    {
     "output_type": "stream",
     "name": "stdout",
     "text": [
      "[CV] MSE: 1332462671.5171 (20680320.6937)\n[CV] MAE: 20559.8665 (866.9183)\n[CV] R^2: 0.7875 (0.0165)\n[CV] RMSLE: 0.163320 (0.0088)\n"
     ]
    }
   ],
   "source": [
    "svr_model = SVR(\n",
    "    kernel='linear',\n",
    "    C=200\n",
    ")\n",
    "\n",
    "svr_pipeline = Pipeline([\n",
    "    ('preprocessing', featureTransformer),\n",
    "    ('svr', svr_model),\n",
    "])\n",
    "\n",
    "score_model(svr_pipeline, X, Y)"
   ]
  },
  {
   "cell_type": "code",
   "execution_count": 64,
   "metadata": {},
   "outputs": [
    {
     "output_type": "stream",
     "name": "stdout",
     "text": [
      "Fitting 2 folds for each of 7 candidates, totalling 14 fits\n",
      "[Parallel(n_jobs=-1)]: Using backend LokyBackend with 16 concurrent workers.\n",
      "[Parallel(n_jobs=-1)]: Done   3 out of  14 | elapsed:    1.3s remaining:    4.6s\n",
      "[Parallel(n_jobs=-1)]: Done   8 out of  14 | elapsed:    4.9s remaining:    3.7s\n",
      "[Parallel(n_jobs=-1)]: Done  14 out of  14 | elapsed:   19.9s finished\n"
     ]
    },
    {
     "output_type": "execute_result",
     "data": {
      "text/plain": [
       "({'svr__C': 200, 'svr__kernel': 'linear'}, -0.16332046865053396)"
      ]
     },
     "metadata": {},
     "execution_count": 64
    }
   ],
   "source": [
    "parameters = {\n",
    "    'svr__C': [1, 20, 50, 100, 120, 150, 200],\n",
    "    'svr__kernel': ['linear'],\n",
    "    #'svr__tol': [1e-3, 1e-5, 1e-4, 1e-2, 0.1]\n",
    "}\n",
    "\n",
    "paramSearch = GridSearchCV(\n",
    "   estimator=svr_pipeline,\n",
    "   scoring=make_scorer(neg_rmsle),\n",
    "   param_grid=parameters,\n",
    "   cv=2,\n",
    "   n_jobs=-1, \n",
    "   verbose=3\n",
    ")\n",
    "\n",
    "#paramSearch.fit(X, Y)\n",
    "#paramSearch.best_params_, paramSearch.best_score_"
   ]
  },
  {
   "source": [
    "### Random Forest"
   ],
   "cell_type": "markdown",
   "metadata": {}
  },
  {
   "cell_type": "code",
   "execution_count": 26,
   "metadata": {},
   "outputs": [
    {
     "output_type": "stream",
     "name": "stdout",
     "text": [
      "[CV] MSE: 1209359844.2069 (1843381.5482)\n[CV] MAE: 20454.0732 (702.2607)\n[CV] R^2: 0.8073 (0.0123)\n[CV] RMSLE: 0.167425 (0.0069)\n"
     ]
    }
   ],
   "source": [
    "random_forest_model = RandomForestRegressor(\n",
    "        bootstrap=True,\n",
    "        max_depth=15,\n",
    "        max_features='sqrt',\n",
    "        max_leaf_nodes=None,\n",
    "        max_samples=None,\n",
    "        min_samples_leaf=5,\n",
    "        min_samples_split=5,\n",
    "        n_estimators=2500,\n",
    "        random_state=42,\n",
    "    )\n",
    "\n",
    "random_forest_pipeline = Pipeline([\n",
    "    ('preprocessing', featureTransformer),\n",
    "    ('random_forest', random_forest_model),\n",
    "])\n",
    "\n",
    "# Measure performance\n",
    "\n",
    "score_model(random_forest_pipeline, X, Y)\n",
    "\n",
    "## RF(max_depth=15, max_features='sqrt', min_samples_leaf=1, min_samples_split=3, n_estimators=3650)\n",
    "## CV=2, ?\n",
    "#[CV] MSE: 904073278.0912 (34098840.2146)\n",
    "#[CV] MAE: 17896.4251 (795.0885)\n",
    "#[CV] R^2: 0.8563 (0.0036)\n",
    "\n",
    "## RF(max_depth=25, max_features='sqrt', min_samples_leaf=1, min_samples_split=2, n_estimators=1000)\n",
    "## CV=2, 0.15007\n",
    "#[CV] MSE: 889831012.8445 (46061331.0130)\n",
    "#[CV] MAE: 17721.0043 (817.3113)\n",
    "#[CV] R^2: 0.8587 (0.0015)\n",
    "\n",
    "#[CV] MSE: 901503923.2650 (37758910.2379)\n",
    "#[CV] MAE: 17843.5568 (877.0261)\n",
    "#[CV] R^2: 0.8568 (0.0029)\n",
    "#[CV] RMSLE: 0.148084 (0.0074)"
   ]
  },
  {
   "cell_type": "code",
   "execution_count": 27,
   "metadata": {},
   "outputs": [
    {
     "output_type": "execute_result",
     "data": {
      "text/plain": [
       "[(0.15379866259663588, 'OverallQual'),\n",
       " (0.08924538182613381, 'GarageCars'),\n",
       " (0.08834210226004628, '1stFlrSF'),\n",
       " (0.08218667685263008, 'ExterQualEnc'),\n",
       " (0.07404793453297402, 'KitchenQualEnc'),\n",
       " (0.06704699848018082, 'BsmtQualEnc'),\n",
       " (0.06191199969956158, 'TotalBathrooms'),\n",
       " (0.0601347752697437, 'HouseAge'),\n",
       " (0.047125272331239344, 'BsmtFinSF1'),\n",
       " (0.04334885802901738, '2ndFlrSF'),\n",
       " (0.03477371623261905, 'GarageFinishEnc'),\n",
       " (0.030483798125175966, 'HasFireplace'),\n",
       " (0.018980817090073248, 'BsmtFinType1Enc'),\n",
       " (0.015534237901662354, 'MSSubClass_60'),\n",
       " (0.014113914120704276, 'BsmtUnfSF'),\n",
       " (0.013178184922223286, 'Neighborhood_NridgHt'),\n",
       " (0.011945571476499692, 'BedroomAbvGr'),\n",
       " (0.011202688424742775, 'Neighborhood_NoRidge'),\n",
       " (0.010234622969908548, 'IsModernHouseType'),\n",
       " (0.007208882132253255, 'SaleCondition_Partial'),\n",
       " (0.0063406995841250825, 'OverallCond'),\n",
       " (0.005509646453560206, 'MSZoning_RM'),\n",
       " (0.0051346767719294304, 'LotShape_Reg'),\n",
       " (0.004620836780751636, 'MSZoning_RL'),\n",
       " (0.0038950584760997194, 'CentralAirEnc'),\n",
       " (0.0034327632339723043, 'MSSubClass_30'),\n",
       " (0.0028332576384737947, 'LotShape_IR1'),\n",
       " (0.0023797561625533868, 'MSSubClass_20'),\n",
       " (0.002341395135166023, 'SaleCondition_Normal'),\n",
       " (0.0018117463422150399, 'BsmtCondEnc'),\n",
       " (0.0017161864209881746, 'Neighborhood_Crawfor'),\n",
       " (0.0016966593181564377, 'Neighborhood_StoneBr'),\n",
       " (0.0016436016238163898, 'IsNewHouseSold'),\n",
       " (0.001354941077664466, 'Neighborhood_NAmes'),\n",
       " (0.0011546560827923197, 'FenceEnc'),\n",
       " (0.0011425243302209786, 'Neighborhood_Somerst'),\n",
       " (0.0011275821127392355, 'MSSubClass_120'),\n",
       " (0.001111793159198426, 'LandContour_Lvl'),\n",
       " (0.0011019998614375155, 'LandSlope_Gtl'),\n",
       " (0.0010521466786437908, 'MSSubClass_160'),\n",
       " (0.0009159349824884164, 'Neighborhood_OldTown'),\n",
       " (0.0007925530238749531, 'Neighborhood_Gilbert'),\n",
       " (0.0007916984437145743, 'BsmtFinSF2'),\n",
       " (0.0007592030831986018, 'BsmtFinType2Enc'),\n",
       " (0.0007540968763291532, 'Neighborhood_Edwards'),\n",
       " (0.0007401711924365678, 'Neighborhood_CollgCr'),\n",
       " (0.000618252224041512, 'Neighborhood_NWAmes'),\n",
       " (0.0006013094974894456, 'MSSubClass_70'),\n",
       " (0.0005229706397172113, 'LandSlope_Mod'),\n",
       " (0.0005183360591890305, 'Condition1_Norm'),\n",
       " (0.0005089587901377156, 'MSSubClass_90'),\n",
       " (0.0004947061530701697, 'MSZoning_FV'),\n",
       " (0.00042745021411024105, 'Neighborhood_ClearCr'),\n",
       " (0.0004185785363593856, 'MSSubClass_50'),\n",
       " (0.0004162190184054085, 'Neighborhood_IDOTRR'),\n",
       " (0.0004077062832406149, 'LandContour_HLS'),\n",
       " (0.0003674045044082095, 'FunctionalGroup'),\n",
       " (0.00036441430926507923, 'LotShape_IR2'),\n",
       " (0.0003614888380910255, 'LandContour_Low'),\n",
       " (0.0003586350712462053, 'SaleCondition_Abnorml'),\n",
       " (0.0002688650600300943, 'Neighborhood_MeadowV'),\n",
       " (0.00023604494351098031, 'Neighborhood_Sawyer'),\n",
       " (0.00022169250882673712, 'Neighborhood_Timber'),\n",
       " (0.0002017102404941222, 'MSSubClass_80'),\n",
       " (0.0001981574587184457, 'Condition1_Feedr'),\n",
       " (0.00016126733138329107, 'Neighborhood_Blmngtn'),\n",
       " (0.00014696050412999726, 'Neighborhood_BrkSide'),\n",
       " (0.00013959224760347628, 'MSZoning_C (all)'),\n",
       " (0.0001309984378377447, 'Condition1_Artery'),\n",
       " (0.00013092834661756754, 'Neighborhood_Mitchel'),\n",
       " (0.00011634884476892852, 'Neighborhood_BrDale'),\n",
       " (0.00010394251194287916, 'Neighborhood_SawyerW'),\n",
       " (9.89774509468599e-05, 'MSSubClass_75'),\n",
       " (9.482907486713072e-05, 'MSSubClass_180'),\n",
       " (8.969832653390519e-05, 'LandContour_Bnk'),\n",
       " (7.970335351468777e-05, 'LandSlope_Sev'),\n",
       " (3.4904601568355015e-05, 'Condition1_PosN'),\n",
       " (3.400430024554756e-05, 'Neighborhood_SWISU'),\n",
       " (2.3797209339585433e-05, 'MSSubClass_190'),\n",
       " (2.0998607361062385e-05, 'Neighborhood_Veenker'),\n",
       " (1.6554426936275237e-05, 'MSSubClass_85'),\n",
       " (1.510076630059983e-05, 'Condition1_RRAn'),\n",
       " (1.0805298283247048e-05, 'SaleCondition_Alloca'),\n",
       " (9.106814841063507e-06, 'Neighborhood_NPkVill'),\n",
       " (8.70877481572978e-06, 'MSZoning_RH'),\n",
       " (8.34193051907907e-06, 'Condition1_PosA'),\n",
       " (4.165791686824373e-06, 'MSSubClass_45'),\n",
       " (3.752594149044677e-06, 'SaleCondition_Family'),\n",
       " (2.5299444698349877e-06, 'Condition2_Norm'),\n",
       " (4.020384138141201e-07, 'LotShape_IR3'),\n",
       " (0.0, 'SaleCondition_AdjLand'),\n",
       " (0.0, 'Neighborhood_Blueste'),\n",
       " (0.0, 'MSSubClass_40'),\n",
       " (0.0, 'Condition2_RRNn'),\n",
       " (0.0, 'Condition2_RRNe'),\n",
       " (0.0, 'Condition2_RRAn'),\n",
       " (0.0, 'Condition2_RRAe'),\n",
       " (0.0, 'Condition2_PosN'),\n",
       " (0.0, 'Condition2_PosA'),\n",
       " (0.0, 'Condition2_Feedr'),\n",
       " (0.0, 'Condition2_Artery'),\n",
       " (0.0, 'Condition1_RRNn'),\n",
       " (0.0, 'Condition1_RRNe'),\n",
       " (0.0, 'Condition1_RRAe')]"
      ]
     },
     "metadata": {},
     "execution_count": 27
    }
   ],
   "source": [
    "random_forest_pipeline.fit(X, Y)\n",
    "\n",
    "X_columns = get_columns_from_transformer(random_forest_pipeline.named_steps['preprocessing'], list(X.columns))\n",
    "\n",
    "features_list = sorted(zip(random_forest_pipeline.named_steps['random_forest'].feature_importances_, X_columns), reverse=True)\n",
    "random_forest_pipeline.named_steps['preprocessing'].transformers_\n",
    "\n",
    "features_list"
   ]
  },
  {
   "cell_type": "code",
   "execution_count": 28,
   "metadata": {},
   "outputs": [],
   "source": [
    "from skopt import BayesSearchCV\n",
    "from skopt.space import Real, Categorical, Integer\n",
    "from skopt.plots import plot_objective, plot_histogram\n",
    "\n",
    "parameters = {\n",
    "    'random_forest__max_depth': [None, 15,  20, 25],\n",
    "    'random_forest__max_features': ['sqrt'],\n",
    "    'random_forest__max_leaf_nodes': [None, 5, 15, 17, 20],\n",
    "    'random_forest__min_samples_leaf': [1, 2, 3],\n",
    "    'random_forest__min_samples_split': [2, 1, 3],\n",
    "    'random_forest__max_samples': [None, 2, 5],\n",
    "    'random_forest__n_estimators': [1500, 2000, 2500]\n",
    "}\n",
    "\n",
    "paramSearch = GridSearchCV(\n",
    "  estimator=random_forest_pipeline,\n",
    "  scoring=make_scorer(neg_rmsle),\n",
    "  param_grid=parameters, \n",
    "  cv=2,\n",
    "  n_jobs=-1, \n",
    "  verbose=3\n",
    ")\n",
    "\n",
    "#paramSearch.fit(X, Y)\n",
    "#paramSearch.best_params_, paramSearch.best_score_"
   ]
  },
  {
   "cell_type": "code",
   "execution_count": 29,
   "metadata": {},
   "outputs": [],
   "source": [
    "#plot_learning_curve(random_forest_pipeline, X, Y, cv=3)"
   ]
  },
  {
   "source": [
    "### XGBoostRegressor"
   ],
   "cell_type": "markdown",
   "metadata": {}
  },
  {
   "cell_type": "code",
   "execution_count": 30,
   "metadata": {},
   "outputs": [
    {
     "output_type": "stream",
     "name": "stdout",
     "text": [
      "[CV] MSE: 732641130.9703 (5344883.1889)\n[CV] MAE: 15646.3619 (283.7011)\n[CV] R^2: 0.8832 (0.0081)\n[CV] RMSLE: 0.125072 (0.0047)\n"
     ]
    }
   ],
   "source": [
    "from xgboost import XGBRegressor\n",
    "\n",
    "xgb_model = XGBRegressor(\n",
    "        max_depth=5,\n",
    "        n_estimators=7050,\n",
    "        learning_rate=0.01,\n",
    "        min_child_weight=1.5,\n",
    "        subsample=0.2,\n",
    "        gamma=0,\n",
    "        reg_alpha=1,\n",
    "        reg_lambda=0.1,\n",
    "        objective='reg:gamma',\n",
    "        booster='gbtree'\n",
    "    )\n",
    "\n",
    "xgb_pipeline = Pipeline([\n",
    "    ('preprocessing', featureTransformer),\n",
    "    ('xgb_regressor', xgb_model),\n",
    "])\n",
    "\n",
    "# Measure Performance\n",
    "\n",
    "score_model(xgb_pipeline, X, Y)"
   ]
  },
  {
   "cell_type": "code",
   "execution_count": 31,
   "metadata": {},
   "outputs": [
    {
     "output_type": "execute_result",
     "data": {
      "text/plain": [
       "[(0.10488179, 'OverallQual'),\n",
       " (0.06410893, 'ExterQualEnc'),\n",
       " (0.057148222, 'GarageCars'),\n",
       " (0.055850655, 'TotalBathrooms'),\n",
       " (0.040229782, 'KitchenQualEnc'),\n",
       " (0.039311953, 'HasFireplace'),\n",
       " (0.03448331, 'MSZoning_C (all)'),\n",
       " (0.026530785, 'CentralAirEnc'),\n",
       " (0.023906965, 'BsmtQualEnc'),\n",
       " (0.020864632, '1stFlrSF'),\n",
       " (0.018612808, 'MSSubClass_30'),\n",
       " (0.017896276, 'BsmtFinSF1'),\n",
       " (0.013970452, 'SaleCondition_Family'),\n",
       " (0.013664116, 'MSSubClass_180'),\n",
       " (0.013484347, '2ndFlrSF'),\n",
       " (0.01347552, 'GarageFinishEnc'),\n",
       " (0.013446186, 'LotShape_IR3'),\n",
       " (0.013141641, 'Neighborhood_IDOTRR'),\n",
       " (0.011748367, 'MSZoning_RM'),\n",
       " (0.010780746, 'MSSubClass_45'),\n",
       " (0.0107093705, 'SaleCondition_Abnorml'),\n",
       " (0.009700691, 'MSSubClass_60'),\n",
       " (0.009420548, 'Neighborhood_OldTown'),\n",
       " (0.009098041, 'Condition1_PosN'),\n",
       " (0.009053719, 'Condition2_Norm'),\n",
       " (0.008716666, 'SaleCondition_Alloca'),\n",
       " (0.008633941, 'Condition2_Feedr'),\n",
       " (0.008584648, 'OverallCond'),\n",
       " (0.008550188, 'Neighborhood_MeadowV'),\n",
       " (0.00788855, 'Neighborhood_Blmngtn'),\n",
       " (0.007526929, 'Neighborhood_Edwards'),\n",
       " (0.0074094404, 'Neighborhood_BrDale'),\n",
       " (0.0073103523, 'Condition1_RRAe'),\n",
       " (0.0072276886, 'SaleCondition_Normal'),\n",
       " (0.007208325, 'SaleCondition_Partial'),\n",
       " (0.0071559525, 'MSSubClass_90'),\n",
       " (0.006735222, 'Condition1_Artery'),\n",
       " (0.0067342306, 'LotShape_Reg'),\n",
       " (0.0063800192, 'FunctionalGroup'),\n",
       " (0.0063575744, 'Condition1_Feedr'),\n",
       " (0.006066435, 'HouseAge'),\n",
       " (0.006007224, 'MSZoning_RH'),\n",
       " (0.0058972016, 'Condition1_Norm'),\n",
       " (0.005872626, 'MSSubClass_160'),\n",
       " (0.00582787, 'LandContour_Bnk'),\n",
       " (0.0057354, 'MSSubClass_190'),\n",
       " (0.005605088, 'MSZoning_RL'),\n",
       " (0.0055827913, 'BedroomAbvGr'),\n",
       " (0.0054874793, 'BsmtFinType1Enc'),\n",
       " (0.0053496826, 'Neighborhood_NAmes'),\n",
       " (0.0050848443, 'LandContour_Low'),\n",
       " (0.004996485, 'BsmtCondEnc'),\n",
       " (0.004988994, 'Condition2_RRNn'),\n",
       " (0.0049533867, 'SaleCondition_AdjLand'),\n",
       " (0.00495035, 'MSSubClass_75'),\n",
       " (0.0047277226, 'MSSubClass_120'),\n",
       " (0.004575338, 'LandSlope_Gtl'),\n",
       " (0.0045511164, 'LandContour_Lvl'),\n",
       " (0.0045169205, 'MSSubClass_20'),\n",
       " (0.004483909, 'Condition1_PosA'),\n",
       " (0.004468772, 'Neighborhood_Sawyer'),\n",
       " (0.0043593, 'BsmtUnfSF'),\n",
       " (0.004312327, 'IsNewHouseSold'),\n",
       " (0.004204354, 'Neighborhood_NWAmes'),\n",
       " (0.004045387, 'Neighborhood_SWISU'),\n",
       " (0.0039957124, 'MSSubClass_80'),\n",
       " (0.00397462, 'Neighborhood_CollgCr'),\n",
       " (0.0039568287, 'Neighborhood_Somerst'),\n",
       " (0.003952623, 'Neighborhood_Crawfor'),\n",
       " (0.0039099553, 'Neighborhood_SawyerW'),\n",
       " (0.0039009405, 'Neighborhood_ClearCr'),\n",
       " (0.0037857, 'FenceEnc'),\n",
       " (0.0037742394, 'LandSlope_Sev'),\n",
       " (0.0037519012, 'Neighborhood_Timber'),\n",
       " (0.0037285194, 'BsmtFinType2Enc'),\n",
       " (0.0037127228, 'BsmtFinSF2'),\n",
       " (0.0037010836, 'MSSubClass_70'),\n",
       " (0.003649316, 'MSSubClass_50'),\n",
       " (0.0036171465, 'Neighborhood_StoneBr'),\n",
       " (0.0036053928, 'Neighborhood_BrkSide'),\n",
       " (0.0036019941, 'Neighborhood_NPkVill'),\n",
       " (0.0035904516, 'LotShape_IR1'),\n",
       " (0.003558031, 'MSZoning_FV'),\n",
       " (0.0034487979, 'Neighborhood_NridgHt'),\n",
       " (0.0034328382, 'Neighborhood_Gilbert'),\n",
       " (0.0033968266, 'LotShape_IR2'),\n",
       " (0.0033192667, 'LandContour_HLS'),\n",
       " (0.0033141698, 'IsModernHouseType'),\n",
       " (0.0032397157, 'Neighborhood_Mitchel'),\n",
       " (0.0031697056, 'Neighborhood_NoRidge'),\n",
       " (0.0030129703, 'LandSlope_Mod'),\n",
       " (0.002578619, 'Condition1_RRAn'),\n",
       " (0.0022966817, 'Neighborhood_Veenker'),\n",
       " (0.002164654, 'MSSubClass_40'),\n",
       " (0.0017131019, 'MSSubClass_85'),\n",
       " (0.0011369131, 'Condition1_RRNn'),\n",
       " (0.0009826472, 'Condition1_RRNe'),\n",
       " (0.00043530486, 'Neighborhood_Blueste'),\n",
       " (0.0, 'Condition2_RRNe'),\n",
       " (0.0, 'Condition2_RRAn'),\n",
       " (0.0, 'Condition2_RRAe'),\n",
       " (0.0, 'Condition2_PosN'),\n",
       " (0.0, 'Condition2_PosA'),\n",
       " (0.0, 'Condition2_Artery')]"
      ]
     },
     "metadata": {},
     "execution_count": 31
    }
   ],
   "source": [
    "xgb_pipeline.fit(X, Y)\n",
    "X_columns = get_columns_from_transformer(xgb_pipeline.named_steps['preprocessing'], list(X.columns))\n",
    "\n",
    "features_list = sorted(zip(xgb_pipeline.named_steps['xgb_regressor'].feature_importances_, X_columns), reverse=True)\n",
    "features_list"
   ]
  },
  {
   "cell_type": "code",
   "execution_count": 32,
   "metadata": {},
   "outputs": [],
   "source": [
    "parameters = {\n",
    "    'xgb_regressor__objective': ['reg:gamma'], # 'reg:squarederror', 'reg:squaredlogerror'\n",
    "    'xgb_regressor__learning_rate': [0.01],\n",
    "    'xgb_regressor__n_estimators': [6900, 7000, 7100],\n",
    "    'xgb_regressor__max_depth': [5],\n",
    "    'xgb_regressor__booster': ['gbtree'],\n",
    "    'xgb_regressor__min_child_weight': [1.5],\n",
    "    'xgb_regressor__gamma': [0],\n",
    "    'xgb_regressor__subsample': [0.2],\n",
    "    'xgb_regressor__reg_alpha': [1],\n",
    "    'xgb_regressor__reg_lambda': [0.1],\n",
    "}\n",
    "\n",
    "paramSearch = GridSearchCV(\n",
    "   estimator=xgb_pipeline,\n",
    "   scoring=make_scorer(neg_rmsle),\n",
    "   param_grid=parameters,\n",
    "   cv=2,\n",
    "   n_jobs=-1, \n",
    "   verbose=3\n",
    ")\n",
    "\n",
    "#paramSearch.fit(X, Y)\n",
    "#paramSearch.best_params_, paramSearch.best_score_\n",
    "\n",
    "#({'xgb_regressor__booster': 'gbtree',\n",
    "#  'xgb_regressor__gamma': 0.03,\n",
    "#  'xgb_regressor__learning_rate': 0.04,\n",
    "#  'xgb_regressor__max_depth': 5,\n",
    "#  'xgb_regressor__min_child_weight': 2,\n",
    "#  'xgb_regressor__n_estimators': 2000,\n",
    "#  'xgb_regressor__objective': 'reg:gamma',\n",
    "#  'xgb_regressor__subsample': 0.7},\n",
    "# -0.1293080016874709)\n",
    "\n",
    "#({'xgb_regressor__booster': 'gbtree',\n",
    "#  'xgb_regressor__gamma': 0.03,\n",
    "#  'xgb_regressor__learning_rate': 0.06,\n",
    "#  'xgb_regressor__max_depth': 5,\n",
    "#  'xgb_regressor__min_child_weight': 2,\n",
    "#  'xgb_regressor__n_estimators': 2000,\n",
    "#  'xgb_regressor__objective': 'reg:gamma',\n",
    "#  'xgb_regressor__subsample': 0.7},\n",
    "# -0.13023288188100762)\n",
    "\n",
    "#({'xgb_regressor__booster': 'gbtree',\n",
    "#  'xgb_regressor__gamma': 0.02,\n",
    "#  'xgb_regressor__learning_rate': 0.07,\n",
    "#  'xgb_regressor__max_depth': 2,\n",
    "#  'xgb_regressor__min_child_weight': 1,\n",
    "#  'xgb_regressor__n_estimators': 800,\n",
    "#  'xgb_regressor__objective': 'reg:gamma',\n",
    "#  'xgb_regressor__subsample': 0.8},\n",
    "# -0.12779856264607697)"
   ]
  },
  {
   "source": [
    "### StackRegressor"
   ],
   "cell_type": "markdown",
   "metadata": {}
  },
  {
   "cell_type": "code",
   "execution_count": 33,
   "metadata": {},
   "outputs": [],
   "source": [
    "# https://www.kaggle.com/lavanyashukla01/how-i-made-top-0-3-on-a-kaggle-competition"
   ]
  },
  {
   "cell_type": "code",
   "execution_count": 34,
   "metadata": {},
   "outputs": [
    {
     "output_type": "stream",
     "name": "stdout",
     "text": [
      "[CV] MSE: 783809380.8984 (49247690.4325)\n[CV] MAE: 16202.6767 (55.4011)\n[CV] R^2: 0.8746 (0.0156)\n[CV] RMSLE: 0.131372 (0.0000)\n"
     ]
    }
   ],
   "source": [
    "stacking_final_model = XGBRegressor()\n",
    "\n",
    "stacking_model = StackingRegressor(\n",
    "    estimators=[\n",
    "        ('xgb', xgb_model),\n",
    "        ('random_forest', random_forest_model),\n",
    "        ('elasticnet', elasticnet_model),\n",
    "    ], \n",
    "    #final_estimator=stacking_final_model,\n",
    "    cv=2,\n",
    "    n_jobs=-1,\n",
    ")\n",
    "\n",
    "stacking_regressor_pipeline = Pipeline([\n",
    "    ('preprocessing', featureTransformer),\n",
    "    ('stacking_regressor', stacking_model)\n",
    "])\n",
    "\n",
    "score_model(stacking_regressor_pipeline, X, Y)"
   ]
  },
  {
   "source": [
    "### VotingRegressor"
   ],
   "cell_type": "markdown",
   "metadata": {}
  },
  {
   "cell_type": "code",
   "execution_count": 41,
   "metadata": {},
   "outputs": [
    {
     "output_type": "stream",
     "name": "stdout",
     "text": [
      "[CV] MSE: 867687198.2568 (1833083.8132)\n[CV] MAE: 16684.2830 (645.2620)\n[CV] R^2: 0.8618 (0.0089)\n[CV] RMSLE: 0.137184 (0.0065)\n"
     ]
    }
   ],
   "source": [
    "# https://www.kaggle.com/marktsvirko/votingregressor-xgb-svm-top-10\n",
    "\n",
    "voting_model = VotingRegressor(\n",
    "    estimators=[\n",
    "        ('xgb', xgb_model), \n",
    "        ('random_forest', random_forest_model),\n",
    "        ('elasticnet', elasticnet_model),\n",
    "    ],\n",
    "    n_jobs=-1,\n",
    ")\n",
    "\n",
    "voting_pipeline = Pipeline([\n",
    "    ('preprocessing', featureTransformer),\n",
    "    ('voting_regressor', voting_model)\n",
    "])\n",
    "\n",
    "score_model(voting_pipeline, X, Y)"
   ]
  },
  {
   "cell_type": "code",
   "execution_count": 45,
   "metadata": {},
   "outputs": [
    {
     "output_type": "stream",
     "name": "stdout",
     "text": [
      "Fitting 2 folds for each of 8 candidates, totalling 16 fits\n",
      "[Parallel(n_jobs=-1)]: Using backend LokyBackend with 16 concurrent workers.\n",
      "[Parallel(n_jobs=-1)]: Done   3 out of  16 | elapsed:    0.2s remaining:    1.0s\n",
      "[Parallel(n_jobs=-1)]: Done   9 out of  16 | elapsed:    0.3s remaining:    0.3s\n",
      "[Parallel(n_jobs=-1)]: Done  16 out of  16 | elapsed:   11.8s finished\n"
     ]
    },
    {
     "output_type": "execute_result",
     "data": {
      "text/plain": [
       "({'voting_regressor__weights': None}, -0.13718441242581908)"
      ]
     },
     "metadata": {},
     "execution_count": 45
    }
   ],
   "source": [
    "parameters = {\n",
    "    'voting_regressor__weights': [None, [0.6, 0.3, 0.1]],\n",
    "}\n",
    "\n",
    "paramSearch = GridSearchCV(\n",
    "   estimator=voting_pipeline,\n",
    "   scoring=make_scorer(neg_rmsle),\n",
    "   param_grid=parameters,\n",
    "   cv=2,\n",
    "   n_jobs=-1, \n",
    "   verbose=3\n",
    ")\n",
    "\n",
    "#paramSearch.fit(X, Y)\n",
    "#paramSearch.best_params_, paramSearch.best_score_"
   ]
  },
  {
   "source": [
    "## Predict Submissions"
   ],
   "cell_type": "markdown",
   "metadata": {}
  },
  {
   "cell_type": "code",
   "execution_count": 36,
   "metadata": {
    "tags": [],
    "pycharm": {
     "name": "#%%\n"
    }
   },
   "outputs": [],
   "source": [
    "random_forest_pipeline.fit(X, Y)\n",
    "\n",
    "x_test = test_df[baseline_features]\n",
    "y_test_predicted = random_forest_pipeline.predict(x_test)\n",
    "\n",
    "y_test_predicted = np.rint(y_test_predicted).astype(int)\n",
    "\n",
    "submission_df = pd.DataFrame({\n",
    "    'Id': test_df['Id'],\n",
    "    'SalePrice': y_test_predicted,\n",
    "})\n",
    "\n",
    "submission_df.to_csv('./data/submission_random_forest.csv', index=False)"
   ]
  },
  {
   "cell_type": "code",
   "execution_count": 37,
   "metadata": {},
   "outputs": [],
   "source": [
    "xgb_pipeline.fit(X, Y)\n",
    "\n",
    "x_test = test_df[baseline_features]\n",
    "y_test_predicted = xgb_pipeline.predict(x_test)\n",
    "\n",
    "y_test_predicted = np.rint(y_test_predicted).astype(int)\n",
    "\n",
    "submission_df = pd.DataFrame({\n",
    "    'Id': test_df['Id'],\n",
    "    'SalePrice': y_test_predicted,\n",
    "})\n",
    "\n",
    "submission_df.to_csv('./data/submission_xgb.csv', index=False)"
   ]
  },
  {
   "cell_type": "code",
   "execution_count": 38,
   "metadata": {},
   "outputs": [],
   "source": [
    "stacking_regressor_pipeline.fit(X, Y)\n",
    "\n",
    "x_test = test_df[baseline_features]\n",
    "y_test_predicted = stacking_regressor_pipeline.predict(x_test)\n",
    "\n",
    "y_test_predicted = np.rint(y_test_predicted).astype(int)\n",
    "\n",
    "submission_df = pd.DataFrame({\n",
    "    'Id': test_df['Id'],\n",
    "    'SalePrice': y_test_predicted,\n",
    "})\n",
    "\n",
    "submission_df.to_csv('./data/submission_stacking.csv', index=False)"
   ]
  },
  {
   "cell_type": "code",
   "execution_count": null,
   "metadata": {},
   "outputs": [],
   "source": []
  }
 ]
}