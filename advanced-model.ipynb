{
 "metadata": {
  "language_info": {
   "codemirror_mode": {
    "name": "ipython",
    "version": 3
   },
   "file_extension": ".py",
   "mimetype": "text/x-python",
   "name": "python",
   "nbconvert_exporter": "python",
   "pygments_lexer": "ipython3",
   "version": "3.8.6-final"
  },
  "orig_nbformat": 2,
  "kernelspec": {
   "name": "pycharm-b6383702",
   "language": "python",
   "display_name": "PyCharm (house-prices-advanced-regression-techniques)"
  }
 },
 "nbformat": 4,
 "nbformat_minor": 2,
 "cells": [
  {
   "cell_type": "code",
   "execution_count": 1,
   "metadata": {},
   "outputs": [],
   "source": [
    "import pandas as pd\n",
    "import matplotlib.pyplot as plt\n",
    "import seaborn as sns\n",
    "import numpy as np\n",
    "from scipy.stats import norm, skew\n",
    "\n",
    "from sklearn.base import BaseEstimator, TransformerMixin\n",
    "from sklearn.compose import ColumnTransformer, TransformedTargetRegressor\n",
    "from sklearn.impute import SimpleImputer\n",
    "from sklearn.preprocessing import OrdinalEncoder, LabelEncoder, OneHotEncoder, StandardScaler, MinMaxScaler, \\\n",
    "    RobustScaler, FunctionTransformer\n",
    "from sklearn.linear_model import LinearRegression, LassoCV, Ridge, ElasticNetCV, ElasticNet\n",
    "from sklearn.svm import SVR\n",
    "from sklearn.experimental import enable_hist_gradient_boosting\n",
    "from sklearn.ensemble import RandomForestRegressor, StackingRegressor, VotingRegressor\n",
    "from sklearn.metrics import mean_squared_error, r2_score, mean_absolute_error, mean_squared_log_error, make_scorer\n",
    "from sklearn.model_selection import GridSearchCV, train_test_split, cross_validate, cross_val_score, learning_curve\n",
    "from sklearn.pipeline import Pipeline\n",
    "from sklearn import set_config"
   ]
  },
  {
   "cell_type": "code",
   "execution_count": 2,
   "metadata": {},
   "outputs": [],
   "source": [
    "np.random.seed(42)\n",
    "set_config(display='diagram')\n",
    "\n",
    "plt.rcParams['figure.figsize'] = (12, 8)\n",
    "sns.set_theme(style='whitegrid')"
   ]
  },
  {
   "cell_type": "code",
   "execution_count": 3,
   "metadata": {},
   "outputs": [],
   "source": [
    "train_df = trainDf = pd.read_csv('data/train.csv')\n",
    "test_df = testDf = pd.read_csv('data/test.csv')\n",
    "\n",
    "full_df = fullDf = pd.concat([trainDf, testDf], sort=True).reset_index(drop=True)"
   ]
  },
  {
   "source": [
    "## Misc Functions"
   ],
   "cell_type": "markdown",
   "metadata": {}
  },
  {
   "cell_type": "code",
   "execution_count": 4,
   "metadata": {},
   "outputs": [],
   "source": [
    "def plot_learning_curve(estimator, X_train, y_train, cv, train_sizes=np.linspace(0.1, 1, 10)):\n",
    "    plt.style.use('seaborn-darkgrid')\n",
    "    \n",
    "    train_sizes, train_scores, test_scores = learning_curve(\n",
    "        estimator, X_train, y_train, \n",
    "        scoring='neg_mean_squared_error',\n",
    "        cv=cv, \n",
    "        n_jobs=-1, \n",
    "        train_sizes=train_sizes,\n",
    "        shuffle=True,\n",
    "        random_state=42\n",
    "        )\n",
    "    train_mean_scores = np.mean(train_scores, axis=1)\n",
    "    test_mean_scores = np.mean(test_scores, axis=1)\n",
    "\n",
    "    plt.title('Learning curve')\n",
    "    plt.plot(train_sizes, train_mean_scores, 'y', label='Train Learning curve')\n",
    "    plt.plot(train_sizes, test_mean_scores, 'b', label='Test Learning curve')\n",
    "    plt.legend()"
   ]
  },
  {
   "cell_type": "code",
   "execution_count": 5,
   "metadata": {},
   "outputs": [],
   "source": [
    "def neg_rmsle(y_true, y_pred):\n",
    "    y_pred = np.abs(y_pred)\n",
    "    \n",
    "    return -1 * np.sqrt(mean_squared_log_error(y_true, y_pred))"
   ]
  },
  {
   "cell_type": "code",
   "execution_count": 6,
   "metadata": {},
   "outputs": [],
   "source": [
    "def score_model(model, X, Y):\n",
    "    \n",
    "    scores = cross_validate(\n",
    "        model, X, Y, \n",
    "        scoring=['r2', 'neg_mean_absolute_error', 'neg_mean_squared_error'], cv=2,\n",
    "        n_jobs=-1, verbose=0)\n",
    "\n",
    "    rmsle_score = cross_val_score(model, X, Y, cv=2, scoring=make_scorer(neg_rmsle))\n",
    "\n",
    "    mse_score = -1 * scores['test_neg_mean_squared_error'].mean()\n",
    "    mse_std = scores['test_neg_mean_squared_error'].std()\n",
    "\n",
    "    mae_score = -1 * scores['test_neg_mean_absolute_error'].mean()\n",
    "    mae_std = scores['test_neg_mean_absolute_error'].std()\n",
    "\n",
    "    r2_score_mean = scores['test_r2'].mean()\n",
    "    r2_std = scores['test_r2'].std()\n",
    "\n",
    "    print('[CV] MSE: %.4f (%.4f)' % (mse_score, mse_std))\n",
    "    print('[CV] MAE: %.4f (%.4f)' % (mae_score, mae_std))\n",
    "    print('[CV] R^2: %.4f (%.4f)' % (r2_score_mean, r2_std))\n",
    "    print('[CV] RMSLE: %.6f (%.4f)' % (-1 * rmsle_score.mean(), rmsle_score.std()))"
   ]
  },
  {
   "cell_type": "code",
   "execution_count": 7,
   "metadata": {},
   "outputs": [],
   "source": [
    "def get_columns_from_transformer(column_transformer, input_colums):    \n",
    "    col_name = []\n",
    "\n",
    "    for transformer_in_columns in column_transformer.transformers_[:-1]: #the last transformer is ColumnTransformer's 'remainder'\n",
    "        raw_col_name = transformer_in_columns[2]\n",
    "        if isinstance(transformer_in_columns[1],Pipeline): \n",
    "            transformer = transformer_in_columns[1].steps[-1][1]\n",
    "        else:\n",
    "            transformer = transformer_in_columns[1]\n",
    "        try:\n",
    "            names = transformer.get_feature_names(raw_col_name)\n",
    "        except AttributeError: # if no 'get_feature_names' function, use raw column name\n",
    "            names = raw_col_name\n",
    "        if isinstance(names,np.ndarray): # eg.\n",
    "            col_name += names.tolist()\n",
    "        elif isinstance(names,list):\n",
    "            col_name += names    \n",
    "        elif isinstance(names,str):\n",
    "            col_name.append(names)\n",
    "\n",
    "    [_, _, reminder_columns] = column_transformer.transformers_[-1]\n",
    "\n",
    "    for col_idx in reminder_columns:\n",
    "        col_name.append(input_colums[col_idx])\n",
    "\n",
    "    return col_name"
   ]
  },
  {
   "source": [
    "## Data Cleaning and Preparation"
   ],
   "cell_type": "markdown",
   "metadata": {}
  },
  {
   "cell_type": "code",
   "execution_count": 8,
   "metadata": {},
   "outputs": [],
   "source": [
    "num_features = [f for f in full_df.columns if full_df.dtypes[f] != 'object']\n",
    "num_features.remove('Id')\n",
    "num_features.remove('SalePrice')\n",
    "\n",
    "cat_features = [f for f in full_df.columns if full_df.dtypes[f] == 'object']"
   ]
  },
  {
   "cell_type": "code",
   "execution_count": 9,
   "metadata": {},
   "outputs": [],
   "source": [
    "for feature in (\n",
    "    'PoolQC', \n",
    "    'FireplaceQu', \n",
    "    'Alley', \n",
    "    'Fence', \n",
    "    'MiscFeature', \n",
    "    'BsmtQual', \n",
    "    'BsmtCond', \n",
    "    'BsmtExposure', \n",
    "    'BsmtFinType1', \n",
    "    'BsmtFinType2',\n",
    "    'GarageType', \n",
    "    'GarageFinish', \n",
    "    'GarageQual', \n",
    "    'GarageCond',\n",
    "    'BsmtQual', \n",
    "    'BsmtCond', \n",
    "    'BsmtExposure', \n",
    "    'BsmtFinType1', \n",
    "    'BsmtFinType2',\n",
    "    'MasVnrType',\n",
    "    'MSSubClass',\n",
    "):\n",
    "    train_df[feature] = train_df[feature].fillna('None')\n",
    "    test_df[feature] = test_df[feature].fillna('None')\n",
    "    full_df[feature] = full_df[feature].fillna('None')\n",
    "\n",
    "for feature in (\n",
    "    'BsmtFinSF1', \n",
    "    'BsmtFinSF2', \n",
    "    'BsmtUnfSF',\n",
    "    'TotalBsmtSF', \n",
    "    'BsmtFullBath', \n",
    "    'BsmtHalfBath',\n",
    "    'MasVnrArea',\n",
    "    'GarageCars',\n",
    "    'GarageArea',\n",
    "    'GarageYrBlt',\n",
    "):\n",
    "    train_df[feature] = train_df[feature].fillna(0)\n",
    "    test_df[feature] = test_df[feature].fillna(0)\n",
    "    full_df[feature] = full_df[feature].fillna(0)\n",
    "\n",
    "for feature in (\n",
    "    'Electrical', \n",
    "    'KitchenQual', \n",
    "    'Exterior1st',\n",
    "    'Exterior2nd', \n",
    "    'SaleType',\n",
    "    'MSZoning',\n",
    "    'Utilities',\n",
    "):\n",
    "    train_df[feature] = train_df[feature].fillna(train_df[feature].mode()[0])\n",
    "    test_df[feature] = test_df[feature].fillna(test_df[feature].mode()[0])\n",
    "    full_df[feature] = full_df[feature].fillna(test_df[feature].mode()[0])\n",
    "\n",
    "train_df['Functional'] = train_df['Functional'].fillna('Typ')\n",
    "test_df['Functional'] = test_df['Functional'].fillna('Typ')\n",
    "full_df['Functional'] = full_df['Functional'].fillna('Typ')"
   ]
  },
  {
   "cell_type": "code",
   "execution_count": 10,
   "metadata": {},
   "outputs": [],
   "source": [
    "for dataframe in [train_df, test_df]:\n",
    "    dataframe['Exterior1st'].replace(['Brk Cmn', 'CmentBd', 'Wd Shng'], ['BrkComm', 'CemntBd', 'Wd Sdng'], inplace=True)\n",
    "    dataframe['Exterior2nd'].replace(['Brk Cmn', 'CmentBd', 'Wd Shng'], ['BrkComm', 'CemntBd', 'Wd Sdng'], inplace=True)"
   ]
  },
  {
   "cell_type": "code",
   "execution_count": 11,
   "metadata": {},
   "outputs": [],
   "source": [
    "ordinal_feature_mapping = {\n",
    "    'ExterQual': {'Po': 0, 'Fa': 1, 'TA': 2, 'Gd': 3, 'Ex': 4}, \n",
    "    'ExterCond': {'Po': 0, 'Fa': 1, 'TA': 2, 'Gd': 3, 'Ex': 4},\n",
    "    'BsmtQual': {'None': 0, 'Po': 1, 'Fa': 2, 'TA': 3, 'Gd': 4, 'Ex': 5},\n",
    "    'BsmtCond': {'None': 0, 'Po': 1, 'Fa': 2, 'TA': 3, 'Gd': 4, 'Ex': 5},\n",
    "    'BsmtFinType1': {'None': 0, 'Unf': 1, 'LwQ': 2, 'Rec': 3, 'BLQ': 4, 'ALQ': 5, 'GLQ': 6},\n",
    "    'BsmtFinType2': {'None': 0, 'Unf': 1, 'LwQ': 2, 'Rec': 3, 'BLQ': 4, 'ALQ': 5, 'GLQ': 6},\n",
    "    'HeatingQC': {'Po': 0, 'Fa': 1, 'TA': 2, 'Gd': 3, 'Ex': 4},\n",
    "    'KitchenQual': {'Po': 0, 'Fa': 1, 'TA': 2, 'Gd': 3, 'Ex': 4},\n",
    "    'FireplaceQu': {'None': 0, 'Po': 1, 'Fa': 2, 'TA': 3, 'Gd': 4, 'Ex': 5},\n",
    "    'GarageFinish': {'None': 0, 'Unf': 1, 'RFn': 2, 'Fin': 3},\n",
    "    'GarageQual': {'None': 0, 'Po': 1, 'Fa': 2, 'TA': 3, 'Gd': 4, 'Ex': 5},\n",
    "    'GarageCond': {'None': 0, 'Po': 1, 'Fa': 2, 'TA': 3, 'Gd': 4, 'Ex': 5},\n",
    "    'PoolQC': {'None': 0, 'Po': 1, 'Fa': 2, 'TA': 3, 'Gd': 4, 'Ex': 5},\n",
    "    'Fence': {'None': 0, 'MnWw': 1, 'GdWo': 2, 'MnPrv': 3, 'GdPrv': 4},\n",
    "    'PavedDrive': {'N': 0, 'P': 1, 'Y': 2},\n",
    "    'CentralAir': {'N': 0, 'Y': 1},\n",
    "    'Alley': {'None': 0, 'Pave': 1, 'Grvl': 2},\n",
    "    'Street': {'Pave': 0, 'Grvl': 1},\n",
    "    'Functional': {'Sal': 0, 'Sev': 1, 'Maj2': 2, 'Maj1': 3, 'Mod': 4, 'Min2': 5, 'Min1': 6, 'Typ': 7}\n",
    "}\n",
    "\n",
    "non_ordinal_cat_features = list(set(cat_features) - set(ordinal_feature_mapping.keys()))\n",
    "\n",
    "for cat_feature in non_ordinal_cat_features:\n",
    "    train_df[cat_feature + 'Enc'] = LabelEncoder().fit_transform(train_df[cat_feature])\n",
    "    test_df[cat_feature + 'Enc'] = LabelEncoder().fit_transform(test_df[cat_feature])\n",
    "\n",
    "for ordinal_feature, feature_mapping in ordinal_feature_mapping.items():\n",
    "    train_df[ordinal_feature + 'Enc'] = train_df[ordinal_feature].map(feature_mapping)\n",
    "    test_df[ordinal_feature + 'Enc'] = test_df[ordinal_feature].map(feature_mapping)"
   ]
  },
  {
   "source": [
    "### Num Feature Scaling"
   ],
   "cell_type": "markdown",
   "metadata": {}
  },
  {
   "cell_type": "code",
   "execution_count": 12,
   "metadata": {},
   "outputs": [],
   "source": [
    "# https://www.kaggle.com/serigne/stacked-regressions-top-4-on-leaderboard"
   ]
  },
  {
   "source": [
    "## Feature Engineering"
   ],
   "cell_type": "markdown",
   "metadata": {}
  },
  {
   "cell_type": "code",
   "execution_count": 13,
   "metadata": {},
   "outputs": [],
   "source": [
    "for dataframe in [train_df, test_df]:\n",
    "    dataframe['Has2ndFloor'] = dataframe['2ndFlrSF'].apply(lambda x: int(x > 0))\n",
    "    dataframe['HasBsmnt'] = dataframe['TotalBsmtSF'].apply(lambda x: int(x > 0))\n",
    "    dataframe['HasGarage'] = dataframe['GarageArea'].apply(lambda x: int(x > 0))\n",
    "    dataframe['HasPool'] = dataframe['PoolArea'].apply(lambda x: int(x > 0))\n",
    "    dataframe['HasFence'] = dataframe['Fence'].apply(lambda x: int(x != 'None'))\n",
    "    dataframe['HasFireplace'] = dataframe['Fireplaces'].apply(lambda x: int(x > 0))\n",
    "    dataframe['HasMasVnr'] = dataframe['MasVnrType'].apply(lambda x: int(x != 'None'))\n",
    "    dataframe['HasShed'] = (dataframe['MiscFeature'] == 'Shed') * 1\n",
    "\n",
    "    dataframe['HouseAge'] = dataframe['YrSold'].astype('int') - dataframe['YearBuilt'].astype('int')\n",
    "    dataframe['HouseAgeSinRemod'] = dataframe['YrSold'].astype('int') - dataframe['YearRemodAdd'].astype('int')"
   ]
  },
  {
   "cell_type": "code",
   "execution_count": 14,
   "metadata": {},
   "outputs": [],
   "source": [
    "# Remove outliers\n",
    "train_df.drop(\n",
    "    train_df[(train_df['GrLivArea'] > 4000) & (train_df['SalePrice'] < 700000)].index\n",
    ");"
   ]
  },
  {
   "cell_type": "code",
   "execution_count": 15,
   "metadata": {},
   "outputs": [],
   "source": [
    "subclassCategories = [20, 30, 40, 45, 50, 60, 70, 75, 80, 85, 90, 120, 160, 180, 190] #removed 150 class as useless during predictions\n",
    "basementFinishCategories = ['None', 'Unf', 'LwQ', 'Rec', 'BLQ', 'ALQ', 'GLQ']\n",
    "electricalCategories = ['Mix', 'FuseP', 'FuseF', 'FuseA', 'SBrkr']\n",
    "\n",
    "exteriorCategories = ['AsbShng', 'AsphShn', 'BrkComm', 'BrkFace', 'CBlock', 'CemntBd', 'HdBoard', 'ImStucc', 'MetalSd', 'Other', 'Plywood', 'PreCast', 'Stone', 'Stucco', 'VinylSd', 'Wd Sdng', 'WdShing']\n",
    "\n",
    "conditionCategories = train_df['Condition1'].unique()\n",
    "neighborhoodCategories = full_df['Neighborhood'].unique()\n",
    "saleCondCategories = full_df['SaleCondition'].unique()\n",
    "garageTypeCategories = full_df['GarageType'].unique()\n",
    "lotConfigCategories = full_df['LotConfig'].unique() # feature was removed from the model\n",
    "lotShapeCategories = full_df['LotShape'].unique()\n",
    "landSlopeCategories = full_df['LandSlope'].unique()"
   ]
  },
  {
   "cell_type": "code",
   "execution_count": 16,
   "metadata": {},
   "outputs": [],
   "source": [
    "year_built_bins = np.linspace(1871, 2010, 10) # 10 bins"
   ]
  },
  {
   "cell_type": "code",
   "execution_count": 17,
   "metadata": {},
   "outputs": [],
   "source": [
    "# Reference: https://www.kaggle.com/cerberus4229/voting-regressor-with-pipelines\n",
    "\n",
    "for dataframe in [train_df, test_df]:\n",
    "    dataframe['TotalBathrooms'] = (dataframe['FullBath'] + (0.5 * dataframe['HalfBath']) +\n",
    "                                dataframe['BsmtFullBath'] + (0.5 * dataframe['BsmtHalfBath']))\n",
    "\n",
    "    dataframe['OverallHouseQCBin'] = pd.qcut(dataframe['OverallQual'] + dataframe['OverallCond'], q=3, labels=[0, 1, 2])\n",
    "    dataframe['IsPavedDrive'] = (dataframe['PavedDrive'] == 'Y') * 1\n",
    "    dataframe['IsNeighborhoodElite'] = (dataframe['Neighborhood'].isin(['NridgHt', 'CollgeCr', 'Crawfor', 'StoreBr', 'Timber'])) * 1 \n",
    "    dataframe['YearBuiltBin'] = pd.cut(dataframe['YearBuilt'], bins=year_built_bins, labels=range(1, 10)) \n",
    "    dataframe['KitchenQCBin'] = pd.cut(dataframe['KitchenQualEnc'] * dataframe['KitchenAbvGr'], [-1, 2, 7], labels=[0, 1])\n",
    "\n",
    "    dataframe['IsFunctional'] = (dataframe['Functional'] == 'Typ') * 1\n",
    "    dataframe['FunctionalGroup'] = dataframe['Functional'].map({\n",
    "        'Typ': 2,\n",
    "        'Min1': 1,\n",
    "        'Min2': 1,\n",
    "        'Mod': 1,\n",
    "        'Maj1': 0,\n",
    "        'Maj2': 0,\n",
    "        'Sev': 0,\n",
    "        'Sav': 0,\n",
    "    })\n",
    "\n",
    "    dataframe['IsModernHouseType'] = dataframe['MSSubClass'].map(\n",
    "        {20: 1, 30: 0, 40: 0, 45: 0,50: 0, 60: 1, 70: 0, 75: 0, 80: 0, 85: 0, 90: 0, 120: 1, 150: 0, 160: 0, 180: 0, 190: 0}\n",
    "    )\n",
    "    dataframe['IsLandFlat'] = (dataframe['LandContour'] == 'Lvl') * 1\n",
    "    dataframe['IsNewHouseSold'] = (full_df['YearBuilt'] == full_df['YrSold'].astype(int)) * 1\n",
    "    dataframe['IsExterCondGood'] = dataframe['ExterCond'].map({'Po': 0, 'Fa': 0, 'TA': 1, 'Gd': 1, 'Ex': 1})\n",
    "    dataframe['IsGasHeating'] = dataframe['Heating'].map({'GasA': 1, 'GasW': 1, 'Grav': 0, 'Wall': 0, 'OthW': 0, 'Floor': 0})\n",
    "    dataframe['IsHeatingGood'] = dataframe['HeatingQC'].map({'Po': 0, 'Fa': 0, 'TA': 0, 'Gd': 1, 'Ex': 1})\n",
    "    dataframe['IsNewElectrBreakers'] = dataframe['Electrical'].map({'SBrkr': 1, 'FuseF': 0, 'FuseA': 0, 'FuseP': 0, 'Mix': 0})"
   ]
  },
  {
   "cell_type": "code",
   "execution_count": 18,
   "metadata": {},
   "outputs": [],
   "source": [
    "# https://www.kaggle.com/humananalog/xgboost-lasso"
   ]
  },
  {
   "cell_type": "code",
   "execution_count": 19,
   "metadata": {},
   "outputs": [],
   "source": [
    "baseline_features = [\n",
    "    '1stFlrSF',\n",
    "    '2ndFlrSF',\n",
    "    'BsmtFinSF1', \n",
    "    'BsmtFinSF2',\n",
    "    'BsmtUnfSF', \n",
    "    'BsmtFinType1Enc',\n",
    "    'BsmtFinType2Enc',\n",
    "    'OverallQual',\n",
    "    'GarageCars',\n",
    "    'OverallCond', \n",
    "    'Neighborhood',\n",
    "    'MSSubClass', \n",
    "    'LotShape',\n",
    "    'LandSlope',\n",
    "    'BsmtCondEnc',\n",
    "    'BsmtQualEnc', \n",
    "    'SaleCondition',\n",
    "    'CentralAirEnc',\n",
    "    'Condition1',\n",
    "    'Condition2',\n",
    "    'TotalBathrooms',\n",
    "    'GarageFinishEnc',\n",
    "    'KitchenQualEnc',\n",
    "    'BedroomAbvGr',\n",
    "    'MSZoning',\n",
    "    'ExterQualEnc',\n",
    "    'IsNewHouseSold',\n",
    "    'LandContour',\n",
    "    'HasFireplace',\n",
    "    'FunctionalGroup',\n",
    "    'HouseAge',\n",
    "    'FenceEnc',\n",
    "    'IsModernHouseType',\n",
    "    'IsGasHeating',\n",
    "    'IsHeatingGood',\n",
    "    'IsNewElectrBreakers'\n",
    "]\n",
    "\n",
    "X = train_df[baseline_features]\n",
    "Y = train_df['SalePrice']"
   ]
  },
  {
   "source": [
    "## Modeling"
   ],
   "cell_type": "markdown",
   "metadata": {}
  },
  {
   "cell_type": "code",
   "execution_count": 20,
   "metadata": {},
   "outputs": [],
   "source": [
    "# Build feature transformer\n",
    "\n",
    "logTransformer = FunctionTransformer(func=np.log1p, inverse_func=np.expm1)\n",
    "\n",
    "featureTransformer = ColumnTransformer([\n",
    "        ('basement_area_log', logTransformer, ['BsmtFinSF1', 'BsmtFinSF2']),\n",
    "        ('neighborhood_onehot', OneHotEncoder(categories=[neighborhoodCategories]), ['Neighborhood']),\n",
    "        ('subclass_onehot', OneHotEncoder(categories=[subclassCategories], handle_unknown='ignore'), ['MSSubClass']),\n",
    "        ('lot_shape_onehot', OneHotEncoder(categories=[lotShapeCategories]), ['LotShape']),\n",
    "        ('land_slope_onehot', OneHotEncoder(categories=[landSlopeCategories]), ['LandSlope']),\n",
    "        ('sale_condtion_onehot', OneHotEncoder(categories=[saleCondCategories]), ['SaleCondition']),\n",
    "        ('land_contour_onehot', OneHotEncoder(), ['LandContour']),\n",
    "        ('zoning_onehot', OneHotEncoder(), ['MSZoning']),\n",
    "        ('condition_onehot', OneHotEncoder(categories=[conditionCategories, conditionCategories]), ['Condition1', 'Condition2']), #\n",
    "    ],\n",
    "    remainder='passthrough'\n",
    ")"
   ]
  },
  {
   "source": [
    "### ElasticNet"
   ],
   "cell_type": "markdown",
   "metadata": {}
  },
  {
   "cell_type": "code",
   "execution_count": 21,
   "metadata": {},
   "outputs": [
    {
     "output_type": "stream",
     "name": "stdout",
     "text": [
      "ElasticNet:\n",
      "[CV] MSE: 1155479601.0997 (87444740.8282)\n",
      "[CV] MAE: 20138.0254 (590.1487)\n",
      "[CV] R^2: 0.8151 (0.0254)\n",
      "[CV] RMSLE: 0.197506 (0.0346)\n"
     ]
    }
   ],
   "source": [
    "elasticnet_model = ElasticNet(\n",
    "    alpha=0.5,\n",
    "    l1_ratio=0.8,\n",
    "    random_state=42,\n",
    ")\n",
    "\n",
    "elasticnet_pipeline = Pipeline([\n",
    "    ('preprocessing', featureTransformer),\n",
    "    ('elasticnet', elasticnet_model)\n",
    "])\n",
    "\n",
    "print('ElasticNet:')\n",
    "score_model(elasticnet_pipeline, X, Y)"
   ]
  },
  {
   "cell_type": "code",
   "execution_count": 22,
   "metadata": {},
   "outputs": [],
   "source": [
    "parameters = {\n",
    "    'elasticnet__alpha': [9e-4, 7e-4, 5e-4, 3e-4, 1e-4, 1e-3, 5e-2, 1e-2, 0.1, 0.5, 1, 2, 5],\n",
    "    'elasticnet__l1_ratio': [0.01, 0.1, 0.2, 0.3, 0.5, 0.6, 0.7, 0.8, 1],\n",
    "}\n",
    "\n",
    "paramSearch = GridSearchCV(\n",
    "  estimator=elasticnet_pipeline,\n",
    "  scoring='neg_mean_squared_error',\n",
    "  param_grid=parameters, \n",
    "  cv=2,\n",
    "  n_jobs=-1, \n",
    "  verbose=3\n",
    ")\n",
    "\n",
    "#paramSearch.fit(X, Y)\n",
    "#paramSearch.best_params_, paramSearch.best_score_"
   ]
  },
  {
   "source": [
    "### Ridge"
   ],
   "cell_type": "markdown",
   "metadata": {}
  },
  {
   "cell_type": "code",
   "execution_count": 23,
   "metadata": {},
   "outputs": [],
   "source": [
    "# https://www.kaggle.com/marktsvirko/votingregressor-xgb-svm-top-10"
   ]
  },
  {
   "cell_type": "code",
   "execution_count": 24,
   "metadata": {},
   "outputs": [
    {
     "output_type": "stream",
     "name": "stdout",
     "text": [
      "Ridge:\n",
      "[CV] MSE: 1365363776.2145 (87678735.1571)\n",
      "[CV] MAE: 22101.2675 (439.6299)\n",
      "[CV] R^2: 0.7816 (0.0275)\n",
      "[CV] RMSLE: 0.176974 (0.0004)\n"
     ]
    }
   ],
   "source": [
    "ridge_model = Ridge(\n",
    "        solver='auto',\n",
    "        alpha=522,\n",
    "        random_state=42,\n",
    "    )\n",
    "\n",
    "ridge_pipeline = Pipeline([\n",
    "    ('preprocessing', featureTransformer),\n",
    "    ('ridge', ridge_model),\n",
    "])\n",
    "\n",
    "print('Ridge:')\n",
    "score_model(ridge_pipeline, X, Y)"
   ]
  },
  {
   "cell_type": "code",
   "execution_count": 25,
   "metadata": {},
   "outputs": [],
   "source": [
    "parameters = {\n",
    "    'ridge__solver': ['auto', 'saga', 'sag', 'cholesky'],\n",
    "    'ridge__alpha': [510, 519, 520, 522, 530],\n",
    "}\n",
    "\n",
    "paramSearch = GridSearchCV(\n",
    "  estimator=ridge_pipeline,\n",
    "  scoring=make_scorer(neg_rmsle),\n",
    "  param_grid=parameters, \n",
    "  cv=2,\n",
    "  n_jobs=-1, \n",
    "  verbose=3\n",
    ")\n",
    "\n",
    "#paramSearch.fit(X, Y)\n",
    "#paramSearch.best_params_, paramSearch.best_score_"
   ]
  },
  {
   "source": [
    "### SVR"
   ],
   "cell_type": "markdown",
   "metadata": {}
  },
  {
   "cell_type": "code",
   "execution_count": 26,
   "metadata": {},
   "outputs": [
    {
     "output_type": "stream",
     "name": "stdout",
     "text": [
      "SVR:\n",
      "[CV] MSE: 1326306894.2382 (22325848.3253)\n",
      "[CV] MAE: 20510.9768 (888.8130)\n",
      "[CV] R^2: 0.7885 (0.0167)\n",
      "[CV] RMSLE: 0.161927 (0.0083)\n"
     ]
    }
   ],
   "source": [
    "svr_model = SVR(\n",
    "    kernel='linear',\n",
    "    C=200\n",
    ")\n",
    "\n",
    "svr_pipeline = Pipeline([\n",
    "    ('preprocessing', featureTransformer),\n",
    "    ('svr', svr_model),\n",
    "])\n",
    "\n",
    "print('SVR:')\n",
    "score_model(svr_pipeline, X, Y)"
   ]
  },
  {
   "cell_type": "code",
   "execution_count": 27,
   "metadata": {},
   "outputs": [],
   "source": [
    "parameters = {\n",
    "    'svr__C': [1, 20, 50, 100, 120, 150, 200],\n",
    "    'svr__kernel': ['linear'],\n",
    "    #'svr__tol': [1e-3, 1e-5, 1e-4, 1e-2, 0.1]\n",
    "}\n",
    "\n",
    "paramSearch = GridSearchCV(\n",
    "   estimator=svr_pipeline,\n",
    "   scoring=make_scorer(neg_rmsle),\n",
    "   param_grid=parameters,\n",
    "   cv=2,\n",
    "   n_jobs=-1, \n",
    "   verbose=3\n",
    ")\n",
    "\n",
    "#paramSearch.fit(X, Y)\n",
    "#paramSearch.best_params_, paramSearch.best_score_"
   ]
  },
  {
   "source": [
    "### Random Forest"
   ],
   "cell_type": "markdown",
   "metadata": {}
  },
  {
   "cell_type": "code",
   "execution_count": 28,
   "metadata": {},
   "outputs": [
    {
     "output_type": "stream",
     "name": "stdout",
     "text": [
      "RandomForest Regressor:\n",
      "[CV] MSE: 1212673906.6255 (1962614.2755)\n",
      "[CV] MAE: 20564.0722 (729.9403)\n",
      "[CV] R^2: 0.8068 (0.0124)\n",
      "[CV] RMSLE: 0.167917 (0.0073)\n"
     ]
    }
   ],
   "source": [
    "random_forest_model = RandomForestRegressor(\n",
    "        bootstrap=True,\n",
    "        max_depth=15,\n",
    "        max_features='sqrt',\n",
    "        max_leaf_nodes=None,\n",
    "        max_samples=None,\n",
    "        min_samples_leaf=5,\n",
    "        min_samples_split=5,\n",
    "        n_estimators=2500,\n",
    "        random_state=42,\n",
    "    )\n",
    "\n",
    "random_forest_pipeline = Pipeline([\n",
    "    ('preprocessing', featureTransformer),\n",
    "    ('random_forest', random_forest_model),\n",
    "])\n",
    "\n",
    "# Measure performance\n",
    "\n",
    "print('RandomForest Regressor:')\n",
    "score_model(random_forest_pipeline, X, Y)\n",
    "\n",
    "## RF(max_depth=15, max_features='sqrt', min_samples_leaf=1, min_samples_split=3, n_estimators=3650)\n",
    "## CV=2, ?\n",
    "#[CV] MSE: 904073278.0912 (34098840.2146)\n",
    "#[CV] MAE: 17896.4251 (795.0885)\n",
    "#[CV] R^2: 0.8563 (0.0036)\n",
    "\n",
    "## RF(max_depth=25, max_features='sqrt', min_samples_leaf=1, min_samples_split=2, n_estimators=1000)\n",
    "## CV=2, 0.15007\n",
    "#[CV] MSE: 889831012.8445 (46061331.0130)\n",
    "#[CV] MAE: 17721.0043 (817.3113)\n",
    "#[CV] R^2: 0.8587 (0.0015)\n",
    "\n",
    "#[CV] MSE: 901503923.2650 (37758910.2379)\n",
    "#[CV] MAE: 17843.5568 (877.0261)\n",
    "#[CV] R^2: 0.8568 (0.0029)\n",
    "#[CV] RMSLE: 0.148084 (0.0074)"
   ]
  },
  {
   "cell_type": "code",
   "execution_count": 29,
   "metadata": {},
   "outputs": [
    {
     "output_type": "execute_result",
     "data": {
      "text/plain": [
       "[(0.1445428208793088, 'OverallQual'),\n",
       " (0.09087328079458917, 'GarageCars'),\n",
       " (0.08621325814093257, '1stFlrSF'),\n",
       " (0.08172366467543472, 'ExterQualEnc'),\n",
       " (0.07087914408531265, 'KitchenQualEnc'),\n",
       " (0.06472466521572218, 'BsmtQualEnc'),\n",
       " (0.06241973984122541, 'HouseAge'),\n",
       " (0.06012312177394739, 'TotalBathrooms'),\n",
       " (0.048949117028197216, 'BsmtFinSF1'),\n",
       " (0.0439308287148898, '2ndFlrSF'),\n",
       " (0.03523274220902314, 'GarageFinishEnc'),\n",
       " (0.033342686980252376, 'HasFireplace'),\n",
       " (0.0174266336161609, 'BsmtFinType1Enc'),\n",
       " (0.01615315106125518, 'MSSubClass_60'),\n",
       " (0.014689182205985411, 'BsmtUnfSF'),\n",
       " (0.014114973213786006, 'Neighborhood_NridgHt'),\n",
       " (0.011932400170357902, 'BedroomAbvGr'),\n",
       " (0.011687052248562663, 'IsModernHouseType'),\n",
       " (0.00922700705847853, 'Neighborhood_NoRidge'),\n",
       " (0.008406734301617752, 'IsHeatingGood'),\n",
       " (0.0077979143811928485, 'SaleCondition_Partial'),\n",
       " (0.005987322016183236, 'MSZoning_RM'),\n",
       " (0.005502384204194239, 'OverallCond'),\n",
       " (0.004825669354701873, 'LotShape_Reg'),\n",
       " (0.004429036255391915, 'MSZoning_RL'),\n",
       " (0.003848856049281338, 'CentralAirEnc'),\n",
       " (0.0030972669059520868, 'MSSubClass_30'),\n",
       " (0.0026848231896698877, 'LotShape_IR1'),\n",
       " (0.002389515266373154, 'MSSubClass_20'),\n",
       " (0.0022513373902476666, 'SaleCondition_Normal'),\n",
       " (0.0017627391069709778, 'Neighborhood_Crawfor'),\n",
       " (0.001724809755166381, 'BsmtCondEnc'),\n",
       " (0.0015613052429113245, 'IsNewHouseSold'),\n",
       " (0.0015396692518509468, 'IsNewElectrBreakers'),\n",
       " (0.001512622425257608, 'Neighborhood_StoneBr'),\n",
       " (0.0014245269700391965, 'Neighborhood_NAmes'),\n",
       " (0.0012199717207005733, 'LandSlope_Gtl'),\n",
       " (0.0012050059160876767, 'MSSubClass_120'),\n",
       " (0.0011482445663225718, 'FenceEnc'),\n",
       " (0.0011213598409530385, 'MSSubClass_160'),\n",
       " (0.0011019027007378888, 'LandContour_Lvl'),\n",
       " (0.0010400178542876357, 'Neighborhood_Somerst'),\n",
       " (0.0008943123478742545, 'BsmtFinType2Enc'),\n",
       " (0.0008457557588803647, 'Neighborhood_Gilbert'),\n",
       " (0.0008379397503889925, 'Neighborhood_CollgCr'),\n",
       " (0.0008167127003743477, 'BsmtFinSF2'),\n",
       " (0.0007040132819929057, 'Neighborhood_Edwards'),\n",
       " (0.0006957635156570736, 'Neighborhood_OldTown'),\n",
       " (0.000659742965067234, 'Neighborhood_NWAmes'),\n",
       " (0.0006486405777753441, 'MSSubClass_70'),\n",
       " (0.0005326310767759366, 'Condition1_Norm'),\n",
       " (0.0005258343705141789, 'LandSlope_Mod'),\n",
       " (0.0005244678044844662, 'MSSubClass_90'),\n",
       " (0.0005079599021517784, 'LotShape_IR2'),\n",
       " (0.00047935608922741664, 'LandContour_HLS'),\n",
       " (0.0004728557086351739, 'Neighborhood_ClearCr'),\n",
       " (0.0004595638963492809, 'MSZoning_FV'),\n",
       " (0.00041866079446949405, 'SaleCondition_Abnorml'),\n",
       " (0.00040395150130748326, 'MSSubClass_50'),\n",
       " (0.0003645744721530723, 'FunctionalGroup'),\n",
       " (0.0003441494170246798, 'LandContour_Low'),\n",
       " (0.0003409976589286889, 'Neighborhood_IDOTRR'),\n",
       " (0.0002969362857000625, 'Neighborhood_Timber'),\n",
       " (0.0002608623416851363, 'Neighborhood_Sawyer'),\n",
       " (0.00023106990551397566, 'Neighborhood_MeadowV'),\n",
       " (0.00020734139313922633, 'MSSubClass_80'),\n",
       " (0.00018217009702786128, 'Neighborhood_Mitchel'),\n",
       " (0.00017200200804469185, 'Neighborhood_Blmngtn'),\n",
       " (0.00016499247841964159, 'Condition1_Feedr'),\n",
       " (0.00014346843469101496, 'MSSubClass_75'),\n",
       " (0.00013021342858715164, 'Neighborhood_BrkSide'),\n",
       " (0.00012944190159970087, 'MSZoning_C (all)'),\n",
       " (0.0001216646358171177, 'IsGasHeating'),\n",
       " (0.00010597185080930801, 'Neighborhood_SawyerW'),\n",
       " (9.364148944348483e-05, 'MSSubClass_180'),\n",
       " (9.33687542464558e-05, 'Condition1_Artery'),\n",
       " (9.269905951947122e-05, 'Neighborhood_BrDale'),\n",
       " (7.819405259435364e-05, 'LandSlope_Sev'),\n",
       " (7.39079891129447e-05, 'LandContour_Bnk'),\n",
       " (3.045011118384685e-05, 'Neighborhood_SWISU'),\n",
       " (2.6772756763864376e-05, 'Condition1_PosN'),\n",
       " (2.473880161118646e-05, 'MSSubClass_190'),\n",
       " (2.349903849068098e-05, 'Condition1_RRAn'),\n",
       " (1.5035424014787712e-05, 'Condition1_PosA'),\n",
       " (1.2423513117470029e-05, 'Neighborhood_Veenker'),\n",
       " (1.1234218647497707e-05, 'MSSubClass_85'),\n",
       " (9.626895515430538e-06, 'MSZoning_RH'),\n",
       " (8.752248018103124e-06, 'Neighborhood_NPkVill'),\n",
       " (5.262875988066244e-06, 'MSSubClass_45'),\n",
       " (4.4478168880409145e-06, 'Condition2_Norm'),\n",
       " (2.659277813425648e-06, 'SaleCondition_Alloca'),\n",
       " (5.245784234759018e-07, 'SaleCondition_Family'),\n",
       " (2.3816802661658557e-07, 'Condition1_RRAe'),\n",
       " (0.0, 'SaleCondition_AdjLand'),\n",
       " (0.0, 'Neighborhood_Blueste'),\n",
       " (0.0, 'MSSubClass_40'),\n",
       " (0.0, 'LotShape_IR3'),\n",
       " (0.0, 'Condition2_RRNn'),\n",
       " (0.0, 'Condition2_RRNe'),\n",
       " (0.0, 'Condition2_RRAn'),\n",
       " (0.0, 'Condition2_RRAe'),\n",
       " (0.0, 'Condition2_PosN'),\n",
       " (0.0, 'Condition2_PosA'),\n",
       " (0.0, 'Condition2_Feedr'),\n",
       " (0.0, 'Condition2_Artery'),\n",
       " (0.0, 'Condition1_RRNn'),\n",
       " (0.0, 'Condition1_RRNe')]"
      ]
     },
     "metadata": {},
     "execution_count": 29
    }
   ],
   "source": [
    "random_forest_pipeline.fit(X, Y)\n",
    "\n",
    "X_columns = get_columns_from_transformer(random_forest_pipeline.named_steps['preprocessing'], list(X.columns))\n",
    "\n",
    "features_list = sorted(zip(random_forest_pipeline.named_steps['random_forest'].feature_importances_, X_columns), reverse=True)\n",
    "random_forest_pipeline.named_steps['preprocessing'].transformers_\n",
    "\n",
    "features_list"
   ]
  },
  {
   "cell_type": "code",
   "execution_count": 30,
   "metadata": {},
   "outputs": [],
   "source": [
    "from skopt import BayesSearchCV\n",
    "from skopt.space import Real, Categorical, Integer\n",
    "from skopt.plots import plot_objective, plot_histogram\n",
    "\n",
    "parameters = {\n",
    "    'random_forest__max_depth': [None, 15,  20, 25],\n",
    "    'random_forest__max_features': ['sqrt'],\n",
    "    'random_forest__max_leaf_nodes': [None, 5, 15, 17, 20],\n",
    "    'random_forest__min_samples_leaf': [1, 2, 3],\n",
    "    'random_forest__min_samples_split': [2, 1, 3],\n",
    "    'random_forest__max_samples': [None, 2, 5],\n",
    "    'random_forest__n_estimators': [1500, 2000, 2500]\n",
    "}\n",
    "\n",
    "paramSearch = GridSearchCV(\n",
    "  estimator=random_forest_pipeline,\n",
    "  scoring=make_scorer(neg_rmsle),\n",
    "  param_grid=parameters, \n",
    "  cv=2,\n",
    "  n_jobs=-1, \n",
    "  verbose=3\n",
    ")\n",
    "\n",
    "#paramSearch.fit(X, Y)\n",
    "#paramSearch.best_params_, paramSearch.best_score_"
   ]
  },
  {
   "cell_type": "code",
   "execution_count": 31,
   "metadata": {},
   "outputs": [],
   "source": [
    "#plot_learning_curve(random_forest_pipeline, X, Y, cv=3)"
   ]
  },
  {
   "source": [
    "### XGBoostRegressor"
   ],
   "cell_type": "markdown",
   "metadata": {}
  },
  {
   "cell_type": "code",
   "execution_count": 32,
   "metadata": {},
   "outputs": [
    {
     "output_type": "stream",
     "name": "stdout",
     "text": [
      "XGB Regressor:\n",
      "[CV] MSE: 738250996.5118 (6001855.1068)\n",
      "[CV] MAE: 15676.1520 (309.6039)\n",
      "[CV] R^2: 0.8823 (0.0083)\n",
      "[CV] RMSLE: 0.124906 (0.0050)\n"
     ]
    }
   ],
   "source": [
    "from xgboost import XGBRegressor\n",
    "\n",
    "xgb_model = XGBRegressor(\n",
    "        max_depth=5,\n",
    "        n_estimators=7050,\n",
    "        learning_rate=0.01,\n",
    "        min_child_weight=1.5,\n",
    "        subsample=0.2,\n",
    "        gamma=0,\n",
    "        reg_alpha=1,\n",
    "        reg_lambda=0.1,\n",
    "        objective='reg:gamma',\n",
    "        booster='gbtree'\n",
    "    )\n",
    "\n",
    "xgb_pipeline = Pipeline([\n",
    "    ('preprocessing', featureTransformer),\n",
    "    ('xgb_regressor', xgb_model),\n",
    "])\n",
    "\n",
    "# Measure Performance\n",
    "\n",
    "print('XGB Regressor:')\n",
    "score_model(xgb_pipeline, X, Y)"
   ]
  },
  {
   "cell_type": "code",
   "execution_count": 33,
   "metadata": {},
   "outputs": [
    {
     "output_type": "execute_result",
     "data": {
      "text/plain": [
       "[(0.101678535, 'OverallQual'),\n",
       " (0.061046205, 'ExterQualEnc'),\n",
       " (0.053537242, 'GarageCars'),\n",
       " (0.053231962, 'TotalBathrooms'),\n",
       " (0.040238783, 'KitchenQualEnc'),\n",
       " (0.038848266, 'HasFireplace'),\n",
       " (0.038545396, 'MSZoning_C (all)'),\n",
       " (0.0253909, 'CentralAirEnc'),\n",
       " (0.022862863, 'BsmtQualEnc'),\n",
       " (0.02219581, 'IsGasHeating'),\n",
       " (0.019969147, '1stFlrSF'),\n",
       " (0.018459076, 'MSSubClass_30'),\n",
       " (0.016667299, 'BsmtFinSF1'),\n",
       " (0.0140679255, 'MSSubClass_180'),\n",
       " (0.01401784, 'SaleCondition_Family'),\n",
       " (0.013288294, 'Neighborhood_IDOTRR'),\n",
       " (0.013110669, 'GarageFinishEnc'),\n",
       " (0.012693353, '2ndFlrSF'),\n",
       " (0.011718719, 'LotShape_IR3'),\n",
       " (0.010360016, 'MSZoning_RM'),\n",
       " (0.010275483, 'SaleCondition_Abnorml'),\n",
       " (0.009360203, 'MSSubClass_45'),\n",
       " (0.009330767, 'SaleCondition_Alloca'),\n",
       " (0.009310585, 'MSSubClass_60'),\n",
       " (0.00911561, 'Condition1_PosN'),\n",
       " (0.009044611, 'Condition2_Norm'),\n",
       " (0.008761291, 'Neighborhood_OldTown'),\n",
       " (0.008173171, 'Neighborhood_MeadowV'),\n",
       " (0.008106131, 'OverallCond'),\n",
       " (0.00783162, 'Condition1_RRAe'),\n",
       " (0.00774263, 'Condition2_Feedr'),\n",
       " (0.007321593, 'Neighborhood_Blmngtn'),\n",
       " (0.0071406676, 'Neighborhood_BrDale'),\n",
       " (0.00711613, 'Neighborhood_Edwards'),\n",
       " (0.006863962, 'SaleCondition_Partial'),\n",
       " (0.0067218184, 'IsHeatingGood'),\n",
       " (0.0065853964, 'Condition1_Artery'),\n",
       " (0.0065553845, 'SaleCondition_Normal'),\n",
       " (0.0064887283, 'MSSubClass_90'),\n",
       " (0.0064445133, 'LotShape_Reg'),\n",
       " (0.006426577, 'Condition1_Feedr'),\n",
       " (0.006300009, 'MSZoning_RH'),\n",
       " (0.0062597943, 'FunctionalGroup'),\n",
       " (0.0058137137, 'MSSubClass_160'),\n",
       " (0.005810479, 'Condition1_Norm'),\n",
       " (0.0057188766, 'HouseAge'),\n",
       " (0.0055983216, 'LandContour_Bnk'),\n",
       " (0.005482615, 'MSZoning_RL'),\n",
       " (0.005380831, 'MSSubClass_190'),\n",
       " (0.0052431594, 'SaleCondition_AdjLand'),\n",
       " (0.005097959, 'BedroomAbvGr'),\n",
       " (0.0050432007, 'BsmtFinType1Enc'),\n",
       " (0.00503523, 'Neighborhood_NAmes'),\n",
       " (0.004655602, 'LandContour_Low'),\n",
       " (0.0046292576, 'BsmtCondEnc'),\n",
       " (0.0045786467, 'MSSubClass_75'),\n",
       " (0.004566917, 'IsNewElectrBreakers'),\n",
       " (0.004566734, 'Condition2_RRNn'),\n",
       " (0.0044771703, 'Neighborhood_Sawyer'),\n",
       " (0.004463671, 'MSSubClass_120'),\n",
       " (0.0042258613, 'LandContour_Lvl'),\n",
       " (0.004139899, 'LandSlope_Gtl'),\n",
       " (0.0041187443, 'MSSubClass_20'),\n",
       " (0.004063885, 'Neighborhood_NWAmes'),\n",
       " (0.004062338, 'BsmtUnfSF'),\n",
       " (0.0040284945, 'Condition1_PosA'),\n",
       " (0.0039533344, 'IsNewHouseSold'),\n",
       " (0.003847395, 'Neighborhood_CollgCr'),\n",
       " (0.003813415, 'Neighborhood_SWISU'),\n",
       " (0.0037906768, 'Neighborhood_ClearCr'),\n",
       " (0.003771455, 'MSSubClass_80'),\n",
       " (0.0037683954, 'LandSlope_Sev'),\n",
       " (0.0037120832, 'Neighborhood_Crawfor'),\n",
       " (0.0036827354, 'FenceEnc'),\n",
       " (0.0036530644, 'Neighborhood_Somerst'),\n",
       " (0.0036480543, 'Neighborhood_BrkSide'),\n",
       " (0.0036393858, 'Neighborhood_SawyerW'),\n",
       " (0.0035997871, 'Neighborhood_Timber'),\n",
       " (0.003573995, 'MSSubClass_70'),\n",
       " (0.0035562515, 'Neighborhood_NPkVill'),\n",
       " (0.0035153842, 'MSSubClass_50'),\n",
       " (0.003513019, 'BsmtFinType2Enc'),\n",
       " (0.0034658783, 'BsmtFinSF2'),\n",
       " (0.0034463264, 'IsModernHouseType'),\n",
       " (0.003385671, 'Neighborhood_NridgHt'),\n",
       " (0.0032977501, 'LotShape_IR1'),\n",
       " (0.003277912, 'MSZoning_FV'),\n",
       " (0.0032579775, 'Neighborhood_NoRidge'),\n",
       " (0.0032497887, 'Neighborhood_Gilbert'),\n",
       " (0.0032260732, 'LandContour_HLS'),\n",
       " (0.0032177388, 'LotShape_IR2'),\n",
       " (0.0031638131, 'Condition1_RRAn'),\n",
       " (0.0031148673, 'Neighborhood_StoneBr'),\n",
       " (0.0030004971, 'Neighborhood_Mitchel'),\n",
       " (0.0028820934, 'LandSlope_Mod'),\n",
       " (0.0027455715, 'Neighborhood_Veenker'),\n",
       " (0.002291749, 'MSSubClass_40'),\n",
       " (0.0015975019, 'MSSubClass_85'),\n",
       " (0.0010513128, 'Condition1_RRNe'),\n",
       " (0.0010412885, 'Condition1_RRNn'),\n",
       " (0.00024108526, 'Neighborhood_Blueste'),\n",
       " (0.0, 'Condition2_RRNe'),\n",
       " (0.0, 'Condition2_RRAn'),\n",
       " (0.0, 'Condition2_RRAe'),\n",
       " (0.0, 'Condition2_PosN'),\n",
       " (0.0, 'Condition2_PosA'),\n",
       " (0.0, 'Condition2_Artery')]"
      ]
     },
     "metadata": {},
     "execution_count": 33
    }
   ],
   "source": [
    "xgb_pipeline.fit(X, Y)\n",
    "X_columns = get_columns_from_transformer(xgb_pipeline.named_steps['preprocessing'], list(X.columns))\n",
    "\n",
    "features_list = sorted(zip(xgb_pipeline.named_steps['xgb_regressor'].feature_importances_, X_columns), reverse=True)\n",
    "features_list"
   ]
  },
  {
   "cell_type": "code",
   "execution_count": 34,
   "metadata": {},
   "outputs": [],
   "source": [
    "parameters = {\n",
    "    'xgb_regressor__objective': ['reg:gamma'], # 'reg:squarederror', 'reg:squaredlogerror'\n",
    "    'xgb_regressor__learning_rate': [0.01],\n",
    "    'xgb_regressor__n_estimators': [6900, 7000, 7100],\n",
    "    'xgb_regressor__max_depth': [5],\n",
    "    'xgb_regressor__booster': ['gbtree'],\n",
    "    'xgb_regressor__min_child_weight': [1.5],\n",
    "    'xgb_regressor__gamma': [0],\n",
    "    'xgb_regressor__subsample': [0.2],\n",
    "    'xgb_regressor__reg_alpha': [1],\n",
    "    'xgb_regressor__reg_lambda': [0.1],\n",
    "}\n",
    "\n",
    "paramSearch = GridSearchCV(\n",
    "   estimator=xgb_pipeline,\n",
    "   scoring=make_scorer(neg_rmsle),\n",
    "   param_grid=parameters,\n",
    "   cv=2,\n",
    "   n_jobs=-1, \n",
    "   verbose=3\n",
    ")\n",
    "\n",
    "#paramSearch.fit(X, Y)\n",
    "#paramSearch.best_params_, paramSearch.best_score_"
   ]
  },
  {
   "source": [
    "### StackingRegressor"
   ],
   "cell_type": "markdown",
   "metadata": {}
  },
  {
   "cell_type": "code",
   "execution_count": 35,
   "metadata": {},
   "outputs": [],
   "source": [
    "# https://www.kaggle.com/lavanyashukla01/how-i-made-top-0-3-on-a-kaggle-competition"
   ]
  },
  {
   "cell_type": "code",
   "execution_count": 43,
   "metadata": {},
   "outputs": [
    {
     "output_type": "stream",
     "name": "stdout",
     "text": [
      "Stacking Regressor:\n",
      "[CV] MSE: 786738768.0652 (44886473.9087)\n",
      "[CV] MAE: 16261.8147 (207.4992)\n",
      "[CV] R^2: 0.8742 (0.0150)\n",
      "[CV] RMSLE: 0.132435 (0.0023)\n",
      "CPU times: user 7.62 s, sys: 946 ms, total: 8.57 s\n",
      "Wall time: 1min 12s\n"
     ]
    }
   ],
   "source": [
    "%%time\n",
    "\n",
    "stacking_final_model = XGBRegressor()\n",
    "\n",
    "stacking_model = StackingRegressor(\n",
    "    estimators=[\n",
    "        ('xgb', xgb_model),\n",
    "        ('random_forest', random_forest_model),\n",
    "        ('elasticnet', elasticnet_model),\n",
    "        ('ridge', ridge_model),\n",
    "        ('svr', svr_model)\n",
    "    ], \n",
    "    #final_estimator=stacking_final_model,\n",
    "    cv=2,\n",
    "    n_jobs=-1,\n",
    ")\n",
    "\n",
    "stacking_regressor_pipeline = Pipeline([\n",
    "    ('preprocessing', featureTransformer),\n",
    "    ('stacking_regressor', stacking_model)\n",
    "])\n",
    "\n",
    "print('Stacking Regressor:')\n",
    "score_model(stacking_regressor_pipeline, X, Y)"
   ]
  },
  {
   "source": [
    "### VotingRegressor"
   ],
   "cell_type": "markdown",
   "metadata": {}
  },
  {
   "cell_type": "code",
   "execution_count": 42,
   "metadata": {},
   "outputs": [
    {
     "output_type": "stream",
     "name": "stdout",
     "text": [
      "Voting Regressor:\n",
      "[CV] MSE: 1000744345.3257 (30193946.7221)\n",
      "[CV] MAE: 17778.4282 (680.7847)\n",
      "[CV] R^2: 0.8403 (0.0148)\n",
      "[CV] RMSLE: 0.140638 (0.0055)\n"
     ]
    }
   ],
   "source": [
    "# https://www.kaggle.com/marktsvirko/votingregressor-xgb-svm-top-10\n",
    "\n",
    "%%time\n",
    "\n",
    "voting_model = VotingRegressor(\n",
    "    estimators=[\n",
    "        ('xgb', xgb_model), \n",
    "        ('random_forest', random_forest_model),\n",
    "        ('elasticnet', elasticnet_model),\n",
    "        ('ridge', ridge_model),\n",
    "        ('svr', svr_model)\n",
    "    ],\n",
    "    n_jobs=-1,\n",
    ")\n",
    "\n",
    "voting_pipeline = Pipeline([\n",
    "    ('preprocessing', featureTransformer),\n",
    "    ('voting_regressor', voting_model)\n",
    "])\n",
    "\n",
    "print('Voting Regressor:')\n",
    "score_model(voting_pipeline, X, Y)"
   ]
  },
  {
   "cell_type": "code",
   "execution_count": 38,
   "metadata": {},
   "outputs": [],
   "source": [
    "parameters = {\n",
    "    'voting_regressor__weights': [None, [0.6, 0.3, 0.1]],\n",
    "}\n",
    "\n",
    "paramSearch = GridSearchCV(\n",
    "   estimator=voting_pipeline,\n",
    "   scoring=make_scorer(neg_rmsle),\n",
    "   param_grid=parameters,\n",
    "   cv=2,\n",
    "   n_jobs=-1, \n",
    "   verbose=3\n",
    ")\n",
    "\n",
    "#paramSearch.fit(X, Y)\n",
    "#paramSearch.best_params_, paramSearch.best_score_"
   ]
  },
  {
   "source": [
    "## Predict Submissions"
   ],
   "cell_type": "markdown",
   "metadata": {}
  },
  {
   "cell_type": "code",
   "execution_count": 39,
   "metadata": {
    "tags": [],
    "pycharm": {
     "name": "#%%\n"
    }
   },
   "outputs": [],
   "source": [
    "random_forest_pipeline.fit(X, Y)\n",
    "\n",
    "x_test = test_df[baseline_features]\n",
    "y_test_predicted = random_forest_pipeline.predict(x_test)\n",
    "\n",
    "y_test_predicted = np.rint(y_test_predicted).astype(int)\n",
    "\n",
    "submission_df = pd.DataFrame({\n",
    "    'Id': test_df['Id'],\n",
    "    'SalePrice': y_test_predicted,\n",
    "})\n",
    "\n",
    "submission_df.to_csv('./data/submission_random_forest.csv', index=False)"
   ]
  },
  {
   "cell_type": "code",
   "execution_count": 40,
   "metadata": {},
   "outputs": [],
   "source": [
    "xgb_pipeline.fit(X, Y)\n",
    "\n",
    "x_test = test_df[baseline_features]\n",
    "y_test_predicted = xgb_pipeline.predict(x_test)\n",
    "\n",
    "y_test_predicted = np.rint(y_test_predicted).astype(int)\n",
    "\n",
    "submission_df = pd.DataFrame({\n",
    "    'Id': test_df['Id'],\n",
    "    'SalePrice': y_test_predicted,\n",
    "})\n",
    "\n",
    "submission_df.to_csv('./data/submission_xgb.csv', index=False)"
   ]
  },
  {
   "cell_type": "code",
   "execution_count": 41,
   "metadata": {},
   "outputs": [],
   "source": [
    "stacking_regressor_pipeline.fit(X, Y)\n",
    "\n",
    "x_test = test_df[baseline_features]\n",
    "y_test_predicted = stacking_regressor_pipeline.predict(x_test)\n",
    "\n",
    "y_test_predicted = np.rint(y_test_predicted).astype(int)\n",
    "\n",
    "submission_df = pd.DataFrame({\n",
    "    'Id': test_df['Id'],\n",
    "    'SalePrice': y_test_predicted,\n",
    "})\n",
    "\n",
    "submission_df.to_csv('./data/submission_stacking.csv', index=False)"
   ]
  },
  {
   "cell_type": "code",
   "execution_count": null,
   "metadata": {},
   "outputs": [],
   "source": []
  }
 ]
}