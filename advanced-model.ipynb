{
 "metadata": {
  "language_info": {
   "codemirror_mode": {
    "name": "ipython",
    "version": 3
   },
   "file_extension": ".py",
   "mimetype": "text/x-python",
   "name": "python",
   "nbconvert_exporter": "python",
   "pygments_lexer": "ipython3",
   "version": "3.8.6-final"
  },
  "orig_nbformat": 2,
  "kernelspec": {
   "name": "pycharm-b6383702",
   "language": "python",
   "display_name": "PyCharm (house-prices-advanced-regression-techniques)"
  }
 },
 "nbformat": 4,
 "nbformat_minor": 2,
 "cells": [
  {
   "cell_type": "code",
   "execution_count": 1,
   "metadata": {},
   "outputs": [],
   "source": [
    "import pandas as pd\n",
    "import matplotlib.pyplot as plt\n",
    "import seaborn as sns\n",
    "import numpy as np\n",
    "from scipy.stats import norm, skew\n",
    "\n",
    "from sklearn.base import BaseEstimator, TransformerMixin\n",
    "from sklearn.compose import ColumnTransformer, TransformedTargetRegressor\n",
    "from sklearn.impute import SimpleImputer\n",
    "from sklearn.preprocessing import OrdinalEncoder, LabelEncoder, OneHotEncoder, StandardScaler, MinMaxScaler, \\\n",
    "    RobustScaler, FunctionTransformer\n",
    "from sklearn.linear_model import LinearRegression, LassoCV, Ridge, ElasticNetCV, ElasticNet\n",
    "from sklearn.svm import SVR\n",
    "from sklearn.experimental import enable_hist_gradient_boosting\n",
    "from sklearn.ensemble import RandomForestRegressor, StackingRegressor, VotingRegressor\n",
    "from sklearn.metrics import mean_squared_error, r2_score, mean_absolute_error, mean_squared_log_error, make_scorer\n",
    "from sklearn.model_selection import GridSearchCV, train_test_split, cross_validate, cross_val_score, learning_curve\n",
    "from sklearn.pipeline import Pipeline\n",
    "from sklearn import set_config"
   ]
  },
  {
   "cell_type": "code",
   "execution_count": 2,
   "metadata": {},
   "outputs": [],
   "source": [
    "np.random.seed(42)\n",
    "set_config(display='diagram')\n",
    "\n",
    "plt.rcParams['figure.figsize'] = (12, 8)\n",
    "sns.set_theme(style='whitegrid')"
   ]
  },
  {
   "cell_type": "code",
   "execution_count": 3,
   "metadata": {},
   "outputs": [],
   "source": [
    "train_df = trainDf = pd.read_csv('data/train.csv')\n",
    "test_df = testDf = pd.read_csv('data/test.csv')\n",
    "\n",
    "full_df = fullDf = pd.concat([trainDf, testDf], sort=True).reset_index(drop=True)"
   ]
  },
  {
   "source": [
    "## Misc Functions"
   ],
   "cell_type": "markdown",
   "metadata": {}
  },
  {
   "cell_type": "code",
   "execution_count": 4,
   "metadata": {},
   "outputs": [],
   "source": [
    "def plot_learning_curve(estimator, X_train, y_train, cv, train_sizes=np.linspace(0.1, 1, 10)):\n",
    "    plt.style.use('seaborn-darkgrid')\n",
    "    \n",
    "    train_sizes, train_scores, test_scores = learning_curve(\n",
    "        estimator, X_train, y_train, \n",
    "        scoring='neg_mean_squared_error',\n",
    "        cv=cv, \n",
    "        n_jobs=-1, \n",
    "        train_sizes=train_sizes,\n",
    "        shuffle=True,\n",
    "        random_state=42\n",
    "        )\n",
    "    train_mean_scores = np.mean(train_scores, axis=1)\n",
    "    test_mean_scores = np.mean(test_scores, axis=1)\n",
    "\n",
    "    plt.title('Learning curve')\n",
    "    plt.plot(train_sizes, train_mean_scores, 'y', label='Train Learning curve')\n",
    "    plt.plot(train_sizes, test_mean_scores, 'b', label='Test Learning curve')\n",
    "    plt.legend()"
   ]
  },
  {
   "cell_type": "code",
   "execution_count": 5,
   "metadata": {},
   "outputs": [],
   "source": [
    "def neg_rmsle(y_true, y_pred):\n",
    "    y_pred = np.abs(y_pred)\n",
    "    \n",
    "    return -1 * np.sqrt(mean_squared_log_error(y_true, y_pred))"
   ]
  },
  {
   "cell_type": "code",
   "execution_count": 6,
   "metadata": {},
   "outputs": [],
   "source": [
    "def score_model(model, X, Y):\n",
    "    \n",
    "    scores = cross_validate(\n",
    "        model, X, Y, \n",
    "        scoring=['r2', 'neg_mean_absolute_error', 'neg_mean_squared_error'], cv=2,\n",
    "        n_jobs=-1, verbose=0)\n",
    "\n",
    "    rmsle_score = cross_val_score(model, X, Y, cv=2, scoring=make_scorer(neg_rmsle))\n",
    "\n",
    "    mse_score = -1 * scores['test_neg_mean_squared_error'].mean()\n",
    "    mse_std = scores['test_neg_mean_squared_error'].std()\n",
    "\n",
    "    mae_score = -1 * scores['test_neg_mean_absolute_error'].mean()\n",
    "    mae_std = scores['test_neg_mean_absolute_error'].std()\n",
    "\n",
    "    r2_score_mean = scores['test_r2'].mean()\n",
    "    r2_std = scores['test_r2'].std()\n",
    "\n",
    "    print('[CV] MSE: %.4f (%.4f)' % (mse_score, mse_std))\n",
    "    print('[CV] MAE: %.4f (%.4f)' % (mae_score, mae_std))\n",
    "    print('[CV] R^2: %.4f (%.4f)' % (r2_score_mean, r2_std))\n",
    "    print('[CV] RMSLE: %.6f (%.4f)' % (-1 * rmsle_score.mean(), rmsle_score.std()))"
   ]
  },
  {
   "cell_type": "code",
   "execution_count": 7,
   "metadata": {},
   "outputs": [],
   "source": [
    "def get_columns_from_transformer(column_transformer, input_colums):    \n",
    "    col_name = []\n",
    "\n",
    "    for transformer_in_columns in column_transformer.transformers_[:-1]: #the last transformer is ColumnTransformer's 'remainder'\n",
    "        raw_col_name = transformer_in_columns[2]\n",
    "        if isinstance(transformer_in_columns[1],Pipeline): \n",
    "            transformer = transformer_in_columns[1].steps[-1][1]\n",
    "        else:\n",
    "            transformer = transformer_in_columns[1]\n",
    "        try:\n",
    "            names = transformer.get_feature_names(raw_col_name)\n",
    "        except AttributeError: # if no 'get_feature_names' function, use raw column name\n",
    "            names = raw_col_name\n",
    "        if isinstance(names,np.ndarray): # eg.\n",
    "            col_name += names.tolist()\n",
    "        elif isinstance(names,list):\n",
    "            col_name += names    \n",
    "        elif isinstance(names,str):\n",
    "            col_name.append(names)\n",
    "\n",
    "    [_, _, reminder_columns] = column_transformer.transformers_[-1]\n",
    "\n",
    "    for col_idx in reminder_columns:\n",
    "        col_name.append(input_colums[col_idx])\n",
    "\n",
    "    return col_name"
   ]
  },
  {
   "source": [
    "## Data Cleaning and Preparation"
   ],
   "cell_type": "markdown",
   "metadata": {}
  },
  {
   "cell_type": "code",
   "execution_count": 8,
   "metadata": {},
   "outputs": [],
   "source": [
    "num_features = [f for f in full_df.columns if full_df.dtypes[f] != 'object']\n",
    "num_features.remove('Id')\n",
    "num_features.remove('SalePrice')\n",
    "\n",
    "cat_features = [f for f in full_df.columns if full_df.dtypes[f] == 'object']"
   ]
  },
  {
   "cell_type": "code",
   "execution_count": 9,
   "metadata": {},
   "outputs": [],
   "source": [
    "for feature in (\n",
    "    'PoolQC', \n",
    "    'FireplaceQu', \n",
    "    'Alley', \n",
    "    'Fence', \n",
    "    'MiscFeature', \n",
    "    'BsmtQual', \n",
    "    'BsmtCond', \n",
    "    'BsmtExposure', \n",
    "    'BsmtFinType1', \n",
    "    'BsmtFinType2',\n",
    "    'GarageType', \n",
    "    'GarageFinish', \n",
    "    'GarageQual', \n",
    "    'GarageCond',\n",
    "    'BsmtQual', \n",
    "    'BsmtCond', \n",
    "    'BsmtExposure', \n",
    "    'BsmtFinType1', \n",
    "    'BsmtFinType2',\n",
    "    'MasVnrType',\n",
    "    'MSSubClass',\n",
    "):\n",
    "    train_df[feature] = train_df[feature].fillna('None')\n",
    "    test_df[feature] = test_df[feature].fillna('None')\n",
    "    full_df[feature] = full_df[feature].fillna('None')\n",
    "\n",
    "for feature in (\n",
    "    'BsmtFinSF1', \n",
    "    'BsmtFinSF2', \n",
    "    'BsmtUnfSF',\n",
    "    'TotalBsmtSF', \n",
    "    'BsmtFullBath', \n",
    "    'BsmtHalfBath',\n",
    "    'MasVnrArea',\n",
    "    'GarageCars',\n",
    "    'GarageArea',\n",
    "    'GarageYrBlt',\n",
    "):\n",
    "    train_df[feature] = train_df[feature].fillna(0)\n",
    "    test_df[feature] = test_df[feature].fillna(0)\n",
    "    full_df[feature] = full_df[feature].fillna(0)\n",
    "\n",
    "for feature in (\n",
    "    'Electrical', \n",
    "    'KitchenQual', \n",
    "    'Exterior1st',\n",
    "    'Exterior2nd', \n",
    "    'SaleType',\n",
    "    'MSZoning',\n",
    "    'Utilities',\n",
    "):\n",
    "    train_df[feature] = train_df[feature].fillna(train_df[feature].mode()[0])\n",
    "    test_df[feature] = test_df[feature].fillna(test_df[feature].mode()[0])\n",
    "    full_df[feature] = full_df[feature].fillna(test_df[feature].mode()[0])\n",
    "\n",
    "train_df['Functional'] = train_df['Functional'].fillna('Typ')\n",
    "test_df['Functional'] = test_df['Functional'].fillna('Typ')\n",
    "full_df['Functional'] = full_df['Functional'].fillna('Typ')"
   ]
  },
  {
   "cell_type": "code",
   "execution_count": 10,
   "metadata": {},
   "outputs": [],
   "source": [
    "for dataframe in [train_df, test_df]:\n",
    "    dataframe['Exterior1st'].replace(['Brk Cmn', 'CmentBd', 'Wd Shng'], ['BrkComm', 'CemntBd', 'Wd Sdng'], inplace=True)\n",
    "    dataframe['Exterior2nd'].replace(['Brk Cmn', 'CmentBd', 'Wd Shng'], ['BrkComm', 'CemntBd', 'Wd Sdng'], inplace=True)"
   ]
  },
  {
   "cell_type": "code",
   "execution_count": 11,
   "metadata": {},
   "outputs": [],
   "source": [
    "ordinal_feature_mapping = {\n",
    "    'ExterQual': {'Po': 0, 'Fa': 1, 'TA': 2, 'Gd': 3, 'Ex': 4}, \n",
    "    'ExterCond': {'Po': 0, 'Fa': 1, 'TA': 2, 'Gd': 3, 'Ex': 4},\n",
    "    'BsmtQual': {'None': 0, 'Po': 1, 'Fa': 2, 'TA': 3, 'Gd': 4, 'Ex': 5},\n",
    "    'BsmtCond': {'None': 0, 'Po': 1, 'Fa': 2, 'TA': 3, 'Gd': 4, 'Ex': 5},\n",
    "    'BsmtFinType1': {'None': 0, 'Unf': 1, 'LwQ': 2, 'Rec': 3, 'BLQ': 4, 'ALQ': 5, 'GLQ': 6},\n",
    "    'BsmtFinType2': {'None': 0, 'Unf': 1, 'LwQ': 2, 'Rec': 3, 'BLQ': 4, 'ALQ': 5, 'GLQ': 6},\n",
    "    'HeatingQC': {'Po': 0, 'Fa': 1, 'TA': 2, 'Gd': 3, 'Ex': 4},\n",
    "    'KitchenQual': {'Po': 0, 'Fa': 1, 'TA': 2, 'Gd': 3, 'Ex': 4},\n",
    "    'FireplaceQu': {'None': 0, 'Po': 1, 'Fa': 2, 'TA': 3, 'Gd': 4, 'Ex': 5},\n",
    "    'GarageFinish': {'None': 0, 'Unf': 1, 'RFn': 2, 'Fin': 3},\n",
    "    'GarageQual': {'None': 0, 'Po': 1, 'Fa': 2, 'TA': 3, 'Gd': 4, 'Ex': 5},\n",
    "    'GarageCond': {'None': 0, 'Po': 1, 'Fa': 2, 'TA': 3, 'Gd': 4, 'Ex': 5},\n",
    "    'PoolQC': {'None': 0, 'Po': 1, 'Fa': 2, 'TA': 3, 'Gd': 4, 'Ex': 5},\n",
    "    'Fence': {'None': 0, 'MnWw': 1, 'GdWo': 2, 'MnPrv': 3, 'GdPrv': 4},\n",
    "    'PavedDrive': {'N': 0, 'P': 1, 'Y': 2},\n",
    "    'CentralAir': {'N': 0, 'Y': 1},\n",
    "    'Alley': {'None': 0, 'Pave': 1, 'Grvl': 2},\n",
    "    'Street': {'Pave': 0, 'Grvl': 1},\n",
    "    'Functional': {'Sal': 0, 'Sev': 1, 'Maj2': 2, 'Maj1': 3, 'Mod': 4, 'Min2': 5, 'Min1': 6, 'Typ': 7}\n",
    "}\n",
    "\n",
    "non_ordinal_cat_features = list(set(cat_features) - set(ordinal_feature_mapping.keys()))\n",
    "\n",
    "for cat_feature in non_ordinal_cat_features:\n",
    "    train_df[cat_feature + 'Enc'] = LabelEncoder().fit_transform(train_df[cat_feature])\n",
    "    test_df[cat_feature + 'Enc'] = LabelEncoder().fit_transform(test_df[cat_feature])\n",
    "\n",
    "for ordinal_feature, feature_mapping in ordinal_feature_mapping.items():\n",
    "    train_df[ordinal_feature + 'Enc'] = train_df[ordinal_feature].map(feature_mapping)\n",
    "    test_df[ordinal_feature + 'Enc'] = test_df[ordinal_feature].map(feature_mapping)"
   ]
  },
  {
   "source": [
    "### Num Feature Scaling"
   ],
   "cell_type": "markdown",
   "metadata": {}
  },
  {
   "cell_type": "code",
   "execution_count": 12,
   "metadata": {},
   "outputs": [],
   "source": [
    "# https://www.kaggle.com/serigne/stacked-regressions-top-4-on-leaderboard"
   ]
  },
  {
   "source": [
    "## Feature Engineering"
   ],
   "cell_type": "markdown",
   "metadata": {}
  },
  {
   "cell_type": "code",
   "execution_count": 13,
   "metadata": {},
   "outputs": [],
   "source": [
    "for dataframe in [train_df, test_df]:\n",
    "    dataframe['Has2ndFloor'] = dataframe['2ndFlrSF'].apply(lambda x: int(x > 0))\n",
    "    dataframe['HasBsmnt'] = dataframe['TotalBsmtSF'].apply(lambda x: int(x > 0))\n",
    "    dataframe['HasGarage'] = dataframe['GarageArea'].apply(lambda x: int(x > 0))\n",
    "    dataframe['HasPool'] = dataframe['PoolArea'].apply(lambda x: int(x > 0))\n",
    "    dataframe['HasFence'] = dataframe['Fence'].apply(lambda x: int(x != 'None'))\n",
    "    dataframe['HasFireplace'] = dataframe['Fireplaces'].apply(lambda x: int(x > 0))\n",
    "    dataframe['HasMasVnr'] = dataframe['MasVnrType'].apply(lambda x: int(x != 'None'))\n",
    "    dataframe['HasShed'] = (dataframe['MiscFeature'] == 'Shed') * 1\n",
    "\n",
    "    dataframe['HouseAge'] = dataframe['YrSold'].astype('int') - dataframe['YearBuilt'].astype('int')\n",
    "    dataframe['HouseAgeSinRemod'] = dataframe['YrSold'].astype('int') - dataframe['YearRemodAdd'].astype('int')"
   ]
  },
  {
   "cell_type": "code",
   "execution_count": 14,
   "metadata": {},
   "outputs": [],
   "source": [
    "# Remove outliers\n",
    "train_df.drop(\n",
    "    train_df[(train_df['GrLivArea'] > 4000) & (train_df['SalePrice'] < 700000)].index\n",
    ");"
   ]
  },
  {
   "cell_type": "code",
   "execution_count": 15,
   "metadata": {},
   "outputs": [],
   "source": [
    "subclassCategories = [20, 30, 40, 45, 50, 60, 70, 75, 80, 85, 90, 120, 160, 180, 190] #removed 150 class as useless during predictions\n",
    "basementFinishCategories = ['None', 'Unf', 'LwQ', 'Rec', 'BLQ', 'ALQ', 'GLQ']\n",
    "electricalCategories = ['Mix', 'FuseP', 'FuseF', 'FuseA', 'SBrkr']\n",
    "\n",
    "exteriorCategories = ['AsbShng', 'AsphShn', 'BrkComm', 'BrkFace', 'CBlock', 'CemntBd', 'HdBoard', 'ImStucc', 'MetalSd', 'Other', 'Plywood', 'PreCast', 'Stone', 'Stucco', 'VinylSd', 'Wd Sdng', 'WdShing']\n",
    "\n",
    "conditionCategories = train_df['Condition1'].unique()\n",
    "neighborhoodCategories = full_df['Neighborhood'].unique()\n",
    "saleCondCategories = full_df['SaleCondition'].unique()\n",
    "garageTypeCategories = full_df['GarageType'].unique()\n",
    "lotConfigCategories = full_df['LotConfig'].unique() # feature was removed from the model\n",
    "lotShapeCategories = full_df['LotShape'].unique()\n",
    "landSlopeCategories = full_df['LandSlope'].unique()"
   ]
  },
  {
   "cell_type": "code",
   "execution_count": 16,
   "metadata": {},
   "outputs": [],
   "source": [
    "year_built_bins = np.linspace(1871, 2010, 10) # 10 bins"
   ]
  },
  {
   "cell_type": "code",
   "execution_count": 17,
   "metadata": {},
   "outputs": [],
   "source": [
    "# Reference: https://www.kaggle.com/cerberus4229/voting-regressor-with-pipelines\n",
    "\n",
    "for dataframe in [train_df, test_df]:\n",
    "    dataframe['TotalBathrooms'] = (dataframe['FullBath'] + (0.5 * dataframe['HalfBath']) +\n",
    "                                dataframe['BsmtFullBath'] + (0.5 * dataframe['BsmtHalfBath']))\n",
    "\n",
    "    dataframe['OverallHouseQCBin'] = pd.qcut(dataframe['OverallQual'] + dataframe['OverallCond'], q=3, labels=[0, 1, 2])\n",
    "    dataframe['IsPavedDrive'] = (dataframe['PavedDrive'] == 'Y') * 1\n",
    "    dataframe['IsNeighborhoodElite'] = (dataframe['Neighborhood'].isin(['NridgHt', 'CollgeCr', 'Crawfor', 'StoreBr', 'Timber'])) * 1 \n",
    "    dataframe['YearBuiltBin'] = pd.cut(dataframe['YearBuilt'], bins=year_built_bins, labels=range(1, 10)) \n",
    "    dataframe['KitchenQCBin'] = pd.cut(dataframe['KitchenQualEnc'] * dataframe['KitchenAbvGr'], [-1, 2, 7], labels=[0, 1])\n",
    "\n",
    "    dataframe['IsFunctional'] = (dataframe['Functional'] == 'Typ') * 1\n",
    "    dataframe['FunctionalGroup'] = dataframe['Functional'].map({\n",
    "        'Typ': 2,\n",
    "        'Min1': 1,\n",
    "        'Min2': 1,\n",
    "        'Mod': 1,\n",
    "        'Maj1': 0,\n",
    "        'Maj2': 0,\n",
    "        'Sev': 0,\n",
    "        'Sav': 0,\n",
    "    })\n",
    "\n",
    "    dataframe['IsModernHouseType'] = dataframe['MSSubClass'].map(\n",
    "        {20: 1, 30: 0, 40: 0, 45: 0,50: 0, 60: 1, 70: 0, 75: 0, 80: 0, 85: 0, 90: 0, 120: 1, 150: 0, 160: 0, 180: 0, 190: 0}\n",
    "    )\n",
    "    dataframe['IsLandFlat'] = (dataframe['LandContour'] == 'Lvl') * 1\n",
    "    dataframe['IsNewHouseSold'] = (full_df['YearBuilt'] == full_df['YrSold'].astype(int)) * 1\n",
    "\n",
    "    dataframe['IsExterCondGood'] = dataframe['ExterCond'].map({'Po': 0, 'Fa': 0, 'TA': 1, 'Gd': 1, 'Ex': 1})\n",
    "\n",
    "    dataframe['IsGasHeating'] = dataframe['Heating'].map({'GasA': 1, 'GasW': 1, 'Grav': 0, 'Wall': 0, 'OthW': 0, 'Floor': 0})\n",
    "    dataframe['IsHeatingGood'] = dataframe['HeatingQC'].map({'Po': 0, 'Fa': 0, 'TA': 0, 'Gd': 1, 'Ex': 1})\n",
    "\n",
    "    dataframe['IsNewElectrBreakers'] = dataframe['Electrical'].map({'SBrkr': 1, 'FuseF': 0, 'FuseA': 0, 'FuseP': 0, 'Mix': 0})\n",
    "\n",
    "    dataframe['IsGarageCondGood'] = dataframe['GarageCond'].map({'None': 0, 'Po': 0, 'Fa': 0, 'TA': 1, 'Gd': 1, 'Ex': 1})\n",
    "    dataframe['IsGarageQualGood'] = dataframe['GarageQual'].map({'None': 0, 'Po': 0, 'Fa': 0, 'TA': 1, 'Gd': 1, 'Ex': 1})"
   ]
  },
  {
   "cell_type": "code",
   "execution_count": 18,
   "metadata": {},
   "outputs": [],
   "source": [
    "# https://www.kaggle.com/humananalog/xgboost-lasso"
   ]
  },
  {
   "cell_type": "code",
   "execution_count": 19,
   "metadata": {},
   "outputs": [],
   "source": [
    "baseline_features = [\n",
    "    '1stFlrSF',\n",
    "    '2ndFlrSF',\n",
    "    'BsmtFinSF1', \n",
    "    'BsmtFinSF2',\n",
    "    'BsmtUnfSF', \n",
    "    'BsmtFinType1Enc',\n",
    "    'BsmtFinType2Enc',\n",
    "    'OverallQual',\n",
    "    'GarageCars',\n",
    "    'OverallCond', \n",
    "    'Neighborhood',\n",
    "    'MSSubClass', \n",
    "    'LotShape',\n",
    "    'LandSlope',\n",
    "    'BsmtCondEnc',\n",
    "    'BsmtQualEnc', \n",
    "    'SaleCondition',\n",
    "    'CentralAirEnc',\n",
    "    'Condition1',\n",
    "    'Condition2',\n",
    "    'TotalBathrooms',\n",
    "    'GarageFinishEnc',\n",
    "    'KitchenQualEnc',\n",
    "    'BedroomAbvGr',\n",
    "    'MSZoning',\n",
    "    'ExterQualEnc',\n",
    "    'IsNewHouseSold',\n",
    "    'LandContour',\n",
    "    'HasFireplace',\n",
    "    'FunctionalGroup',\n",
    "    'HouseAge',\n",
    "    'FenceEnc',\n",
    "    'IsModernHouseType',\n",
    "    'IsGasHeating',\n",
    "    'IsHeatingGood',\n",
    "    'IsNewElectrBreakers',\n",
    "    'IsGarageCondGood'\n",
    "]\n",
    "\n",
    "X = train_df[baseline_features]\n",
    "Y = train_df['SalePrice']"
   ]
  },
  {
   "source": [
    "## Modeling"
   ],
   "cell_type": "markdown",
   "metadata": {}
  },
  {
   "cell_type": "code",
   "execution_count": 20,
   "metadata": {},
   "outputs": [],
   "source": [
    "# Build feature transformer\n",
    "\n",
    "logTransformer = FunctionTransformer(func=np.log1p, inverse_func=np.expm1)\n",
    "\n",
    "featureTransformer = ColumnTransformer([\n",
    "        ('basement_area_log', logTransformer, ['BsmtFinSF1', 'BsmtFinSF2']),\n",
    "        ('neighborhood_onehot', OneHotEncoder(categories=[neighborhoodCategories]), ['Neighborhood']),\n",
    "        ('subclass_onehot', OneHotEncoder(categories=[subclassCategories], handle_unknown='ignore'), ['MSSubClass']),\n",
    "        ('lot_shape_onehot', OneHotEncoder(categories=[lotShapeCategories]), ['LotShape']),\n",
    "        ('land_slope_onehot', OneHotEncoder(categories=[landSlopeCategories]), ['LandSlope']),\n",
    "        ('sale_condtion_onehot', OneHotEncoder(categories=[saleCondCategories]), ['SaleCondition']),\n",
    "        ('land_contour_onehot', OneHotEncoder(), ['LandContour']),\n",
    "        ('zoning_onehot', OneHotEncoder(), ['MSZoning']),\n",
    "        ('condition_onehot', OneHotEncoder(categories=[conditionCategories, conditionCategories]), ['Condition1', 'Condition2']), #\n",
    "    ],\n",
    "    remainder='passthrough'\n",
    ")"
   ]
  },
  {
   "source": [
    "### ElasticNet"
   ],
   "cell_type": "markdown",
   "metadata": {}
  },
  {
   "cell_type": "code",
   "execution_count": 21,
   "metadata": {},
   "outputs": [
    {
     "output_type": "stream",
     "name": "stdout",
     "text": [
      "ElasticNet:\n",
      "[CV] MSE: 1152136483.8834 (87481744.5543)\n",
      "[CV] MAE: 20110.6882 (574.1290)\n",
      "[CV] R^2: 0.8156 (0.0254)\n",
      "[CV] RMSLE: 0.192544 (0.0291)\n"
     ]
    }
   ],
   "source": [
    "%%time\n",
    "\n",
    "elasticnet_model = ElasticNet(\n",
    "    alpha=0.5,\n",
    "    l1_ratio=0.8,\n",
    "    random_state=42,\n",
    ")\n",
    "\n",
    "elasticnet_pipeline = Pipeline([\n",
    "    ('preprocessing', featureTransformer),\n",
    "    ('elasticnet', elasticnet_model)\n",
    "])\n",
    "\n",
    "print('ElasticNet:')\n",
    "score_model(elasticnet_pipeline, X, Y)"
   ]
  },
  {
   "cell_type": "code",
   "execution_count": 22,
   "metadata": {},
   "outputs": [],
   "source": [
    "parameters = {\n",
    "    'elasticnet__alpha': [9e-4, 7e-4, 5e-4, 3e-4, 1e-4, 1e-3, 5e-2, 1e-2, 0.1, 0.5, 1, 2, 5],\n",
    "    'elasticnet__l1_ratio': [0.01, 0.1, 0.2, 0.3, 0.5, 0.6, 0.7, 0.8, 1],\n",
    "}\n",
    "\n",
    "paramSearch = GridSearchCV(\n",
    "  estimator=elasticnet_pipeline,\n",
    "  scoring='neg_mean_squared_error',\n",
    "  param_grid=parameters, \n",
    "  cv=2,\n",
    "  n_jobs=-1, \n",
    "  verbose=3\n",
    ")\n",
    "\n",
    "#paramSearch.fit(X, Y)\n",
    "#paramSearch.best_params_, paramSearch.best_score_"
   ]
  },
  {
   "source": [
    "### Ridge"
   ],
   "cell_type": "markdown",
   "metadata": {}
  },
  {
   "cell_type": "code",
   "execution_count": 23,
   "metadata": {},
   "outputs": [],
   "source": [
    "# https://www.kaggle.com/marktsvirko/votingregressor-xgb-svm-top-10"
   ]
  },
  {
   "cell_type": "code",
   "execution_count": 24,
   "metadata": {},
   "outputs": [
    {
     "output_type": "stream",
     "name": "stdout",
     "text": [
      "Ridge:\n",
      "[CV] MSE: 1365141356.2157 (87592705.2026)\n",
      "[CV] MAE: 22099.5218 (440.3525)\n",
      "[CV] R^2: 0.7817 (0.0275)\n",
      "[CV] RMSLE: 0.176990 (0.0003)\n"
     ]
    }
   ],
   "source": [
    "%%time\n",
    "\n",
    "ridge_model = Ridge(\n",
    "        solver='auto',\n",
    "        alpha=522,\n",
    "        random_state=42,\n",
    "    )\n",
    "\n",
    "ridge_pipeline = Pipeline([\n",
    "    ('preprocessing', featureTransformer),\n",
    "    ('ridge', ridge_model),\n",
    "])\n",
    "\n",
    "print('Ridge:')\n",
    "score_model(ridge_pipeline, X, Y)"
   ]
  },
  {
   "cell_type": "code",
   "execution_count": 25,
   "metadata": {},
   "outputs": [],
   "source": [
    "parameters = {\n",
    "    'ridge__solver': ['auto', 'saga', 'sag', 'cholesky'],\n",
    "    'ridge__alpha': [510, 519, 520, 522, 530],\n",
    "}\n",
    "\n",
    "paramSearch = GridSearchCV(\n",
    "  estimator=ridge_pipeline,\n",
    "  scoring=make_scorer(neg_rmsle),\n",
    "  param_grid=parameters, \n",
    "  cv=2,\n",
    "  n_jobs=-1, \n",
    "  verbose=3\n",
    ")\n",
    "\n",
    "#paramSearch.fit(X, Y)\n",
    "#paramSearch.best_params_, paramSearch.best_score_"
   ]
  },
  {
   "source": [
    "### SVR"
   ],
   "cell_type": "markdown",
   "metadata": {}
  },
  {
   "cell_type": "code",
   "execution_count": 26,
   "metadata": {},
   "outputs": [
    {
     "output_type": "stream",
     "name": "stdout",
     "text": [
      "SVR:\n",
      "[CV] MSE: 1326518950.8863 (22448291.5774)\n",
      "[CV] MAE: 20511.2439 (889.2198)\n",
      "[CV] R^2: 0.7885 (0.0168)\n",
      "[CV] RMSLE: 0.161865 (0.0084)\n"
     ]
    }
   ],
   "source": [
    "%%time\n",
    "\n",
    "svr_model = SVR(\n",
    "    kernel='linear',\n",
    "    C=200\n",
    ")\n",
    "\n",
    "svr_pipeline = Pipeline([\n",
    "    ('preprocessing', featureTransformer),\n",
    "    ('svr', svr_model),\n",
    "])\n",
    "\n",
    "print('SVR:')\n",
    "score_model(svr_pipeline, X, Y)"
   ]
  },
  {
   "cell_type": "code",
   "execution_count": 27,
   "metadata": {},
   "outputs": [],
   "source": [
    "parameters = {\n",
    "    'svr__C': [1, 20, 50, 100, 120, 150, 200],\n",
    "    'svr__kernel': ['linear'],\n",
    "    #'svr__tol': [1e-3, 1e-5, 1e-4, 1e-2, 0.1]\n",
    "}\n",
    "\n",
    "paramSearch = GridSearchCV(\n",
    "   estimator=svr_pipeline,\n",
    "   scoring=make_scorer(neg_rmsle),\n",
    "   param_grid=parameters,\n",
    "   cv=2,\n",
    "   n_jobs=-1, \n",
    "   verbose=3\n",
    ")\n",
    "\n",
    "#paramSearch.fit(X, Y)\n",
    "#paramSearch.best_params_, paramSearch.best_score_"
   ]
  },
  {
   "source": [
    "### Random Forest"
   ],
   "cell_type": "markdown",
   "metadata": {}
  },
  {
   "cell_type": "code",
   "execution_count": 28,
   "metadata": {},
   "outputs": [
    {
     "output_type": "stream",
     "name": "stdout",
     "text": [
      "RandomForest Regressor:\n",
      "[CV] MSE: 1227189351.4163 (814319.8645)\n",
      "[CV] MAE: 20672.8035 (762.0916)\n",
      "[CV] R^2: 0.8045 (0.0121)\n",
      "[CV] RMSLE: 0.168217 (0.0071)\n"
     ]
    }
   ],
   "source": [
    "%%time\n",
    "\n",
    "random_forest_model = RandomForestRegressor(\n",
    "        bootstrap=True,\n",
    "        max_depth=15,\n",
    "        max_features='sqrt',\n",
    "        max_leaf_nodes=None,\n",
    "        max_samples=None,\n",
    "        min_samples_leaf=5,\n",
    "        min_samples_split=5,\n",
    "        n_estimators=2500,\n",
    "        random_state=42,\n",
    "    )\n",
    "\n",
    "random_forest_pipeline = Pipeline([\n",
    "    ('preprocessing', featureTransformer),\n",
    "    ('random_forest', random_forest_model),\n",
    "])\n",
    "\n",
    "# Measure performance\n",
    "\n",
    "print('RandomForest Regressor:')\n",
    "score_model(random_forest_pipeline, X, Y)\n",
    "\n",
    "## RF(max_depth=25, max_features='sqrt', min_samples_leaf=1, min_samples_split=2, n_estimators=1000)\n",
    "## CV=2, 0.15007\n",
    "#[CV] MSE: 889831012.8445 (46061331.0130)\n",
    "#[CV] MAE: 17721.0043 (817.3113)\n",
    "#[CV] R^2: 0.8587 (0.0015)"
   ]
  },
  {
   "cell_type": "code",
   "execution_count": 29,
   "metadata": {},
   "outputs": [
    {
     "output_type": "execute_result",
     "data": {
      "text/plain": [
       "[(0.1473394414479701, 'OverallQual'),\n",
       " (0.09473689626361305, 'GarageCars'),\n",
       " (0.08255122527551798, '1stFlrSF'),\n",
       " (0.07976855119898248, 'ExterQualEnc'),\n",
       " (0.06730423854276237, 'BsmtQualEnc'),\n",
       " (0.06650464044186613, 'TotalBathrooms'),\n",
       " (0.06601880974712472, 'KitchenQualEnc'),\n",
       " (0.05872667055681261, 'HouseAge'),\n",
       " (0.046293983304633815, 'BsmtFinSF1'),\n",
       " (0.04134684977974674, '2ndFlrSF'),\n",
       " (0.03704061339654462, 'GarageFinishEnc'),\n",
       " (0.03383274588348624, 'HasFireplace'),\n",
       " (0.01933792031459685, 'BsmtFinType1Enc'),\n",
       " (0.014735207052583231, 'BsmtUnfSF'),\n",
       " (0.014532984236152425, 'MSSubClass_60'),\n",
       " (0.013647778591461832, 'Neighborhood_NridgHt'),\n",
       " (0.011552013149265789, 'IsModernHouseType'),\n",
       " (0.011241629261648846, 'BedroomAbvGr'),\n",
       " (0.011080505197984154, 'Neighborhood_NoRidge'),\n",
       " (0.00790894810526982, 'SaleCondition_Partial'),\n",
       " (0.007612207942180314, 'IsHeatingGood'),\n",
       " (0.005672509664686905, 'MSZoning_RM'),\n",
       " (0.005449624528569497, 'OverallCond'),\n",
       " (0.004722856156031359, 'LotShape_Reg'),\n",
       " (0.0045352024708753816, 'IsGarageCondGood'),\n",
       " (0.004013960454807864, 'MSZoning_RL'),\n",
       " (0.00344888693260112, 'CentralAirEnc'),\n",
       " (0.0026854033350121394, 'LotShape_IR1'),\n",
       " (0.00258295973976898, 'MSSubClass_30'),\n",
       " (0.002300681709442085, 'SaleCondition_Normal'),\n",
       " (0.0021561393553131514, 'MSSubClass_20'),\n",
       " (0.0016689601901428979, 'Neighborhood_Crawfor'),\n",
       " (0.0016587110874161585, 'IsNewElectrBreakers'),\n",
       " (0.0016042587788232083, 'Neighborhood_StoneBr'),\n",
       " (0.0015478930029168016, 'BsmtCondEnc'),\n",
       " (0.0015276702821966043, 'IsNewHouseSold'),\n",
       " (0.0013872794947862956, 'Neighborhood_NAmes'),\n",
       " (0.001139236912390839, 'MSSubClass_160'),\n",
       " (0.001112627299031966, 'LandContour_Lvl'),\n",
       " (0.0011038523973650042, 'LandSlope_Gtl'),\n",
       " (0.0010891869116303357, 'MSSubClass_120'),\n",
       " (0.0009613527604822953, 'Neighborhood_Somerst'),\n",
       " (0.0008615849392160857, 'FenceEnc'),\n",
       " (0.0008537740617855226, 'Neighborhood_CollgCr'),\n",
       " (0.0008183413164276726, 'BsmtFinSF2'),\n",
       " (0.0008132556677890811, 'Neighborhood_OldTown'),\n",
       " (0.0007663077370980781, 'Neighborhood_Edwards'),\n",
       " (0.000702876459676839, 'Neighborhood_Gilbert'),\n",
       " (0.0006893195713556158, 'BsmtFinType2Enc'),\n",
       " (0.0005808148992965591, 'Neighborhood_NWAmes'),\n",
       " (0.0005788139032191397, 'LandSlope_Mod'),\n",
       " (0.0005755242363775222, 'Condition1_Norm'),\n",
       " (0.0005663382763316193, 'MSSubClass_70'),\n",
       " (0.00046877665604820313, 'MSSubClass_90'),\n",
       " (0.0004611758680324081, 'MSZoning_FV'),\n",
       " (0.00043356265623640524, 'LandContour_HLS'),\n",
       " (0.0004068877085861054, 'SaleCondition_Abnorml'),\n",
       " (0.00037073802004384263, 'LotShape_IR2'),\n",
       " (0.00036287808589251133, 'Neighborhood_IDOTRR'),\n",
       " (0.00035639463220659974, 'Neighborhood_ClearCr'),\n",
       " (0.0003546721649696436, 'FunctionalGroup'),\n",
       " (0.00033816645439671875, 'LandContour_Low'),\n",
       " (0.00032755594095913894, 'MSSubClass_50'),\n",
       " (0.00031539964680090126, 'Neighborhood_Sawyer'),\n",
       " (0.00031333048656346444, 'Neighborhood_MeadowV'),\n",
       " (0.0002605469804180357, 'Neighborhood_Timber'),\n",
       " (0.00019639181354808854, 'MSSubClass_80'),\n",
       " (0.00016977930188076624, 'Neighborhood_Blmngtn'),\n",
       " (0.00016502855468244893, 'Condition1_Feedr'),\n",
       " (0.00015294365698684923, 'Neighborhood_BrkSide'),\n",
       " (0.00014309477242671956, 'Neighborhood_Mitchel'),\n",
       " (0.00014029399401865094, 'MSZoning_C (all)'),\n",
       " (0.0001246926106843532, 'Neighborhood_BrDale'),\n",
       " (0.00011610030416168954, 'Condition1_Artery'),\n",
       " (0.000110850444621013, 'Neighborhood_SawyerW'),\n",
       " (9.947320943633044e-05, 'MSSubClass_75'),\n",
       " (9.286882374807243e-05, 'MSSubClass_180'),\n",
       " (8.750017683168222e-05, 'IsGasHeating'),\n",
       " (8.632657085433772e-05, 'LandContour_Bnk'),\n",
       " (6.261880413307336e-05, 'LandSlope_Sev'),\n",
       " (3.987248906745621e-05, 'MSSubClass_190'),\n",
       " (3.815538805346321e-05, 'Condition1_PosN'),\n",
       " (2.3370458895764614e-05, 'Neighborhood_SWISU'),\n",
       " (1.6862657218987205e-05, 'MSSubClass_85'),\n",
       " (1.5933720965327225e-05, 'SaleCondition_Alloca'),\n",
       " (1.519474814047962e-05, 'Neighborhood_Veenker'),\n",
       " (1.0073906033086759e-05, 'Neighborhood_NPkVill'),\n",
       " (8.4133059673346e-06, 'SaleCondition_Family'),\n",
       " (7.331413416235112e-06, 'Condition1_RRAn'),\n",
       " (5.6821567655471665e-06, 'MSZoning_RH'),\n",
       " (4.226592722288767e-06, 'Condition2_Norm'),\n",
       " (3.415417335507989e-06, 'MSSubClass_45'),\n",
       " (1.9002463729592222e-06, 'LotShape_IR3'),\n",
       " (1.4549368088879929e-06, 'Condition1_PosA'),\n",
       " (0.0, 'SaleCondition_AdjLand'),\n",
       " (0.0, 'Neighborhood_Blueste'),\n",
       " (0.0, 'MSSubClass_40'),\n",
       " (0.0, 'Condition2_RRNn'),\n",
       " (0.0, 'Condition2_RRNe'),\n",
       " (0.0, 'Condition2_RRAn'),\n",
       " (0.0, 'Condition2_RRAe'),\n",
       " (0.0, 'Condition2_PosN'),\n",
       " (0.0, 'Condition2_PosA'),\n",
       " (0.0, 'Condition2_Feedr'),\n",
       " (0.0, 'Condition2_Artery'),\n",
       " (0.0, 'Condition1_RRNn'),\n",
       " (0.0, 'Condition1_RRNe'),\n",
       " (0.0, 'Condition1_RRAe')]"
      ]
     },
     "metadata": {},
     "execution_count": 29
    }
   ],
   "source": [
    "random_forest_pipeline.fit(X, Y)\n",
    "\n",
    "X_columns = get_columns_from_transformer(random_forest_pipeline.named_steps['preprocessing'], list(X.columns))\n",
    "\n",
    "features_list = sorted(zip(random_forest_pipeline.named_steps['random_forest'].feature_importances_, X_columns), reverse=True)\n",
    "random_forest_pipeline.named_steps['preprocessing'].transformers_\n",
    "\n",
    "features_list"
   ]
  },
  {
   "cell_type": "code",
   "execution_count": 30,
   "metadata": {},
   "outputs": [],
   "source": [
    "from skopt import BayesSearchCV\n",
    "from skopt.space import Real, Categorical, Integer\n",
    "from skopt.plots import plot_objective, plot_histogram\n",
    "\n",
    "parameters = {\n",
    "    'random_forest__max_depth': [None, 15,  20, 25],\n",
    "    'random_forest__max_features': ['sqrt'],\n",
    "    'random_forest__max_leaf_nodes': [None, 5, 15, 17, 20],\n",
    "    'random_forest__min_samples_leaf': [1, 2, 3],\n",
    "    'random_forest__min_samples_split': [2, 1, 3],\n",
    "    'random_forest__max_samples': [None, 2, 5],\n",
    "    'random_forest__n_estimators': [1500, 2000, 2500]\n",
    "}\n",
    "\n",
    "paramSearch = GridSearchCV(\n",
    "  estimator=random_forest_pipeline,\n",
    "  scoring=make_scorer(neg_rmsle),\n",
    "  param_grid=parameters, \n",
    "  cv=2,\n",
    "  n_jobs=-1, \n",
    "  verbose=3\n",
    ")\n",
    "\n",
    "#paramSearch.fit(X, Y)\n",
    "#paramSearch.best_params_, paramSearch.best_score_"
   ]
  },
  {
   "cell_type": "code",
   "execution_count": 31,
   "metadata": {},
   "outputs": [],
   "source": [
    "#plot_learning_curve(random_forest_pipeline, X, Y, cv=3)"
   ]
  },
  {
   "source": [
    "### XGBoostRegressor"
   ],
   "cell_type": "markdown",
   "metadata": {}
  },
  {
   "cell_type": "code",
   "execution_count": 32,
   "metadata": {},
   "outputs": [
    {
     "output_type": "stream",
     "name": "stdout",
     "text": [
      "XGB Regressor:\n",
      "[CV] MSE: 733013467.9466 (10248330.7964)\n",
      "[CV] MAE: 15624.5991 (281.8154)\n",
      "[CV] R^2: 0.8831 (0.0089)\n",
      "[CV] RMSLE: 0.124497 (0.0047)\n"
     ]
    }
   ],
   "source": [
    "%%time\n",
    "\n",
    "from xgboost import XGBRegressor\n",
    "\n",
    "xgb_model = XGBRegressor(\n",
    "        max_depth=5,\n",
    "        n_estimators=7050,\n",
    "        learning_rate=0.01,\n",
    "        min_child_weight=1.5,\n",
    "        subsample=0.2,\n",
    "        gamma=0,\n",
    "        reg_alpha=1,\n",
    "        reg_lambda=0.1,\n",
    "        objective='reg:gamma',\n",
    "        booster='gbtree'\n",
    "    )\n",
    "\n",
    "xgb_pipeline = Pipeline([\n",
    "    ('preprocessing', featureTransformer),\n",
    "    ('xgb_regressor', xgb_model),\n",
    "])\n",
    "\n",
    "# Measure Performance\n",
    "\n",
    "print('XGB Regressor:')\n",
    "score_model(xgb_pipeline, X, Y)"
   ]
  },
  {
   "cell_type": "code",
   "execution_count": 33,
   "metadata": {},
   "outputs": [
    {
     "output_type": "execute_result",
     "data": {
      "text/plain": [
       "[(0.09893528, 'OverallQual'),\n",
       " (0.058594067, 'ExterQualEnc'),\n",
       " (0.054355096, 'GarageCars'),\n",
       " (0.05265582, 'TotalBathrooms'),\n",
       " (0.04070321, 'KitchenQualEnc'),\n",
       " (0.039280742, 'MSZoning_C (all)'),\n",
       " (0.037668053, 'HasFireplace'),\n",
       " (0.024993883, 'CentralAirEnc'),\n",
       " (0.022148168, 'BsmtQualEnc'),\n",
       " (0.021954713, 'IsGarageCondGood'),\n",
       " (0.020551415, 'IsGasHeating'),\n",
       " (0.019206144, '1stFlrSF'),\n",
       " (0.018297909, 'MSSubClass_30'),\n",
       " (0.016538993, 'BsmtFinSF1'),\n",
       " (0.013820155, 'SaleCondition_Family'),\n",
       " (0.01298328, 'GarageFinishEnc'),\n",
       " (0.0129729705, 'MSSubClass_180'),\n",
       " (0.0127187185, 'Neighborhood_IDOTRR'),\n",
       " (0.01259859, '2ndFlrSF'),\n",
       " (0.011665741, 'LotShape_IR3'),\n",
       " (0.010319879, 'SaleCondition_Alloca'),\n",
       " (0.010107886, 'SaleCondition_Abnorml'),\n",
       " (0.009696873, 'MSZoning_RM'),\n",
       " (0.009354685, 'Condition1_PosN'),\n",
       " (0.00934708, 'Condition2_Norm'),\n",
       " (0.008600765, 'Neighborhood_MeadowV'),\n",
       " (0.008299672, 'MSSubClass_45'),\n",
       " (0.008248682, 'Neighborhood_OldTown'),\n",
       " (0.007933357, 'Neighborhood_Blmngtn'),\n",
       " (0.0077575664, 'OverallCond'),\n",
       " (0.0074475715, 'Neighborhood_BrDale'),\n",
       " (0.007288441, 'MSSubClass_60'),\n",
       " (0.007271855, 'Condition1_RRAe'),\n",
       " (0.0069117863, 'SaleCondition_Partial'),\n",
       " (0.0069008903, 'Neighborhood_Edwards'),\n",
       " (0.006445886, 'Condition1_Artery'),\n",
       " (0.0064453464, 'MSSubClass_90'),\n",
       " (0.0063731503, 'LotShape_Reg'),\n",
       " (0.006316361, 'IsHeatingGood'),\n",
       " (0.006279786, 'Condition1_Feedr'),\n",
       " (0.006260918, 'SaleCondition_Normal'),\n",
       " (0.0061685955, 'FunctionalGroup'),\n",
       " (0.0059836768, 'MSSubClass_190'),\n",
       " (0.0058206473, 'MSSubClass_160'),\n",
       " (0.005699912, 'Condition1_Norm'),\n",
       " (0.0055254246, 'HouseAge'),\n",
       " (0.0054730033, 'LandContour_Bnk'),\n",
       " (0.0054122233, 'MSZoning_RL'),\n",
       " (0.005343441, 'Condition2_Feedr'),\n",
       " (0.0050572627, 'BsmtFinType1Enc'),\n",
       " (0.00500715, 'BedroomAbvGr'),\n",
       " (0.004971703, 'MSZoning_RH'),\n",
       " (0.004960717, 'Neighborhood_NAmes'),\n",
       " (0.00477152, 'BsmtCondEnc'),\n",
       " (0.004769771, 'SaleCondition_AdjLand'),\n",
       " (0.0047029085, 'MSSubClass_75'),\n",
       " (0.004568998, 'IsNewElectrBreakers'),\n",
       " (0.0045456495, 'Condition2_RRNn'),\n",
       " (0.004471386, 'MSSubClass_120'),\n",
       " (0.004447504, 'Neighborhood_Sawyer'),\n",
       " (0.00444351, 'LandContour_Low'),\n",
       " (0.004136287, 'LandContour_Lvl'),\n",
       " (0.0040281136, 'MSSubClass_20'),\n",
       " (0.004020867, 'BsmtUnfSF'),\n",
       " (0.0039995955, 'LandSlope_Gtl'),\n",
       " (0.0039756713, 'IsNewHouseSold'),\n",
       " (0.003969498, 'Neighborhood_SWISU'),\n",
       " (0.0038846259, 'Neighborhood_CollgCr'),\n",
       " (0.003859318, 'Neighborhood_NWAmes'),\n",
       " (0.0038459771, 'Neighborhood_NPkVill'),\n",
       " (0.0038043116, 'Neighborhood_Crawfor'),\n",
       " (0.0037108145, 'Neighborhood_BrkSide'),\n",
       " (0.003663189, 'MSSubClass_80'),\n",
       " (0.00362863, 'MSSubClass_50'),\n",
       " (0.0035753984, 'Neighborhood_Timber'),\n",
       " (0.0035561095, 'Neighborhood_Somerst'),\n",
       " (0.0035485595, 'FenceEnc'),\n",
       " (0.0035461637, 'Neighborhood_ClearCr'),\n",
       " (0.0035075152, 'MSSubClass_70'),\n",
       " (0.003489688, 'Condition1_PosA'),\n",
       " (0.0034342858, 'BsmtFinType2Enc'),\n",
       " (0.003414783, 'BsmtFinSF2'),\n",
       " (0.0034015938, 'Neighborhood_SawyerW'),\n",
       " (0.0033195224, 'Neighborhood_NridgHt'),\n",
       " (0.0033162942, 'LandContour_HLS'),\n",
       " (0.003270427, 'IsModernHouseType'),\n",
       " (0.0032703213, 'LotShape_IR2'),\n",
       " (0.003232028, 'Neighborhood_Gilbert'),\n",
       " (0.003198025, 'LandSlope_Sev'),\n",
       " (0.0031887342, 'LotShape_IR1'),\n",
       " (0.003187156, 'MSZoning_FV'),\n",
       " (0.0031580268, 'Neighborhood_NoRidge'),\n",
       " (0.003079892, 'Neighborhood_Mitchel'),\n",
       " (0.0030280158, 'Neighborhood_StoneBr'),\n",
       " (0.0030011307, 'MSSubClass_40'),\n",
       " (0.002738184, 'LandSlope_Mod'),\n",
       " (0.0027128197, 'Condition1_RRAn'),\n",
       " (0.0023558724, 'Neighborhood_Veenker'),\n",
       " (0.0016237082, 'MSSubClass_85'),\n",
       " (0.0009829681, 'Condition1_RRNn'),\n",
       " (0.00087700476, 'Condition1_RRNe'),\n",
       " (6.253281e-05, 'Neighborhood_Blueste'),\n",
       " (0.0, 'Condition2_RRNe'),\n",
       " (0.0, 'Condition2_RRAn'),\n",
       " (0.0, 'Condition2_RRAe'),\n",
       " (0.0, 'Condition2_PosN'),\n",
       " (0.0, 'Condition2_PosA'),\n",
       " (0.0, 'Condition2_Artery')]"
      ]
     },
     "metadata": {},
     "execution_count": 33
    }
   ],
   "source": [
    "xgb_pipeline.fit(X, Y)\n",
    "X_columns = get_columns_from_transformer(xgb_pipeline.named_steps['preprocessing'], list(X.columns))\n",
    "\n",
    "features_list = sorted(zip(xgb_pipeline.named_steps['xgb_regressor'].feature_importances_, X_columns), reverse=True)\n",
    "features_list"
   ]
  },
  {
   "cell_type": "code",
   "execution_count": 34,
   "metadata": {},
   "outputs": [],
   "source": [
    "parameters = {\n",
    "    'xgb_regressor__objective': ['reg:gamma'], # 'reg:squarederror', 'reg:squaredlogerror'\n",
    "    'xgb_regressor__learning_rate': [0.01],\n",
    "    'xgb_regressor__n_estimators': [6900, 7000, 7100],\n",
    "    'xgb_regressor__max_depth': [5],\n",
    "    'xgb_regressor__booster': ['gbtree'],\n",
    "    'xgb_regressor__min_child_weight': [1.5],\n",
    "    'xgb_regressor__gamma': [0],\n",
    "    'xgb_regressor__subsample': [0.2],\n",
    "    'xgb_regressor__reg_alpha': [1],\n",
    "    'xgb_regressor__reg_lambda': [0.1],\n",
    "}\n",
    "\n",
    "paramSearch = GridSearchCV(\n",
    "   estimator=xgb_pipeline,\n",
    "   scoring=make_scorer(neg_rmsle),\n",
    "   param_grid=parameters,\n",
    "   cv=2,\n",
    "   n_jobs=-1, \n",
    "   verbose=3\n",
    ")\n",
    "\n",
    "#paramSearch.fit(X, Y)\n",
    "#paramSearch.best_params_, paramSearch.best_score_"
   ]
  },
  {
   "source": [
    "### StackingRegressor"
   ],
   "cell_type": "markdown",
   "metadata": {}
  },
  {
   "cell_type": "code",
   "execution_count": 35,
   "metadata": {},
   "outputs": [],
   "source": [
    "# https://www.kaggle.com/lavanyashukla01/how-i-made-top-0-3-on-a-kaggle-competition"
   ]
  },
  {
   "cell_type": "code",
   "execution_count": 36,
   "metadata": {},
   "outputs": [
    {
     "output_type": "stream",
     "name": "stdout",
     "text": [
      "Stacking Regressor:\n",
      "[CV] MSE: 782497273.3233 (50637385.5474)\n",
      "[CV] MAE: 16222.3362 (147.1010)\n",
      "[CV] R^2: 0.8748 (0.0158)\n",
      "[CV] RMSLE: 0.132203 (0.0019)\n",
      "CPU times: user 8.05 s, sys: 709 ms, total: 8.75 s\n",
      "Wall time: 1min 5s\n"
     ]
    }
   ],
   "source": [
    "%%time\n",
    "\n",
    "stacking_final_model = XGBRegressor()\n",
    "\n",
    "stacking_model = StackingRegressor(\n",
    "    estimators=[\n",
    "        ('xgb', xgb_model),\n",
    "        ('random_forest', random_forest_model),\n",
    "        ('elasticnet', elasticnet_model),\n",
    "        ('ridge', ridge_model),\n",
    "        ('svr', svr_model)\n",
    "    ], \n",
    "    #final_estimator=stacking_final_model,\n",
    "    cv=2,\n",
    "    n_jobs=-1,\n",
    ")\n",
    "\n",
    "stacking_regressor_pipeline = Pipeline([\n",
    "    ('preprocessing', featureTransformer),\n",
    "    ('stacking_regressor', stacking_model)\n",
    "])\n",
    "\n",
    "print('Stacking Regressor:')\n",
    "score_model(stacking_regressor_pipeline, X, Y)"
   ]
  },
  {
   "source": [
    "### VotingRegressor"
   ],
   "cell_type": "markdown",
   "metadata": {}
  },
  {
   "cell_type": "code",
   "execution_count": 39,
   "metadata": {},
   "outputs": [
    {
     "output_type": "stream",
     "name": "stdout",
     "text": [
      "Voting Regressor:\n",
      "[CV] MSE: 1001855845.8300 (30064232.9448)\n",
      "[CV] MAE: 17787.0179 (686.2564)\n",
      "[CV] R^2: 0.8401 (0.0147)\n",
      "[CV] RMSLE: 0.140481 (0.0053)\n",
      "CPU times: user 7.48 s, sys: 850 ms, total: 8.33 s\n",
      "Wall time: 35.6 s\n"
     ]
    }
   ],
   "source": [
    "%%time\n",
    "\n",
    "# https://www.kaggle.com/marktsvirko/votingregressor-xgb-svm-top-10\n",
    "\n",
    "voting_model = VotingRegressor(\n",
    "    estimators=[\n",
    "        ('xgb', xgb_model), \n",
    "        ('random_forest', random_forest_model),\n",
    "        ('elasticnet', elasticnet_model),\n",
    "        ('ridge', ridge_model),\n",
    "        ('svr', svr_model)\n",
    "    ],\n",
    "    n_jobs=-1,\n",
    ")\n",
    "\n",
    "voting_pipeline = Pipeline([\n",
    "    ('preprocessing', featureTransformer),\n",
    "    ('voting_regressor', voting_model)\n",
    "])\n",
    "\n",
    "print('Voting Regressor:')\n",
    "score_model(voting_pipeline, X, Y)"
   ]
  },
  {
   "cell_type": "code",
   "execution_count": 40,
   "metadata": {},
   "outputs": [],
   "source": [
    "parameters = {\n",
    "    'voting_regressor__weights': [None, [0.6, 0.3, 0.1]],\n",
    "}\n",
    "\n",
    "paramSearch = GridSearchCV(\n",
    "   estimator=voting_pipeline,\n",
    "   scoring=make_scorer(neg_rmsle),\n",
    "   param_grid=parameters,\n",
    "   cv=2,\n",
    "   n_jobs=-1, \n",
    "   verbose=3\n",
    ")\n",
    "\n",
    "#paramSearch.fit(X, Y)\n",
    "#paramSearch.best_params_, paramSearch.best_score_"
   ]
  },
  {
   "source": [
    "## Predict Submissions"
   ],
   "cell_type": "markdown",
   "metadata": {}
  },
  {
   "cell_type": "code",
   "execution_count": 41,
   "metadata": {
    "tags": [],
    "pycharm": {
     "name": "#%%\n"
    }
   },
   "outputs": [],
   "source": [
    "voting_pipeline.fit(X, Y)\n",
    "\n",
    "x_test = test_df[baseline_features]\n",
    "y_test_predicted = voting_pipeline.predict(x_test)\n",
    "\n",
    "y_test_predicted = np.rint(y_test_predicted).astype(int)\n",
    "\n",
    "submission_df = pd.DataFrame({\n",
    "    'Id': test_df['Id'],\n",
    "    'SalePrice': y_test_predicted,\n",
    "})\n",
    "\n",
    "submission_df.to_csv('./data/submission_voting.csv', index=False)"
   ]
  },
  {
   "cell_type": "code",
   "execution_count": 42,
   "metadata": {},
   "outputs": [],
   "source": [
    "xgb_pipeline.fit(X, Y)\n",
    "\n",
    "x_test = test_df[baseline_features]\n",
    "y_test_predicted = xgb_pipeline.predict(x_test)\n",
    "\n",
    "y_test_predicted = np.rint(y_test_predicted).astype(int)\n",
    "\n",
    "submission_df = pd.DataFrame({\n",
    "    'Id': test_df['Id'],\n",
    "    'SalePrice': y_test_predicted,\n",
    "})\n",
    "\n",
    "submission_df.to_csv('./data/submission_xgb.csv', index=False)"
   ]
  },
  {
   "cell_type": "code",
   "execution_count": 43,
   "metadata": {},
   "outputs": [],
   "source": [
    "stacking_regressor_pipeline.fit(X, Y)\n",
    "\n",
    "x_test = test_df[baseline_features]\n",
    "y_test_predicted = stacking_regressor_pipeline.predict(x_test)\n",
    "\n",
    "y_test_predicted = np.rint(y_test_predicted).astype(int)\n",
    "\n",
    "submission_df = pd.DataFrame({\n",
    "    'Id': test_df['Id'],\n",
    "    'SalePrice': y_test_predicted,\n",
    "})\n",
    "\n",
    "submission_df.to_csv('./data/submission_stacking.csv', index=False)"
   ]
  }
 ]
}