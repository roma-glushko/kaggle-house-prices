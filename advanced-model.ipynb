{
 "metadata": {
  "language_info": {
   "codemirror_mode": {
    "name": "ipython",
    "version": 3
   },
   "file_extension": ".py",
   "mimetype": "text/x-python",
   "name": "python",
   "nbconvert_exporter": "python",
   "pygments_lexer": "ipython3",
   "version": "3.8.6-final"
  },
  "orig_nbformat": 2,
  "kernelspec": {
   "name": "pycharm-b6383702",
   "language": "python",
   "display_name": "PyCharm (house-prices-advanced-regression-techniques)"
  }
 },
 "nbformat": 4,
 "nbformat_minor": 2,
 "cells": [
  {
   "cell_type": "code",
   "execution_count": 1,
   "metadata": {},
   "outputs": [],
   "source": [
    "import pandas as pd\n",
    "import matplotlib.pyplot as plt\n",
    "import seaborn as sns\n",
    "import numpy as np\n",
    "from scipy.stats import norm, skew\n",
    "\n",
    "from sklearn.base import BaseEstimator, TransformerMixin\n",
    "from sklearn.compose import ColumnTransformer, TransformedTargetRegressor\n",
    "from sklearn.impute import SimpleImputer\n",
    "from sklearn.preprocessing import OrdinalEncoder, LabelEncoder, OneHotEncoder, StandardScaler, MinMaxScaler, \\\n",
    "    RobustScaler, FunctionTransformer\n",
    "from sklearn.linear_model import LinearRegression, LassoCV, Ridge, ElasticNetCV, ElasticNet\n",
    "from sklearn.svm import SVR\n",
    "from sklearn.experimental import enable_hist_gradient_boosting\n",
    "from sklearn.ensemble import RandomForestRegressor, StackingRegressor, VotingRegressor, HistGradientBoostingRegressor\n",
    "from sklearn.metrics import mean_squared_error, r2_score, mean_absolute_error, mean_squared_log_error, make_scorer\n",
    "from sklearn.model_selection import GridSearchCV, train_test_split, cross_validate, cross_val_score, learning_curve\n",
    "from sklearn.pipeline import Pipeline\n",
    "from sklearn import set_config"
   ]
  },
  {
   "cell_type": "code",
   "execution_count": 2,
   "metadata": {},
   "outputs": [],
   "source": [
    "np.random.seed(42)\n",
    "set_config(display='diagram')\n",
    "\n",
    "plt.rcParams['figure.figsize'] = (12, 8)\n",
    "sns.set_theme(style='whitegrid')"
   ]
  },
  {
   "cell_type": "code",
   "execution_count": 3,
   "metadata": {},
   "outputs": [],
   "source": [
    "train_df = trainDf = pd.read_csv('data/train.csv')\n",
    "test_df = testDf = pd.read_csv('data/test.csv')\n",
    "\n",
    "full_df = fullDf = pd.concat([trainDf, testDf], sort=True).reset_index(drop=True)"
   ]
  },
  {
   "source": [
    "## Misc Functions"
   ],
   "cell_type": "markdown",
   "metadata": {}
  },
  {
   "cell_type": "code",
   "execution_count": 4,
   "metadata": {},
   "outputs": [],
   "source": [
    "def plot_learning_curve(estimator, X_train, y_train, cv, train_sizes=np.linspace(0.1, 1, 10)):\n",
    "    plt.style.use('seaborn-darkgrid')\n",
    "    \n",
    "    train_sizes, train_scores, test_scores = learning_curve(\n",
    "        estimator, X_train, y_train, \n",
    "        scoring='neg_mean_squared_error',\n",
    "        cv=cv, \n",
    "        n_jobs=-1, \n",
    "        train_sizes=train_sizes,\n",
    "        shuffle=True,\n",
    "        random_state=42\n",
    "        )\n",
    "    train_mean_scores = np.mean(train_scores, axis=1)\n",
    "    test_mean_scores = np.mean(test_scores, axis=1)\n",
    "\n",
    "    plt.title('Learning curve')\n",
    "    plt.plot(train_sizes, train_mean_scores, 'y', label='Train Learning curve')\n",
    "    plt.plot(train_sizes, test_mean_scores, 'b', label='Test Learning curve')\n",
    "    plt.legend()"
   ]
  },
  {
   "cell_type": "code",
   "execution_count": 5,
   "metadata": {},
   "outputs": [],
   "source": [
    "def neg_rmsle(y_true, y_pred):\n",
    "    y_pred = np.abs(y_pred)\n",
    "    \n",
    "    return -1 * np.sqrt(mean_squared_log_error(y_true, y_pred))"
   ]
  },
  {
   "cell_type": "code",
   "execution_count": 6,
   "metadata": {},
   "outputs": [],
   "source": [
    "def score_model(model, X, Y):\n",
    "    \n",
    "    scores = cross_validate(\n",
    "        model, X, Y, \n",
    "        scoring=['r2', 'neg_mean_absolute_error', 'neg_mean_squared_error'], cv=2,\n",
    "        n_jobs=-1, verbose=0)\n",
    "\n",
    "    rmsle_score = cross_val_score(model, X, Y, cv=2, scoring=make_scorer(neg_rmsle))\n",
    "\n",
    "    mse_score = -1 * scores['test_neg_mean_squared_error'].mean()\n",
    "    mse_std = scores['test_neg_mean_squared_error'].std()\n",
    "\n",
    "    mae_score = -1 * scores['test_neg_mean_absolute_error'].mean()\n",
    "    mae_std = scores['test_neg_mean_absolute_error'].std()\n",
    "\n",
    "    r2_score_mean = scores['test_r2'].mean()\n",
    "    r2_std = scores['test_r2'].std()\n",
    "\n",
    "    print('[CV] MSE: %.4f (%.4f)' % (mse_score, mse_std))\n",
    "    print('[CV] MAE: %.4f (%.4f)' % (mae_score, mae_std))\n",
    "    print('[CV] R^2: %.4f (%.4f)' % (r2_score_mean, r2_std))\n",
    "    print('[CV] RMSLE: %.6f (%.4f)' % (-1 * rmsle_score.mean(), rmsle_score.std()))"
   ]
  },
  {
   "cell_type": "code",
   "execution_count": 7,
   "metadata": {},
   "outputs": [],
   "source": [
    "def get_columns_from_transformer(column_transformer, input_colums):    \n",
    "    col_name = []\n",
    "\n",
    "    for transformer_in_columns in column_transformer.transformers_[:-1]: #the last transformer is ColumnTransformer's 'remainder'\n",
    "        raw_col_name = transformer_in_columns[2]\n",
    "        if isinstance(transformer_in_columns[1],Pipeline): \n",
    "            transformer = transformer_in_columns[1].steps[-1][1]\n",
    "        else:\n",
    "            transformer = transformer_in_columns[1]\n",
    "        try:\n",
    "            names = transformer.get_feature_names(raw_col_name)\n",
    "        except AttributeError: # if no 'get_feature_names' function, use raw column name\n",
    "            names = raw_col_name\n",
    "        if isinstance(names,np.ndarray): # eg.\n",
    "            col_name += names.tolist()\n",
    "        elif isinstance(names,list):\n",
    "            col_name += names    \n",
    "        elif isinstance(names,str):\n",
    "            col_name.append(names)\n",
    "\n",
    "    [_, _, reminder_columns] = column_transformer.transformers_[-1]\n",
    "\n",
    "    for col_idx in reminder_columns:\n",
    "        col_name.append(input_colums[col_idx])\n",
    "\n",
    "    return col_name"
   ]
  },
  {
   "source": [
    "## Data Cleaning and Preparation"
   ],
   "cell_type": "markdown",
   "metadata": {}
  },
  {
   "cell_type": "code",
   "execution_count": 8,
   "metadata": {},
   "outputs": [],
   "source": [
    "num_features = [f for f in full_df.columns if full_df.dtypes[f] != 'object']\n",
    "num_features.remove('Id')\n",
    "num_features.remove('SalePrice')\n",
    "\n",
    "cat_features = [f for f in full_df.columns if full_df.dtypes[f] == 'object']"
   ]
  },
  {
   "cell_type": "code",
   "execution_count": 9,
   "metadata": {},
   "outputs": [],
   "source": [
    "for feature in (\n",
    "    'PoolQC', \n",
    "    'FireplaceQu', \n",
    "    'Alley', \n",
    "    'Fence', \n",
    "    'MiscFeature', \n",
    "    'BsmtQual', \n",
    "    'BsmtCond', \n",
    "    'BsmtExposure', \n",
    "    'BsmtFinType1', \n",
    "    'BsmtFinType2',\n",
    "    'GarageType', \n",
    "    'GarageFinish', \n",
    "    'GarageQual', \n",
    "    'GarageCond',\n",
    "    'BsmtQual', \n",
    "    'BsmtCond', \n",
    "    'BsmtExposure', \n",
    "    'BsmtFinType1', \n",
    "    'BsmtFinType2',\n",
    "    'MasVnrType',\n",
    "    'MSSubClass',\n",
    "):\n",
    "    train_df[feature] = train_df[feature].fillna('None')\n",
    "    test_df[feature] = test_df[feature].fillna('None')\n",
    "    full_df[feature] = full_df[feature].fillna('None')\n",
    "\n",
    "for feature in (\n",
    "    'BsmtFinSF1', \n",
    "    'BsmtFinSF2', \n",
    "    'BsmtUnfSF',\n",
    "    'TotalBsmtSF', \n",
    "    'BsmtFullBath', \n",
    "    'BsmtHalfBath',\n",
    "    'MasVnrArea',\n",
    "    'GarageCars',\n",
    "    'GarageArea',\n",
    "    'GarageYrBlt',\n",
    "):\n",
    "    train_df[feature] = train_df[feature].fillna(0)\n",
    "    test_df[feature] = test_df[feature].fillna(0)\n",
    "    full_df[feature] = full_df[feature].fillna(0)\n",
    "\n",
    "for feature in (\n",
    "    'Electrical', \n",
    "    'KitchenQual', \n",
    "    'Exterior1st',\n",
    "    'Exterior2nd', \n",
    "    'SaleType',\n",
    "    'MSZoning',\n",
    "    'Utilities',\n",
    "):\n",
    "    train_df[feature] = train_df[feature].fillna(train_df[feature].mode()[0])\n",
    "    test_df[feature] = test_df[feature].fillna(test_df[feature].mode()[0])\n",
    "    full_df[feature] = full_df[feature].fillna(test_df[feature].mode()[0])\n",
    "\n",
    "train_df['Functional'] = train_df['Functional'].fillna('Typ')\n",
    "test_df['Functional'] = test_df['Functional'].fillna('Typ')\n",
    "full_df['Functional'] = full_df['Functional'].fillna('Typ')"
   ]
  },
  {
   "cell_type": "code",
   "execution_count": 10,
   "metadata": {},
   "outputs": [],
   "source": [
    "train_df['LotFrontage'] = train_df.groupby('Neighborhood')['LotFrontage'].transform(lambda x: x.fillna(x.median()))\n",
    "test_df['LotFrontage'] = test_df.groupby('Neighborhood')['LotFrontage'].transform(lambda x: x.fillna(x.median()))"
   ]
  },
  {
   "cell_type": "code",
   "execution_count": 11,
   "metadata": {},
   "outputs": [],
   "source": [
    "for dataframe in [train_df, test_df]:\n",
    "    dataframe['Exterior1st'].replace(['Brk Cmn', 'CmentBd', 'Wd Shng'], ['BrkComm', 'CemntBd', 'Wd Sdng'], inplace=True)\n",
    "    dataframe['Exterior2nd'].replace(['Brk Cmn', 'CmentBd', 'Wd Shng'], ['BrkComm', 'CemntBd', 'Wd Sdng'], inplace=True)"
   ]
  },
  {
   "cell_type": "code",
   "execution_count": 12,
   "metadata": {},
   "outputs": [],
   "source": [
    "ordinal_feature_mapping = {\n",
    "    'ExterQual': {'Po': 0, 'Fa': 1, 'TA': 2, 'Gd': 3, 'Ex': 4}, \n",
    "    'ExterCond': {'Po': 0, 'Fa': 1, 'TA': 2, 'Gd': 3, 'Ex': 4},\n",
    "    'BsmtQual': {'None': 0, 'Po': 1, 'Fa': 2, 'TA': 3, 'Gd': 4, 'Ex': 5},\n",
    "    'BsmtCond': {'None': 0, 'Po': 1, 'Fa': 2, 'TA': 3, 'Gd': 4, 'Ex': 5},\n",
    "    'BsmtFinType1': {'None': 0, 'Unf': 1, 'LwQ': 2, 'Rec': 3, 'BLQ': 4, 'ALQ': 5, 'GLQ': 6},\n",
    "    'BsmtFinType2': {'None': 0, 'Unf': 1, 'LwQ': 2, 'Rec': 3, 'BLQ': 4, 'ALQ': 5, 'GLQ': 6},\n",
    "    'HeatingQC': {'Po': 0, 'Fa': 1, 'TA': 2, 'Gd': 3, 'Ex': 4},\n",
    "    'KitchenQual': {'Po': 0, 'Fa': 1, 'TA': 2, 'Gd': 3, 'Ex': 4},\n",
    "    'FireplaceQu': {'None': 0, 'Po': 1, 'Fa': 2, 'TA': 3, 'Gd': 4, 'Ex': 5},\n",
    "    'GarageFinish': {'None': 0, 'Unf': 1, 'RFn': 2, 'Fin': 3},\n",
    "    'GarageQual': {'None': 0, 'Po': 1, 'Fa': 2, 'TA': 3, 'Gd': 4, 'Ex': 5},\n",
    "    'GarageCond': {'None': 0, 'Po': 1, 'Fa': 2, 'TA': 3, 'Gd': 4, 'Ex': 5},\n",
    "    'PoolQC': {'None': 0, 'Po': 1, 'Fa': 2, 'TA': 3, 'Gd': 4, 'Ex': 5},\n",
    "    'Fence': {'None': 0, 'MnWw': 1, 'GdWo': 2, 'MnPrv': 3, 'GdPrv': 4},\n",
    "    'PavedDrive': {'N': 0, 'P': 1, 'Y': 2},\n",
    "    'CentralAir': {'N': 0, 'Y': 1},\n",
    "    'Alley': {'None': 0, 'Pave': 1, 'Grvl': 2},\n",
    "    'Street': {'Pave': 0, 'Grvl': 1},\n",
    "    'Functional': {'Sal': 0, 'Sev': 1, 'Maj2': 2, 'Maj1': 3, 'Mod': 4, 'Min2': 5, 'Min1': 6, 'Typ': 7}\n",
    "}\n",
    "\n",
    "non_ordinal_cat_features = list(set(cat_features) - set(ordinal_feature_mapping.keys()))\n",
    "\n",
    "for cat_feature in non_ordinal_cat_features:\n",
    "    train_df[cat_feature + 'Enc'] = LabelEncoder().fit_transform(train_df[cat_feature])\n",
    "    test_df[cat_feature + 'Enc'] = LabelEncoder().fit_transform(test_df[cat_feature])\n",
    "\n",
    "for ordinal_feature, feature_mapping in ordinal_feature_mapping.items():\n",
    "    train_df[ordinal_feature + 'Enc'] = train_df[ordinal_feature].map(feature_mapping)\n",
    "    test_df[ordinal_feature + 'Enc'] = test_df[ordinal_feature].map(feature_mapping)"
   ]
  },
  {
   "source": [
    "### Num Feature Scaling"
   ],
   "cell_type": "markdown",
   "metadata": {}
  },
  {
   "cell_type": "code",
   "execution_count": 13,
   "metadata": {},
   "outputs": [],
   "source": [
    "# https://www.kaggle.com/serigne/stacked-regressions-top-4-on-leaderboard"
   ]
  },
  {
   "source": [
    "## Feature Engineering"
   ],
   "cell_type": "markdown",
   "metadata": {}
  },
  {
   "cell_type": "code",
   "execution_count": 14,
   "metadata": {},
   "outputs": [],
   "source": [
    "for dataframe in [train_df, test_df]:\n",
    "    dataframe['Has2ndFloor'] = dataframe['2ndFlrSF'].apply(lambda x: int(x > 0))\n",
    "    dataframe['HasBsmnt'] = dataframe['TotalBsmtSF'].apply(lambda x: int(x > 0))\n",
    "    dataframe['HasGarage'] = dataframe['GarageArea'].apply(lambda x: int(x > 0))\n",
    "    dataframe['HasPool'] = dataframe['PoolArea'].apply(lambda x: int(x > 0))\n",
    "    dataframe['HasFence'] = dataframe['Fence'].apply(lambda x: int(x != 'None'))\n",
    "    dataframe['HasFireplace'] = dataframe['Fireplaces'].apply(lambda x: int(x > 0))\n",
    "    dataframe['HasMasVnr'] = dataframe['MasVnrType'].apply(lambda x: int(x != 'None'))\n",
    "    dataframe['HasShed'] = (dataframe['MiscFeature'] == 'Shed') * 1\n",
    "\n",
    "    dataframe['HouseAge'] = dataframe['YrSold'].astype('int') - dataframe['YearBuilt'].astype('int')\n",
    "    dataframe['HouseAgeSinRemod'] = dataframe['YrSold'].astype('int') - dataframe['YearRemodAdd'].astype('int')"
   ]
  },
  {
   "cell_type": "code",
   "execution_count": 15,
   "metadata": {},
   "outputs": [],
   "source": [
    "# Remove outliers\n",
    "train_df.drop(\n",
    "    train_df[(train_df['GrLivArea'] > 4000) & (train_df['SalePrice'] < 700000)].index\n",
    ");"
   ]
  },
  {
   "cell_type": "code",
   "execution_count": 16,
   "metadata": {},
   "outputs": [],
   "source": [
    "subclassCategories = [20, 30, 40, 45, 50, 60, 70, 75, 80, 85, 90, 120, 160, 180, 190] #removed 150 class as useless during predictions\n",
    "\n",
    "exteriorCategories = ['AsbShng', 'AsphShn', 'BrkComm', 'BrkFace', 'CBlock', 'CemntBd', 'HdBoard', 'ImStucc', 'MetalSd', 'Other', 'Plywood', 'PreCast', 'Stone', 'Stucco', 'VinylSd', 'Wd Sdng', 'WdShing']\n",
    "\n",
    "neighborhoodCategories = full_df['Neighborhood'].unique()\n",
    "saleCondCategories = full_df['SaleCondition'].unique()\n",
    "garageTypeCategories = full_df['GarageType'].unique()\n",
    "lotConfigCategories = full_df['LotConfig'].unique() # feature was removed from the model\n",
    "lotShapeCategories = full_df['LotShape'].unique()\n",
    "landSlopeCategories = full_df['LandSlope'].unique()"
   ]
  },
  {
   "cell_type": "code",
   "execution_count": 17,
   "metadata": {},
   "outputs": [],
   "source": [
    "year_built_bins = np.linspace(1871, 2010, 10) # 10 bins"
   ]
  },
  {
   "cell_type": "code",
   "execution_count": 18,
   "metadata": {},
   "outputs": [],
   "source": [
    "# Reference: https://www.kaggle.com/cerberus4229/voting-regressor-with-pipelines\n",
    "\n",
    "for dataframe in [train_df, test_df]:\n",
    "    dataframe['TotalBathrooms'] = (dataframe['FullBath'] + (0.5 * dataframe['HalfBath']) +\n",
    "                                dataframe['BsmtFullBath'] + (0.5 * dataframe['BsmtHalfBath']))\n",
    "\n",
    "    dataframe['OverallHouseQCBin'] = pd.qcut(dataframe['OverallQual'] + dataframe['OverallCond'], q=3, labels=[0, 1, 2])\n",
    "    dataframe['IsPavedDrive'] = (dataframe['PavedDrive'] == 'Y') * 1\n",
    "    dataframe['IsNeighborhoodElite'] = (dataframe['Neighborhood'].isin(['NridgHt', 'CollgeCr', 'Crawfor', 'StoreBr', 'Timber'])) * 1 \n",
    "    dataframe['YearBuiltBin'] = pd.cut(dataframe['YearBuilt'], bins=year_built_bins, labels=range(1, 10)) \n",
    "    dataframe['KitchenQCBin'] = pd.cut(dataframe['KitchenQualEnc'] * dataframe['KitchenAbvGr'], [-1, 2, 7], labels=[0, 1])\n",
    "\n",
    "    dataframe['IsFunctional'] = (dataframe['Functional'] == 'Typ') * 1\n",
    "    dataframe['FunctionalGroup'] = dataframe['Functional'].map({\n",
    "        'Typ': 2,\n",
    "        'Min1': 1,\n",
    "        'Min2': 1,\n",
    "        'Mod': 1,\n",
    "        'Maj1': 0,\n",
    "        'Maj2': 0,\n",
    "        'Sev': 0,\n",
    "        'Sav': 0,\n",
    "    })\n",
    "\n",
    "    dataframe['IsModernHouseType'] = dataframe['MSSubClass'].map(\n",
    "        {20: 1, 30: 0, 40: 0, 45: 0,50: 0, 60: 1, 70: 0, 75: 0, 80: 0, 85: 0, 90: 0, 120: 1, 150: 0, 160: 0, 180: 0, 190: 0}\n",
    "    )\n",
    "    dataframe['IsLandFlat'] = (dataframe['LandContour'] == 'Lvl') * 1\n",
    "    dataframe['IsNewHouseSold'] = (full_df['YearBuilt'] == full_df['YrSold'].astype(int)) * 1\n",
    "\n",
    "    dataframe['IsExterCondGood'] = dataframe['ExterCond'].map({'Po': 0, 'Fa': 0, 'TA': 1, 'Gd': 1, 'Ex': 1})\n",
    "\n",
    "    dataframe['IsGasHeating'] = dataframe['Heating'].map({'GasA': 1, 'GasW': 1, 'Grav': 0, 'Wall': 0, 'OthW': 0, 'Floor': 0})\n",
    "    dataframe['IsHeatingGood'] = dataframe['HeatingQC'].map({'Po': 0, 'Fa': 0, 'TA': 0, 'Gd': 1, 'Ex': 1})\n",
    "\n",
    "    dataframe['IsNewElectrBreakers'] = dataframe['Electrical'].map({'SBrkr': 1, 'FuseF': 0, 'FuseA': 0, 'FuseP': 0, 'Mix': 0})\n",
    "\n",
    "    dataframe['IsGarageCondGood'] = dataframe['GarageCond'].map({'None': 0, 'Po': 0, 'Fa': 0, 'TA': 1, 'Gd': 1, 'Ex': 1})\n",
    "    dataframe['IsGarageQualGood'] = dataframe['GarageQual'].map({'None': 0, 'Po': 0, 'Fa': 0, 'TA': 1, 'Gd': 1, 'Ex': 1})\n",
    "\n",
    "    dataframe['RoofMatlCost'] = dataframe['RoofMatl'].map({\n",
    "        'CompShg': 0,\n",
    "        'WdShake': 1,\n",
    "        'ClyTile': 1,\n",
    "        'WdShngl': 1,\n",
    "        'Roll': 0,\n",
    "        'Metal': 1,\n",
    "        'Membran': 0,\n",
    "        'Tar&Grv': 0,\n",
    "    })\n",
    "    \n",
    "    dataframe['IsWoodenRoof'] = dataframe['RoofMatl'].map({\n",
    "        'CompShg': 0,\n",
    "        'WdShake': 1,\n",
    "        'ClyTile': 0,\n",
    "        'WdShngl': 1,\n",
    "        'Roll': 0,\n",
    "        'Metal': 0,\n",
    "        'Membran': 0,\n",
    "        'Tar&Grv': 0,\n",
    "    })\n",
    "\n",
    "    dataframe['IsCompShngl'] = dataframe['RoofMatl'].map({\n",
    "        'CompShg': 1,\n",
    "        'WdShake': 0,\n",
    "        'ClyTile': 0,\n",
    "        'WdShngl': 0,\n",
    "        'Roll': 0,\n",
    "        'Metal': 0,\n",
    "        'Membran': 0,\n",
    "        'Tar&Grv': 0,\n",
    "    })\n",
    "\n",
    "    dataframe['IsAdjArterialStreat'] = ((dataframe['Condition1'] == 'Artery') | (dataframe['Condition2'] == 'Artery')) * 1\n",
    "    dataframe['IsAdjFeederStreat'] = ((dataframe['Condition1'] == 'Feedr') | (dataframe['Condition2'] == 'Feedr')) * 1\n",
    "    dataframe['IsNormalCondition'] = ((dataframe['Condition1'] == 'Norm') | (dataframe['Condition2'] == 'Norm')) * 1\n",
    "    dataframe['IsAjdOffSiteFeature'] = ((dataframe['Condition1'] == 'PosA') | (dataframe['Condition2'] == 'PosA')) * 1\n",
    "    dataframe['IsNearOffSiteFeature'] = ((dataframe['Condition1'] == 'PosN') | (dataframe['Condition2'] == 'PosN')) * 1\n",
    "    dataframe['IsNearRailroad'] = ((dataframe['Condition1'].isin(['RRNn', 'RRNe'])) | (dataframe['Condition2'].isin(['RRNn', 'RRNe']))) * 1\n",
    "    dataframe['IsAdjRailroad'] = ((dataframe['Condition1'].isin(['RRAn', 'RRAe'])) | (dataframe['Condition2'].isin(['RRAn', 'RRAe']))) * 1\n"
   ]
  },
  {
   "cell_type": "code",
   "execution_count": 19,
   "metadata": {},
   "outputs": [],
   "source": [
    "# https://www.kaggle.com/humananalog/xgboost-lasso"
   ]
  },
  {
   "cell_type": "code",
   "execution_count": 20,
   "metadata": {},
   "outputs": [],
   "source": [
    "baseline_features = [\n",
    "    '1stFlrSF',\n",
    "    '2ndFlrSF',\n",
    "    'BsmtFinSF1', \n",
    "    'BsmtFinSF2',\n",
    "    'BsmtUnfSF', \n",
    "    'BsmtFinType1Enc',\n",
    "    'BsmtFinType2Enc',\n",
    "    'OverallQual',\n",
    "    'GarageCars',\n",
    "    'OverallCond', \n",
    "    'Neighborhood',\n",
    "    'MSSubClass', \n",
    "    'LotShape',\n",
    "    'LandSlope',\n",
    "    'BsmtCondEnc',\n",
    "    'BsmtQualEnc', \n",
    "    'SaleCondition',\n",
    "    'CentralAirEnc',\n",
    "    'IsAdjArterialStreat',\n",
    "    'IsAdjFeederStreat',\n",
    "    'IsNormalCondition',\n",
    "    'IsNearOffSiteFeature',\n",
    "    'IsAjdOffSiteFeature',\n",
    "    'IsNearRailroad',\n",
    "    'IsAdjRailroad',\n",
    "    'TotalBathrooms',\n",
    "    'GarageFinishEnc',\n",
    "    'KitchenQualEnc',\n",
    "    'BedroomAbvGr',\n",
    "    'MSZoning',\n",
    "    'ExterQualEnc',\n",
    "    'IsNewHouseSold',\n",
    "    'LandContour',\n",
    "    'HasFireplace',\n",
    "    'FunctionalGroup',\n",
    "    'HouseAge',\n",
    "    'FenceEnc',\n",
    "    'IsModernHouseType',\n",
    "    'IsGasHeating',\n",
    "    'IsHeatingGood',\n",
    "    'IsNewElectrBreakers',\n",
    "    'IsGarageCondGood',\n",
    "    'IsWoodenRoof',\n",
    "    'RoofMatlCost',\n",
    "    'IsCompShngl',\n",
    "    #'LotFrontage',\n",
    "    'Foundation'\n",
    "]\n",
    "\n",
    "X = train_df[baseline_features]\n",
    "Y = train_df['SalePrice']"
   ]
  },
  {
   "source": [
    "## Modeling"
   ],
   "cell_type": "markdown",
   "metadata": {}
  },
  {
   "cell_type": "code",
   "execution_count": 21,
   "metadata": {},
   "outputs": [],
   "source": [
    "# Build feature transformer\n",
    "\n",
    "logTransformer = FunctionTransformer(func=np.log1p, inverse_func=np.expm1)\n",
    "\n",
    "featureTransformer = ColumnTransformer([\n",
    "        ('basement_area_log', logTransformer, ['BsmtFinSF1', 'BsmtFinSF2', 'BsmtUnfSF']),\n",
    "        #('frontage_log', logTransformer, ['LotFrontage']),\n",
    "        ('neighborhood_onehot', OneHotEncoder(categories=[neighborhoodCategories]), ['Neighborhood']),\n",
    "        ('subclass_onehot', OneHotEncoder(categories=[subclassCategories], handle_unknown='ignore'), ['MSSubClass']),\n",
    "        ('lot_shape_onehot', OneHotEncoder(categories=[lotShapeCategories]), ['LotShape']),\n",
    "        ('land_slope_onehot', OneHotEncoder(categories=[landSlopeCategories]), ['LandSlope']),\n",
    "        ('sale_condtion_onehot', OneHotEncoder(categories=[saleCondCategories]), ['SaleCondition']),\n",
    "        ('land_contour_onehot', OneHotEncoder(), ['LandContour']),\n",
    "        ('zoning_onehot', OneHotEncoder(), ['MSZoning']),\n",
    "        ('foundation_onehot', OneHotEncoder(), ['Foundation']),\n",
    "    ],\n",
    "    remainder='passthrough'\n",
    ")"
   ]
  },
  {
   "source": [
    "### ElasticNet"
   ],
   "cell_type": "markdown",
   "metadata": {}
  },
  {
   "cell_type": "code",
   "execution_count": 22,
   "metadata": {},
   "outputs": [
    {
     "output_type": "stream",
     "name": "stdout",
     "text": [
      "ElasticNet:\n",
      "[CV] MSE: 1166038319.8509 (88250346.6228)\n",
      "[CV] MAE: 20219.0894 (476.7856)\n",
      "[CV] R^2: 0.8134 (0.0256)\n",
      "[CV] RMSLE: 0.203828 (0.0393)\n",
      "CPU times: user 852 ms, sys: 548 ms, total: 1.4 s\n",
      "Wall time: 1.27 s\n"
     ]
    }
   ],
   "source": [
    "%%time\n",
    "\n",
    "elasticnet_model = ElasticNet(\n",
    "    alpha=0.5,\n",
    "    l1_ratio=0.8,\n",
    "    random_state=42,\n",
    ")\n",
    "\n",
    "elasticnet_pipeline = Pipeline([\n",
    "    ('preprocessing', featureTransformer),\n",
    "    ('elasticnet', elasticnet_model)\n",
    "])\n",
    "\n",
    "print('ElasticNet:')\n",
    "score_model(elasticnet_pipeline, X, Y)"
   ]
  },
  {
   "cell_type": "code",
   "execution_count": 23,
   "metadata": {},
   "outputs": [],
   "source": [
    "parameters = {\n",
    "    'elasticnet__alpha': [9e-4, 7e-4, 5e-4, 3e-4, 1e-4, 1e-3, 5e-2, 1e-2, 0.1, 0.5, 1, 2, 5],\n",
    "    'elasticnet__l1_ratio': [0.01, 0.1, 0.2, 0.3, 0.5, 0.6, 0.7, 0.8, 1],\n",
    "}\n",
    "\n",
    "paramSearch = GridSearchCV(\n",
    "  estimator=elasticnet_pipeline,\n",
    "  scoring='neg_mean_squared_error',\n",
    "  param_grid=parameters, \n",
    "  cv=2,\n",
    "  n_jobs=-1, \n",
    "  verbose=3\n",
    ")\n",
    "\n",
    "#paramSearch.fit(X, Y)\n",
    "#paramSearch.best_params_, paramSearch.best_score_"
   ]
  },
  {
   "source": [
    "### Ridge"
   ],
   "cell_type": "markdown",
   "metadata": {}
  },
  {
   "cell_type": "code",
   "execution_count": 24,
   "metadata": {},
   "outputs": [],
   "source": [
    "# https://www.kaggle.com/marktsvirko/votingregressor-xgb-svm-top-10"
   ]
  },
  {
   "cell_type": "code",
   "execution_count": 25,
   "metadata": {},
   "outputs": [
    {
     "output_type": "stream",
     "name": "stdout",
     "text": [
      "Ridge:\n",
      "[CV] MSE: 1359502790.4228 (87765710.3441)\n",
      "[CV] MAE: 22081.9174 (345.5602)\n",
      "[CV] R^2: 0.7826 (0.0275)\n",
      "[CV] RMSLE: 0.175216 (0.0002)\n",
      "CPU times: user 1.02 s, sys: 1.03 s, total: 2.05 s\n",
      "Wall time: 767 ms\n"
     ]
    }
   ],
   "source": [
    "%%time\n",
    "\n",
    "ridge_model = Ridge(\n",
    "        solver='auto',\n",
    "        alpha=522,\n",
    "        random_state=42,\n",
    "    )\n",
    "\n",
    "ridge_pipeline = Pipeline([\n",
    "    ('preprocessing', featureTransformer),\n",
    "    ('ridge', ridge_model),\n",
    "])\n",
    "\n",
    "print('Ridge:')\n",
    "score_model(ridge_pipeline, X, Y)"
   ]
  },
  {
   "cell_type": "code",
   "execution_count": 26,
   "metadata": {},
   "outputs": [],
   "source": [
    "parameters = {\n",
    "    'ridge__solver': ['auto', 'saga', 'sag', 'cholesky'],\n",
    "    'ridge__alpha': [510, 519, 520, 522, 530],\n",
    "}\n",
    "\n",
    "paramSearch = GridSearchCV(\n",
    "  estimator=ridge_pipeline,\n",
    "  scoring=make_scorer(neg_rmsle),\n",
    "  param_grid=parameters, \n",
    "  cv=2,\n",
    "  n_jobs=-1, \n",
    "  verbose=3\n",
    ")\n",
    "\n",
    "#paramSearch.fit(X, Y)\n",
    "#paramSearch.best_params_, paramSearch.best_score_"
   ]
  },
  {
   "source": [
    "### SVR"
   ],
   "cell_type": "markdown",
   "metadata": {}
  },
  {
   "cell_type": "code",
   "execution_count": 27,
   "metadata": {},
   "outputs": [
    {
     "output_type": "stream",
     "name": "stdout",
     "text": [
      "SVR:\n",
      "[CV] MSE: 1336118530.7264 (17983189.8334)\n",
      "[CV] MAE: 20549.7171 (810.8742)\n",
      "[CV] R^2: 0.7870 (0.0161)\n",
      "[CV] RMSLE: 0.161999 (0.0069)\n",
      "CPU times: user 11 s, sys: 791 ms, total: 11.8 s\n",
      "Wall time: 18.1 s\n"
     ]
    }
   ],
   "source": [
    "%%time\n",
    "\n",
    "svr_model = SVR(\n",
    "    kernel='linear',\n",
    "    C=200\n",
    ")\n",
    "\n",
    "svr_pipeline = Pipeline([\n",
    "    ('preprocessing', featureTransformer),\n",
    "    ('svr', svr_model),\n",
    "])\n",
    "\n",
    "print('SVR:')\n",
    "score_model(svr_pipeline, X, Y)"
   ]
  },
  {
   "cell_type": "code",
   "execution_count": 28,
   "metadata": {},
   "outputs": [],
   "source": [
    "parameters = {\n",
    "    'svr__C': [1, 20, 50, 100, 120, 150, 200],\n",
    "    'svr__kernel': ['linear'],\n",
    "    #'svr__tol': [1e-3, 1e-5, 1e-4, 1e-2, 0.1]\n",
    "}\n",
    "\n",
    "paramSearch = GridSearchCV(\n",
    "   estimator=svr_pipeline,\n",
    "   scoring=make_scorer(neg_rmsle),\n",
    "   param_grid=parameters,\n",
    "   cv=2,\n",
    "   n_jobs=-1, \n",
    "   verbose=3\n",
    ")\n",
    "\n",
    "#paramSearch.fit(X, Y)\n",
    "#paramSearch.best_params_, paramSearch.best_score_"
   ]
  },
  {
   "source": [
    "### Random Forest"
   ],
   "cell_type": "markdown",
   "metadata": {}
  },
  {
   "cell_type": "code",
   "execution_count": 29,
   "metadata": {},
   "outputs": [
    {
     "output_type": "stream",
     "name": "stdout",
     "text": [
      "RandomForest Regressor:\n",
      "[CV] MSE: 1220883727.7522 (3980976.3876)\n",
      "[CV] MAE: 20625.4877 (793.8998)\n",
      "[CV] R^2: 0.8056 (0.0115)\n",
      "[CV] RMSLE: 0.167987 (0.0071)\n",
      "CPU times: user 6.87 s, sys: 39.5 ms, total: 6.91 s\n",
      "Wall time: 11.1 s\n"
     ]
    }
   ],
   "source": [
    "%%time\n",
    "\n",
    "random_forest_model = RandomForestRegressor(\n",
    "        bootstrap=True,\n",
    "        max_depth=15,\n",
    "        max_features='sqrt',\n",
    "        max_leaf_nodes=None,\n",
    "        max_samples=None,\n",
    "        min_samples_leaf=5,\n",
    "        min_samples_split=5,\n",
    "        n_estimators=2500,\n",
    "        random_state=42,\n",
    "    )\n",
    "\n",
    "random_forest_pipeline = Pipeline([\n",
    "    ('preprocessing', featureTransformer),\n",
    "    ('random_forest', random_forest_model),\n",
    "])\n",
    "\n",
    "# Measure performance\n",
    "\n",
    "print('RandomForest Regressor:')\n",
    "score_model(random_forest_pipeline, X, Y)\n",
    "\n",
    "## RF(max_depth=25, max_features='sqrt', min_samples_leaf=1, min_samples_split=2, n_estimators=1000)\n",
    "## CV=2, 0.15007\n",
    "#[CV] MSE: 889831012.8445 (46061331.0130)\n",
    "#[CV] MAE: 17721.0043 (817.3113)\n",
    "#[CV] R^2: 0.8587 (0.0015)"
   ]
  },
  {
   "cell_type": "code",
   "execution_count": 30,
   "metadata": {},
   "outputs": [
    {
     "output_type": "execute_result",
     "data": {
      "text/plain": [
       "[(0.1466551750804693, 'OverallQual'),\n",
       " (0.09402096127659482, 'GarageCars'),\n",
       " (0.08326258585268287, '1stFlrSF'),\n",
       " (0.0775806059391785, 'ExterQualEnc'),\n",
       " (0.06853915629974182, 'KitchenQualEnc'),\n",
       " (0.06672035268336873, 'BsmtQualEnc'),\n",
       " (0.058908159502073, 'TotalBathrooms'),\n",
       " (0.05832217660589295, 'HouseAge'),\n",
       " (0.046598183398267226, 'BsmtFinSF1'),\n",
       " (0.04126509963605714, '2ndFlrSF'),\n",
       " (0.03197190281171721, 'GarageFinishEnc'),\n",
       " (0.030493964677933277, 'HasFireplace'),\n",
       " (0.022489601864140837, 'Foundation_PConc'),\n",
       " (0.016574945186830243, 'BsmtFinType1Enc'),\n",
       " (0.013853430390893668, 'BsmtUnfSF'),\n",
       " (0.01378961988975171, 'MSSubClass_60'),\n",
       " (0.012896736238004664, 'Neighborhood_NridgHt'),\n",
       " (0.011187383193598044, 'IsModernHouseType'),\n",
       " (0.010866186264949097, 'BedroomAbvGr'),\n",
       " (0.010327331729784419, 'Neighborhood_NoRidge'),\n",
       " (0.006637166216870335, 'Foundation_CBlock'),\n",
       " (0.006363705552533602, 'SaleCondition_Partial'),\n",
       " (0.006345420541107793, 'IsHeatingGood'),\n",
       " (0.005135437934181665, 'OverallCond'),\n",
       " (0.005053534920560861, 'MSZoning_RM'),\n",
       " (0.00443237076341486, 'LotShape_Reg'),\n",
       " (0.004184117260431899, 'IsGarageCondGood'),\n",
       " (0.004034193195991693, 'MSZoning_RL'),\n",
       " (0.003290114610644741, 'CentralAirEnc'),\n",
       " (0.002579580844931038, 'MSSubClass_30'),\n",
       " (0.002548777645610328, 'LotShape_IR1'),\n",
       " (0.0021784643725405047, 'MSSubClass_20'),\n",
       " (0.0021332883603012087, 'SaleCondition_Normal'),\n",
       " (0.0017512187920994558, 'Neighborhood_Crawfor'),\n",
       " (0.0015231738832997034, 'BsmtCondEnc'),\n",
       " (0.001520424069903001, 'IsNewHouseSold'),\n",
       " (0.00143326256515784, 'Neighborhood_StoneBr'),\n",
       " (0.0012582663718295833, 'IsNewElectrBreakers'),\n",
       " (0.0011342520129701092, 'MSSubClass_120'),\n",
       " (0.0011063606838258792, 'LandSlope_Gtl'),\n",
       " (0.0010961608638569902, 'LandContour_Lvl'),\n",
       " (0.0010194392074855485, 'MSSubClass_160'),\n",
       " (0.0009833478854187484, 'Neighborhood_NAmes'),\n",
       " (0.0008274610120217025, 'Neighborhood_Somerst'),\n",
       " (0.00082043830865971, 'Neighborhood_CollgCr'),\n",
       " (0.0008172996144092137, 'FenceEnc'),\n",
       " (0.0007463706705099091, 'Neighborhood_Gilbert'),\n",
       " (0.0007320499880163979, 'BsmtFinSF2'),\n",
       " (0.0007164776165288322, 'Foundation_BrkTil'),\n",
       " (0.0007117460063293691, 'Neighborhood_OldTown'),\n",
       " (0.0006857527649310478, 'BsmtFinType2Enc'),\n",
       " (0.0006832302609404419, 'Neighborhood_NWAmes'),\n",
       " (0.0006541429825175988, 'Neighborhood_Edwards'),\n",
       " (0.0005984104595689953, 'MSSubClass_70'),\n",
       " (0.0005005125348755894, 'LandSlope_Mod'),\n",
       " (0.0004934129319415464, 'IsWoodenRoof'),\n",
       " (0.0004361701014629551, 'MSZoning_FV'),\n",
       " (0.0004067621835763698, 'LandContour_HLS'),\n",
       " (0.00039773890732186886, 'Neighborhood_ClearCr'),\n",
       " (0.00039549685337102614, 'LandContour_Low'),\n",
       " (0.00039220701639555, 'IsCompShngl'),\n",
       " (0.00037194250356753505, 'MSSubClass_90'),\n",
       " (0.0003715701620704785, 'LotShape_IR2'),\n",
       " (0.00036649054994657935, 'RoofMatlCost'),\n",
       " (0.0003329045978125042, 'SaleCondition_Abnorml'),\n",
       " (0.0003299090318352059, 'MSSubClass_50'),\n",
       " (0.000270350598045064, 'Neighborhood_IDOTRR'),\n",
       " (0.0002683573307524235, 'Neighborhood_Timber'),\n",
       " (0.0002580713102891971, 'FunctionalGroup'),\n",
       " (0.00022747861115373665, 'Neighborhood_MeadowV'),\n",
       " (0.00019493777339708605, 'Neighborhood_Sawyer'),\n",
       " (0.00017751404026935492, 'Neighborhood_Blmngtn'),\n",
       " (0.00015513432057450064, 'MSSubClass_80'),\n",
       " (0.00014877931027778595, 'MSSubClass_75'),\n",
       " (0.00014722401144719435, 'Neighborhood_Mitchel'),\n",
       " (0.0001314641016259199, 'IsAdjFeederStreat'),\n",
       " (0.00012194786539795602, 'IsAdjArterialStreat'),\n",
       " (0.0001144668709520359, 'MSZoning_C (all)'),\n",
       " (0.0001077878954833577, 'LandSlope_Sev'),\n",
       " (0.0001008702764711334, 'Neighborhood_SawyerW'),\n",
       " (9.331681184899923e-05, 'Foundation_Slab'),\n",
       " (9.206180760470761e-05, 'Neighborhood_BrDale'),\n",
       " (9.111216673809668e-05, 'IsGasHeating'),\n",
       " (8.693469544729778e-05, 'LandContour_Bnk'),\n",
       " (8.429035921269364e-05, 'Neighborhood_BrkSide'),\n",
       " (6.866940888589292e-05, 'MSSubClass_180'),\n",
       " (3.7493022804993125e-05, 'IsAdjRailroad'),\n",
       " (3.047988677007429e-05, 'IsAjdOffSiteFeature'),\n",
       " (2.91195477786129e-05, 'IsNearOffSiteFeature'),\n",
       " (2.7341623050003135e-05, 'MSSubClass_190'),\n",
       " (2.6221686472623695e-05, 'Neighborhood_SWISU'),\n",
       " (1.1288861036879004e-05, 'Neighborhood_NPkVill'),\n",
       " (1.0854678524245258e-05, 'MSSubClass_85'),\n",
       " (9.609974235759136e-06, 'Neighborhood_Veenker'),\n",
       " (6.151997357232229e-06, 'MSSubClass_45'),\n",
       " (5.69275388886822e-06, 'MSZoning_RH'),\n",
       " (4.446937860541776e-06, 'SaleCondition_Family'),\n",
       " (3.805550418825419e-06, 'SaleCondition_Alloca'),\n",
       " (2.589778419601142e-06, 'IsNormalCondition'),\n",
       " (0.0, 'SaleCondition_AdjLand'),\n",
       " (0.0, 'Neighborhood_Blueste'),\n",
       " (0.0, 'MSSubClass_40'),\n",
       " (0.0, 'LotShape_IR3'),\n",
       " (0.0, 'IsNearRailroad'),\n",
       " (0.0, 'Foundation_Wood'),\n",
       " (0.0, 'Foundation_Stone')]"
      ]
     },
     "metadata": {},
     "execution_count": 30
    }
   ],
   "source": [
    "random_forest_pipeline.fit(X, Y)\n",
    "\n",
    "X_columns = get_columns_from_transformer(random_forest_pipeline.named_steps['preprocessing'], list(X.columns))\n",
    "\n",
    "features_list = sorted(zip(random_forest_pipeline.named_steps['random_forest'].feature_importances_, X_columns), reverse=True)\n",
    "random_forest_pipeline.named_steps['preprocessing'].transformers_\n",
    "\n",
    "features_list"
   ]
  },
  {
   "cell_type": "code",
   "execution_count": 31,
   "metadata": {},
   "outputs": [],
   "source": [
    "from skopt import BayesSearchCV\n",
    "from skopt.space import Real, Categorical, Integer\n",
    "from skopt.plots import plot_objective, plot_histogram\n",
    "\n",
    "parameters = {\n",
    "    'random_forest__max_depth': [None, 15,  20, 25],\n",
    "    'random_forest__max_features': ['sqrt'],\n",
    "    'random_forest__max_leaf_nodes': [None, 5, 15, 17, 20],\n",
    "    'random_forest__min_samples_leaf': [1, 2, 3],\n",
    "    'random_forest__min_samples_split': [2, 1, 3],\n",
    "    'random_forest__max_samples': [None, 2, 5],\n",
    "    'random_forest__n_estimators': [1500, 2000, 2500]\n",
    "}\n",
    "\n",
    "paramSearch = GridSearchCV(\n",
    "  estimator=random_forest_pipeline,\n",
    "  scoring=make_scorer(neg_rmsle),\n",
    "  param_grid=parameters, \n",
    "  cv=2,\n",
    "  n_jobs=-1, \n",
    "  verbose=3\n",
    ")\n",
    "\n",
    "#paramSearch.fit(X, Y)\n",
    "#paramSearch.best_params_, paramSearch.best_score_"
   ]
  },
  {
   "cell_type": "code",
   "execution_count": 32,
   "metadata": {},
   "outputs": [],
   "source": [
    "#plot_learning_curve(random_forest_pipeline, X, Y, cv=3)"
   ]
  },
  {
   "source": [
    "### XGBoostRegressor"
   ],
   "cell_type": "markdown",
   "metadata": {}
  },
  {
   "cell_type": "code",
   "execution_count": 33,
   "metadata": {},
   "outputs": [
    {
     "output_type": "stream",
     "name": "stdout",
     "text": [
      "XGB Regressor:\n",
      "[CV] MSE: 747859172.1658 (6429496.1147)\n",
      "[CV] MAE: 15732.3000 (242.6884)\n",
      "[CV] R^2: 0.8808 (0.0085)\n",
      "[CV] RMSLE: 0.124892 (0.0047)\n",
      "CPU times: user 3min 21s, sys: 7.54 s, total: 3min 28s\n",
      "Wall time: 33 s\n"
     ]
    }
   ],
   "source": [
    "%%time\n",
    "\n",
    "from xgboost import XGBRegressor\n",
    "\n",
    "xgb_model = XGBRegressor(\n",
    "        max_depth=12,\n",
    "        n_estimators=8000,\n",
    "        learning_rate=0.01,\n",
    "        min_child_weight=1.5,\n",
    "        subsample=0.2,\n",
    "        gamma=0,\n",
    "        reg_alpha=1,\n",
    "        reg_lambda=0.3,\n",
    "        objective='reg:gamma',\n",
    "        booster='gbtree'\n",
    "    )\n",
    "\n",
    "xgb_pipeline = Pipeline([\n",
    "    ('preprocessing', featureTransformer),\n",
    "    ('xgb_regressor', xgb_model),\n",
    "])\n",
    "\n",
    "# Measure Performance\n",
    "\n",
    "print('XGB Regressor:')\n",
    "score_model(xgb_pipeline, X, Y)\n",
    "\n",
    "## max_depth=5, n_estimators=7050, reg_lambda=0.1\n",
    "#[CV] MSE: 755365876.2535 (1664554.6549)\n",
    "#[CV] MAE: 15722.3732 (351.0276)\n",
    "#[CV] R^2: 0.8797 (0.0078)\n",
    "#[CV] RMSLE: 0.125424 (0.0050)\n",
    "\n",
    "## max_depth=10, n_estimators=8000, reg_lambda=0.1\n",
    "#[CV] MSE: 753159035.6143 (5363856.3922)\n",
    "#[CV] MAE: 15781.0936 (251.9878)\n",
    "#[CV] R^2: 0.8800 (0.0083)\n",
    "#[CV] RMSLE: 0.125074 (0.0047)\n",
    "\n",
    "## max_depth=12, n_estimators=8000, reg_lambda=0.3,\n",
    "# [CV] MSE: 747859172.1658 (6429496.1147)\n",
    "# [CV] MAE: 15732.3000 (242.6884)\n",
    "# [CV] R^2: 0.8808 (0.0085)\n",
    "# [CV] RMSLE: 0.124892 (0.0047)"
   ]
  },
  {
   "cell_type": "code",
   "execution_count": 34,
   "metadata": {},
   "outputs": [
    {
     "output_type": "execute_result",
     "data": {
      "text/plain": [
       "[(0.11441995, 'OverallQual'),\n",
       " (0.062171042, 'TotalBathrooms'),\n",
       " (0.05623994, 'GarageCars'),\n",
       " (0.054978218, 'HasFireplace'),\n",
       " (0.052795634, 'ExterQualEnc'),\n",
       " (0.03865876, 'MSZoning_C (all)'),\n",
       " (0.036991116, 'KitchenQualEnc'),\n",
       " (0.025723018, 'CentralAirEnc'),\n",
       " (0.023880515, 'IsGarageCondGood'),\n",
       " (0.022214103, '1stFlrSF'),\n",
       " (0.02049214, 'MSSubClass_30'),\n",
       " (0.020243313, 'IsGasHeating'),\n",
       " (0.017857423, 'BsmtQualEnc'),\n",
       " (0.015820356, 'BsmtFinSF1'),\n",
       " (0.0139915235, 'GarageFinishEnc'),\n",
       " (0.013691169, '2ndFlrSF'),\n",
       " (0.012981898, 'RoofMatlCost'),\n",
       " (0.010470745, 'SaleCondition_Alloca'),\n",
       " (0.00963128, 'Neighborhood_IDOTRR'),\n",
       " (0.0095445225, 'SaleCondition_Abnorml'),\n",
       " (0.009266234, 'MSZoning_RM'),\n",
       " (0.009139243, 'SaleCondition_Family'),\n",
       " (0.008903824, 'SaleCondition_Normal'),\n",
       " (0.008292631, 'LotShape_IR3'),\n",
       " (0.008267442, 'IsNormalCondition'),\n",
       " (0.007987202, 'LotShape_Reg'),\n",
       " (0.007486704, 'Neighborhood_OldTown'),\n",
       " (0.0072310534, 'IsHeatingGood'),\n",
       " (0.006970734, 'OverallCond'),\n",
       " (0.006641548, 'Neighborhood_Edwards'),\n",
       " (0.006482521, 'MSSubClass_180'),\n",
       " (0.0064681773, 'MSSubClass_60'),\n",
       " (0.0063779224, 'SaleCondition_Partial'),\n",
       " (0.0059934086, 'MSZoning_RL'),\n",
       " (0.00582673, 'HouseAge'),\n",
       " (0.005792864, 'Foundation_Slab'),\n",
       " (0.0056619276, 'MSSubClass_20'),\n",
       " (0.0055477787, 'Neighborhood_Blmngtn'),\n",
       " (0.0055123037, 'FunctionalGroup'),\n",
       " (0.005456067, 'Neighborhood_NAmes'),\n",
       " (0.005392052, 'MSSubClass_45'),\n",
       " (0.0052714106, 'BedroomAbvGr'),\n",
       " (0.005192266, 'Foundation_CBlock'),\n",
       " (0.004973915, 'BsmtFinType1Enc'),\n",
       " (0.004920968, 'IsAdjArterialStreat'),\n",
       " (0.0048694997, 'MSSubClass_90'),\n",
       " (0.004852864, 'Neighborhood_MeadowV'),\n",
       " (0.004575025, 'BsmtFinSF2'),\n",
       " (0.004384923, 'LandContour_Bnk'),\n",
       " (0.0043300423, 'IsNewElectrBreakers'),\n",
       " (0.004271478, 'BsmtUnfSF'),\n",
       " (0.004243483, 'Foundation_BrkTil'),\n",
       " (0.0041921707, 'IsAdjFeederStreat'),\n",
       " (0.0041360348, 'SaleCondition_AdjLand'),\n",
       " (0.004135532, 'MSSubClass_120'),\n",
       " (0.0041348734, 'LandSlope_Sev'),\n",
       " (0.004133537, 'MSZoning_RH'),\n",
       " (0.0040392205, 'Foundation_Wood'),\n",
       " (0.0040003974, 'IsCompShngl'),\n",
       " (0.0039946213, 'MSSubClass_160'),\n",
       " (0.003968826, 'LotShape_IR1'),\n",
       " (0.003927864, 'LandContour_Lvl'),\n",
       " (0.0038905703, 'Foundation_PConc'),\n",
       " (0.003866824, 'IsNearOffSiteFeature'),\n",
       " (0.0037873348, 'Neighborhood_BrDale'),\n",
       " (0.0037289625, 'IsModernHouseType'),\n",
       " (0.0036690412, 'Neighborhood_Sawyer'),\n",
       " (0.0036352824, 'BsmtCondEnc'),\n",
       " (0.0036268893, 'MSSubClass_190'),\n",
       " (0.003522503, 'LandSlope_Gtl'),\n",
       " (0.003519447, 'Neighborhood_CollgCr'),\n",
       " (0.0034076807, 'LandContour_Low'),\n",
       " (0.003333642, 'Neighborhood_Somerst'),\n",
       " (0.0033166083, 'IsNewHouseSold'),\n",
       " (0.0032991455, 'Neighborhood_NoRidge'),\n",
       " (0.0032789307, 'Neighborhood_SWISU'),\n",
       " (0.0032349837, 'FenceEnc'),\n",
       " (0.0031791409, 'Neighborhood_NridgHt'),\n",
       " (0.0031660586, 'LandContour_HLS'),\n",
       " (0.003130115, 'MSSubClass_50'),\n",
       " (0.0030707237, 'Neighborhood_NWAmes'),\n",
       " (0.003049874, 'MSZoning_FV'),\n",
       " (0.0030350005, 'MSSubClass_80'),\n",
       " (0.0030306042, 'IsAjdOffSiteFeature'),\n",
       " (0.003003714, 'Neighborhood_Timber'),\n",
       " (0.0029871922, 'Neighborhood_BrkSide'),\n",
       " (0.0029579573, 'MSSubClass_75'),\n",
       " (0.0029293075, 'BsmtFinType2Enc'),\n",
       " (0.002883402, 'Neighborhood_StoneBr'),\n",
       " (0.0028235503, 'LandSlope_Mod'),\n",
       " (0.0028218715, 'IsAdjRailroad'),\n",
       " (0.0027917575, 'Neighborhood_Gilbert'),\n",
       " (0.0027367417, 'Neighborhood_SawyerW'),\n",
       " (0.0027064087, 'MSSubClass_70'),\n",
       " (0.0026886065, 'IsWoodenRoof'),\n",
       " (0.0026715402, 'Neighborhood_Mitchel'),\n",
       " (0.002617929, 'Neighborhood_Crawfor'),\n",
       " (0.002396653, 'LotShape_IR2'),\n",
       " (0.0023910678, 'Neighborhood_NPkVill'),\n",
       " (0.0023699512, 'Neighborhood_ClearCr'),\n",
       " (0.0021958698, 'IsNearRailroad'),\n",
       " (0.0021221049, 'Foundation_Stone'),\n",
       " (0.002120741, 'MSSubClass_40'),\n",
       " (0.0018396898, 'MSSubClass_85'),\n",
       " (0.0017756181, 'Neighborhood_Veenker'),\n",
       " (0.0013449965, 'Neighborhood_Blueste')]"
      ]
     },
     "metadata": {},
     "execution_count": 34
    }
   ],
   "source": [
    "xgb_pipeline.fit(X, Y)\n",
    "X_columns = get_columns_from_transformer(xgb_pipeline.named_steps['preprocessing'], list(X.columns))\n",
    "\n",
    "features_list = sorted(zip(xgb_pipeline.named_steps['xgb_regressor'].feature_importances_, X_columns), reverse=True)\n",
    "features_list"
   ]
  },
  {
   "cell_type": "code",
   "execution_count": 35,
   "metadata": {},
   "outputs": [
    {
     "output_type": "stream",
     "name": "stdout",
     "text": [
      "CPU times: user 50 µs, sys: 1 µs, total: 51 µs\nWall time: 53.9 µs\n"
     ]
    }
   ],
   "source": [
    "%%time\n",
    "\n",
    "parameters = {\n",
    "    'xgb_regressor__objective': ['reg:gamma'], # 'reg:squarederror', 'reg:squaredlogerror'\n",
    "    'xgb_regressor__learning_rate': [0.01],\n",
    "    'xgb_regressor__n_estimators': [7900, 8000, 8100],\n",
    "    'xgb_regressor__max_depth': [11, 12, 13],\n",
    "    'xgb_regressor__booster': ['gbtree'],\n",
    "    'xgb_regressor__min_child_weight': [1.5],\n",
    "    'xgb_regressor__gamma': [0],\n",
    "    'xgb_regressor__subsample': [0.2],\n",
    "    'xgb_regressor__reg_alpha': [0, 0.9, 1],\n",
    "    'xgb_regressor__reg_lambda': [1, 0.3],\n",
    "}\n",
    "\n",
    "paramSearch = GridSearchCV(\n",
    "   estimator=xgb_pipeline,\n",
    "   scoring=make_scorer(neg_rmsle),\n",
    "   param_grid=parameters,\n",
    "   cv=2,\n",
    "   n_jobs=-1, \n",
    "   verbose=3\n",
    ")\n",
    "\n",
    "#paramSearch.fit(X, Y)\n",
    "#paramSearch.best_params_, paramSearch.best_score_"
   ]
  },
  {
   "source": [
    "### StackingRegressor"
   ],
   "cell_type": "markdown",
   "metadata": {}
  },
  {
   "cell_type": "code",
   "execution_count": 36,
   "metadata": {},
   "outputs": [],
   "source": [
    "# https://www.kaggle.com/lavanyashukla01/how-i-made-top-0-3-on-a-kaggle-competition"
   ]
  },
  {
   "cell_type": "code",
   "execution_count": 37,
   "metadata": {},
   "outputs": [
    {
     "output_type": "stream",
     "name": "stdout",
     "text": [
      "Stacking Regressor:\n",
      "[CV] MSE: 800842024.1812 (45897362.0342)\n",
      "[CV] MAE: 16412.3554 (260.5525)\n",
      "[CV] R^2: 0.8720 (0.0153)\n",
      "[CV] RMSLE: 0.133289 (0.0029)\n",
      "CPU times: user 7.7 s, sys: 970 ms, total: 8.67 s\n",
      "Wall time: 1min 27s\n"
     ]
    }
   ],
   "source": [
    "%%time\n",
    "\n",
    "stacking_final_model = XGBRegressor()\n",
    "\n",
    "stacking_model = StackingRegressor(\n",
    "    estimators=[\n",
    "        ('xgb', xgb_model),\n",
    "        ('random_forest', random_forest_model),\n",
    "        ('elasticnet', elasticnet_model),\n",
    "        ('ridge', ridge_model),\n",
    "        ('svr', svr_model)\n",
    "    ], \n",
    "    #final_estimator=stacking_final_model,\n",
    "    cv=2,\n",
    "    n_jobs=-1,\n",
    ")\n",
    "\n",
    "stacking_regressor_pipeline = Pipeline([\n",
    "    ('preprocessing', featureTransformer),\n",
    "    ('stacking_regressor', stacking_model)\n",
    "])\n",
    "\n",
    "print('Stacking Regressor:')\n",
    "score_model(stacking_regressor_pipeline, X, Y)"
   ]
  },
  {
   "source": [
    "### VotingRegressor"
   ],
   "cell_type": "markdown",
   "metadata": {}
  },
  {
   "cell_type": "code",
   "execution_count": 38,
   "metadata": {},
   "outputs": [
    {
     "output_type": "stream",
     "name": "stdout",
     "text": [
      "Voting Regressor:\n",
      "[CV] MSE: 1002904322.3697 (23612081.9007)\n",
      "[CV] MAE: 17743.4297 (712.3150)\n",
      "[CV] R^2: 0.8400 (0.0137)\n",
      "[CV] RMSLE: 0.139787 (0.0050)\n",
      "CPU times: user 8.07 s, sys: 788 ms, total: 8.86 s\n",
      "Wall time: 55.2 s\n"
     ]
    }
   ],
   "source": [
    "%%time\n",
    "\n",
    "# https://www.kaggle.com/marktsvirko/votingregressor-xgb-svm-top-10\n",
    "\n",
    "voting_model = VotingRegressor(\n",
    "    estimators=[\n",
    "        ('xgb', xgb_model), \n",
    "        ('random_forest', random_forest_model),\n",
    "        ('elasticnet', elasticnet_model),\n",
    "        ('ridge', ridge_model),\n",
    "        ('svr', svr_model)\n",
    "    ],\n",
    "    n_jobs=-1,\n",
    ")\n",
    "\n",
    "voting_pipeline = Pipeline([\n",
    "    ('preprocessing', featureTransformer),\n",
    "    ('voting_regressor', voting_model)\n",
    "])\n",
    "\n",
    "print('Voting Regressor:')\n",
    "score_model(voting_pipeline, X, Y)"
   ]
  },
  {
   "cell_type": "code",
   "execution_count": 39,
   "metadata": {},
   "outputs": [],
   "source": [
    "parameters = {\n",
    "    'voting_regressor__weights': [None, [0.6, 0.3, 0.1]],\n",
    "}\n",
    "\n",
    "paramSearch = GridSearchCV(\n",
    "   estimator=voting_pipeline,\n",
    "   scoring=make_scorer(neg_rmsle),\n",
    "   param_grid=parameters,\n",
    "   cv=2,\n",
    "   n_jobs=-1, \n",
    "   verbose=3\n",
    ")\n",
    "\n",
    "#paramSearch.fit(X, Y)\n",
    "#paramSearch.best_params_, paramSearch.best_score_"
   ]
  },
  {
   "source": [
    "## Predict Submissions"
   ],
   "cell_type": "markdown",
   "metadata": {}
  },
  {
   "cell_type": "code",
   "execution_count": 41,
   "metadata": {},
   "outputs": [],
   "source": [
    "xgb_pipeline.fit(X, Y)\n",
    "\n",
    "x_test = test_df[baseline_features]\n",
    "y_test_predicted = xgb_pipeline.predict(x_test)\n",
    "\n",
    "y_test_predicted = np.rint(y_test_predicted).astype(int)\n",
    "\n",
    "submission_df = pd.DataFrame({\n",
    "    'Id': test_df['Id'],\n",
    "    'SalePrice': y_test_predicted,\n",
    "})\n",
    "\n",
    "submission_df.to_csv('./data/submission_xgb.csv', index=False)"
   ]
  },
  {
   "cell_type": "code",
   "execution_count": 42,
   "metadata": {},
   "outputs": [],
   "source": [
    "stacking_regressor_pipeline.fit(X, Y)\n",
    "\n",
    "x_test = test_df[baseline_features]\n",
    "y_test_predicted = stacking_regressor_pipeline.predict(x_test)\n",
    "\n",
    "y_test_predicted = np.rint(y_test_predicted).astype(int)\n",
    "\n",
    "submission_df = pd.DataFrame({\n",
    "    'Id': test_df['Id'],\n",
    "    'SalePrice': y_test_predicted,\n",
    "})\n",
    "\n",
    "submission_df.to_csv('./data/submission_stacking.csv', index=False)"
   ]
  },
  {
   "cell_type": "code",
   "execution_count": 40,
   "metadata": {
    "tags": [],
    "pycharm": {
     "name": "#%%\n"
    }
   },
   "outputs": [],
   "source": [
    "voting_pipeline.fit(X, Y)\n",
    "\n",
    "x_test = test_df[baseline_features]\n",
    "y_test_predicted = voting_pipeline.predict(x_test)\n",
    "\n",
    "y_test_predicted = np.rint(y_test_predicted).astype(int)\n",
    "\n",
    "submission_df = pd.DataFrame({\n",
    "    'Id': test_df['Id'],\n",
    "    'SalePrice': y_test_predicted,\n",
    "})\n",
    "\n",
    "submission_df.to_csv('./data/submission_voting.csv', index=False)"
   ]
  }
 ]
}