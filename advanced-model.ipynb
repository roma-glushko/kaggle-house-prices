{
 "metadata": {
  "language_info": {
   "codemirror_mode": {
    "name": "ipython",
    "version": 3
   },
   "file_extension": ".py",
   "mimetype": "text/x-python",
   "name": "python",
   "nbconvert_exporter": "python",
   "pygments_lexer": "ipython3",
   "version": "3.8.6-final"
  },
  "orig_nbformat": 2,
  "kernelspec": {
   "name": "pycharm-b6383702",
   "language": "python",
   "display_name": "PyCharm (house-prices-advanced-regression-techniques)"
  }
 },
 "nbformat": 4,
 "nbformat_minor": 2,
 "cells": [
  {
   "cell_type": "code",
   "execution_count": 1,
   "metadata": {},
   "outputs": [],
   "source": [
    "import pandas as pd\n",
    "import matplotlib.pyplot as plt\n",
    "import seaborn as sns\n",
    "import numpy as np\n",
    "from sklearn.base import BaseEstimator, TransformerMixin\n",
    "\n",
    "from sklearn.compose import ColumnTransformer, TransformedTargetRegressor\n",
    "from sklearn.impute import SimpleImputer\n",
    "from sklearn.preprocessing import OrdinalEncoder, LabelEncoder, OneHotEncoder, StandardScaler, MinMaxScaler, \\\n",
    "    RobustScaler, FunctionTransformer\n",
    "from sklearn.linear_model import LinearRegression, LassoCV, RidgeCV\n",
    "from sklearn.experimental import enable_hist_gradient_boosting\n",
    "from sklearn.ensemble import RandomForestRegressor, StackingRegressor, HistGradientBoostingRegressor\n",
    "from sklearn.metrics import mean_squared_error, r2_score, mean_absolute_error\n",
    "from sklearn.model_selection import train_test_split, cross_validate, cross_val_predict\n",
    "from sklearn.pipeline import Pipeline\n",
    "from sklearn import set_config"
   ]
  },
  {
   "cell_type": "code",
   "execution_count": 2,
   "metadata": {},
   "outputs": [],
   "source": [
    "np.random.seed(42)\n",
    "set_config(display='diagram')\n",
    "\n",
    "plt.rcParams['figure.figsize'] = (12, 8)\n",
    "sns.set_theme(style=\"whitegrid\")"
   ]
  },
  {
   "cell_type": "code",
   "execution_count": 3,
   "metadata": {},
   "outputs": [],
   "source": [
    "trainDf = pd.read_csv(\"data/train.csv\")\n",
    "testDf = pd.read_csv(\"data/test.csv\")"
   ]
  },
  {
   "cell_type": "code",
   "execution_count": 4,
   "metadata": {},
   "outputs": [],
   "source": [
    "for column in (\n",
    "    'PoolQC', \n",
    "    'FireplaceQu', \n",
    "    'Alley', \n",
    "    'Fence', \n",
    "    'MiscFeature', \n",
    "    'BsmtQual', \n",
    "    'BsmtCond', \n",
    "    'BsmtExposure', \n",
    "    'BsmtFinType1', \n",
    "    'BsmtFinType2',\n",
    "    'GarageType', \n",
    "    'GarageFinish', \n",
    "    'GarageQual', \n",
    "    'GarageCond',\n",
    "    'BsmtQual', \n",
    "    'BsmtCond', \n",
    "    'BsmtExposure', \n",
    "    'BsmtFinType1', \n",
    "    'BsmtFinType2',\n",
    "    'MasVnrType',\n",
    "    'MSSubClass',\n",
    "):\n",
    "    trainDf[column] = trainDf[column].fillna('None')\n",
    "    testDf[column] = testDf[column].fillna('None')\n",
    "\n",
    "for column in (\n",
    "    'BsmtFinSF1', \n",
    "    'BsmtFinSF2', \n",
    "    'BsmtUnfSF',\n",
    "    'TotalBsmtSF', \n",
    "    'BsmtFullBath', \n",
    "    'BsmtHalfBath',\n",
    "    'MasVnrArea',\n",
    "    'GarageCars',\n",
    "    'GarageArea',\n",
    "    'GarageYrBlt',\n",
    "):\n",
    "    trainDf[column] = trainDf[column].fillna(0)\n",
    "    testDf[column] = testDf[column].fillna(0)\n",
    "\n",
    "for column in (\n",
    "    'Electrical', \n",
    "    'KitchenQual', \n",
    "    'Exterior1st',\n",
    "    'Exterior2nd', \n",
    "    'SaleType',\n",
    "    'MSZoning',\n",
    "    'Utilities',\n",
    "):\n",
    "    trainDf[column] = trainDf[column].fillna(trainDf[column].mode()[0])\n",
    "    testDf[column] = testDf[column].fillna(testDf[column].mode()[0])\n",
    "\n",
    "trainDf['Functional'] = trainDf['Functional'].fillna('Typical')\n",
    "testDf['Functional'] = testDf['Functional'].fillna('Typical')"
   ]
  },
  {
   "cell_type": "code",
   "execution_count": 5,
   "metadata": {},
   "outputs": [],
   "source": [
    "trainDf['Exterior1st'].replace(['Brk Cmn', 'CmentBd', 'Wd Shng'], ['BrkComm', 'CemntBd', 'Wd Sdng'], inplace=True)\n",
    "testDf['Exterior1st'].replace(['Brk Cmn', 'CmentBd', 'Wd Shng'], ['BrkComm', 'CemntBd', 'Wd Sdng'], inplace=True)\n",
    "trainDf['Exterior2nd'].replace(['Brk Cmn', 'CmentBd', 'Wd Shng'], ['BrkComm', 'CemntBd', 'Wd Sdng'], inplace=True)\n",
    "testDf['Exterior2nd'].replace(['Brk Cmn', 'CmentBd', 'Wd Shng'], ['BrkComm', 'CemntBd', 'Wd Sdng'], inplace=True)"
   ]
  },
  {
   "cell_type": "code",
   "execution_count": 6,
   "metadata": {},
   "outputs": [],
   "source": [
    "# Remove outliers\n",
    "trainDf.drop(\n",
    "    trainDf[(trainDf[\"GrLivArea\"] > 4000) & (trainDf[\"SalePrice\"] < 700000)].index\n",
    ");"
   ]
  },
  {
   "cell_type": "code",
   "execution_count": 7,
   "metadata": {},
   "outputs": [],
   "source": [
    "baselineFeatures = [\n",
    "    '1stFlrSF',\n",
    "    '2ndFlrSF',\n",
    "    'BsmtFinSF1', \n",
    "    'BsmtFinSF2',\n",
    "    'BsmtFinType1',\n",
    "    'BsmtFinType2',\n",
    "    'BsmtUnfSF',\n",
    "    'OverallQual',\n",
    "    'GarageType',\n",
    "    'GarageCond',\n",
    "    'GarageCars', \n",
    "    'OverallCond', \n",
    "    'Neighborhood',\n",
    "    'MSSubClass', \n",
    "    'LotShape',\n",
    "    'LotConfig',\n",
    "    'LandSlope',\n",
    "    'BsmtCond',\n",
    "    'BsmtQual',\n",
    "    # 'HeatingQC'\n",
    "    # 'SaleCondition',\n",
    "    # 'Electrical',\n",
    "    # 'Exterior1st',\n",
    "    # 'Exterior2nd',\n",
    "    # 'GarageFinish',\n",
    "    # 'GarageQual',\n",
    "    # 'KitchenAbvGr',\n",
    "    #'KitchenQual',\n",
    "    #'Foundation',\n",
    "    'CentralAir',\n",
    "    'Condition1',\n",
    "    'Condition2',\n",
    "]\n",
    "\n",
    "X = trainDf[baselineFeatures]\n",
    "Y = trainDf['SalePrice']"
   ]
  },
  {
   "cell_type": "code",
   "execution_count": 8,
   "metadata": {},
   "outputs": [],
   "source": [
    "X_train, X_validation, y_train, y_validation = train_test_split(X, Y, test_size=0.3, random_state=42)"
   ]
  },
  {
   "cell_type": "code",
   "execution_count": 9,
   "metadata": {},
   "outputs": [],
   "source": [
    "subclassCategories = [20, 30, 40, 45, 50, 60, 70, 75, 80, 85, 90, 120, 150, 160, 180, 190]\n",
    "basementFinishCategories = ['None', 'Unf', 'LwQ', 'Rec', 'BLQ', 'ALQ', 'GLQ']\n",
    "#electricalCategories = ['Mix', 'FuseP', 'FuseF', 'FuseA', 'SBrkr']\n",
    "#heatingQCCategories = ['Po', 'Fa', 'TA', 'Gd', 'Ex']\n",
    "#exteriorCategories = ['AsbShng', 'AsphShn', 'BrkComm', 'BrkFace', 'CBlock', 'CemntBd', 'HdBoard', 'ImStucc', 'MetalSd', 'Other', 'Plywood', 'PreCast', 'Stone', 'Stucco', 'VinylSd', 'Wd Sdng', 'WdShing']\n",
    "#kitchenQCCategories = ['Po', 'Fa', 'TA', 'Gd', 'Ex']\n",
    "\n",
    "garageQCCategories = ['None', 'Po', 'Fa', 'TA', 'Gd', 'Ex']\n",
    "conditionCategories = trainDf['Condition1'].unique()"
   ]
  },
  {
   "cell_type": "code",
   "execution_count": 10,
   "metadata": {},
   "outputs": [],
   "source": [
    "# Build feature transformer\n",
    "\n",
    "logTransformer = FunctionTransformer(func=np.log1p, inverse_func=np.expm1)\n",
    "\n",
    "basementCondTransformer = Pipeline([\n",
    "    ('basement_condition_impute', SimpleImputer(strategy=\"constant\", fill_value='None')),\n",
    "    ('basement_condition_onehot', OneHotEncoder()),\n",
    "])\n",
    "\n",
    "basementAreaTransformer = Pipeline([\n",
    "    ('basement_area_impute', SimpleImputer(strategy=\"constant\", fill_value=0)),\n",
    "    ('basement_area_log', logTransformer),\n",
    "])\n",
    "\n",
    "basementFinishTransformer = Pipeline([\n",
    "   ('basement_finish_impute', SimpleImputer(strategy=\"constant\", fill_value='None')),\n",
    "   ('basement_finish_onehot', OrdinalEncoder(categories=[basementFinishCategories, basementFinishCategories])),\n",
    "])\n",
    "\n",
    "featureTransformer = ColumnTransformer([\n",
    "        ('garage_cars_impute', SimpleImputer(strategy=\"constant\", fill_value=0), ['GarageCars']),\n",
    "        ('basement_area_transformer', basementAreaTransformer, ['BsmtFinSF1', 'BsmtFinSF2', 'BsmtUnfSF']),\n",
    "        ('neighborhood_onehot', OneHotEncoder(), ['Neighborhood']),\n",
    "        ('subclass_onehot', OneHotEncoder(categories=[subclassCategories]), ['MSSubClass']),\n",
    "        ('lotconfig_onehot', OneHotEncoder(), ['LotConfig']),\n",
    "        ('lot_shape_onehot', OneHotEncoder(), ['LotShape']),\n",
    "        ('land_slope_onehot', OneHotEncoder(), ['LandSlope']),\n",
    "        ('basement_condition_transformer', basementCondTransformer, ['BsmtCond', 'BsmtQual']),\n",
    "        ('basement_finish_transformer', basementFinishTransformer, ['BsmtFinType1', 'BsmtFinType2']),\n",
    "        #('sale_condtion_onehot', OrdinalEncoder(), ['SaleCondition']),\n",
    "        #('electrical_onehot', OneHotEncoder(categories=[electricalCategories]), ['Electrical']),\n",
    "        #('exterior_onehot', OneHotEncoder(categories=[exteriorCategories, exteriorCategories]), ['Exterior1st', 'Exterior2nd']),\n",
    "        ('air_condition_onehot', OneHotEncoder(), ['CentralAir']),\n",
    "        ('garage_type_onehot', OneHotEncoder(), ['GarageType']),\n",
    "        ('garage_qc_onehot', OneHotEncoder(), ['GarageCond']),\n",
    "        ('condition_onehot', OneHotEncoder(categories=[conditionCategories, conditionCategories]), ['Condition1', 'Condition2']),\n",
    "    ],\n",
    "    remainder='passthrough'\n",
    ")"
   ]
  },
  {
   "cell_type": "code",
   "execution_count": 11,
   "metadata": {},
   "outputs": [
    {
     "output_type": "stream",
     "name": "stdout",
     "text": [
      "[Train] MSE: 158448077.63\n[Train] MAE: 7480.17\n[Train] R^2: 0.97\n[Test] MSE: 714637891.32\n[Test] MAE: 17560.74\n[Test] R^2: 0.90\n"
     ]
    }
   ],
   "source": [
    "randomForestPipeline = Pipeline([\n",
    "    (\"preprocessing\", featureTransformer),\n",
    "    (\"random_forest\", RandomForestRegressor(random_state=42)),\n",
    "])\n",
    "\n",
    "randomForestPipeline.fit(X_train, y_train)\n",
    "\n",
    "y_train_predicted = randomForestPipeline.predict(X_train)\n",
    "y_validation_predicted_rf = randomForestPipeline.predict(X_validation)\n",
    "\n",
    "print('[Train] MSE: %.2f' % mean_squared_error(y_train, y_train_predicted))\n",
    "print('[Train] MAE: %.2f' % mean_absolute_error(y_train, y_train_predicted))\n",
    "print('[Train] R^2: %.2f' % r2_score(y_train, y_train_predicted))\n",
    "print('[Test] MSE: %.2f' % mean_squared_error(y_validation, y_validation_predicted_rf))\n",
    "print('[Test] MAE: %.2f' % mean_absolute_error(y_validation, y_validation_predicted_rf))\n",
    "print('[Test] R^2: %.2f' % r2_score(y_validation, y_validation_predicted_rf))"
   ]
  },
  {
   "cell_type": "code",
   "execution_count": 12,
   "metadata": {
    "tags": [],
    "pycharm": {
     "name": "#%%\n"
    }
   },
   "outputs": [],
   "source": [
    "x_test = testDf[baselineFeatures]\n",
    "y_test_predicted = randomForestPipeline.predict(x_test)\n",
    "\n",
    "submissionDf = pd.DataFrame({\n",
    "    'Id': testDf['Id'],\n",
    "    'SalePrice': y_test_predicted,\n",
    "})\n",
    "\n",
    "submissionDf.to_csv('./data/submission_random_forest.csv', index=False)"
   ]
  }
 ]
}