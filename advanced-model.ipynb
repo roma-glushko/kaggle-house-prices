{
 "metadata": {
  "language_info": {
   "codemirror_mode": {
    "name": "ipython",
    "version": 3
   },
   "file_extension": ".py",
   "mimetype": "text/x-python",
   "name": "python",
   "nbconvert_exporter": "python",
   "pygments_lexer": "ipython3",
   "version": "3.8.6-final"
  },
  "orig_nbformat": 2,
  "kernelspec": {
   "name": "pycharm-b6383702",
   "language": "python",
   "display_name": "PyCharm (house-prices-advanced-regression-techniques)"
  }
 },
 "nbformat": 4,
 "nbformat_minor": 2,
 "cells": [
  {
   "cell_type": "code",
   "execution_count": 1,
   "metadata": {},
   "outputs": [],
   "source": [
    "import pandas as pd\n",
    "import matplotlib.pyplot as plt\n",
    "import seaborn as sns\n",
    "import numpy as np\n",
    "from scipy.stats import norm, skew\n",
    "\n",
    "from sklearn.base import BaseEstimator, TransformerMixin\n",
    "from sklearn.compose import ColumnTransformer, TransformedTargetRegressor\n",
    "from sklearn.impute import SimpleImputer\n",
    "from sklearn.preprocessing import OrdinalEncoder, LabelEncoder, OneHotEncoder, StandardScaler, MinMaxScaler, \\\n",
    "    RobustScaler, FunctionTransformer\n",
    "from sklearn.linear_model import LinearRegression, LassoCV, Ridge, ElasticNetCV, ElasticNet\n",
    "from sklearn.svm import SVR\n",
    "from sklearn.experimental import enable_hist_gradient_boosting\n",
    "from sklearn.ensemble import RandomForestRegressor, StackingRegressor, VotingRegressor\n",
    "from sklearn.metrics import mean_squared_error, r2_score, mean_absolute_error, mean_squared_log_error, make_scorer\n",
    "from sklearn.model_selection import GridSearchCV, train_test_split, cross_validate, cross_val_score, learning_curve\n",
    "from sklearn.pipeline import Pipeline\n",
    "from sklearn import set_config"
   ]
  },
  {
   "cell_type": "code",
   "execution_count": 2,
   "metadata": {},
   "outputs": [],
   "source": [
    "np.random.seed(42)\n",
    "set_config(display='diagram')\n",
    "\n",
    "plt.rcParams['figure.figsize'] = (12, 8)\n",
    "sns.set_theme(style='whitegrid')"
   ]
  },
  {
   "cell_type": "code",
   "execution_count": 3,
   "metadata": {},
   "outputs": [],
   "source": [
    "train_df = trainDf = pd.read_csv('data/train.csv')\n",
    "test_df = testDf = pd.read_csv('data/test.csv')\n",
    "\n",
    "full_df = fullDf = pd.concat([trainDf, testDf], sort=True).reset_index(drop=True)"
   ]
  },
  {
   "source": [
    "## Misc Functions"
   ],
   "cell_type": "markdown",
   "metadata": {}
  },
  {
   "cell_type": "code",
   "execution_count": 4,
   "metadata": {},
   "outputs": [],
   "source": [
    "def plot_learning_curve(estimator, X_train, y_train, cv, train_sizes=np.linspace(0.1, 1, 10)):\n",
    "    plt.style.use('seaborn-darkgrid')\n",
    "    \n",
    "    train_sizes, train_scores, test_scores = learning_curve(\n",
    "        estimator, X_train, y_train, \n",
    "        scoring='neg_mean_squared_error',\n",
    "        cv=cv, \n",
    "        n_jobs=-1, \n",
    "        train_sizes=train_sizes,\n",
    "        shuffle=True,\n",
    "        random_state=42\n",
    "        )\n",
    "    train_mean_scores = np.mean(train_scores, axis=1)\n",
    "    test_mean_scores = np.mean(test_scores, axis=1)\n",
    "\n",
    "    plt.title('Learning curve')\n",
    "    plt.plot(train_sizes, train_mean_scores, 'y', label='Train Learning curve')\n",
    "    plt.plot(train_sizes, test_mean_scores, 'b', label='Test Learning curve')\n",
    "    plt.legend()"
   ]
  },
  {
   "cell_type": "code",
   "execution_count": 5,
   "metadata": {},
   "outputs": [],
   "source": [
    "def neg_rmsle(y_true, y_pred):\n",
    "    y_pred = np.abs(y_pred)\n",
    "    \n",
    "    return -1 * np.sqrt(mean_squared_log_error(y_true, y_pred))"
   ]
  },
  {
   "cell_type": "code",
   "execution_count": 6,
   "metadata": {},
   "outputs": [],
   "source": [
    "def score_model(model, X, Y):\n",
    "    \n",
    "    scores = cross_validate(\n",
    "        model, X, Y, \n",
    "        scoring=['r2', 'neg_mean_absolute_error', 'neg_mean_squared_error'], cv=2,\n",
    "        n_jobs=-1, verbose=0)\n",
    "\n",
    "    rmsle_score = cross_val_score(model, X, Y, cv=2, scoring=make_scorer(neg_rmsle))\n",
    "\n",
    "    mse_score = -1 * scores['test_neg_mean_squared_error'].mean()\n",
    "    mse_std = scores['test_neg_mean_squared_error'].std()\n",
    "\n",
    "    mae_score = -1 * scores['test_neg_mean_absolute_error'].mean()\n",
    "    mae_std = scores['test_neg_mean_absolute_error'].std()\n",
    "\n",
    "    r2_score_mean = scores['test_r2'].mean()\n",
    "    r2_std = scores['test_r2'].std()\n",
    "\n",
    "    print('[CV] MSE: %.4f (%.4f)' % (mse_score, mse_std))\n",
    "    print('[CV] MAE: %.4f (%.4f)' % (mae_score, mae_std))\n",
    "    print('[CV] R^2: %.4f (%.4f)' % (r2_score_mean, r2_std))\n",
    "    print('[CV] RMSLE: %.6f (%.4f)' % (-1 * rmsle_score.mean(), rmsle_score.std()))"
   ]
  },
  {
   "cell_type": "code",
   "execution_count": 7,
   "metadata": {},
   "outputs": [],
   "source": [
    "def get_columns_from_transformer(column_transformer, input_colums):    \n",
    "    col_name = []\n",
    "\n",
    "    for transformer_in_columns in column_transformer.transformers_[:-1]: #the last transformer is ColumnTransformer's 'remainder'\n",
    "        raw_col_name = transformer_in_columns[2]\n",
    "        if isinstance(transformer_in_columns[1],Pipeline): \n",
    "            transformer = transformer_in_columns[1].steps[-1][1]\n",
    "        else:\n",
    "            transformer = transformer_in_columns[1]\n",
    "        try:\n",
    "            names = transformer.get_feature_names(raw_col_name)\n",
    "        except AttributeError: # if no 'get_feature_names' function, use raw column name\n",
    "            names = raw_col_name\n",
    "        if isinstance(names,np.ndarray): # eg.\n",
    "            col_name += names.tolist()\n",
    "        elif isinstance(names,list):\n",
    "            col_name += names    \n",
    "        elif isinstance(names,str):\n",
    "            col_name.append(names)\n",
    "\n",
    "    [_, _, reminder_columns] = column_transformer.transformers_[-1]\n",
    "\n",
    "    for col_idx in reminder_columns:\n",
    "        col_name.append(input_colums[col_idx])\n",
    "\n",
    "    return col_name"
   ]
  },
  {
   "source": [
    "## Data Cleaning and Preparation"
   ],
   "cell_type": "markdown",
   "metadata": {}
  },
  {
   "cell_type": "code",
   "execution_count": 8,
   "metadata": {},
   "outputs": [],
   "source": [
    "num_features = [f for f in full_df.columns if full_df.dtypes[f] != 'object']\n",
    "num_features.remove('Id')\n",
    "num_features.remove('SalePrice')\n",
    "\n",
    "cat_features = [f for f in full_df.columns if full_df.dtypes[f] == 'object']"
   ]
  },
  {
   "cell_type": "code",
   "execution_count": 9,
   "metadata": {},
   "outputs": [],
   "source": [
    "for feature in (\n",
    "    'PoolQC', \n",
    "    'FireplaceQu', \n",
    "    'Alley', \n",
    "    'Fence', \n",
    "    'MiscFeature', \n",
    "    'BsmtQual', \n",
    "    'BsmtCond', \n",
    "    'BsmtExposure', \n",
    "    'BsmtFinType1', \n",
    "    'BsmtFinType2',\n",
    "    'GarageType', \n",
    "    'GarageFinish', \n",
    "    'GarageQual', \n",
    "    'GarageCond',\n",
    "    'BsmtQual', \n",
    "    'BsmtCond', \n",
    "    'BsmtExposure', \n",
    "    'BsmtFinType1', \n",
    "    'BsmtFinType2',\n",
    "    'MasVnrType',\n",
    "    'MSSubClass',\n",
    "):\n",
    "    train_df[feature] = train_df[feature].fillna('None')\n",
    "    test_df[feature] = test_df[feature].fillna('None')\n",
    "    full_df[feature] = full_df[feature].fillna('None')\n",
    "\n",
    "for feature in (\n",
    "    'BsmtFinSF1', \n",
    "    'BsmtFinSF2', \n",
    "    'BsmtUnfSF',\n",
    "    'TotalBsmtSF', \n",
    "    'BsmtFullBath', \n",
    "    'BsmtHalfBath',\n",
    "    'MasVnrArea',\n",
    "    'GarageCars',\n",
    "    'GarageArea',\n",
    "    'GarageYrBlt',\n",
    "):\n",
    "    train_df[feature] = train_df[feature].fillna(0)\n",
    "    test_df[feature] = test_df[feature].fillna(0)\n",
    "    full_df[feature] = full_df[feature].fillna(0)\n",
    "\n",
    "for feature in (\n",
    "    'Electrical', \n",
    "    'KitchenQual', \n",
    "    'Exterior1st',\n",
    "    'Exterior2nd', \n",
    "    'SaleType',\n",
    "    'MSZoning',\n",
    "    'Utilities',\n",
    "):\n",
    "    train_df[feature] = train_df[feature].fillna(train_df[feature].mode()[0])\n",
    "    test_df[feature] = test_df[feature].fillna(test_df[feature].mode()[0])\n",
    "    full_df[feature] = full_df[feature].fillna(test_df[feature].mode()[0])\n",
    "\n",
    "train_df['Functional'] = train_df['Functional'].fillna('Typ')\n",
    "test_df['Functional'] = test_df['Functional'].fillna('Typ')\n",
    "full_df['Functional'] = full_df['Functional'].fillna('Typ')"
   ]
  },
  {
   "cell_type": "code",
   "execution_count": 10,
   "metadata": {},
   "outputs": [],
   "source": [
    "for dataframe in [train_df, test_df]:\n",
    "    dataframe['Exterior1st'].replace(['Brk Cmn', 'CmentBd', 'Wd Shng'], ['BrkComm', 'CemntBd', 'Wd Sdng'], inplace=True)\n",
    "    dataframe['Exterior2nd'].replace(['Brk Cmn', 'CmentBd', 'Wd Shng'], ['BrkComm', 'CemntBd', 'Wd Sdng'], inplace=True)"
   ]
  },
  {
   "cell_type": "code",
   "execution_count": 11,
   "metadata": {},
   "outputs": [],
   "source": [
    "ordinal_feature_mapping = {\n",
    "    'ExterQual': {'Po': 0, 'Fa': 1, 'TA': 2, 'Gd': 3, 'Ex': 4}, \n",
    "    'ExterCond': {'Po': 0, 'Fa': 1, 'TA': 2, 'Gd': 3, 'Ex': 4},\n",
    "    'BsmtQual': {'None': 0, 'Po': 1, 'Fa': 2, 'TA': 3, 'Gd': 4, 'Ex': 5},\n",
    "    'BsmtCond': {'None': 0, 'Po': 1, 'Fa': 2, 'TA': 3, 'Gd': 4, 'Ex': 5},\n",
    "    'BsmtFinType1': {'None': 0, 'Unf': 1, 'LwQ': 2, 'Rec': 3, 'BLQ': 4, 'ALQ': 5, 'GLQ': 6},\n",
    "    'BsmtFinType2': {'None': 0, 'Unf': 1, 'LwQ': 2, 'Rec': 3, 'BLQ': 4, 'ALQ': 5, 'GLQ': 6},\n",
    "    'HeatingQC': {'Po': 0, 'Fa': 1, 'TA': 2, 'Gd': 3, 'Ex': 4},\n",
    "    'KitchenQual': {'Po': 0, 'Fa': 1, 'TA': 2, 'Gd': 3, 'Ex': 4},\n",
    "    'FireplaceQu': {'None': 0, 'Po': 1, 'Fa': 2, 'TA': 3, 'Gd': 4, 'Ex': 5},\n",
    "    'GarageFinish': {'None': 0, 'Unf': 1, 'RFn': 2, 'Fin': 3},\n",
    "    'GarageQual': {'None': 0, 'Po': 1, 'Fa': 2, 'TA': 3, 'Gd': 4, 'Ex': 5},\n",
    "    'GarageCond': {'None': 0, 'Po': 1, 'Fa': 2, 'TA': 3, 'Gd': 4, 'Ex': 5},\n",
    "    'PoolQC': {'None': 0, 'Po': 1, 'Fa': 2, 'TA': 3, 'Gd': 4, 'Ex': 5},\n",
    "    'Fence': {'None': 0, 'MnWw': 1, 'GdWo': 2, 'MnPrv': 3, 'GdPrv': 4},\n",
    "    'PavedDrive': {'N': 0, 'P': 1, 'Y': 2},\n",
    "    'CentralAir': {'N': 0, 'Y': 1},\n",
    "    'Alley': {'None': 0, 'Pave': 1, 'Grvl': 2},\n",
    "    'Street': {'Pave': 0, 'Grvl': 1},\n",
    "    'Functional': {'Sal': 0, 'Sev': 1, 'Maj2': 2, 'Maj1': 3, 'Mod': 4, 'Min2': 5, 'Min1': 6, 'Typ': 7}\n",
    "}\n",
    "\n",
    "non_ordinal_cat_features = list(set(cat_features) - set(ordinal_feature_mapping.keys()))\n",
    "\n",
    "for cat_feature in non_ordinal_cat_features:\n",
    "    train_df[cat_feature + 'Enc'] = LabelEncoder().fit_transform(train_df[cat_feature])\n",
    "    test_df[cat_feature + 'Enc'] = LabelEncoder().fit_transform(test_df[cat_feature])\n",
    "\n",
    "for ordinal_feature, feature_mapping in ordinal_feature_mapping.items():\n",
    "    train_df[ordinal_feature + 'Enc'] = train_df[ordinal_feature].map(feature_mapping)\n",
    "    test_df[ordinal_feature + 'Enc'] = test_df[ordinal_feature].map(feature_mapping)"
   ]
  },
  {
   "source": [
    "### Num Feature Scaling"
   ],
   "cell_type": "markdown",
   "metadata": {}
  },
  {
   "cell_type": "code",
   "execution_count": 12,
   "metadata": {},
   "outputs": [],
   "source": [
    "# https://www.kaggle.com/serigne/stacked-regressions-top-4-on-leaderboard"
   ]
  },
  {
   "source": [
    "## Feature Engineering"
   ],
   "cell_type": "markdown",
   "metadata": {}
  },
  {
   "cell_type": "code",
   "execution_count": 13,
   "metadata": {},
   "outputs": [],
   "source": [
    "for dataframe in [train_df, test_df]:\n",
    "    dataframe['Has2ndFloor'] = dataframe['2ndFlrSF'].apply(lambda x: int(x > 0))\n",
    "    dataframe['HasBsmnt'] = dataframe['TotalBsmtSF'].apply(lambda x: int(x > 0))\n",
    "    dataframe['HasGarage'] = dataframe['GarageArea'].apply(lambda x: int(x > 0))\n",
    "    dataframe['HasPool'] = dataframe['PoolArea'].apply(lambda x: int(x > 0))\n",
    "    dataframe['HasFence'] = dataframe['Fence'].apply(lambda x: int(x != 'None'))\n",
    "    dataframe['HasFireplace'] = dataframe['Fireplaces'].apply(lambda x: int(x > 0))\n",
    "    dataframe['HasMasVnr'] = dataframe['MasVnrType'].apply(lambda x: int(x != 'None'))\n",
    "    dataframe['HasShed'] = (dataframe['MiscFeature'] == 'Shed') * 1\n",
    "\n",
    "    dataframe['HouseAge'] = dataframe['YrSold'].astype('int') - dataframe['YearBuilt'].astype('int')\n",
    "    dataframe['HouseAgeSinRemod'] = dataframe['YrSold'].astype('int') - dataframe['YearRemodAdd'].astype('int')"
   ]
  },
  {
   "cell_type": "code",
   "execution_count": 14,
   "metadata": {},
   "outputs": [],
   "source": [
    "# Remove outliers\n",
    "train_df.drop(\n",
    "    train_df[(train_df['GrLivArea'] > 4000) & (train_df['SalePrice'] < 700000)].index\n",
    ");"
   ]
  },
  {
   "cell_type": "code",
   "execution_count": 15,
   "metadata": {},
   "outputs": [],
   "source": [
    "subclassCategories = [20, 30, 40, 45, 50, 60, 70, 75, 80, 85, 90, 120, 160, 180, 190] #removed 150 class as useless during predictions\n",
    "basementFinishCategories = ['None', 'Unf', 'LwQ', 'Rec', 'BLQ', 'ALQ', 'GLQ']\n",
    "electricalCategories = ['Mix', 'FuseP', 'FuseF', 'FuseA', 'SBrkr']\n",
    "\n",
    "exteriorCategories = ['AsbShng', 'AsphShn', 'BrkComm', 'BrkFace', 'CBlock', 'CemntBd', 'HdBoard', 'ImStucc', 'MetalSd', 'Other', 'Plywood', 'PreCast', 'Stone', 'Stucco', 'VinylSd', 'Wd Sdng', 'WdShing']\n",
    "\n",
    "conditionCategories = train_df['Condition1'].unique()\n",
    "neighborhoodCategories = full_df['Neighborhood'].unique()\n",
    "saleCondCategories = full_df['SaleCondition'].unique()\n",
    "garageTypeCategories = full_df['GarageType'].unique()\n",
    "lotConfigCategories = full_df['LotConfig'].unique() # feature was removed from the model\n",
    "lotShapeCategories = full_df['LotShape'].unique()\n",
    "landSlopeCategories = full_df['LandSlope'].unique()"
   ]
  },
  {
   "cell_type": "code",
   "execution_count": 16,
   "metadata": {},
   "outputs": [],
   "source": [
    "year_built_bins = np.linspace(1871, 2010, 10) # 10 bins"
   ]
  },
  {
   "cell_type": "code",
   "execution_count": 17,
   "metadata": {},
   "outputs": [],
   "source": [
    "# Reference: https://www.kaggle.com/cerberus4229/voting-regressor-with-pipelines\n",
    "\n",
    "for dataframe in [train_df, test_df]:\n",
    "    dataframe['TotalBathrooms'] = (dataframe['FullBath'] + (0.5 * dataframe['HalfBath']) +\n",
    "                                dataframe['BsmtFullBath'] + (0.5 * dataframe['BsmtHalfBath']))\n",
    "\n",
    "    dataframe['OverallHouseQCBin'] = pd.qcut(dataframe['OverallQual'] + dataframe['OverallCond'], q=3, labels=[0, 1, 2])\n",
    "    dataframe['IsPavedDrive'] = (dataframe['PavedDrive'] == 'Y') * 1\n",
    "    dataframe['IsNeighborhoodElite'] = (dataframe['Neighborhood'].isin(['NridgHt', 'CollgeCr', 'Crawfor', 'StoreBr', 'Timber'])) * 1 \n",
    "    dataframe['YearBuiltBin'] = pd.cut(dataframe['YearBuilt'], bins=year_built_bins, labels=range(1, 10)) \n",
    "    dataframe['KitchenQCBin'] = pd.cut(dataframe['KitchenQualEnc'] * dataframe['KitchenAbvGr'], [-1, 2, 7], labels=[0, 1])\n",
    "\n",
    "    dataframe['IsFunctional'] = (dataframe['Functional'] == 'Typ') * 1\n",
    "    dataframe['FunctionalGroup'] = dataframe['Functional'].map({\n",
    "        'Typ': 2,\n",
    "        'Min1': 1,\n",
    "        'Min2': 1,\n",
    "        'Mod': 1,\n",
    "        'Maj1': 0,\n",
    "        'Maj2': 0,\n",
    "        'Sev': 0,\n",
    "        'Sav': 0,\n",
    "    })\n",
    "\n",
    "    dataframe['IsModernHouseType'] = dataframe['MSSubClass'].map(\n",
    "        {20: 1, 30: 0, 40: 0, 45: 0,50: 0, 60: 1, 70: 0, 75: 0, 80: 0, 85: 0, 90: 0, 120: 1, 150: 0, 160: 0, 180: 0, 190: 0}\n",
    "    )\n",
    "    dataframe['IsLandFlat'] = (dataframe['LandContour'] == 'Lvl') * 1\n",
    "    dataframe['IsNewHouseSold'] = (full_df['YearBuilt'] == full_df['YrSold'].astype(int)) * 1\n",
    "    dataframe['IsExterCondGood'] = dataframe['ExterCond'].map({'Po': 0, 'Fa': 0, 'TA': 1, 'Gd': 1, 'Ex': 1})\n",
    "    dataframe['IsGasHeating'] = dataframe['Heating'].map({'GasA': 1, 'GasW': 1, 'Grav': 0, 'Wall': 0, 'OthW': 0, 'Floor': 0})\n",
    "    dataframe['IsHeatingGood'] = dataframe['HeatingQC'].map({'Po': 0, 'Fa': 0, 'TA': 0, 'Gd': 1, 'Ex': 1})"
   ]
  },
  {
   "cell_type": "code",
   "execution_count": 18,
   "metadata": {},
   "outputs": [],
   "source": [
    "# https://www.kaggle.com/humananalog/xgboost-lasso"
   ]
  },
  {
   "cell_type": "code",
   "execution_count": 19,
   "metadata": {},
   "outputs": [],
   "source": [
    "baseline_features = [\n",
    "    '1stFlrSF',\n",
    "    '2ndFlrSF',\n",
    "    'BsmtFinSF1', \n",
    "    'BsmtFinSF2',\n",
    "    'BsmtUnfSF', \n",
    "    'BsmtFinType1Enc',\n",
    "    'BsmtFinType2Enc',\n",
    "    'OverallQual',\n",
    "    'GarageCars',\n",
    "    'OverallCond', \n",
    "    'Neighborhood',\n",
    "    'MSSubClass', \n",
    "    'LotShape',\n",
    "    'LandSlope',\n",
    "    'BsmtCondEnc',\n",
    "    'BsmtQualEnc', \n",
    "    'SaleCondition',\n",
    "    'CentralAirEnc',\n",
    "    'Condition1',\n",
    "    'Condition2',\n",
    "    'TotalBathrooms',\n",
    "    'GarageFinishEnc',\n",
    "    'KitchenQualEnc',\n",
    "    'BedroomAbvGr',\n",
    "    'MSZoning',\n",
    "    'ExterQualEnc',\n",
    "    'IsNewHouseSold',\n",
    "    'LandContour',\n",
    "    'HasFireplace',\n",
    "    'FunctionalGroup',\n",
    "    'HouseAge',\n",
    "    'FenceEnc',\n",
    "    'IsModernHouseType',\n",
    "    'IsGasHeating',\n",
    "    'IsHeatingGood'\n",
    "]\n",
    "\n",
    "X = train_df[baseline_features]\n",
    "Y = train_df['SalePrice']"
   ]
  },
  {
   "source": [
    "## Modeling"
   ],
   "cell_type": "markdown",
   "metadata": {}
  },
  {
   "cell_type": "code",
   "execution_count": 20,
   "metadata": {},
   "outputs": [],
   "source": [
    "# Build feature transformer\n",
    "\n",
    "logTransformer = FunctionTransformer(func=np.log1p, inverse_func=np.expm1)\n",
    "\n",
    "featureTransformer = ColumnTransformer([\n",
    "        ('basement_area_log', logTransformer, ['BsmtFinSF1', 'BsmtFinSF2']),\n",
    "        ('neighborhood_onehot', OneHotEncoder(categories=[neighborhoodCategories]), ['Neighborhood']),\n",
    "        ('subclass_onehot', OneHotEncoder(categories=[subclassCategories], handle_unknown='ignore'), ['MSSubClass']),\n",
    "        ('lot_shape_onehot', OneHotEncoder(categories=[lotShapeCategories]), ['LotShape']),\n",
    "        ('land_slope_onehot', OneHotEncoder(categories=[landSlopeCategories]), ['LandSlope']),\n",
    "        ('sale_condtion_onehot', OneHotEncoder(categories=[saleCondCategories]), ['SaleCondition']),\n",
    "        ('land_contour_onehot', OneHotEncoder(), ['LandContour']),\n",
    "        ('zoning_onehot', OneHotEncoder(), ['MSZoning']),\n",
    "        ('condition_onehot', OneHotEncoder(categories=[conditionCategories, conditionCategories]), ['Condition1', 'Condition2']), #\n",
    "    ],\n",
    "    remainder='passthrough'\n",
    ")"
   ]
  },
  {
   "source": [
    "### ElasticNet"
   ],
   "cell_type": "markdown",
   "metadata": {}
  },
  {
   "cell_type": "code",
   "execution_count": 21,
   "metadata": {},
   "outputs": [
    {
     "output_type": "stream",
     "name": "stdout",
     "text": [
      "[CV] MSE: 1156495329.7485 (87389549.1873)\n[CV] MAE: 20156.5311 (595.8321)\n[CV] R^2: 0.8149 (0.0254)\n[CV] RMSLE: 0.200059 (0.0367)\n"
     ]
    }
   ],
   "source": [
    "elasticnet_model = ElasticNet(\n",
    "    alpha=0.5,\n",
    "    l1_ratio=0.8,\n",
    "    random_state=42,\n",
    ")\n",
    "\n",
    "elasticnet_pipeline = Pipeline([\n",
    "    ('preprocessing', featureTransformer),\n",
    "    ('elasticnet', elasticnet_model)\n",
    "])\n",
    "\n",
    "print('ElasticNet:')\n",
    "score_model(elasticnet_pipeline, X, Y)"
   ]
  },
  {
   "cell_type": "code",
   "execution_count": 22,
   "metadata": {},
   "outputs": [],
   "source": [
    "parameters = {\n",
    "    'elasticnet__alpha': [9e-4, 7e-4, 5e-4, 3e-4, 1e-4, 1e-3, 5e-2, 1e-2, 0.1, 0.5, 1, 2, 5],\n",
    "    'elasticnet__l1_ratio': [0.01, 0.1, 0.2, 0.3, 0.5, 0.6, 0.7, 0.8, 1],\n",
    "}\n",
    "\n",
    "paramSearch = GridSearchCV(\n",
    "  estimator=elasticnet_pipeline,\n",
    "  scoring='neg_mean_squared_error',\n",
    "  param_grid=parameters, \n",
    "  cv=2,\n",
    "  n_jobs=-1, \n",
    "  verbose=3\n",
    ")\n",
    "\n",
    "#paramSearch.fit(X, Y)\n",
    "#paramSearch.best_params_, paramSearch.best_score_"
   ]
  },
  {
   "source": [
    "### Ridge"
   ],
   "cell_type": "markdown",
   "metadata": {}
  },
  {
   "cell_type": "code",
   "execution_count": 23,
   "metadata": {},
   "outputs": [],
   "source": [
    "# https://www.kaggle.com/marktsvirko/votingregressor-xgb-svm-top-10"
   ]
  },
  {
   "cell_type": "code",
   "execution_count": 24,
   "metadata": {},
   "outputs": [
    {
     "output_type": "stream",
     "name": "stdout",
     "text": [
      "[CV] MSE: 1365386194.0551 (87785708.6904)\n[CV] MAE: 22100.8300 (438.3402)\n[CV] R^2: 0.7816 (0.0276)\n[CV] RMSLE: 0.177031 (0.0003)\n"
     ]
    }
   ],
   "source": [
    "ridge_pipeline = Pipeline([\n",
    "    ('preprocessing', featureTransformer),\n",
    "    ('ridge', Ridge(\n",
    "        solver='auto',\n",
    "        alpha=522,\n",
    "        random_state=42,\n",
    "    )),\n",
    "])\n",
    "\n",
    "print('Ridge:')\n",
    "score_model(ridge_pipeline, X, Y)"
   ]
  },
  {
   "cell_type": "code",
   "execution_count": 25,
   "metadata": {},
   "outputs": [],
   "source": [
    "parameters = {\n",
    "    'ridge__solver': ['auto', 'saga', 'sag', 'cholesky'],\n",
    "    'ridge__alpha': [510, 519, 520, 522, 530],\n",
    "}\n",
    "\n",
    "paramSearch = GridSearchCV(\n",
    "  estimator=ridge_pipeline,\n",
    "  scoring=make_scorer(neg_rmsle),\n",
    "  param_grid=parameters, \n",
    "  cv=2,\n",
    "  n_jobs=-1, \n",
    "  verbose=3\n",
    ")\n",
    "\n",
    "#paramSearch.fit(X, Y)\n",
    "#paramSearch.best_params_, paramSearch.best_score_"
   ]
  },
  {
   "source": [
    "### SVR"
   ],
   "cell_type": "markdown",
   "metadata": {}
  },
  {
   "cell_type": "code",
   "execution_count": 26,
   "metadata": {},
   "outputs": [
    {
     "output_type": "stream",
     "name": "stdout",
     "text": [
      "[CV] MSE: 1328204199.3809 (22859273.3830)\n[CV] MAE: 20522.5724 (873.6618)\n[CV] R^2: 0.7882 (0.0168)\n[CV] RMSLE: 0.162194 (0.0082)\n"
     ]
    }
   ],
   "source": [
    "svr_model = SVR(\n",
    "    kernel='linear',\n",
    "    C=200\n",
    ")\n",
    "\n",
    "svr_pipeline = Pipeline([\n",
    "    ('preprocessing', featureTransformer),\n",
    "    ('svr', svr_model),\n",
    "])\n",
    "\n",
    "print('SVR:')\n",
    "score_model(svr_pipeline, X, Y)"
   ]
  },
  {
   "cell_type": "code",
   "execution_count": 27,
   "metadata": {},
   "outputs": [],
   "source": [
    "parameters = {\n",
    "    'svr__C': [1, 20, 50, 100, 120, 150, 200],\n",
    "    'svr__kernel': ['linear'],\n",
    "    #'svr__tol': [1e-3, 1e-5, 1e-4, 1e-2, 0.1]\n",
    "}\n",
    "\n",
    "paramSearch = GridSearchCV(\n",
    "   estimator=svr_pipeline,\n",
    "   scoring=make_scorer(neg_rmsle),\n",
    "   param_grid=parameters,\n",
    "   cv=2,\n",
    "   n_jobs=-1, \n",
    "   verbose=3\n",
    ")\n",
    "\n",
    "#paramSearch.fit(X, Y)\n",
    "#paramSearch.best_params_, paramSearch.best_score_"
   ]
  },
  {
   "source": [
    "### Random Forest"
   ],
   "cell_type": "markdown",
   "metadata": {}
  },
  {
   "cell_type": "code",
   "execution_count": 28,
   "metadata": {},
   "outputs": [
    {
     "output_type": "stream",
     "name": "stdout",
     "text": [
      "[CV] MSE: 1219703419.3411 (188386.0757)\n[CV] MAE: 20555.3450 (747.1620)\n[CV] R^2: 0.8057 (0.0121)\n[CV] RMSLE: 0.167974 (0.0071)\n"
     ]
    }
   ],
   "source": [
    "random_forest_model = RandomForestRegressor(\n",
    "        bootstrap=True,\n",
    "        max_depth=15,\n",
    "        max_features='sqrt',\n",
    "        max_leaf_nodes=None,\n",
    "        max_samples=None,\n",
    "        min_samples_leaf=5,\n",
    "        min_samples_split=5,\n",
    "        n_estimators=2500,\n",
    "        random_state=42,\n",
    "    )\n",
    "\n",
    "random_forest_pipeline = Pipeline([\n",
    "    ('preprocessing', featureTransformer),\n",
    "    ('random_forest', random_forest_model),\n",
    "])\n",
    "\n",
    "# Measure performance\n",
    "\n",
    "print('RandomForest Regressor:')\n",
    "score_model(random_forest_pipeline, X, Y)\n",
    "\n",
    "## RF(max_depth=15, max_features='sqrt', min_samples_leaf=1, min_samples_split=3, n_estimators=3650)\n",
    "## CV=2, ?\n",
    "#[CV] MSE: 904073278.0912 (34098840.2146)\n",
    "#[CV] MAE: 17896.4251 (795.0885)\n",
    "#[CV] R^2: 0.8563 (0.0036)\n",
    "\n",
    "## RF(max_depth=25, max_features='sqrt', min_samples_leaf=1, min_samples_split=2, n_estimators=1000)\n",
    "## CV=2, 0.15007\n",
    "#[CV] MSE: 889831012.8445 (46061331.0130)\n",
    "#[CV] MAE: 17721.0043 (817.3113)\n",
    "#[CV] R^2: 0.8587 (0.0015)\n",
    "\n",
    "#[CV] MSE: 901503923.2650 (37758910.2379)\n",
    "#[CV] MAE: 17843.5568 (877.0261)\n",
    "#[CV] R^2: 0.8568 (0.0029)\n",
    "#[CV] RMSLE: 0.148084 (0.0074)"
   ]
  },
  {
   "cell_type": "code",
   "execution_count": 29,
   "metadata": {},
   "outputs": [
    {
     "output_type": "execute_result",
     "data": {
      "text/plain": [
       "[(0.14091587063343947, 'OverallQual'),\n",
       " (0.09596938769121709, 'GarageCars'),\n",
       " (0.08603156183622007, '1stFlrSF'),\n",
       " (0.08338894715262106, 'ExterQualEnc'),\n",
       " (0.07141841528806674, 'KitchenQualEnc'),\n",
       " (0.06357522177595833, 'TotalBathrooms'),\n",
       " (0.06356563569250798, 'BsmtQualEnc'),\n",
       " (0.06030798038909462, 'HouseAge'),\n",
       " (0.04978524900739992, 'BsmtFinSF1'),\n",
       " (0.042652708098032635, '2ndFlrSF'),\n",
       " (0.035342088548253645, 'GarageFinishEnc'),\n",
       " (0.033245288539209134, 'HasFireplace'),\n",
       " (0.018815537196056914, 'BsmtFinType1Enc'),\n",
       " (0.014793511850645345, 'BsmtUnfSF'),\n",
       " (0.014313194011174809, 'Neighborhood_NridgHt'),\n",
       " (0.014180995272865052, 'MSSubClass_60'),\n",
       " (0.01132953395621872, 'BedroomAbvGr'),\n",
       " (0.010842760336954704, 'IsModernHouseType'),\n",
       " (0.010520643692075735, 'Neighborhood_NoRidge'),\n",
       " (0.0075011079384738775, 'SaleCondition_Partial'),\n",
       " (0.007119472042053024, 'IsHeatingGood'),\n",
       " (0.005993784384851398, 'MSZoning_RM'),\n",
       " (0.0058531344725918305, 'OverallCond'),\n",
       " (0.004613406451966321, 'LotShape_Reg'),\n",
       " (0.004397658566124851, 'MSZoning_RL'),\n",
       " (0.003994729908558449, 'CentralAirEnc'),\n",
       " (0.0033787382916444647, 'MSSubClass_30'),\n",
       " (0.002982077619230048, 'LotShape_IR1'),\n",
       " (0.002301778726361254, 'SaleCondition_Normal'),\n",
       " (0.00222995005433622, 'MSSubClass_20'),\n",
       " (0.00202772236416942, 'IsNewHouseSold'),\n",
       " (0.0017173289390045737, 'Neighborhood_Crawfor'),\n",
       " (0.0015997005023363246, 'Neighborhood_NAmes'),\n",
       " (0.0015309301720428537, 'BsmtCondEnc'),\n",
       " (0.001289727203094703, 'Neighborhood_StoneBr'),\n",
       " (0.001090254059141512, 'MSSubClass_160'),\n",
       " (0.001068869557146416, 'LandContour_Lvl'),\n",
       " (0.0010574101244901991, 'FenceEnc'),\n",
       " (0.0010567130622586463, 'LandSlope_Gtl'),\n",
       " (0.0010482771300845627, 'Neighborhood_Somerst'),\n",
       " (0.0010262034363551758, 'MSSubClass_120'),\n",
       " (0.0008518602501035664, 'Neighborhood_CollgCr'),\n",
       " (0.000843575050983434, 'Neighborhood_Gilbert'),\n",
       " (0.0008337667914173305, 'BsmtFinType2Enc'),\n",
       " (0.000828013951362113, 'Neighborhood_OldTown'),\n",
       " (0.0008209215769353072, 'Neighborhood_Edwards'),\n",
       " (0.0007741347676342152, 'BsmtFinSF2'),\n",
       " (0.0006295816425134144, 'MSSubClass_70'),\n",
       " (0.0006105449684141369, 'Neighborhood_NWAmes'),\n",
       " (0.0005347227834829463, 'Condition1_Norm'),\n",
       " (0.0005253738999374556, 'Neighborhood_IDOTRR'),\n",
       " (0.0005114326090871667, 'LandSlope_Mod'),\n",
       " (0.0005010424856653938, 'Neighborhood_ClearCr'),\n",
       " (0.00048405515715213126, 'MSZoning_FV'),\n",
       " (0.00047947046447317337, 'MSSubClass_90'),\n",
       " (0.0004183966610733321, 'SaleCondition_Abnorml'),\n",
       " (0.00041547485620672036, 'LandContour_Low'),\n",
       " (0.000380243139027311, 'LandContour_HLS'),\n",
       " (0.00037130179335857316, 'MSSubClass_50'),\n",
       " (0.0003212735705544867, 'FunctionalGroup'),\n",
       " (0.0002977425329769746, 'LotShape_IR2'),\n",
       " (0.0002473818551203989, 'Neighborhood_Timber'),\n",
       " (0.0002412832055290158, 'Neighborhood_Sawyer'),\n",
       " (0.00023895721608304215, 'Neighborhood_MeadowV'),\n",
       " (0.00018562821571260017, 'Neighborhood_Mitchel'),\n",
       " (0.00018107664136767253, 'MSSubClass_80'),\n",
       " (0.0001549291801976151, 'Condition1_Feedr'),\n",
       " (0.0001468151207879349, 'Neighborhood_SawyerW'),\n",
       " (0.0001449172012625656, 'Neighborhood_Blmngtn'),\n",
       " (0.0001359128171801876, 'MSZoning_C (all)'),\n",
       " (0.00013588362263318606, 'Neighborhood_BrkSide'),\n",
       " (0.00011941925935212509, 'Neighborhood_BrDale'),\n",
       " (0.00011443061447561513, 'MSSubClass_180'),\n",
       " (0.00010496394709662302, 'Condition1_Artery'),\n",
       " (9.827810516580214e-05, 'IsGasHeating'),\n",
       " (9.82444899826308e-05, 'LandContour_Bnk'),\n",
       " (8.004134224370095e-05, 'MSSubClass_75'),\n",
       " (7.505312094491359e-05, 'LandSlope_Sev'),\n",
       " (3.657540154698376e-05, 'MSSubClass_190'),\n",
       " (3.0462843988017973e-05, 'Condition1_PosN'),\n",
       " (2.8161777870007692e-05, 'Neighborhood_SWISU'),\n",
       " (2.0216355014959237e-05, 'MSSubClass_85'),\n",
       " (1.3103414221630984e-05, 'Condition1_PosA'),\n",
       " (1.1896856793177885e-05, 'MSZoning_RH'),\n",
       " (1.0225625652987844e-05, 'Neighborhood_NPkVill'),\n",
       " (9.739784807792148e-06, 'Condition1_RRAn'),\n",
       " (7.277836174304712e-06, 'SaleCondition_Alloca'),\n",
       " (6.3617831595757395e-06, 'MSSubClass_45'),\n",
       " (4.519304116737993e-06, 'LotShape_IR3'),\n",
       " (4.261504807601101e-06, 'Neighborhood_Veenker'),\n",
       " (3.8086331878453038e-06, 'SaleCondition_Family'),\n",
       " (3.737996835524714e-06, 'Condition2_Norm'),\n",
       " (0.0, 'SaleCondition_AdjLand'),\n",
       " (0.0, 'Neighborhood_Blueste'),\n",
       " (0.0, 'MSSubClass_40'),\n",
       " (0.0, 'Condition2_RRNn'),\n",
       " (0.0, 'Condition2_RRNe'),\n",
       " (0.0, 'Condition2_RRAn'),\n",
       " (0.0, 'Condition2_RRAe'),\n",
       " (0.0, 'Condition2_PosN'),\n",
       " (0.0, 'Condition2_PosA'),\n",
       " (0.0, 'Condition2_Feedr'),\n",
       " (0.0, 'Condition2_Artery'),\n",
       " (0.0, 'Condition1_RRNn'),\n",
       " (0.0, 'Condition1_RRNe'),\n",
       " (0.0, 'Condition1_RRAe')]"
      ]
     },
     "metadata": {},
     "execution_count": 29
    }
   ],
   "source": [
    "random_forest_pipeline.fit(X, Y)\n",
    "\n",
    "X_columns = get_columns_from_transformer(random_forest_pipeline.named_steps['preprocessing'], list(X.columns))\n",
    "\n",
    "features_list = sorted(zip(random_forest_pipeline.named_steps['random_forest'].feature_importances_, X_columns), reverse=True)\n",
    "random_forest_pipeline.named_steps['preprocessing'].transformers_\n",
    "\n",
    "features_list"
   ]
  },
  {
   "cell_type": "code",
   "execution_count": 30,
   "metadata": {},
   "outputs": [],
   "source": [
    "from skopt import BayesSearchCV\n",
    "from skopt.space import Real, Categorical, Integer\n",
    "from skopt.plots import plot_objective, plot_histogram\n",
    "\n",
    "parameters = {\n",
    "    'random_forest__max_depth': [None, 15,  20, 25],\n",
    "    'random_forest__max_features': ['sqrt'],\n",
    "    'random_forest__max_leaf_nodes': [None, 5, 15, 17, 20],\n",
    "    'random_forest__min_samples_leaf': [1, 2, 3],\n",
    "    'random_forest__min_samples_split': [2, 1, 3],\n",
    "    'random_forest__max_samples': [None, 2, 5],\n",
    "    'random_forest__n_estimators': [1500, 2000, 2500]\n",
    "}\n",
    "\n",
    "paramSearch = GridSearchCV(\n",
    "  estimator=random_forest_pipeline,\n",
    "  scoring=make_scorer(neg_rmsle),\n",
    "  param_grid=parameters, \n",
    "  cv=2,\n",
    "  n_jobs=-1, \n",
    "  verbose=3\n",
    ")\n",
    "\n",
    "#paramSearch.fit(X, Y)\n",
    "#paramSearch.best_params_, paramSearch.best_score_"
   ]
  },
  {
   "cell_type": "code",
   "execution_count": 31,
   "metadata": {},
   "outputs": [],
   "source": [
    "#plot_learning_curve(random_forest_pipeline, X, Y, cv=3)"
   ]
  },
  {
   "source": [
    "### XGBoostRegressor"
   ],
   "cell_type": "markdown",
   "metadata": {}
  },
  {
   "cell_type": "code",
   "execution_count": 32,
   "metadata": {},
   "outputs": [
    {
     "output_type": "stream",
     "name": "stdout",
     "text": [
      "[CV] MSE: 735546886.8513 (4548848.7129)\n[CV] MAE: 15679.8371 (331.0053)\n[CV] R^2: 0.8828 (0.0080)\n[CV] RMSLE: 0.124888 (0.0050)\n"
     ]
    }
   ],
   "source": [
    "from xgboost import XGBRegressor\n",
    "\n",
    "xgb_model = XGBRegressor(\n",
    "        max_depth=5,\n",
    "        n_estimators=7050,\n",
    "        learning_rate=0.01,\n",
    "        min_child_weight=1.5,\n",
    "        subsample=0.2,\n",
    "        gamma=0,\n",
    "        reg_alpha=1,\n",
    "        reg_lambda=0.1,\n",
    "        objective='reg:gamma',\n",
    "        booster='gbtree'\n",
    "    )\n",
    "\n",
    "xgb_pipeline = Pipeline([\n",
    "    ('preprocessing', featureTransformer),\n",
    "    ('xgb_regressor', xgb_model),\n",
    "])\n",
    "\n",
    "# Measure Performance\n",
    "\n",
    "print('XGB Regressor:')\n",
    "score_model(xgb_pipeline, X, Y)"
   ]
  },
  {
   "cell_type": "code",
   "execution_count": 33,
   "metadata": {},
   "outputs": [
    {
     "output_type": "execute_result",
     "data": {
      "text/plain": [
       "[(0.10302529, 'OverallQual'),\n",
       " (0.05933815, 'ExterQualEnc'),\n",
       " (0.053643882, 'GarageCars'),\n",
       " (0.053477444, 'TotalBathrooms'),\n",
       " (0.041381374, 'KitchenQualEnc'),\n",
       " (0.0402422, 'HasFireplace'),\n",
       " (0.03713438, 'MSZoning_C (all)'),\n",
       " (0.025167672, 'CentralAirEnc'),\n",
       " (0.023555247, 'BsmtQualEnc'),\n",
       " (0.021731306, 'IsGasHeating'),\n",
       " (0.01988457, '1stFlrSF'),\n",
       " (0.018704081, 'MSSubClass_30'),\n",
       " (0.016690485, 'BsmtFinSF1'),\n",
       " (0.015010762, 'MSSubClass_180'),\n",
       " (0.013960483, 'SaleCondition_Family'),\n",
       " (0.013480815, 'Neighborhood_IDOTRR'),\n",
       " (0.013450468, 'GarageFinishEnc'),\n",
       " (0.012749364, '2ndFlrSF'),\n",
       " (0.012048078, 'LotShape_IR3'),\n",
       " (0.010758604, 'SaleCondition_Abnorml'),\n",
       " (0.010163621, 'MSZoning_RM'),\n",
       " (0.009737018, 'SaleCondition_Alloca'),\n",
       " (0.009652849, 'MSSubClass_60'),\n",
       " (0.009467819, 'Condition2_Norm'),\n",
       " (0.009109714, 'MSSubClass_45'),\n",
       " (0.008831279, 'Condition1_PosN'),\n",
       " (0.008682331, 'Neighborhood_OldTown'),\n",
       " (0.008219415, 'OverallCond'),\n",
       " (0.008109125, 'Neighborhood_MeadowV'),\n",
       " (0.0080865435, 'Condition1_RRAe'),\n",
       " (0.007299259, 'Neighborhood_Blmngtn'),\n",
       " (0.0071271136, 'SaleCondition_Partial'),\n",
       " (0.007102628, 'Neighborhood_BrDale'),\n",
       " (0.0070201955, 'Neighborhood_Edwards'),\n",
       " (0.00682305, 'Condition2_Feedr'),\n",
       " (0.0067699524, 'Condition1_Artery'),\n",
       " (0.006765181, 'IsHeatingGood'),\n",
       " (0.006611432, 'MSSubClass_90'),\n",
       " (0.0065713893, 'SaleCondition_Normal'),\n",
       " (0.0064194025, 'FunctionalGroup'),\n",
       " (0.0064056455, 'LotShape_Reg'),\n",
       " (0.006395047, 'Condition1_Feedr'),\n",
       " (0.006364372, 'MSZoning_RH'),\n",
       " (0.0058992454, 'Condition1_Norm'),\n",
       " (0.005864946, 'MSSubClass_160'),\n",
       " (0.0057341345, 'HouseAge'),\n",
       " (0.005629001, 'MSSubClass_190'),\n",
       " (0.0055347113, 'MSZoning_RL'),\n",
       " (0.005458124, 'LandContour_Bnk'),\n",
       " (0.0052519673, 'BedroomAbvGr'),\n",
       " (0.0051220027, 'Neighborhood_NAmes'),\n",
       " (0.0050511407, 'BsmtFinType1Enc'),\n",
       " (0.004921198, 'MSSubClass_75'),\n",
       " (0.0048493734, 'SaleCondition_AdjLand'),\n",
       " (0.0048224134, 'BsmtCondEnc'),\n",
       " (0.00466274, 'LandContour_Low'),\n",
       " (0.004520909, 'LandSlope_Sev'),\n",
       " (0.004504222, 'Neighborhood_Sawyer'),\n",
       " (0.004492811, 'MSSubClass_120'),\n",
       " (0.0041758227, 'LandSlope_Gtl'),\n",
       " (0.0041504777, 'BsmtUnfSF'),\n",
       " (0.0041504507, 'MSSubClass_20'),\n",
       " (0.004085405, 'Condition1_PosA'),\n",
       " (0.0040777232, 'LandContour_Lvl'),\n",
       " (0.0040068175, 'Neighborhood_NWAmes'),\n",
       " (0.003933203, 'IsNewHouseSold'),\n",
       " (0.0039281966, 'Neighborhood_SWISU'),\n",
       " (0.0038929165, 'Neighborhood_ClearCr'),\n",
       " (0.0038619037, 'Neighborhood_CollgCr'),\n",
       " (0.0037310515, 'MSSubClass_80'),\n",
       " (0.0037248186, 'Neighborhood_SawyerW'),\n",
       " (0.0036845035, 'Neighborhood_Crawfor'),\n",
       " (0.0036621455, 'FenceEnc'),\n",
       " (0.003631916, 'Neighborhood_Timber'),\n",
       " (0.0035867796, 'MSSubClass_50'),\n",
       " (0.0035808552, 'MSSubClass_70'),\n",
       " (0.0035655983, 'Neighborhood_Somerst'),\n",
       " (0.0035606225, 'Neighborhood_BrkSide'),\n",
       " (0.0035372067, 'BsmtFinType2Enc'),\n",
       " (0.0035245053, 'BsmtFinSF2'),\n",
       " (0.0034336662, 'IsModernHouseType'),\n",
       " (0.0034038827, 'LotShape_IR1'),\n",
       " (0.0033717237, 'Neighborhood_NPkVill'),\n",
       " (0.0033122273, 'Neighborhood_NridgHt'),\n",
       " (0.0032998978, 'Neighborhood_Gilbert'),\n",
       " (0.0032754806, 'Neighborhood_NoRidge'),\n",
       " (0.003258016, 'LandContour_HLS'),\n",
       " (0.0031829863, 'MSZoning_FV'),\n",
       " (0.0031756056, 'Condition2_RRNn'),\n",
       " (0.0031485744, 'LotShape_IR2'),\n",
       " (0.0031282485, 'Neighborhood_Mitchel'),\n",
       " (0.0031090495, 'Neighborhood_StoneBr'),\n",
       " (0.0029995958, 'Condition1_RRAn'),\n",
       " (0.002928746, 'LandSlope_Mod'),\n",
       " (0.0023637644, 'MSSubClass_40'),\n",
       " (0.0023131366, 'Neighborhood_Veenker'),\n",
       " (0.0018383131, 'Condition1_RRNn'),\n",
       " (0.0016505753, 'MSSubClass_85'),\n",
       " (0.0010465983, 'Condition1_RRNe'),\n",
       " (0.00021899585, 'Neighborhood_Blueste'),\n",
       " (0.0, 'Condition2_RRNe'),\n",
       " (0.0, 'Condition2_RRAn'),\n",
       " (0.0, 'Condition2_RRAe'),\n",
       " (0.0, 'Condition2_PosN'),\n",
       " (0.0, 'Condition2_PosA'),\n",
       " (0.0, 'Condition2_Artery')]"
      ]
     },
     "metadata": {},
     "execution_count": 33
    }
   ],
   "source": [
    "xgb_pipeline.fit(X, Y)\n",
    "X_columns = get_columns_from_transformer(xgb_pipeline.named_steps['preprocessing'], list(X.columns))\n",
    "\n",
    "features_list = sorted(zip(xgb_pipeline.named_steps['xgb_regressor'].feature_importances_, X_columns), reverse=True)\n",
    "features_list"
   ]
  },
  {
   "cell_type": "code",
   "execution_count": 34,
   "metadata": {},
   "outputs": [],
   "source": [
    "parameters = {\n",
    "    'xgb_regressor__objective': ['reg:gamma'], # 'reg:squarederror', 'reg:squaredlogerror'\n",
    "    'xgb_regressor__learning_rate': [0.01],\n",
    "    'xgb_regressor__n_estimators': [6900, 7000, 7100],\n",
    "    'xgb_regressor__max_depth': [5],\n",
    "    'xgb_regressor__booster': ['gbtree'],\n",
    "    'xgb_regressor__min_child_weight': [1.5],\n",
    "    'xgb_regressor__gamma': [0],\n",
    "    'xgb_regressor__subsample': [0.2],\n",
    "    'xgb_regressor__reg_alpha': [1],\n",
    "    'xgb_regressor__reg_lambda': [0.1],\n",
    "}\n",
    "\n",
    "paramSearch = GridSearchCV(\n",
    "   estimator=xgb_pipeline,\n",
    "   scoring=make_scorer(neg_rmsle),\n",
    "   param_grid=parameters,\n",
    "   cv=2,\n",
    "   n_jobs=-1, \n",
    "   verbose=3\n",
    ")\n",
    "\n",
    "#paramSearch.fit(X, Y)\n",
    "#paramSearch.best_params_, paramSearch.best_score_"
   ]
  },
  {
   "source": [
    "### StackingRegressor"
   ],
   "cell_type": "markdown",
   "metadata": {}
  },
  {
   "cell_type": "code",
   "execution_count": 35,
   "metadata": {},
   "outputs": [],
   "source": [
    "# https://www.kaggle.com/lavanyashukla01/how-i-made-top-0-3-on-a-kaggle-competition"
   ]
  },
  {
   "cell_type": "code",
   "execution_count": 36,
   "metadata": {},
   "outputs": [
    {
     "output_type": "stream",
     "name": "stdout",
     "text": [
      "[CV] MSE: 784763808.4777 (46318757.9871)\n[CV] MAE: 16228.2264 (111.8250)\n[CV] R^2: 0.8745 (0.0152)\n[CV] RMSLE: 0.130964 (0.0004)\n"
     ]
    }
   ],
   "source": [
    "stacking_final_model = XGBRegressor()\n",
    "\n",
    "stacking_model = StackingRegressor(\n",
    "    estimators=[\n",
    "        ('xgb', xgb_model),\n",
    "        ('random_forest', random_forest_model),\n",
    "        ('elasticnet', elasticnet_model),\n",
    "    ], \n",
    "    #final_estimator=stacking_final_model,\n",
    "    cv=2,\n",
    "    n_jobs=-1,\n",
    ")\n",
    "\n",
    "stacking_regressor_pipeline = Pipeline([\n",
    "    ('preprocessing', featureTransformer),\n",
    "    ('stacking_regressor', stacking_model)\n",
    "])\n",
    "\n",
    "print('Stacking Regressor:')\n",
    "score_model(stacking_regressor_pipeline, X, Y)"
   ]
  },
  {
   "source": [
    "### VotingRegressor"
   ],
   "cell_type": "markdown",
   "metadata": {}
  },
  {
   "cell_type": "code",
   "execution_count": 37,
   "metadata": {},
   "outputs": [
    {
     "output_type": "stream",
     "name": "stdout",
     "text": [
      "[CV] MSE: 882471315.4992 (18148697.8419)\n[CV] MAE: 16659.3937 (555.9960)\n[CV] R^2: 0.8592 (0.0117)\n[CV] RMSLE: 0.131765 (0.0038)\n"
     ]
    }
   ],
   "source": [
    "# https://www.kaggle.com/marktsvirko/votingregressor-xgb-svm-top-10\n",
    "\n",
    "voting_model = VotingRegressor(\n",
    "    estimators=[\n",
    "        ('xgb', xgb_model), \n",
    "        ('random_forest', random_forest_model),\n",
    "        ('elasticnet', elasticnet_model),\n",
    "    ],\n",
    "    n_jobs=-1,\n",
    ")\n",
    "\n",
    "voting_pipeline = Pipeline([\n",
    "    ('preprocessing', featureTransformer),\n",
    "    ('voting_regressor', voting_model)\n",
    "])\n",
    "\n",
    "print('Voting Regressor:')\n",
    "score_model(voting_pipeline, X, Y)"
   ]
  },
  {
   "cell_type": "code",
   "execution_count": 38,
   "metadata": {},
   "outputs": [],
   "source": [
    "parameters = {\n",
    "    'voting_regressor__weights': [None, [0.6, 0.3, 0.1]],\n",
    "}\n",
    "\n",
    "paramSearch = GridSearchCV(\n",
    "   estimator=voting_pipeline,\n",
    "   scoring=make_scorer(neg_rmsle),\n",
    "   param_grid=parameters,\n",
    "   cv=2,\n",
    "   n_jobs=-1, \n",
    "   verbose=3\n",
    ")\n",
    "\n",
    "#paramSearch.fit(X, Y)\n",
    "#paramSearch.best_params_, paramSearch.best_score_"
   ]
  },
  {
   "source": [
    "## Predict Submissions"
   ],
   "cell_type": "markdown",
   "metadata": {}
  },
  {
   "cell_type": "code",
   "execution_count": 39,
   "metadata": {
    "tags": [],
    "pycharm": {
     "name": "#%%\n"
    }
   },
   "outputs": [],
   "source": [
    "random_forest_pipeline.fit(X, Y)\n",
    "\n",
    "x_test = test_df[baseline_features]\n",
    "y_test_predicted = random_forest_pipeline.predict(x_test)\n",
    "\n",
    "y_test_predicted = np.rint(y_test_predicted).astype(int)\n",
    "\n",
    "submission_df = pd.DataFrame({\n",
    "    'Id': test_df['Id'],\n",
    "    'SalePrice': y_test_predicted,\n",
    "})\n",
    "\n",
    "submission_df.to_csv('./data/submission_random_forest.csv', index=False)"
   ]
  },
  {
   "cell_type": "code",
   "execution_count": 40,
   "metadata": {},
   "outputs": [],
   "source": [
    "xgb_pipeline.fit(X, Y)\n",
    "\n",
    "x_test = test_df[baseline_features]\n",
    "y_test_predicted = xgb_pipeline.predict(x_test)\n",
    "\n",
    "y_test_predicted = np.rint(y_test_predicted).astype(int)\n",
    "\n",
    "submission_df = pd.DataFrame({\n",
    "    'Id': test_df['Id'],\n",
    "    'SalePrice': y_test_predicted,\n",
    "})\n",
    "\n",
    "submission_df.to_csv('./data/submission_xgb.csv', index=False)"
   ]
  },
  {
   "cell_type": "code",
   "execution_count": 41,
   "metadata": {},
   "outputs": [],
   "source": [
    "stacking_regressor_pipeline.fit(X, Y)\n",
    "\n",
    "x_test = test_df[baseline_features]\n",
    "y_test_predicted = stacking_regressor_pipeline.predict(x_test)\n",
    "\n",
    "y_test_predicted = np.rint(y_test_predicted).astype(int)\n",
    "\n",
    "submission_df = pd.DataFrame({\n",
    "    'Id': test_df['Id'],\n",
    "    'SalePrice': y_test_predicted,\n",
    "})\n",
    "\n",
    "submission_df.to_csv('./data/submission_stacking.csv', index=False)"
   ]
  },
  {
   "cell_type": "code",
   "execution_count": null,
   "metadata": {},
   "outputs": [],
   "source": []
  }
 ]
}